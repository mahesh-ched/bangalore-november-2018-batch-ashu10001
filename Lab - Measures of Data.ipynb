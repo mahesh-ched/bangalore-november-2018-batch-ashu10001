{
 "cells": [
  {
   "cell_type": "markdown",
   "metadata": {},
   "source": [
    "## Lab Brief - Statistical Learning with Python"
   ]
  },
  {
   "cell_type": "markdown",
   "metadata": {},
   "source": [
    "### Part-1"
   ]
  },
  {
   "cell_type": "markdown",
   "metadata": {},
   "source": [
    "## Measures of Data"
   ]
  },
  {
   "cell_type": "markdown",
   "metadata": {},
   "source": [
    "Descriptive Statistcs are measures that summarize important features of data. Producing these descriptive statistics is a common first step to take after cleaning and preparing a dataset for further analysis. Examples are like calculating Mean or Median. In this lab, we will be looking into some of these functions and explore several new ones."
   ]
  },
  {
   "cell_type": "markdown",
   "metadata": {},
   "source": [
    "#### Measures of Central Tendency"
   ]
  },
  {
   "cell_type": "markdown",
   "metadata": {},
   "source": [
    "Whenever you measure things of the same kind, a fairly large number of such measurements will tend to cluster around the middle value. Such a value is called a measure of \"Central Tendency\". The other terms that are used synonymously are \"Measures of Location\", or \"Statistical Averages\". "
   ]
  },
  {
   "cell_type": "code",
   "execution_count": 2,
   "metadata": {},
   "outputs": [],
   "source": [
    "import numpy as np\n",
    "import pandas as pd\n",
    "import matplotlib.pyplot as plt\n",
    "\n",
    "mtcars = pd.read_csv('mtcars.csv')"
   ]
  },
  {
   "cell_type": "markdown",
   "metadata": {},
   "source": [
    "##### Using the mtcars dataset.\n",
    "\n",
    "For the below set of questions, we will be using the cars data from [Motor Trend Car Road Tests](http://stat.ethz.ch/R-manual/R-devel/library/datasets/html/mtcars.html)\n",
    "\n",
    "The data was extracted from the 1974 Motor Trend US magazine, and comprises fuel consumption and 10 aspects of automobile design and performance for 32 automobiles (1973–74 models). \n",
    "\n",
    "\n",
    "Details :\n",
    "    \n",
    "A data frame with 32 observations on 11 (numeric) variables.\n",
    "\n",
    "[, 1] \tmpg \tMiles/(US) gallon\n",
    "\n",
    "[, 2] \tcyl \tNumber of cylinders\n",
    "\n",
    "[, 3] \tdisp \tDisplacement (cu.in.)\n",
    "\n",
    "[, 4] \thp \tGross horsepower\n",
    "\n",
    "[, 5] \tdrat \tRear axle ratio\n",
    "\n",
    "[, 6] \twt \tWeight (1000 lbs)\n",
    "\n",
    "[, 7] \tqsec \t1/4 mile time\n",
    "\n",
    "[, 8] \tvs \tEngine (0 = V-shaped, 1 = straight)\n",
    "\n",
    "[, 9] \tam \tTransmission (0 = automatic, 1 = manual)\n",
    "\n",
    "[,10] \tgear \tNumber of forward gears\n",
    "\n",
    "[,11] \tcarb \tNumber of carburetors "
   ]
  },
  {
   "cell_type": "markdown",
   "metadata": {},
   "source": [
    "#### Explore the data - Setting the index"
   ]
  },
  {
   "cell_type": "code",
   "execution_count": 3,
   "metadata": {},
   "outputs": [
    {
     "data": {
      "text/html": [
       "<div>\n",
       "<style scoped>\n",
       "    .dataframe tbody tr th:only-of-type {\n",
       "        vertical-align: middle;\n",
       "    }\n",
       "\n",
       "    .dataframe tbody tr th {\n",
       "        vertical-align: top;\n",
       "    }\n",
       "\n",
       "    .dataframe thead th {\n",
       "        text-align: right;\n",
       "    }\n",
       "</style>\n",
       "<table border=\"1\" class=\"dataframe\">\n",
       "  <thead>\n",
       "    <tr style=\"text-align: right;\">\n",
       "      <th></th>\n",
       "      <th>name</th>\n",
       "      <th>mpg</th>\n",
       "      <th>cyl</th>\n",
       "      <th>disp</th>\n",
       "      <th>hp</th>\n",
       "      <th>drat</th>\n",
       "      <th>wt</th>\n",
       "      <th>qsec</th>\n",
       "      <th>vs</th>\n",
       "      <th>am</th>\n",
       "      <th>gear</th>\n",
       "      <th>carb</th>\n",
       "    </tr>\n",
       "    <tr>\n",
       "      <th>name</th>\n",
       "      <th></th>\n",
       "      <th></th>\n",
       "      <th></th>\n",
       "      <th></th>\n",
       "      <th></th>\n",
       "      <th></th>\n",
       "      <th></th>\n",
       "      <th></th>\n",
       "      <th></th>\n",
       "      <th></th>\n",
       "      <th></th>\n",
       "      <th></th>\n",
       "    </tr>\n",
       "  </thead>\n",
       "  <tbody>\n",
       "    <tr>\n",
       "      <th>Mazda RX4</th>\n",
       "      <td>Mazda RX4</td>\n",
       "      <td>21.0</td>\n",
       "      <td>6</td>\n",
       "      <td>160.0</td>\n",
       "      <td>110</td>\n",
       "      <td>3.90</td>\n",
       "      <td>2.620</td>\n",
       "      <td>16.46</td>\n",
       "      <td>0</td>\n",
       "      <td>1</td>\n",
       "      <td>4</td>\n",
       "      <td>4</td>\n",
       "    </tr>\n",
       "    <tr>\n",
       "      <th>Mazda RX4 Wag</th>\n",
       "      <td>Mazda RX4 Wag</td>\n",
       "      <td>21.0</td>\n",
       "      <td>6</td>\n",
       "      <td>160.0</td>\n",
       "      <td>110</td>\n",
       "      <td>3.90</td>\n",
       "      <td>2.875</td>\n",
       "      <td>17.02</td>\n",
       "      <td>0</td>\n",
       "      <td>1</td>\n",
       "      <td>4</td>\n",
       "      <td>4</td>\n",
       "    </tr>\n",
       "    <tr>\n",
       "      <th>Datsun 710</th>\n",
       "      <td>Datsun 710</td>\n",
       "      <td>22.8</td>\n",
       "      <td>4</td>\n",
       "      <td>108.0</td>\n",
       "      <td>93</td>\n",
       "      <td>3.85</td>\n",
       "      <td>2.320</td>\n",
       "      <td>18.61</td>\n",
       "      <td>1</td>\n",
       "      <td>1</td>\n",
       "      <td>4</td>\n",
       "      <td>1</td>\n",
       "    </tr>\n",
       "    <tr>\n",
       "      <th>Hornet 4 Drive</th>\n",
       "      <td>Hornet 4 Drive</td>\n",
       "      <td>21.4</td>\n",
       "      <td>6</td>\n",
       "      <td>258.0</td>\n",
       "      <td>110</td>\n",
       "      <td>3.08</td>\n",
       "      <td>3.215</td>\n",
       "      <td>19.44</td>\n",
       "      <td>1</td>\n",
       "      <td>0</td>\n",
       "      <td>3</td>\n",
       "      <td>1</td>\n",
       "    </tr>\n",
       "    <tr>\n",
       "      <th>Hornet Sportabout</th>\n",
       "      <td>Hornet Sportabout</td>\n",
       "      <td>18.7</td>\n",
       "      <td>8</td>\n",
       "      <td>360.0</td>\n",
       "      <td>175</td>\n",
       "      <td>3.15</td>\n",
       "      <td>3.440</td>\n",
       "      <td>17.02</td>\n",
       "      <td>0</td>\n",
       "      <td>0</td>\n",
       "      <td>3</td>\n",
       "      <td>2</td>\n",
       "    </tr>\n",
       "  </tbody>\n",
       "</table>\n",
       "</div>"
      ],
      "text/plain": [
       "                                name   mpg  cyl   disp   hp  drat     wt  \\\n",
       "name                                                                       \n",
       "Mazda RX4                  Mazda RX4  21.0    6  160.0  110  3.90  2.620   \n",
       "Mazda RX4 Wag          Mazda RX4 Wag  21.0    6  160.0  110  3.90  2.875   \n",
       "Datsun 710                Datsun 710  22.8    4  108.0   93  3.85  2.320   \n",
       "Hornet 4 Drive        Hornet 4 Drive  21.4    6  258.0  110  3.08  3.215   \n",
       "Hornet Sportabout  Hornet Sportabout  18.7    8  360.0  175  3.15  3.440   \n",
       "\n",
       "                    qsec  vs  am  gear  carb  \n",
       "name                                          \n",
       "Mazda RX4          16.46   0   1     4     4  \n",
       "Mazda RX4 Wag      17.02   0   1     4     4  \n",
       "Datsun 710         18.61   1   1     4     1  \n",
       "Hornet 4 Drive     19.44   1   0     3     1  \n",
       "Hornet Sportabout  17.02   0   0     3     2  "
      ]
     },
     "execution_count": 3,
     "metadata": {},
     "output_type": "execute_result"
    }
   ],
   "source": [
    "mtcars.index = mtcars[\"name\"]\n",
    "mtcars.head()\n",
    "# mtcars.mean() #By default this will give the mean of each column"
   ]
  },
  {
   "cell_type": "markdown",
   "metadata": {},
   "source": [
    "### Question 1\n",
    "\n",
    "What is the first car name given in mtcars?\n",
    "\n",
    "** Make use of index which has been set previously **\n",
    "\n",
    "**Hint**: Use .loc function\n"
   ]
  },
  {
   "cell_type": "code",
   "execution_count": 24,
   "metadata": {
    "scrolled": true
   },
   "outputs": [
    {
     "data": {
      "text/plain": [
       "'Mazda RX4'"
      ]
     },
     "execution_count": 24,
     "metadata": {},
     "output_type": "execute_result"
    }
   ],
   "source": [
    "mtcars.iloc[0,0]"
   ]
  },
  {
   "cell_type": "markdown",
   "metadata": {},
   "source": [
    "### Question 2\n",
    "What is the highest difference between the hp and cyl?\n",
    "\n",
    "**Hint:** You can use **max()** function to find the difference"
   ]
  },
  {
   "cell_type": "code",
   "execution_count": 21,
   "metadata": {},
   "outputs": [],
   "source": [
    "mtcars[\"new_col\"] = mtcars[\"hp\"] - mtcars[\"cyl\"]"
   ]
  },
  {
   "cell_type": "code",
   "execution_count": 23,
   "metadata": {},
   "outputs": [
    {
     "data": {
      "text/plain": [
       "327"
      ]
     },
     "execution_count": 23,
     "metadata": {},
     "output_type": "execute_result"
    }
   ],
   "source": [
    "highest_diff = max(mtcars[\"new_col\"])\n",
    "highest_diff"
   ]
  },
  {
   "cell_type": "markdown",
   "metadata": {},
   "source": [
    "### Question 3\n",
    "What are the cars having highest weight(wt) and lowest weight(wt)?\n",
    "\n",
    "**Hint:** Use idxmax() and idxmin() to locate the row\n",
    "\n",
    "Use **.iloc** function to print the  row\n",
    "\n",
    "**Note:** Both idxmax and idxmin belong to pandas"
   ]
  },
  {
   "cell_type": "code",
   "execution_count": 50,
   "metadata": {},
   "outputs": [
    {
     "data": {
      "text/plain": [
       "name        Lincoln Continental\n",
       "mpg                        10.4\n",
       "cyl                           8\n",
       "disp                        460\n",
       "hp                          215\n",
       "drat                          3\n",
       "wt                        5.424\n",
       "qsec                      17.82\n",
       "vs                            0\n",
       "am                            0\n",
       "gear                          3\n",
       "carb                          4\n",
       "new_col                     207\n",
       "new_mean                    NaN\n",
       "Name: Lincoln Continental, dtype: object"
      ]
     },
     "execution_count": 50,
     "metadata": {},
     "output_type": "execute_result"
    }
   ],
   "source": [
    "highest_wt = mtcars[\"wt\"].idxmax()\n",
    "highest_wt\n",
    "mtcars.loc[highest_wt]"
   ]
  },
  {
   "cell_type": "code",
   "execution_count": 51,
   "metadata": {},
   "outputs": [
    {
     "data": {
      "text/plain": [
       "name        Lotus Europa\n",
       "mpg                 30.4\n",
       "cyl                    4\n",
       "disp                95.1\n",
       "hp                   113\n",
       "drat                3.77\n",
       "wt                 1.513\n",
       "qsec                16.9\n",
       "vs                     1\n",
       "am                     1\n",
       "gear                   5\n",
       "carb                   2\n",
       "new_col              109\n",
       "new_mean             NaN\n",
       "Name: Lotus Europa, dtype: object"
      ]
     },
     "execution_count": 51,
     "metadata": {},
     "output_type": "execute_result"
    }
   ],
   "source": [
    "lowest_wt = mtcars[\"wt\"].idxmin()\n",
    "lowest_wt\n",
    "mtcars.loc[lowest_wt]"
   ]
  },
  {
   "cell_type": "markdown",
   "metadata": {},
   "source": [
    "### Question 4\n",
    "\n",
    "Find the mean of each row and each column in the given dataset.\n",
    "\n",
    "**Hint:** Use .mean() function. To operate on rows use **axis=0**, on columns use **axis=1**"
   ]
  },
  {
   "cell_type": "code",
   "execution_count": 34,
   "metadata": {},
   "outputs": [
    {
     "data": {
      "text/plain": [
       "name          (5.423845476825633e-24+6.927302852447018e-303j)\n",
       "mpg         (1.1395664719600346e-307+1.1400010633293117e-3...\n",
       "cyl                                               (6.1875+0j)\n",
       "disp                                  (230.72187500000004+0j)\n",
       "hp                                              (146.6875+0j)\n",
       "drat                                  (3.5965625000000006+0j)\n",
       "wt                                    (3.2172499999999995+0j)\n",
       "qsec                                  (17.848750000000003+0j)\n",
       "vs                                                (0.4375+0j)\n",
       "am                                               (0.40625+0j)\n",
       "gear                                              (3.6875+0j)\n",
       "carb                                              (2.8125+0j)\n",
       "new_col                                            (140.5+0j)\n",
       "new_mean                                                  NaN\n",
       "dtype: complex128"
      ]
     },
     "execution_count": 34,
     "metadata": {},
     "output_type": "execute_result"
    }
   ],
   "source": [
    "#row mean\n",
    "mtcars.mean(axis=0)"
   ]
  },
  {
   "cell_type": "code",
   "execution_count": 35,
   "metadata": {},
   "outputs": [
    {
     "data": {
      "text/plain": [
       "name\n",
       "Mazda RX4               (36.08166666666666+0j)\n",
       "Mazda RX4 Wag          (36.149583333333325+0j)\n",
       "Datsun 710             (29.048333333333332+0j)\n",
       "Hornet 4 Drive          (44.17791666666666+0j)\n",
       "Hornet Sportabout       (63.10916666666667+0j)\n",
       "Valiant                 (40.37833333333333+0j)\n",
       "Duster 360              (74.49333333333334+0j)\n",
       "Merc 240D                          (27.415+0j)\n",
       "Merc 230                          (32.5475+0j)\n",
       "Merc 280                           (38.955+0j)\n",
       "Merc 280C               (38.88833333333333+0j)\n",
       "Merc 450SE             (56.894999999999996+0j)\n",
       "Merc 450SL              (56.95833333333333+0j)\n",
       "Merc 450SLC            (56.820833333333326+0j)\n",
       "Cadillac Fleetwood                  (77.13+0j)\n",
       "Lincoln Continental     (77.80366666666666+0j)\n",
       "Chrysler Imperial       (78.97458333333333+0j)\n",
       "Fiat 128                          (22.9875+0j)\n",
       "Honda Civic                      (20.26375+0j)\n",
       "Toyota Corolla         (22.329583333333336+0j)\n",
       "Toyota Corona           (30.56458333333333+0j)\n",
       "Dodge Challenger       (55.137499999999996+0j)\n",
       "AMC Javelin            (54.007083333333334+0j)\n",
       "Camaro Z28              (73.60666666666665+0j)\n",
       "Pontiac Firebird        (66.51458333333333+0j)\n",
       "Fiat X1-9              (22.517916666666668+0j)\n",
       "Porsche 914-2          (29.964166666666664+0j)\n",
       "Lotus Europa           (31.890249999999998+0j)\n",
       "Ford Pantera L          (77.22416666666666+0j)\n",
       "Ferrari Dino            (45.71583333333332+0j)\n",
       "Maserati Bora                     (85.1425+0j)\n",
       "Volvo 142E              (32.82416666666666+0j)\n",
       "dtype: complex128"
      ]
     },
     "execution_count": 35,
     "metadata": {},
     "output_type": "execute_result"
    }
   ],
   "source": [
    "#col mean\n",
    "mtcars.mean(axis=1)"
   ]
  },
  {
   "cell_type": "markdown",
   "metadata": {},
   "source": [
    "### Question 5\n",
    "\n",
    "Plot mpg values of mtcards dataframe using matplotlib.\n",
    "\n",
    "**Hint: Use plt.plot function**"
   ]
  },
  {
   "cell_type": "code",
   "execution_count": 39,
   "metadata": {},
   "outputs": [
    {
     "data": {
      "image/png": "[encoded data removed]",
      "text/plain": [
       "<Figure size 432x288 with 1 Axes>"
      ]
     },
     "metadata": {
      "needs_background": "light"
     },
     "output_type": "display_data"
    }
   ],
   "source": [
    "plot = plt.plot(mtcars[\"mpg\"])"
   ]
  },
  {
   "cell_type": "markdown",
   "metadata": {},
   "source": [
    "## Part 2"
   ]
  },
  {
   "cell_type": "markdown",
   "metadata": {},
   "source": [
    "## Measures of Dispersion"
   ]
  },
  {
   "cell_type": "markdown",
   "metadata": {},
   "source": [
    "Measures of Dispersion (Spread) are statistics that describe how data varies. Measure of dispersion gives us the sense of how much the data tends to diverge from the central tendency."
   ]
  },
  {
   "cell_type": "markdown",
   "metadata": {},
   "source": [
    "### Question 6\n",
    "\n",
    "What the range of `mpg` in the given dataset?\n",
    "\n",
    "**Hint:** Range = max-min"
   ]
  },
  {
   "cell_type": "code",
   "execution_count": 57,
   "metadata": {},
   "outputs": [
    {
     "data": {
      "text/plain": [
       "23.5"
      ]
     },
     "execution_count": 57,
     "metadata": {},
     "output_type": "execute_result"
    }
   ],
   "source": [
    "mpg_range = max(mtcars[\"mpg\"]) - min(mtcars[\"mpg\"])\n",
    "mpg_range"
   ]
  },
  {
   "cell_type": "markdown",
   "metadata": {},
   "source": [
    "### Question 7\n",
    "\n",
    "Calculate the 25th quantile (lower quantile)for `mpg` in the given dataset.\n",
    "\n",
    "**Hint:** Use **.quantile()**"
   ]
  },
  {
   "cell_type": "code",
   "execution_count": 58,
   "metadata": {},
   "outputs": [
    {
     "data": {
      "text/plain": [
       "15.425"
      ]
     },
     "execution_count": 58,
     "metadata": {},
     "output_type": "execute_result"
    }
   ],
   "source": [
    "mtcars[\"mpg\"].quantile(q=0.25)"
   ]
  },
  {
   "cell_type": "markdown",
   "metadata": {},
   "source": [
    "### Question 8\n",
    "\n",
    "Calculate the Inter-Quartile Range(IQR) for `mpg` in the given dataset."
   ]
  },
  {
   "cell_type": "markdown",
   "metadata": {},
   "source": [
    "Interquartile range (IQR) is another common measure of spread. IQR is the distance between the 3rd quartile and the 1st quartile.\n",
    "\n",
    "**Hint:** IQR = Q3 - Q1"
   ]
  },
  {
   "cell_type": "code",
   "execution_count": 60,
   "metadata": {},
   "outputs": [
    {
     "data": {
      "text/plain": [
       "7.375"
      ]
     },
     "execution_count": 60,
     "metadata": {},
     "output_type": "execute_result"
    }
   ],
   "source": [
    "mtcars[\"mpg\"].quantile(q=0.75) - mtcars[\"mpg\"].quantile(q=0.25)"
   ]
  },
  {
   "cell_type": "markdown",
   "metadata": {},
   "source": [
    "### Question 9\n",
    "\n",
    "Calculate the Variance, Standard Deviation and Median Absolute Deviation for `mpg`."
   ]
  },
  {
   "cell_type": "markdown",
   "metadata": {},
   "source": [
    "Variance and Standard Deviation are two other common measure of dispersion.\n",
    "\n",
    "**Hint:** Use .var() and .std()"
   ]
  },
  {
   "cell_type": "markdown",
   "metadata": {},
   "source": [
    "**Hint:** Median Absolute Deviation - alternative measure of spread based on the median. It is the median of the absolute value of the deviations from the median. "
   ]
  },
  {
   "cell_type": "code",
   "execution_count": 62,
   "metadata": {},
   "outputs": [
    {
     "data": {
      "text/plain": [
       "36.32410282258065"
      ]
     },
     "execution_count": 62,
     "metadata": {},
     "output_type": "execute_result"
    }
   ],
   "source": [
    "mpg_var = mtcars[\"mpg\"].var()\n",
    "mpg_var"
   ]
  },
  {
   "cell_type": "code",
   "execution_count": 64,
   "metadata": {},
   "outputs": [
    {
     "data": {
      "text/plain": [
       "6.026948052089105"
      ]
     },
     "execution_count": 64,
     "metadata": {},
     "output_type": "execute_result"
    }
   ],
   "source": [
    "mpg_std = mtcars[\"mpg\"].std()\n",
    "mpg_std"
   ]
  },
  {
   "cell_type": "code",
   "execution_count": 65,
   "metadata": {},
   "outputs": [
    {
     "data": {
      "text/plain": [
       "4.714453125"
      ]
     },
     "execution_count": 65,
     "metadata": {},
     "output_type": "execute_result"
    }
   ],
   "source": [
    "mpg_mad = mtcars[\"mpg\"].mad()\n",
    "mpg_mad"
   ]
  },
  {
   "cell_type": "markdown",
   "metadata": {},
   "source": [
    "## Part 3"
   ]
  },
  {
   "cell_type": "markdown",
   "metadata": {},
   "source": [
    "## Probability Distributions"
   ]
  },
  {
   "cell_type": "markdown",
   "metadata": {},
   "source": [
    "The probability distribution describes how a random variable is distributed. It tells us which values a variable is most likely to take on and which values are less likely to take on. "
   ]
  },
  {
   "cell_type": "markdown",
   "metadata": {},
   "source": [
    "Each value in the given range is equally likely to occur. "
   ]
  },
  {
   "cell_type": "code",
   "execution_count": 76,
   "metadata": {},
   "outputs": [],
   "source": [
    "import scipy.stats as stats # Many functions for probability distributions in python are in scipy.stats"
   ]
  },
  {
   "cell_type": "markdown",
   "metadata": {},
   "source": [
    "### Question 10\n",
    "\n",
    "Generate 1000 datapoints with standard normal distribution with mean 0 and standard deviation 1. "
   ]
  },
  {
   "cell_type": "markdown",
   "metadata": {},
   "source": [
    "#### Normal Distribution"
   ]
  },
  {
   "cell_type": "markdown",
   "metadata": {},
   "source": [
    "The normal or Gaussian Distribution is a continuos probability distribution given by a symmetric bell shaped curve. It is defined its center(mean) and spread(std)."
   ]
  },
  {
   "cell_type": "markdown",
   "metadata": {},
   "source": [
    "The bulk of the observations generated from a normal distribution lie near the mean which lies at the center. About 68% of the data lies within 1 std, 95% lies within 2 stds and 99.7% lies within 3 stds.\n",
    "\n",
    "**Hint:** You can use **np.random.normal()** function to generate normal distribution"
   ]
  },
  {
   "cell_type": "code",
   "execution_count": 68,
   "metadata": {},
   "outputs": [
    {
     "data": {
      "text/plain": [
       "array([-2.38907274e-01, -7.04505178e-01, -6.65255423e-01, -2.94364645e-01,\n",
       "       -1.35538112e+00, -6.16814498e-01,  2.00078706e-01, -2.51918659e-01,\n",
       "       -1.80678708e-01, -1.11257520e+00,  1.52176575e+00,  3.88273543e-01,\n",
       "       -9.94596690e-01, -8.94214338e-01, -1.61343198e+00, -5.21351693e-01,\n",
       "        1.39815391e+00, -1.27036635e+00,  3.17630730e-01,  8.80066534e-02,\n",
       "        1.39968218e+00, -1.15792943e+00, -7.04378771e-01, -7.86075408e-01,\n",
       "        1.12402153e+00, -1.46603696e+00,  8.81095319e-01, -9.45447196e-01,\n",
       "        3.76130142e-02, -5.20479680e-01,  1.04242637e+00,  1.17644423e-01,\n",
       "        9.81632479e-02, -1.52164148e+00,  2.63586233e-01,  1.43306621e+00,\n",
       "       -3.18851556e-01, -2.64096083e-01,  6.37869262e-01, -5.29385628e-01,\n",
       "        4.87549079e-01,  2.57705195e-01,  1.47844421e+00, -5.40747722e-01,\n",
       "       -6.25615403e-01, -3.70753265e-01, -1.87167719e-01,  8.64920981e-01,\n",
       "       -5.70860891e-01,  2.69224564e-01,  3.01910818e-01,  4.24754900e-01,\n",
       "       -9.78222645e-01, -3.63527158e-01,  1.10414528e+00,  9.87341237e-01,\n",
       "        8.84228663e-01, -2.09335670e-01,  1.34228538e+00, -2.34821023e-01,\n",
       "       -1.37939592e+00,  2.92549862e+00,  2.92614099e-01,  1.70171947e+00,\n",
       "       -1.85972353e+00, -1.36339561e+00,  4.88641371e-01, -1.30068293e+00,\n",
       "       -1.12781962e+00,  4.00746724e-01, -1.39273959e+00, -2.16975956e-02,\n",
       "        3.90156667e-01, -2.81572737e-01, -3.26322663e-01, -8.05873261e-01,\n",
       "       -1.42352608e-02,  4.58654670e-02,  8.58588722e-01, -1.09208507e+00,\n",
       "        1.41387088e-01, -1.49574031e+00,  7.47217298e-01,  1.30317509e+00,\n",
       "       -4.00268854e-01, -4.22831793e-01, -1.04632930e+00,  1.93095967e-01,\n",
       "       -4.40953320e-03, -7.71807259e-02,  2.76904598e-01, -1.02898856e+00,\n",
       "       -6.23556717e-01,  1.14103697e+00,  1.85847399e+00, -1.26797013e-01,\n",
       "        7.84651629e-01,  1.94080542e+00, -1.32690965e+00, -6.72891644e-02,\n",
       "       -8.11215090e-01,  5.22920615e-01,  1.41999175e+00,  1.03154059e+00,\n",
       "       -5.67857844e-01,  1.29161217e+00, -1.36779789e-01, -5.53139006e-01,\n",
       "       -1.99999451e-01,  2.18098196e-01,  1.96998858e+00, -2.32120643e-01,\n",
       "       -3.21769939e-01,  8.04293238e-01, -6.81020974e-01,  6.77312885e-01,\n",
       "       -9.85031446e-01, -1.22803161e+00,  1.81288229e+00,  3.63708940e-01,\n",
       "        6.53490041e-03,  1.73709181e+00, -5.72202077e-01, -1.55274910e-02,\n",
       "       -1.05449342e+00,  8.61599903e-01,  5.00545886e-01,  6.90824564e-01,\n",
       "       -5.43696387e-01, -1.27281681e+00,  2.05290135e-01, -5.56496920e-01,\n",
       "        3.70364617e-01,  1.45527306e-02,  1.29248797e-01, -6.24427899e-01,\n",
       "        1.86724186e+00, -7.87372825e-01,  8.98677128e-01, -7.51149285e-01,\n",
       "       -8.01187623e-01,  9.95980813e-02,  1.02934371e+00, -6.56329390e-01,\n",
       "       -2.33434944e+00, -5.48733193e-01, -1.00435960e+00,  1.03546984e+00,\n",
       "        5.60674040e-01, -4.74984850e-01, -3.10239495e-01,  1.25524818e+00,\n",
       "       -3.93008104e-02,  1.45227304e+00,  6.98205444e-01, -2.34575918e+00,\n",
       "        7.37013715e-01, -5.96733918e-01, -2.30794506e-01, -1.13632642e+00,\n",
       "       -5.91494633e-01,  5.12077151e-02,  5.71981317e-01,  6.55764000e-01,\n",
       "       -1.16450959e+00,  3.63538703e-01,  2.53303688e-01,  9.58067002e-02,\n",
       "       -8.94437577e-01, -1.25733454e+00, -6.25751524e-02,  3.32378903e-01,\n",
       "        1.35637127e+00,  1.29479059e+00, -8.45416370e-01, -1.21189158e+00,\n",
       "        1.56089087e-01,  5.01873548e-01,  5.37859571e-01,  1.01758434e+00,\n",
       "       -1.98320373e+00, -1.79620125e+00,  6.16817899e-01,  1.59358633e-02,\n",
       "       -6.16463887e-02,  1.66849991e+00, -8.84540433e-01,  1.07765831e+00,\n",
       "        8.59927690e-02,  6.23911325e-02,  1.00021105e+00,  3.73450764e-01,\n",
       "        6.38028597e-01,  4.22482753e-01,  1.08936350e-01, -6.91331691e-02,\n",
       "       -6.32061752e-01, -1.20789632e+00,  6.59873495e-01,  1.01873695e+00,\n",
       "        2.15263009e-01, -4.13348982e-01,  1.47820794e+00,  5.70312291e-01,\n",
       "       -6.49438021e-01, -4.57333424e-01,  1.74457147e+00,  9.17560464e-01,\n",
       "       -7.17836937e-01, -4.06253061e-01, -2.07252963e+00,  5.33771988e-01,\n",
       "        1.64952089e+00, -1.01542059e+00,  6.80079278e-01,  5.00245440e-01,\n",
       "       -1.30731894e+00,  5.62182127e-01,  4.47256375e-01,  6.84157285e-01,\n",
       "       -1.54851676e+00,  3.32842286e-02, -5.04060744e-01,  7.23832030e-01,\n",
       "       -5.85548695e-01,  4.00550451e-01,  2.32477567e+00,  1.48597604e+00,\n",
       "        6.50313477e-01, -2.05426309e+00, -8.43361606e-01, -5.65457354e-01,\n",
       "        6.51522331e-01, -7.00002863e-01, -1.61729454e+00,  1.07695072e+00,\n",
       "        6.89242065e-02, -4.55932364e-01,  9.42234521e-02,  6.15654171e-02,\n",
       "       -1.03347822e-01,  1.65599118e-02,  2.16968150e-01, -4.50953219e-01,\n",
       "        4.65498944e-01,  3.37579023e-01,  1.61776073e+00, -6.28042905e-01,\n",
       "        1.00851879e+00, -1.06994638e+00,  9.35837816e-01,  2.53587282e-01,\n",
       "        2.68632512e-01, -1.87120251e+00, -7.80244164e-01,  4.72148666e-01,\n",
       "        7.16427364e-01, -8.34983331e-01, -5.53605648e-01,  1.64727819e+00,\n",
       "       -1.28968939e+00, -5.33955943e-02, -2.23918255e-01,  5.18657575e-01,\n",
       "        1.41425869e+00, -1.70839641e+00,  2.84828235e-01,  6.36425218e-01,\n",
       "       -4.91408678e-01, -2.28817774e+00,  1.12349973e+00, -7.15264384e-02,\n",
       "       -4.47418151e-01, -2.68639467e-01,  9.79520408e-01, -3.05609229e-01,\n",
       "       -1.48222798e+00,  7.75587511e-01, -1.06637800e-01,  8.46115771e-01,\n",
       "        7.03532643e-01,  1.96711073e+00,  8.65685980e-01,  2.61778738e-01,\n",
       "       -2.43905148e-01,  2.41820320e-01,  7.81304268e-01,  4.68053764e-01,\n",
       "        3.79548682e-01,  1.23285395e+00, -6.67363014e-01, -9.77133415e-01,\n",
       "        8.16088608e-02,  5.14191396e-01,  1.68037332e+00, -3.83215575e-01,\n",
       "       -4.67336352e-01, -1.59573951e-01, -1.19222960e+00, -2.34339955e-01,\n",
       "        1.01670878e+00,  6.35030262e-02,  3.28117202e-02,  1.01114092e+00,\n",
       "       -1.22276894e+00, -3.48475658e-01,  1.58259936e+00, -1.08665180e+00,\n",
       "        2.60817841e-01, -1.14843816e+00, -5.42125853e-01,  2.99083218e-03,\n",
       "       -1.39120156e+00, -8.74513189e-02,  4.02889223e-01, -4.40961444e-01,\n",
       "       -1.36513898e+00, -2.17351559e-02,  1.12467715e+00,  6.03319410e-01,\n",
       "       -2.77173305e-01, -1.31373557e+00, -1.06259027e-01,  3.40897860e-01,\n",
       "       -1.56976788e+00,  1.46191305e+00, -7.91598213e-01,  1.69764830e+00,\n",
       "       -4.42644061e-01, -1.56411208e+00,  4.46689443e-01, -4.28446232e-01,\n",
       "       -9.66812152e-02, -4.47140700e-01, -2.72819751e+00,  3.61052225e-01,\n",
       "        8.95074632e-01, -2.58112839e-01, -4.72884909e-01,  6.41522259e-01,\n",
       "       -2.10686305e+00, -1.13232874e+00,  1.35489315e+00, -8.89697403e-01,\n",
       "        4.86012095e-01, -4.76170192e-01, -1.20975401e+00, -5.80659480e-01,\n",
       "        3.27366008e-01,  4.84343047e-01,  3.14451722e-01,  4.32534404e-01,\n",
       "       -1.30858505e+00, -3.40157753e-01, -2.01202853e+00,  1.65448954e-01,\n",
       "       -1.03880143e+00,  8.18344300e-01,  1.19423120e+00,  1.68023198e+00,\n",
       "       -8.68927187e-01,  2.00815495e-01,  2.20634400e-01,  6.80251898e-01,\n",
       "       -1.62495690e+00,  2.65978821e-01, -1.55397536e-01, -9.91754142e-02,\n",
       "       -1.00013918e+00,  1.25347226e-01, -2.16579752e-01, -4.24547833e-01,\n",
       "        3.44717640e-01,  1.86180665e+00, -8.57830747e-01,  7.02519413e-01,\n",
       "        1.26331365e+00,  2.11828710e-01, -2.33661329e-01, -8.86722330e-01,\n",
       "        1.23797109e+00, -7.67958048e-01,  5.38245958e-01,  9.35338559e-01,\n",
       "        1.00375178e+00, -1.56361584e-01,  9.27311626e-01, -5.74081749e-01,\n",
       "        6.11721080e-01, -9.88464534e-01, -1.25596589e+00, -1.12742288e+00,\n",
       "        6.46528575e-02, -1.24711510e+00, -2.24771222e-01, -6.39948286e-01,\n",
       "       -1.08906726e+00,  2.49213972e-01, -4.81259932e-01, -7.60876113e-01,\n",
       "       -4.53434412e-01,  1.11835697e+00, -5.98340357e-01,  1.08952517e-01,\n",
       "       -1.73439432e-01,  3.09313161e-01, -3.79780330e-01,  5.49203509e-01,\n",
       "       -9.87556790e-01,  1.04036534e+00,  6.32445193e-01,  1.13076012e+00,\n",
       "       -1.27110650e+00, -4.33455115e-01,  3.56401387e-01, -9.41410888e-01,\n",
       "        7.10107497e-01, -4.82989533e-01, -6.91479527e-01,  5.55669040e-01,\n",
       "        1.04492462e+00,  8.36709702e-02, -3.70468886e-01, -1.56296692e-01,\n",
       "        2.73982890e-01,  9.49645640e-01, -7.70453661e-01,  7.17497324e-01,\n",
       "        4.01325770e-01,  9.59379956e-01,  2.46037057e-01,  3.40489362e-01,\n",
       "       -1.15582351e+00, -5.19578301e-01,  1.61926662e-01,  1.73225827e-01,\n",
       "       -8.52208198e-01,  7.83423480e-01,  8.58328103e-01, -9.73884170e-01,\n",
       "       -3.43595636e-01, -7.49159384e-01, -2.06520061e+00, -5.72003748e-01,\n",
       "        7.55671850e-01,  4.74170698e-02, -3.73606104e-01, -7.81868022e-01,\n",
       "        9.48824702e-01, -1.63750108e+00,  1.01169662e-02, -7.17240024e-01,\n",
       "        1.27682193e+00, -3.50814336e-01, -8.69005275e-01, -7.71959782e-01,\n",
       "       -1.29640604e+00, -2.06295056e-01, -4.71788070e-02, -1.80422320e+00,\n",
       "        4.27622895e-01,  4.63538529e-03, -2.53925678e+00,  3.68374119e-01,\n",
       "        1.82966999e+00, -7.27825333e-01, -1.00957569e+00, -8.63705177e-01,\n",
       "       -4.27990484e-01,  1.69317673e-02, -2.38932294e-01, -9.35591859e-01,\n",
       "       -1.20035474e-01,  2.65454771e-01, -6.51775140e-01,  2.21361547e+00,\n",
       "        3.50551014e-01,  5.22246173e-01,  3.01554544e-01,  1.88724968e-02,\n",
       "       -1.31415534e+00, -1.96478172e-01, -5.80244992e-01,  1.38485992e-01,\n",
       "        4.44267954e-01, -1.43832547e-01, -1.43102280e+00, -1.28734439e-01,\n",
       "        1.67096030e+00,  5.31572403e-01, -9.44174049e-01, -6.04691002e-02,\n",
       "        3.96549285e-02,  3.18919305e-01,  2.67161629e-05,  7.96854351e-01,\n",
       "        5.29411712e-01, -1.18807287e+00, -1.44602985e-01,  7.60103290e-01,\n",
       "        2.88131972e-01, -2.28413387e+00, -1.53683226e+00, -2.29088121e-01,\n",
       "       -4.07068318e+00,  9.11028107e-01, -1.37306035e+00,  6.82740095e-01,\n",
       "       -3.09028919e-02, -4.84843315e-01,  3.11267088e-01, -1.78575143e+00,\n",
       "        8.32155509e-02,  6.40628610e-01,  3.26810001e+00, -8.07091739e-01,\n",
       "        3.22554828e-01,  6.24489497e-01,  5.75092585e-01, -9.04947490e-01,\n",
       "       -4.29400511e-01, -4.63278911e-01,  1.72937067e+00,  1.38382635e-01,\n",
       "       -8.76834572e-01,  7.51247001e-01,  6.65006027e-01, -3.77808708e-01,\n",
       "       -4.31536470e-01, -2.39941343e+00, -4.19350778e-02,  1.60764166e+00,\n",
       "        5.12355864e-02,  1.53682473e+00,  3.91606341e-01, -5.53772355e-01,\n",
       "       -6.92764147e-01,  1.10080675e+00, -1.41068866e-02,  5.17580259e-02,\n",
       "        4.73528791e-01, -3.71105785e-03, -1.90962469e-01,  1.52109896e+00,\n",
       "       -1.22948325e+00,  1.33041580e+00,  5.47349506e-02,  3.45026790e-01,\n",
       "        2.43541260e+00, -5.65072534e-01,  2.93692691e-01,  6.32259276e-02,\n",
       "        5.59599038e-01, -5.75231954e-01,  2.86183811e-01,  2.48204121e+00,\n",
       "       -1.74242755e-01, -3.43956684e-01,  5.56985225e-01, -9.84695954e-01,\n",
       "        1.03745384e+00,  2.10201953e-01, -3.27356592e-01,  2.78128961e-01,\n",
       "       -5.79780252e-01,  3.13446135e-01, -6.42856726e-01,  6.58270834e-01,\n",
       "       -1.40251990e+00,  7.38037348e-01,  1.70697690e-01, -2.08729076e+00,\n",
       "        1.62044212e+00,  4.57028493e-01,  3.42834102e+00, -1.91192896e+00,\n",
       "        1.87783355e+00,  2.30158838e-01,  1.18049804e-01,  8.53199257e-01,\n",
       "        9.71775673e-02,  1.22277760e+00,  8.15967651e-01,  1.32804650e+00,\n",
       "        8.60975185e-01,  5.03506626e-01, -8.88514456e-02,  3.36983233e-01,\n",
       "        2.09767800e+00,  4.52166062e-01, -2.68432538e+00, -7.07469742e-01,\n",
       "       -8.84310151e-01, -1.63035156e+00,  3.83999190e-01, -4.43847032e-01,\n",
       "        6.09915534e-02, -1.57324226e+00, -1.32225268e+00,  6.44086273e-02,\n",
       "       -2.22762635e-01, -4.53317767e-01, -3.25056326e-01, -3.20068168e-01,\n",
       "        1.58159192e+00, -5.86642795e-01, -3.53690081e-01, -8.50564373e-01,\n",
       "        4.49944213e-01, -4.52522299e-01, -2.24075691e-01,  3.71009296e-01,\n",
       "        1.64570600e-01, -1.90480696e+00, -1.56866669e-01, -2.25343023e+00,\n",
       "        1.69534569e+00,  6.14295923e-01, -8.77245429e-01, -2.11040061e+00,\n",
       "       -5.42556515e-01, -2.11323133e+00,  7.57322363e-01, -7.59796137e-01,\n",
       "       -1.48003295e+00, -9.77850916e-01, -1.16309762e+00,  2.27099966e+00,\n",
       "       -5.02500844e-01, -1.35052796e-01,  6.52745722e-01, -5.20820705e-01,\n",
       "        6.96509092e-01,  1.06139051e+00, -4.01375547e-01, -3.70539131e-01,\n",
       "       -4.82917805e-01,  8.20803154e-01, -5.83676043e-01,  3.27138757e-01,\n",
       "        7.31380237e-01, -5.07178575e-01,  2.42502243e-01,  1.19534101e+00,\n",
       "       -1.00791690e+00, -8.33448491e-01, -3.33772344e-01, -9.41723618e-02,\n",
       "        1.23654292e+00,  7.06004632e-01,  1.00331657e+00, -6.32185022e-01,\n",
       "        3.55004590e-01, -1.83505521e+00, -8.79990927e-01, -1.94432477e+00,\n",
       "       -4.92063989e-01,  1.30386977e+00, -5.65716571e-01,  4.13742526e-02,\n",
       "        2.48305731e+00,  1.42085033e+00,  8.46368806e-01,  1.69628317e+00,\n",
       "        6.60428857e-01, -6.29129358e-02,  1.36129730e+00,  1.55041019e-01,\n",
       "        6.67420454e-01,  1.51913403e+00,  9.14103730e-01, -6.90588008e-02,\n",
       "        9.97614548e-01, -2.48020563e-01,  9.50483118e-01, -9.90122978e-01,\n",
       "       -1.14343223e+00,  1.40176502e+00, -6.50180959e-01,  5.11910576e-01,\n",
       "        6.58173408e-01,  4.85231313e-01, -7.41717915e-01, -5.23161874e-01,\n",
       "       -1.41195414e+00, -1.87972267e-01, -5.79573154e-01, -3.88090038e-01,\n",
       "        2.13896224e+00,  5.25193970e-02,  2.86915701e-01,  5.13172443e-01,\n",
       "       -1.12027739e+00, -7.50765243e-01, -5.92066718e-01, -3.81282935e-01,\n",
       "        1.47697376e+00, -7.79592939e-01,  1.49174338e+00,  1.35525680e+00,\n",
       "       -9.70272329e-01,  4.56571804e-01,  8.83003850e-01, -1.25086559e-01,\n",
       "       -9.61268802e-01,  1.03000463e+00, -1.35099660e+00,  2.45564646e-01,\n",
       "        2.99346485e-01,  2.65383297e-02, -3.30970816e-01,  1.69125771e+00,\n",
       "       -8.25301082e-01,  2.50759657e-01, -1.01401174e-01, -7.20735808e-01,\n",
       "        1.05021378e-01, -1.52844031e-01,  1.53157336e-01, -1.34530894e+00,\n",
       "        4.88416565e-01, -1.86484132e+00, -2.12341629e+00, -1.04592647e+00,\n",
       "        6.34562378e-01, -1.53881093e+00,  4.39543420e-01,  6.49711263e-01,\n",
       "       -8.57320994e-01,  1.34430549e+00,  1.26774620e+00, -1.62797441e+00,\n",
       "        2.43513090e+00,  2.07952570e+00,  1.12075468e+00,  6.03531820e-01,\n",
       "        1.59924962e+00, -1.29917190e+00,  8.68428283e-01,  1.02101866e+00,\n",
       "        1.54665233e+00, -9.10674648e-02,  2.12790381e+00, -8.09250075e-01,\n",
       "        3.11416812e-02,  1.11439406e+00, -1.08984411e+00,  8.74233979e-03,\n",
       "       -3.01817469e-01, -5.41869334e-01,  8.33122214e-02,  3.97623967e-01,\n",
       "        1.41034552e-01, -8.45341372e-01,  2.66501474e-01,  8.73344721e-01,\n",
       "        3.62759641e-01, -7.00886966e-01, -1.36373762e+00, -1.25271079e+00,\n",
       "        6.00095521e-01, -1.02716759e+00, -6.43011414e-02, -1.72148085e+00,\n",
       "        1.35551602e+00,  3.97653267e-01, -6.64698061e-01,  5.28712337e-02,\n",
       "        1.00290301e-03,  2.01906197e+00,  1.56791692e+00,  8.85350645e-01,\n",
       "       -8.55503172e-02, -9.95885695e-01, -1.41074410e+00,  7.30440955e-01,\n",
       "        7.39744544e-02,  3.03905686e-02, -2.26812336e-01,  4.43225550e-01,\n",
       "       -5.12869992e-02, -1.19584980e+00, -4.04998989e-01, -2.31459069e-01,\n",
       "        2.11831100e-01, -2.43834369e+00, -1.73541924e+00,  2.36187463e-01,\n",
       "       -3.24173767e-02, -1.28092448e+00,  1.03946557e+00,  4.37852380e-01,\n",
       "        1.17633120e-01,  1.20202678e+00,  2.21078520e+00, -5.66027327e-01,\n",
       "        5.25723469e-02, -2.07779057e-01,  1.34231361e+00, -2.70253581e-01,\n",
       "        9.43421802e-01, -6.70461132e-01, -1.59564530e+00, -3.68036795e-01,\n",
       "       -1.98060459e-01, -1.17085768e+00,  1.66007367e+00, -1.01015562e+00,\n",
       "        7.99226636e-01, -4.11480305e-01, -1.65159829e+00,  7.63938256e-01,\n",
       "       -1.82735592e-01, -2.60452605e-01,  5.61915916e-01,  3.82417576e-01,\n",
       "       -1.68331653e-01, -3.89497019e-02, -3.84052830e-01, -4.65809389e-01,\n",
       "        3.07602543e-01,  3.87019770e-02,  1.75496988e+00,  3.63763815e-01,\n",
       "        1.68989924e+00, -2.95838451e-01,  1.44504290e+00, -2.11705598e-01,\n",
       "       -9.01352058e-01,  1.37999823e+00,  3.31964928e-01,  1.89011528e-01,\n",
       "        2.92960526e+00,  1.36870872e+00,  1.42838735e-02,  1.65146430e-01,\n",
       "       -9.41120956e-01, -1.33514728e+00,  1.48969594e+00, -1.00013458e-01,\n",
       "       -2.48498186e-01,  6.52817436e-01, -2.71041679e-01,  1.31605443e+00,\n",
       "        2.96539019e-01, -2.11518234e+00, -1.92372597e+00,  6.09027552e-01,\n",
       "        1.46102441e+00, -6.39618856e-02,  6.70042447e-01, -6.35654681e-02,\n",
       "        1.17136850e+00, -9.91480568e-01, -2.48700462e-01, -2.65848506e-01,\n",
       "       -1.99357270e+00,  5.15505859e-01,  5.48378061e-01, -2.85256930e-01,\n",
       "       -5.48745318e-01, -2.19497056e-02,  9.50847026e-01,  4.86360489e-01,\n",
       "        5.09741548e-01, -5.64973284e-02,  1.21314241e+00, -1.98028621e-01,\n",
       "        4.56170172e-01, -1.06035187e+00, -6.49426767e-01,  2.57138497e-01,\n",
       "        1.00237778e-01,  7.02875521e-01, -1.90563207e-01,  1.81145386e+00,\n",
       "        2.80768410e+00,  3.48485333e-01,  8.34732443e-01, -2.62637152e-01,\n",
       "       -1.01644303e+00, -1.66744134e-01,  7.38301719e-01, -7.46550761e-01,\n",
       "       -2.95883278e-01, -1.23763929e+00, -9.54118278e-02,  2.66858118e+00,\n",
       "        3.68946858e-01,  7.66030254e-01,  1.05313575e+00, -1.27512204e-01,\n",
       "        9.16445504e-01,  6.13643785e-01,  6.90070426e-02, -1.20346115e+00,\n",
       "       -8.37736777e-01, -8.08728274e-01,  8.39815924e-01,  2.51312528e-01,\n",
       "        8.30879719e-01,  9.22655382e-01, -9.30106564e-01, -4.47069755e-01,\n",
       "        3.38300158e-01, -9.70412599e-04, -1.15304833e+00,  2.01329184e-01,\n",
       "        3.82384276e-01, -2.56431651e-02,  2.30048836e+00, -1.60877661e+00,\n",
       "       -4.27114508e-01,  1.53950330e+00,  1.43178751e-01, -8.75087150e-01,\n",
       "       -6.73442084e-01,  1.04751005e+00, -6.77779249e-01,  1.57356371e+00,\n",
       "        4.36315421e-01,  6.72609331e-01, -1.17773191e+00, -2.95473349e-01,\n",
       "       -4.43856318e-04,  5.16414000e-01, -1.40006015e+00,  5.10371987e-01,\n",
       "       -1.03688282e+00, -1.17381427e+00,  1.09691139e+00,  4.83475110e-02,\n",
       "       -7.23706427e-01,  1.24744986e+00,  1.86049256e-02,  9.77056265e-01,\n",
       "        1.03610556e+00, -9.03748406e-01,  2.74186580e-01, -1.00722954e+00,\n",
       "        1.46638375e+00,  1.22367978e-01,  2.81381176e-01,  1.96638911e-01,\n",
       "        9.39934775e-01,  9.55360812e-01,  1.28297099e+00,  5.31570327e-01,\n",
       "        1.30824189e+00, -1.55461016e+00, -2.47974716e-02,  2.28922289e-01,\n",
       "       -3.69682077e-01, -6.34960496e-01, -7.36652881e-01,  2.51240483e+00,\n",
       "       -3.91586392e-01, -1.80460132e+00, -1.06845354e+00,  1.69932105e-01,\n",
       "        1.53185778e+00, -4.34338072e-01,  1.24181343e+00, -7.68199599e-01,\n",
       "        3.46156082e-01, -2.94322933e-01, -1.26449272e+00, -6.69770746e-01,\n",
       "        7.23918429e-01, -2.87598909e-01,  4.00077805e-01, -1.13353904e-01,\n",
       "       -6.64661264e-01,  1.79857996e-01,  6.99805228e-01,  1.92038584e+00,\n",
       "        4.72496125e-01,  2.23490099e-01, -3.35421070e-02, -1.21377781e-01,\n",
       "       -7.59677332e-01,  1.28878724e+00,  2.03080970e+00, -3.81227717e-01,\n",
       "        1.07004067e+00,  2.12332335e+00, -5.50102219e-01, -1.99339465e-01,\n",
       "        6.76429222e-01,  3.72190629e-01, -8.27371803e-01,  1.12908775e+00,\n",
       "        3.12823360e-01, -2.42058077e-01,  1.71015003e+00, -1.16027256e+00,\n",
       "        7.69587290e-01, -5.43204039e-01,  3.23895907e-01,  2.76771850e+00])"
      ]
     },
     "execution_count": 68,
     "metadata": {},
     "output_type": "execute_result"
    }
   ],
   "source": [
    "np.random.normal(loc=0,scale=1,size=1000)"
   ]
  },
  {
   "cell_type": "markdown",
   "metadata": {},
   "source": [
    "## Question 11\n",
    "\n",
    "Generate binomial distribution data for fair coin flipping of size 100. Assume `0` for head and `1` for tail.\n",
    "\n",
    "[ **Hint:** For fair coin flip `p=0.5` ]"
   ]
  },
  {
   "cell_type": "markdown",
   "metadata": {},
   "source": [
    "#### Binomial Distribution"
   ]
  },
  {
   "cell_type": "markdown",
   "metadata": {},
   "source": [
    "It is defined by 2 parameters: the probability of success and the number of trails. It tells about how likely it is possible to get a given number of successes in n trails."
   ]
  },
  {
   "cell_type": "code",
   "execution_count": 78,
   "metadata": {},
   "outputs": [
    {
     "data": {
      "text/plain": [
       "array([1, 0, 0, 0, 1, 0, 1, 1, 1, 0, 1, 1, 0, 0, 1, 0, 0, 0, 1, 1, 1, 1,\n",
       "       1, 0, 0, 0, 1, 1, 1, 1, 0, 1, 1, 1, 1, 0, 0, 0, 0, 0, 0, 0, 0, 1,\n",
       "       0, 1, 0, 0, 1, 0, 1, 0, 1, 1, 0, 0, 0, 0, 0, 0, 0, 1, 1, 0, 1, 1,\n",
       "       1, 0, 1, 1, 1, 1, 1, 1, 1, 1, 0, 0, 0, 0, 0, 1, 1, 1, 1, 0, 0, 0,\n",
       "       1, 0, 0, 1, 0, 1, 0, 0, 1, 0, 0, 0])"
      ]
     },
     "execution_count": 78,
     "metadata": {},
     "output_type": "execute_result"
    }
   ],
   "source": [
    "np.random.binomial(n=1,p=0.5,size=100)"
   ]
  },
  {
   "cell_type": "markdown",
   "metadata": {},
   "source": [
    "#### Visualizing Poisson Distribution"
   ]
  },
  {
   "cell_type": "markdown",
   "metadata": {},
   "source": [
    "It models the probability of seeing certain number of successes within a time interval."
   ]
  },
  {
   "cell_type": "code",
   "execution_count": 77,
   "metadata": {},
   "outputs": [
    {
     "data": {
      "image/png": "[encoded data removed]",
      "text/plain": [
       "<Figure size 432x288 with 1 Axes>"
      ]
     },
     "metadata": {
      "needs_background": "light"
     },
     "output_type": "display_data"
    }
   ],
   "source": [
    "poisson_data = stats.poisson.rvs(size=100,mu=10)\n",
    "\n",
    "pd.DataFrame(poisson_data).hist()\n",
    "\n",
    "plt.show()"
   ]
  },
  {
   "cell_type": "code",
   "execution_count": null,
   "metadata": {},
   "outputs": [],
   "source": []
  }
 ],
 "metadata": {
  "kernelspec": {
   "display_name": "Python 3",
   "language": "python",
   "name": "python3"
  },
  "language_info": {
   "codemirror_mode": {
    "name": "ipython",
    "version": 3
   },
   "file_extension": ".py",
   "mimetype": "text/x-python",
   "name": "python",
   "nbconvert_exporter": "python",
   "pygments_lexer": "ipython3",
   "version": "3.7.0"
  }
 },
 "nbformat": 4,
 "nbformat_minor": 2
}
