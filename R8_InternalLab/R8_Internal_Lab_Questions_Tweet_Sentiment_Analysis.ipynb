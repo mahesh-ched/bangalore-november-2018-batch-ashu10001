{
 "cells": [
  {
   "cell_type": "markdown",
   "metadata": {
    "colab_type": "text",
    "id": "FU-HwvIdH0M-"
   },
   "source": [
    "## Sentiment analysis <br> \n",
    "\n",
    "The objective of the second problem is to perform Sentiment analysis from the tweets data collected from the users targeted at various mobile devices.\n",
    "Based on the tweet posted by a user (text), we will classify if the sentiment of the user targeted at a particular mobile device is positive or not."
   ]
  },
  {
   "cell_type": "markdown",
   "metadata": {
    "colab_type": "text",
    "id": "nAQDiZHRH0M_"
   },
   "source": [
    "### 1. Read the dataset (tweets.csv) and drop the NA's while reading the dataset"
   ]
  },
  {
   "cell_type": "code",
   "execution_count": 232,
   "metadata": {
    "colab": {},
    "colab_type": "code",
    "id": "3eXGIe-SH0NA"
   },
   "outputs": [],
   "source": [
    "import pandas as pd\n",
    "from bs4 import BeautifulSoup\n",
    "import re #for regex\n",
    "from nltk.corpus import stopwords #nltk - natural language toolkit\n",
    "from sklearn.model_selection import train_test_split\n",
    "from sklearn.naive_bayes import GaussianNB, MultinomialNB\n",
    "from sklearn import metrics\n",
    "from sklearn.linear_model import LogisticRegression"
   ]
  },
  {
   "cell_type": "code",
   "execution_count": 233,
   "metadata": {
    "colab": {},
    "colab_type": "code",
    "id": "CWeWe1eJH0NF"
   },
   "outputs": [],
   "source": [
    "df = pd.read_csv(\"tweets.csv\", encoding = 'Unicode_escape')"
   ]
  },
  {
   "cell_type": "code",
   "execution_count": 234,
   "metadata": {},
   "outputs": [
    {
     "data": {
      "text/html": [
       "<div>\n",
       "<style scoped>\n",
       "    .dataframe tbody tr th:only-of-type {\n",
       "        vertical-align: middle;\n",
       "    }\n",
       "\n",
       "    .dataframe tbody tr th {\n",
       "        vertical-align: top;\n",
       "    }\n",
       "\n",
       "    .dataframe thead th {\n",
       "        text-align: right;\n",
       "    }\n",
       "</style>\n",
       "<table border=\"1\" class=\"dataframe\">\n",
       "  <thead>\n",
       "    <tr style=\"text-align: right;\">\n",
       "      <th></th>\n",
       "      <th>tweet_text</th>\n",
       "      <th>emotion_in_tweet_is_directed_at</th>\n",
       "      <th>is_there_an_emotion_directed_at_a_brand_or_product</th>\n",
       "    </tr>\n",
       "  </thead>\n",
       "  <tbody>\n",
       "    <tr>\n",
       "      <th>0</th>\n",
       "      <td>.@wesley83 I have a 3G iPhone. After 3 hrs twe...</td>\n",
       "      <td>iPhone</td>\n",
       "      <td>Negative emotion</td>\n",
       "    </tr>\n",
       "    <tr>\n",
       "      <th>1</th>\n",
       "      <td>@jessedee Know about @fludapp ? Awesome iPad/i...</td>\n",
       "      <td>iPad or iPhone App</td>\n",
       "      <td>Positive emotion</td>\n",
       "    </tr>\n",
       "    <tr>\n",
       "      <th>2</th>\n",
       "      <td>@swonderlin Can not wait for #iPad 2 also. The...</td>\n",
       "      <td>iPad</td>\n",
       "      <td>Positive emotion</td>\n",
       "    </tr>\n",
       "    <tr>\n",
       "      <th>3</th>\n",
       "      <td>@sxsw I hope this year's festival isn't as cra...</td>\n",
       "      <td>iPad or iPhone App</td>\n",
       "      <td>Negative emotion</td>\n",
       "    </tr>\n",
       "    <tr>\n",
       "      <th>4</th>\n",
       "      <td>@sxtxstate great stuff on Fri #SXSW: Marissa M...</td>\n",
       "      <td>Google</td>\n",
       "      <td>Positive emotion</td>\n",
       "    </tr>\n",
       "  </tbody>\n",
       "</table>\n",
       "</div>"
      ],
      "text/plain": [
       "                                          tweet_text  \\\n",
       "0  .@wesley83 I have a 3G iPhone. After 3 hrs twe...   \n",
       "1  @jessedee Know about @fludapp ? Awesome iPad/i...   \n",
       "2  @swonderlin Can not wait for #iPad 2 also. The...   \n",
       "3  @sxsw I hope this year's festival isn't as cra...   \n",
       "4  @sxtxstate great stuff on Fri #SXSW: Marissa M...   \n",
       "\n",
       "  emotion_in_tweet_is_directed_at  \\\n",
       "0                          iPhone   \n",
       "1              iPad or iPhone App   \n",
       "2                            iPad   \n",
       "3              iPad or iPhone App   \n",
       "4                          Google   \n",
       "\n",
       "  is_there_an_emotion_directed_at_a_brand_or_product  \n",
       "0                                   Negative emotion  \n",
       "1                                   Positive emotion  \n",
       "2                                   Positive emotion  \n",
       "3                                   Negative emotion  \n",
       "4                                   Positive emotion  "
      ]
     },
     "execution_count": 234,
     "metadata": {},
     "output_type": "execute_result"
    }
   ],
   "source": [
    "df.head()"
   ]
  },
  {
   "cell_type": "code",
   "execution_count": 235,
   "metadata": {},
   "outputs": [
    {
     "data": {
      "text/plain": [
       "(9093, 3)"
      ]
     },
     "execution_count": 235,
     "metadata": {},
     "output_type": "execute_result"
    }
   ],
   "source": [
    "df.shape"
   ]
  },
  {
   "cell_type": "code",
   "execution_count": 236,
   "metadata": {
    "scrolled": true
   },
   "outputs": [
    {
     "data": {
      "text/plain": [
       "tweet_text                                               1\n",
       "emotion_in_tweet_is_directed_at                       5802\n",
       "is_there_an_emotion_directed_at_a_brand_or_product       0\n",
       "dtype: int64"
      ]
     },
     "execution_count": 236,
     "metadata": {},
     "output_type": "execute_result"
    }
   ],
   "source": [
    "df.isna().sum()"
   ]
  },
  {
   "cell_type": "code",
   "execution_count": 237,
   "metadata": {},
   "outputs": [],
   "source": [
    "#remove NA\n",
    "df_new = df.dropna(subset = ['tweet_text'])"
   ]
  },
  {
   "cell_type": "code",
   "execution_count": 238,
   "metadata": {},
   "outputs": [
    {
     "data": {
      "text/plain": [
       "(9092, 3)"
      ]
     },
     "execution_count": 238,
     "metadata": {},
     "output_type": "execute_result"
    }
   ],
   "source": [
    "df_new.shape"
   ]
  },
  {
   "cell_type": "code",
   "execution_count": 239,
   "metadata": {},
   "outputs": [
    {
     "data": {
      "text/plain": [
       "tweet_text                                               0\n",
       "emotion_in_tweet_is_directed_at                       5801\n",
       "is_there_an_emotion_directed_at_a_brand_or_product       0\n",
       "dtype: int64"
      ]
     },
     "execution_count": 239,
     "metadata": {},
     "output_type": "execute_result"
    }
   ],
   "source": [
    "df_new.isna().sum()"
   ]
  },
  {
   "cell_type": "markdown",
   "metadata": {
    "colab_type": "text",
    "id": "jPJvTjefH0NI"
   },
   "source": [
    "### 2. Preprocess the text and add the preprocessed text in a column with name `text` in the dataframe."
   ]
  },
  {
   "cell_type": "code",
   "execution_count": 240,
   "metadata": {
    "colab": {},
    "colab_type": "code",
    "id": "5iec5s9gH0NI"
   },
   "outputs": [],
   "source": [
    "def preprocess(text):\n",
    "    try:\n",
    "        return text.decode('ascii')\n",
    "    except Exception as e:\n",
    "        return \"\""
   ]
  },
  {
   "cell_type": "code",
   "execution_count": 241,
   "metadata": {
    "colab": {},
    "colab_type": "code",
    "id": "EQSmqA-vH0NT"
   },
   "outputs": [
    {
     "name": "stderr",
     "output_type": "stream",
     "text": [
      "/Users/ashishsingh/anaconda3/lib/python3.7/site-packages/ipykernel_launcher.py:1: SettingWithCopyWarning: \n",
      "A value is trying to be set on a copy of a slice from a DataFrame.\n",
      "Try using .loc[row_indexer,col_indexer] = value instead\n",
      "\n",
      "See the caveats in the documentation: http://pandas.pydata.org/pandas-docs/stable/indexing.html#indexing-view-versus-copy\n",
      "  \"\"\"Entry point for launching an IPython kernel.\n"
     ]
    }
   ],
   "source": [
    "df_new['text'] = [preprocess(text) for text in df_new.tweet_text]"
   ]
  },
  {
   "cell_type": "code",
   "execution_count": 242,
   "metadata": {
    "colab": {},
    "colab_type": "code",
    "id": "7kX-WoJDH0NV"
   },
   "outputs": [
    {
     "data": {
      "text/html": [
       "<div>\n",
       "<style scoped>\n",
       "    .dataframe tbody tr th:only-of-type {\n",
       "        vertical-align: middle;\n",
       "    }\n",
       "\n",
       "    .dataframe tbody tr th {\n",
       "        vertical-align: top;\n",
       "    }\n",
       "\n",
       "    .dataframe thead th {\n",
       "        text-align: right;\n",
       "    }\n",
       "</style>\n",
       "<table border=\"1\" class=\"dataframe\">\n",
       "  <thead>\n",
       "    <tr style=\"text-align: right;\">\n",
       "      <th></th>\n",
       "      <th>tweet_text</th>\n",
       "      <th>emotion_in_tweet_is_directed_at</th>\n",
       "      <th>is_there_an_emotion_directed_at_a_brand_or_product</th>\n",
       "      <th>text</th>\n",
       "    </tr>\n",
       "  </thead>\n",
       "  <tbody>\n",
       "    <tr>\n",
       "      <th>0</th>\n",
       "      <td>.@wesley83 I have a 3G iPhone. After 3 hrs twe...</td>\n",
       "      <td>iPhone</td>\n",
       "      <td>Negative emotion</td>\n",
       "      <td></td>\n",
       "    </tr>\n",
       "    <tr>\n",
       "      <th>1</th>\n",
       "      <td>@jessedee Know about @fludapp ? Awesome iPad/i...</td>\n",
       "      <td>iPad or iPhone App</td>\n",
       "      <td>Positive emotion</td>\n",
       "      <td></td>\n",
       "    </tr>\n",
       "    <tr>\n",
       "      <th>2</th>\n",
       "      <td>@swonderlin Can not wait for #iPad 2 also. The...</td>\n",
       "      <td>iPad</td>\n",
       "      <td>Positive emotion</td>\n",
       "      <td></td>\n",
       "    </tr>\n",
       "    <tr>\n",
       "      <th>3</th>\n",
       "      <td>@sxsw I hope this year's festival isn't as cra...</td>\n",
       "      <td>iPad or iPhone App</td>\n",
       "      <td>Negative emotion</td>\n",
       "      <td></td>\n",
       "    </tr>\n",
       "    <tr>\n",
       "      <th>4</th>\n",
       "      <td>@sxtxstate great stuff on Fri #SXSW: Marissa M...</td>\n",
       "      <td>Google</td>\n",
       "      <td>Positive emotion</td>\n",
       "      <td></td>\n",
       "    </tr>\n",
       "  </tbody>\n",
       "</table>\n",
       "</div>"
      ],
      "text/plain": [
       "                                          tweet_text  \\\n",
       "0  .@wesley83 I have a 3G iPhone. After 3 hrs twe...   \n",
       "1  @jessedee Know about @fludapp ? Awesome iPad/i...   \n",
       "2  @swonderlin Can not wait for #iPad 2 also. The...   \n",
       "3  @sxsw I hope this year's festival isn't as cra...   \n",
       "4  @sxtxstate great stuff on Fri #SXSW: Marissa M...   \n",
       "\n",
       "  emotion_in_tweet_is_directed_at  \\\n",
       "0                          iPhone   \n",
       "1              iPad or iPhone App   \n",
       "2                            iPad   \n",
       "3              iPad or iPhone App   \n",
       "4                          Google   \n",
       "\n",
       "  is_there_an_emotion_directed_at_a_brand_or_product text  \n",
       "0                                   Negative emotion       \n",
       "1                                   Positive emotion       \n",
       "2                                   Positive emotion       \n",
       "3                                   Negative emotion       \n",
       "4                                   Positive emotion       "
      ]
     },
     "execution_count": 242,
     "metadata": {},
     "output_type": "execute_result"
    }
   ],
   "source": [
    "df_new.head()"
   ]
  },
  {
   "cell_type": "code",
   "execution_count": 243,
   "metadata": {},
   "outputs": [
    {
     "data": {
      "text/plain": [
       "['',\n",
       " '',\n",
       " '',\n",
       " '',\n",
       " '',\n",
       " '',\n",
       " '',\n",
       " '',\n",
       " '',\n",
       " '',\n",
       " '',\n",
       " '',\n",
       " '',\n",
       " '',\n",
       " '',\n",
       " '',\n",
       " '',\n",
       " '',\n",
       " '',\n",
       " '',\n",
       " '',\n",
       " '',\n",
       " '',\n",
       " '',\n",
       " '',\n",
       " '',\n",
       " '',\n",
       " '',\n",
       " '',\n",
       " '',\n",
       " '',\n",
       " '',\n",
       " '',\n",
       " '',\n",
       " '',\n",
       " '',\n",
       " '',\n",
       " '',\n",
       " '',\n",
       " '',\n",
       " '',\n",
       " '',\n",
       " '',\n",
       " '',\n",
       " '',\n",
       " '',\n",
       " '',\n",
       " '',\n",
       " '',\n",
       " '',\n",
       " '',\n",
       " '',\n",
       " '',\n",
       " '',\n",
       " '',\n",
       " '',\n",
       " '',\n",
       " '',\n",
       " '',\n",
       " '',\n",
       " '',\n",
       " '',\n",
       " '',\n",
       " '',\n",
       " '',\n",
       " '',\n",
       " '',\n",
       " '',\n",
       " '',\n",
       " '',\n",
       " '',\n",
       " '',\n",
       " '',\n",
       " '',\n",
       " '',\n",
       " '',\n",
       " '',\n",
       " '',\n",
       " '',\n",
       " '',\n",
       " '',\n",
       " '',\n",
       " '',\n",
       " '',\n",
       " '',\n",
       " '',\n",
       " '',\n",
       " '',\n",
       " '',\n",
       " '',\n",
       " '',\n",
       " '',\n",
       " '',\n",
       " '',\n",
       " '',\n",
       " '',\n",
       " '',\n",
       " '',\n",
       " '',\n",
       " '',\n",
       " '',\n",
       " '',\n",
       " '',\n",
       " '',\n",
       " '',\n",
       " '',\n",
       " '',\n",
       " '',\n",
       " '',\n",
       " '',\n",
       " '',\n",
       " '',\n",
       " '',\n",
       " '',\n",
       " '',\n",
       " '',\n",
       " '',\n",
       " '',\n",
       " '',\n",
       " '',\n",
       " '',\n",
       " '',\n",
       " '',\n",
       " '',\n",
       " '',\n",
       " '',\n",
       " '',\n",
       " '',\n",
       " '',\n",
       " '',\n",
       " '',\n",
       " '',\n",
       " '',\n",
       " '',\n",
       " '',\n",
       " '',\n",
       " '',\n",
       " '',\n",
       " '',\n",
       " '',\n",
       " '',\n",
       " '',\n",
       " '',\n",
       " '',\n",
       " '',\n",
       " '',\n",
       " '',\n",
       " '',\n",
       " '',\n",
       " '',\n",
       " '',\n",
       " '',\n",
       " '',\n",
       " '',\n",
       " '',\n",
       " '',\n",
       " '',\n",
       " '',\n",
       " '',\n",
       " '',\n",
       " '',\n",
       " '',\n",
       " '',\n",
       " '',\n",
       " '',\n",
       " '',\n",
       " '',\n",
       " '',\n",
       " '',\n",
       " '',\n",
       " '',\n",
       " '',\n",
       " '',\n",
       " '',\n",
       " '',\n",
       " '',\n",
       " '',\n",
       " '',\n",
       " '',\n",
       " '',\n",
       " '',\n",
       " '',\n",
       " '',\n",
       " '',\n",
       " '',\n",
       " '',\n",
       " '',\n",
       " '',\n",
       " '',\n",
       " '',\n",
       " '',\n",
       " '',\n",
       " '',\n",
       " '',\n",
       " '',\n",
       " '',\n",
       " '',\n",
       " '',\n",
       " '',\n",
       " '',\n",
       " '',\n",
       " '',\n",
       " '',\n",
       " '',\n",
       " '',\n",
       " '',\n",
       " '',\n",
       " '',\n",
       " '',\n",
       " '',\n",
       " '',\n",
       " '',\n",
       " '',\n",
       " '',\n",
       " '',\n",
       " '',\n",
       " '',\n",
       " '',\n",
       " '',\n",
       " '',\n",
       " '',\n",
       " '',\n",
       " '',\n",
       " '',\n",
       " '',\n",
       " '',\n",
       " '',\n",
       " '',\n",
       " '',\n",
       " '',\n",
       " '',\n",
       " '',\n",
       " '',\n",
       " '',\n",
       " '',\n",
       " '',\n",
       " '',\n",
       " '',\n",
       " '',\n",
       " '',\n",
       " '',\n",
       " '',\n",
       " '',\n",
       " '',\n",
       " '',\n",
       " '',\n",
       " '',\n",
       " '',\n",
       " '',\n",
       " '',\n",
       " '',\n",
       " '',\n",
       " '',\n",
       " '',\n",
       " '',\n",
       " '',\n",
       " '',\n",
       " '',\n",
       " '',\n",
       " '',\n",
       " '',\n",
       " '',\n",
       " '',\n",
       " '',\n",
       " '',\n",
       " '',\n",
       " '',\n",
       " '',\n",
       " '',\n",
       " '',\n",
       " '',\n",
       " '',\n",
       " '',\n",
       " '',\n",
       " '',\n",
       " '',\n",
       " '',\n",
       " '',\n",
       " '',\n",
       " '',\n",
       " '',\n",
       " '',\n",
       " '',\n",
       " '',\n",
       " '',\n",
       " '',\n",
       " '',\n",
       " '',\n",
       " '',\n",
       " '',\n",
       " '',\n",
       " '',\n",
       " '',\n",
       " '',\n",
       " '',\n",
       " '',\n",
       " '',\n",
       " '',\n",
       " '',\n",
       " '',\n",
       " '',\n",
       " '',\n",
       " '',\n",
       " '',\n",
       " '',\n",
       " '',\n",
       " '',\n",
       " '',\n",
       " '',\n",
       " '',\n",
       " '',\n",
       " '',\n",
       " '',\n",
       " '',\n",
       " '',\n",
       " '',\n",
       " '',\n",
       " '',\n",
       " '',\n",
       " '',\n",
       " '',\n",
       " '',\n",
       " '',\n",
       " '',\n",
       " '',\n",
       " '',\n",
       " '',\n",
       " '',\n",
       " '',\n",
       " '',\n",
       " '',\n",
       " '',\n",
       " '',\n",
       " '',\n",
       " '',\n",
       " '',\n",
       " '',\n",
       " '',\n",
       " '',\n",
       " '',\n",
       " '',\n",
       " '',\n",
       " '',\n",
       " '',\n",
       " '',\n",
       " '',\n",
       " '',\n",
       " '',\n",
       " '',\n",
       " '',\n",
       " '',\n",
       " '',\n",
       " '',\n",
       " '',\n",
       " '',\n",
       " '',\n",
       " '',\n",
       " '',\n",
       " '',\n",
       " '',\n",
       " '',\n",
       " '',\n",
       " '',\n",
       " '',\n",
       " '',\n",
       " '',\n",
       " '',\n",
       " '',\n",
       " '',\n",
       " '',\n",
       " '',\n",
       " '',\n",
       " '',\n",
       " '',\n",
       " '',\n",
       " '',\n",
       " '',\n",
       " '',\n",
       " '',\n",
       " '',\n",
       " '',\n",
       " '',\n",
       " '',\n",
       " '',\n",
       " '',\n",
       " '',\n",
       " '',\n",
       " '',\n",
       " '',\n",
       " '',\n",
       " '',\n",
       " '',\n",
       " '',\n",
       " '',\n",
       " '',\n",
       " '',\n",
       " '',\n",
       " '',\n",
       " '',\n",
       " '',\n",
       " '',\n",
       " '',\n",
       " '',\n",
       " '',\n",
       " '',\n",
       " '',\n",
       " '',\n",
       " '',\n",
       " '',\n",
       " '',\n",
       " '',\n",
       " '',\n",
       " '',\n",
       " '',\n",
       " '',\n",
       " '',\n",
       " '',\n",
       " '',\n",
       " '',\n",
       " '',\n",
       " '',\n",
       " '',\n",
       " '',\n",
       " '',\n",
       " '',\n",
       " '',\n",
       " '',\n",
       " '',\n",
       " '',\n",
       " '',\n",
       " '',\n",
       " '',\n",
       " '',\n",
       " '',\n",
       " '',\n",
       " '',\n",
       " '',\n",
       " '',\n",
       " '',\n",
       " '',\n",
       " '',\n",
       " '',\n",
       " '',\n",
       " '',\n",
       " '',\n",
       " '',\n",
       " '',\n",
       " '',\n",
       " '',\n",
       " '',\n",
       " '',\n",
       " '',\n",
       " '',\n",
       " '',\n",
       " '',\n",
       " '',\n",
       " '',\n",
       " '',\n",
       " '',\n",
       " '',\n",
       " '',\n",
       " '',\n",
       " '',\n",
       " '',\n",
       " '',\n",
       " '',\n",
       " '',\n",
       " '',\n",
       " '',\n",
       " '',\n",
       " '',\n",
       " '',\n",
       " '',\n",
       " '',\n",
       " '',\n",
       " '',\n",
       " '',\n",
       " '',\n",
       " '',\n",
       " '',\n",
       " '',\n",
       " '',\n",
       " '',\n",
       " '',\n",
       " '',\n",
       " '',\n",
       " '',\n",
       " '',\n",
       " '',\n",
       " '',\n",
       " '',\n",
       " '',\n",
       " '',\n",
       " '',\n",
       " '',\n",
       " '',\n",
       " '',\n",
       " '',\n",
       " '',\n",
       " '',\n",
       " '',\n",
       " '',\n",
       " '',\n",
       " '',\n",
       " '',\n",
       " '',\n",
       " '',\n",
       " '',\n",
       " '',\n",
       " '',\n",
       " '',\n",
       " '',\n",
       " '',\n",
       " '',\n",
       " '',\n",
       " '',\n",
       " '',\n",
       " '',\n",
       " '',\n",
       " '',\n",
       " '',\n",
       " '',\n",
       " '',\n",
       " '',\n",
       " '',\n",
       " '',\n",
       " '',\n",
       " '',\n",
       " '',\n",
       " '',\n",
       " '',\n",
       " '',\n",
       " '',\n",
       " '',\n",
       " '',\n",
       " '',\n",
       " '',\n",
       " '',\n",
       " '',\n",
       " '',\n",
       " '',\n",
       " '',\n",
       " '',\n",
       " '',\n",
       " '',\n",
       " '',\n",
       " '',\n",
       " '',\n",
       " '',\n",
       " '',\n",
       " '',\n",
       " '',\n",
       " '',\n",
       " '',\n",
       " '',\n",
       " '',\n",
       " '',\n",
       " '',\n",
       " '',\n",
       " '',\n",
       " '',\n",
       " '',\n",
       " '',\n",
       " '',\n",
       " '',\n",
       " '',\n",
       " '',\n",
       " '',\n",
       " '',\n",
       " '',\n",
       " '',\n",
       " '',\n",
       " '',\n",
       " '',\n",
       " '',\n",
       " '',\n",
       " '',\n",
       " '',\n",
       " '',\n",
       " '',\n",
       " '',\n",
       " '',\n",
       " '',\n",
       " '',\n",
       " '',\n",
       " '',\n",
       " '',\n",
       " '',\n",
       " '',\n",
       " '',\n",
       " '',\n",
       " '',\n",
       " '',\n",
       " '',\n",
       " '',\n",
       " '',\n",
       " '',\n",
       " '',\n",
       " '',\n",
       " '',\n",
       " '',\n",
       " '',\n",
       " '',\n",
       " '',\n",
       " '',\n",
       " '',\n",
       " '',\n",
       " '',\n",
       " '',\n",
       " '',\n",
       " '',\n",
       " '',\n",
       " '',\n",
       " '',\n",
       " '',\n",
       " '',\n",
       " '',\n",
       " '',\n",
       " '',\n",
       " '',\n",
       " '',\n",
       " '',\n",
       " '',\n",
       " '',\n",
       " '',\n",
       " '',\n",
       " '',\n",
       " '',\n",
       " '',\n",
       " '',\n",
       " '',\n",
       " '',\n",
       " '',\n",
       " '',\n",
       " '',\n",
       " '',\n",
       " '',\n",
       " '',\n",
       " '',\n",
       " '',\n",
       " '',\n",
       " '',\n",
       " '',\n",
       " '',\n",
       " '',\n",
       " '',\n",
       " '',\n",
       " '',\n",
       " '',\n",
       " '',\n",
       " '',\n",
       " '',\n",
       " '',\n",
       " '',\n",
       " '',\n",
       " '',\n",
       " '',\n",
       " '',\n",
       " '',\n",
       " '',\n",
       " '',\n",
       " '',\n",
       " '',\n",
       " '',\n",
       " '',\n",
       " '',\n",
       " '',\n",
       " '',\n",
       " '',\n",
       " '',\n",
       " '',\n",
       " '',\n",
       " '',\n",
       " '',\n",
       " '',\n",
       " '',\n",
       " '',\n",
       " '',\n",
       " '',\n",
       " '',\n",
       " '',\n",
       " '',\n",
       " '',\n",
       " '',\n",
       " '',\n",
       " '',\n",
       " '',\n",
       " '',\n",
       " '',\n",
       " '',\n",
       " '',\n",
       " '',\n",
       " '',\n",
       " '',\n",
       " '',\n",
       " '',\n",
       " '',\n",
       " '',\n",
       " '',\n",
       " '',\n",
       " '',\n",
       " '',\n",
       " '',\n",
       " '',\n",
       " '',\n",
       " '',\n",
       " '',\n",
       " '',\n",
       " '',\n",
       " '',\n",
       " '',\n",
       " '',\n",
       " '',\n",
       " '',\n",
       " '',\n",
       " '',\n",
       " '',\n",
       " '',\n",
       " '',\n",
       " '',\n",
       " '',\n",
       " '',\n",
       " '',\n",
       " '',\n",
       " '',\n",
       " '',\n",
       " '',\n",
       " '',\n",
       " '',\n",
       " '',\n",
       " '',\n",
       " '',\n",
       " '',\n",
       " '',\n",
       " '',\n",
       " '',\n",
       " '',\n",
       " '',\n",
       " '',\n",
       " '',\n",
       " '',\n",
       " '',\n",
       " '',\n",
       " '',\n",
       " '',\n",
       " '',\n",
       " '',\n",
       " '',\n",
       " '',\n",
       " '',\n",
       " '',\n",
       " '',\n",
       " '',\n",
       " '',\n",
       " '',\n",
       " '',\n",
       " '',\n",
       " '',\n",
       " '',\n",
       " '',\n",
       " '',\n",
       " '',\n",
       " '',\n",
       " '',\n",
       " '',\n",
       " '',\n",
       " '',\n",
       " '',\n",
       " '',\n",
       " '',\n",
       " '',\n",
       " '',\n",
       " '',\n",
       " '',\n",
       " '',\n",
       " '',\n",
       " '',\n",
       " '',\n",
       " '',\n",
       " '',\n",
       " '',\n",
       " '',\n",
       " '',\n",
       " '',\n",
       " '',\n",
       " '',\n",
       " '',\n",
       " '',\n",
       " '',\n",
       " '',\n",
       " '',\n",
       " '',\n",
       " '',\n",
       " '',\n",
       " '',\n",
       " '',\n",
       " '',\n",
       " '',\n",
       " '',\n",
       " '',\n",
       " '',\n",
       " '',\n",
       " '',\n",
       " '',\n",
       " '',\n",
       " '',\n",
       " '',\n",
       " '',\n",
       " '',\n",
       " '',\n",
       " '',\n",
       " '',\n",
       " '',\n",
       " '',\n",
       " '',\n",
       " '',\n",
       " '',\n",
       " '',\n",
       " '',\n",
       " '',\n",
       " '',\n",
       " '',\n",
       " '',\n",
       " '',\n",
       " '',\n",
       " '',\n",
       " '',\n",
       " '',\n",
       " '',\n",
       " '',\n",
       " '',\n",
       " '',\n",
       " '',\n",
       " '',\n",
       " '',\n",
       " '',\n",
       " '',\n",
       " '',\n",
       " '',\n",
       " '',\n",
       " '',\n",
       " '',\n",
       " '',\n",
       " '',\n",
       " '',\n",
       " '',\n",
       " '',\n",
       " '',\n",
       " '',\n",
       " '',\n",
       " '',\n",
       " '',\n",
       " '',\n",
       " '',\n",
       " '',\n",
       " '',\n",
       " '',\n",
       " '',\n",
       " '',\n",
       " '',\n",
       " '',\n",
       " '',\n",
       " '',\n",
       " '',\n",
       " '',\n",
       " '',\n",
       " '',\n",
       " '',\n",
       " '',\n",
       " '',\n",
       " '',\n",
       " '',\n",
       " '',\n",
       " '',\n",
       " '',\n",
       " '',\n",
       " '',\n",
       " '',\n",
       " '',\n",
       " '',\n",
       " '',\n",
       " '',\n",
       " '',\n",
       " '',\n",
       " '',\n",
       " '',\n",
       " '',\n",
       " '',\n",
       " '',\n",
       " '',\n",
       " '',\n",
       " '',\n",
       " '',\n",
       " '',\n",
       " '',\n",
       " '',\n",
       " '',\n",
       " '',\n",
       " '',\n",
       " '',\n",
       " '',\n",
       " '',\n",
       " '',\n",
       " '',\n",
       " '',\n",
       " '',\n",
       " '',\n",
       " '',\n",
       " '',\n",
       " '',\n",
       " '',\n",
       " '',\n",
       " '',\n",
       " '',\n",
       " '',\n",
       " '',\n",
       " '',\n",
       " '',\n",
       " '',\n",
       " '',\n",
       " '',\n",
       " '',\n",
       " '',\n",
       " '',\n",
       " '',\n",
       " '',\n",
       " '',\n",
       " '',\n",
       " '',\n",
       " '',\n",
       " '',\n",
       " '',\n",
       " '',\n",
       " '',\n",
       " '',\n",
       " '',\n",
       " '',\n",
       " '',\n",
       " '',\n",
       " '',\n",
       " '',\n",
       " '',\n",
       " '',\n",
       " '',\n",
       " '',\n",
       " '',\n",
       " '',\n",
       " '',\n",
       " '',\n",
       " '',\n",
       " '',\n",
       " '',\n",
       " '',\n",
       " '',\n",
       " '',\n",
       " '',\n",
       " '',\n",
       " '',\n",
       " '',\n",
       " '',\n",
       " '',\n",
       " '',\n",
       " '',\n",
       " '',\n",
       " '',\n",
       " '',\n",
       " '',\n",
       " '',\n",
       " '',\n",
       " '',\n",
       " '',\n",
       " '',\n",
       " '',\n",
       " '',\n",
       " '',\n",
       " '',\n",
       " '',\n",
       " '',\n",
       " '',\n",
       " '',\n",
       " '',\n",
       " '',\n",
       " '',\n",
       " '',\n",
       " '',\n",
       " '',\n",
       " '',\n",
       " '',\n",
       " '',\n",
       " '',\n",
       " '',\n",
       " '',\n",
       " '',\n",
       " '',\n",
       " '',\n",
       " '',\n",
       " '',\n",
       " '',\n",
       " '',\n",
       " '',\n",
       " ...]"
      ]
     },
     "execution_count": 243,
     "metadata": {},
     "output_type": "execute_result"
    }
   ],
   "source": [
    "df_new['text'].tolist()"
   ]
  },
  {
   "cell_type": "markdown",
   "metadata": {
    "colab_type": "text",
    "id": "OGWB3P2WH0NY"
   },
   "source": [
    "### 3. Consider only rows having Positive emotion and Negative emotion and remove other rows from the dataframe."
   ]
  },
  {
   "cell_type": "code",
   "execution_count": 244,
   "metadata": {
    "colab": {},
    "colab_type": "code",
    "id": "bdgA_8N2H0NY"
   },
   "outputs": [
    {
     "data": {
      "text/plain": [
       "array(['Negative emotion', 'Positive emotion',\n",
       "       'No emotion toward brand or product', \"I can't tell\"], dtype=object)"
      ]
     },
     "execution_count": 244,
     "metadata": {},
     "output_type": "execute_result"
    }
   ],
   "source": [
    "df_new.is_there_an_emotion_directed_at_a_brand_or_product.unique()"
   ]
  },
  {
   "cell_type": "code",
   "execution_count": 245,
   "metadata": {},
   "outputs": [],
   "source": [
    "df_new2 = df_new[(df_new.is_there_an_emotion_directed_at_a_brand_or_product == 'Negative emotion') | (df_new.is_there_an_emotion_directed_at_a_brand_or_product == 'Positive emotion')]"
   ]
  },
  {
   "cell_type": "code",
   "execution_count": 246,
   "metadata": {},
   "outputs": [
    {
     "data": {
      "text/plain": [
       "(3548, 4)"
      ]
     },
     "execution_count": 246,
     "metadata": {},
     "output_type": "execute_result"
    }
   ],
   "source": [
    "df_new2.shape"
   ]
  },
  {
   "cell_type": "code",
   "execution_count": 249,
   "metadata": {},
   "outputs": [
    {
     "data": {
      "text/html": [
       "<div>\n",
       "<style scoped>\n",
       "    .dataframe tbody tr th:only-of-type {\n",
       "        vertical-align: middle;\n",
       "    }\n",
       "\n",
       "    .dataframe tbody tr th {\n",
       "        vertical-align: top;\n",
       "    }\n",
       "\n",
       "    .dataframe thead th {\n",
       "        text-align: right;\n",
       "    }\n",
       "</style>\n",
       "<table border=\"1\" class=\"dataframe\">\n",
       "  <thead>\n",
       "    <tr style=\"text-align: right;\">\n",
       "      <th></th>\n",
       "      <th>tweet_text</th>\n",
       "      <th>emotion_in_tweet_is_directed_at</th>\n",
       "      <th>is_there_an_emotion_directed_at_a_brand_or_product</th>\n",
       "      <th>text</th>\n",
       "    </tr>\n",
       "  </thead>\n",
       "  <tbody>\n",
       "    <tr>\n",
       "      <th>0</th>\n",
       "      <td>.@wesley83 I have a 3G iPhone. After 3 hrs twe...</td>\n",
       "      <td>iPhone</td>\n",
       "      <td>Negative emotion</td>\n",
       "      <td></td>\n",
       "    </tr>\n",
       "    <tr>\n",
       "      <th>1</th>\n",
       "      <td>@jessedee Know about @fludapp ? Awesome iPad/i...</td>\n",
       "      <td>iPad or iPhone App</td>\n",
       "      <td>Positive emotion</td>\n",
       "      <td></td>\n",
       "    </tr>\n",
       "    <tr>\n",
       "      <th>2</th>\n",
       "      <td>@swonderlin Can not wait for #iPad 2 also. The...</td>\n",
       "      <td>iPad</td>\n",
       "      <td>Positive emotion</td>\n",
       "      <td></td>\n",
       "    </tr>\n",
       "    <tr>\n",
       "      <th>3</th>\n",
       "      <td>@sxsw I hope this year's festival isn't as cra...</td>\n",
       "      <td>iPad or iPhone App</td>\n",
       "      <td>Negative emotion</td>\n",
       "      <td></td>\n",
       "    </tr>\n",
       "    <tr>\n",
       "      <th>4</th>\n",
       "      <td>@sxtxstate great stuff on Fri #SXSW: Marissa M...</td>\n",
       "      <td>Google</td>\n",
       "      <td>Positive emotion</td>\n",
       "      <td></td>\n",
       "    </tr>\n",
       "  </tbody>\n",
       "</table>\n",
       "</div>"
      ],
      "text/plain": [
       "                                          tweet_text  \\\n",
       "0  .@wesley83 I have a 3G iPhone. After 3 hrs twe...   \n",
       "1  @jessedee Know about @fludapp ? Awesome iPad/i...   \n",
       "2  @swonderlin Can not wait for #iPad 2 also. The...   \n",
       "3  @sxsw I hope this year's festival isn't as cra...   \n",
       "4  @sxtxstate great stuff on Fri #SXSW: Marissa M...   \n",
       "\n",
       "  emotion_in_tweet_is_directed_at  \\\n",
       "0                          iPhone   \n",
       "1              iPad or iPhone App   \n",
       "2                            iPad   \n",
       "3              iPad or iPhone App   \n",
       "4                          Google   \n",
       "\n",
       "  is_there_an_emotion_directed_at_a_brand_or_product text  \n",
       "0                                   Negative emotion       \n",
       "1                                   Positive emotion       \n",
       "2                                   Positive emotion       \n",
       "3                                   Negative emotion       \n",
       "4                                   Positive emotion       "
      ]
     },
     "execution_count": 249,
     "metadata": {},
     "output_type": "execute_result"
    }
   ],
   "source": [
    "df_new2.head()"
   ]
  },
  {
   "cell_type": "markdown",
   "metadata": {
    "colab_type": "text",
    "id": "SotCRvkDH0Nf"
   },
   "source": [
    "### 4. Represent text as numerical data using `CountVectorizer` and get the document term frequency matrix\n",
    "\n",
    "#### Use `vect` as the variable name for initialising CountVectorizer."
   ]
  },
  {
   "cell_type": "code",
   "execution_count": 250,
   "metadata": {
    "colab": {},
    "colab_type": "code",
    "id": "KyXtZGr-H0Nl"
   },
   "outputs": [],
   "source": [
    "def text_to_words( raw_text ):\n",
    "    # Function to convert a raw review to a string of words\n",
    "    # The input is a single string (a raw movie review), and \n",
    "    # the output is a single string (a preprocessed movie review)\n",
    "    #\n",
    "    # 1. Remove HTML\n",
    "    text = BeautifulSoup(raw_text).get_text() \n",
    "    #\n",
    "    # 2. Remove non-letters        \n",
    "    letters_only = re.sub(\"[^a-zA-Z]\", \" \", text) \n",
    "    #\n",
    "    # 3. Convert to lower case, split into individual words\n",
    "    words = letters_only.lower().split()                             \n",
    "    #\n",
    "    # 4. In Python, searching a set is much faster than searching\n",
    "    #   a list, so convert the stop words to a set\n",
    "    stops = set(stopwords.words(\"english\"))                  \n",
    "    # \n",
    "    # 5. Remove stop words\n",
    "    meaningful_words = [w for w in words if not w in stops]   \n",
    "    #\n",
    "    # 6. Join the words back into one string separated by space, \n",
    "    # and return the result.\n",
    "    return( \" \".join( meaningful_words ))  "
   ]
  },
  {
   "cell_type": "code",
   "execution_count": 251,
   "metadata": {
    "colab": {},
    "colab_type": "code",
    "id": "Z4LUM-XPH0Nn"
   },
   "outputs": [],
   "source": [
    "# Get the number of reviews based on the dataframe column size\n",
    "num_text = df_new2[\"tweet_text\"].size\n",
    "\n"
   ]
  },
  {
   "cell_type": "code",
   "execution_count": 252,
   "metadata": {},
   "outputs": [
    {
     "data": {
      "text/plain": [
       "3548"
      ]
     },
     "execution_count": 252,
     "metadata": {},
     "output_type": "execute_result"
    }
   ],
   "source": [
    "num_text"
   ]
  },
  {
   "cell_type": "code",
   "execution_count": 253,
   "metadata": {},
   "outputs": [],
   "source": [
    "df_new2.reset_index(inplace=True)"
   ]
  },
  {
   "cell_type": "code",
   "execution_count": 254,
   "metadata": {},
   "outputs": [
    {
     "data": {
      "text/plain": [
       "\"I think #SXSW has taken it upon itself to make it clear to me that a Gen 1 iPhone ain't gonna cut it anymore.\""
      ]
     },
     "execution_count": 254,
     "metadata": {},
     "output_type": "execute_result"
    }
   ],
   "source": [
    "df_new2[\"tweet_text\"][3190]"
   ]
  },
  {
   "cell_type": "code",
   "execution_count": 255,
   "metadata": {
    "colab": {},
    "colab_type": "code",
    "id": "aIdZYxJtH0Nq"
   },
   "outputs": [],
   "source": [
    "# Initialize an empty list to hold the clean reviews\n",
    "clean_tweet_text = []\n",
    "\n",
    "# Loop over each review; create an index i that goes from 0 to the length\n",
    "# of the movie review list \n",
    "for i in range( 0, num_text ):\n",
    "    # Call our function for each one, and add the result to the list of\n",
    "    # clean reviews\n",
    "    clean_tweet_text.append( text_to_words( df_new2[\"tweet_text\"][i]))"
   ]
  },
  {
   "cell_type": "code",
   "execution_count": 256,
   "metadata": {},
   "outputs": [
    {
     "data": {
      "text/plain": [
       "'headed sxsw hear talk integrated social network dynamics team synergy got ipad ready go'"
      ]
     },
     "execution_count": 256,
     "metadata": {},
     "output_type": "execute_result"
    }
   ],
   "source": [
    "clean_tweet_text[1000]"
   ]
  },
  {
   "cell_type": "code",
   "execution_count": 257,
   "metadata": {},
   "outputs": [
    {
     "name": "stdout",
     "output_type": "stream",
     "text": [
      "Creating the bag of words...\n",
      "\n"
     ]
    }
   ],
   "source": [
    "print(\"Creating the bag of words...\\n\")\n",
    "from sklearn.feature_extraction.text import CountVectorizer\n",
    "\n",
    "# Initialize the \"CountVectorizer\" object, which is scikit-learn's\n",
    "# bag of words tool.  \n",
    "# vect = CountVectorizer(analyzer = \"word\",   \\\n",
    "#                              tokenizer = None,    \\\n",
    "#                              preprocessor = None, \\\n",
    "#                              stop_words = None,   \\\n",
    "#                              max_features = 5000) \n",
    "\n",
    "vect = CountVectorizer(analyzer = \"word\",   \\\n",
    "                             tokenizer = None,    \\\n",
    "                             preprocessor = None, \\\n",
    "                             stop_words = None) \n",
    "# fit_transform() does two functions: First, it fits the model\n",
    "# and learns the vocabulary; second, it transforms our training data\n",
    "# into feature vectors. The input to fit_transform should be a list of \n",
    "# strings.\n",
    "tweet_data_features = vect.fit_transform(clean_tweet_text)\n",
    "\n",
    "# Numpy arrays are easy to work with, so convert the result to an \n",
    "# array\n",
    "tweet_data_features = tweet_data_features.toarray()"
   ]
  },
  {
   "cell_type": "code",
   "execution_count": 258,
   "metadata": {},
   "outputs": [
    {
     "name": "stdout",
     "output_type": "stream",
     "text": [
      "(3548, 5647)\n"
     ]
    }
   ],
   "source": [
    "print(tweet_data_features.shape)"
   ]
  },
  {
   "cell_type": "markdown",
   "metadata": {
    "colab_type": "text",
    "id": "5pxd5fSHH0Nt"
   },
   "source": [
    "### 5. Find number of different words in vocabulary"
   ]
  },
  {
   "cell_type": "code",
   "execution_count": 259,
   "metadata": {
    "colab": {},
    "colab_type": "code",
    "id": "p1DQ2LdNH0Nu"
   },
   "outputs": [
    {
     "name": "stdout",
     "output_type": "stream",
     "text": [
      "['aapl', 'abacus', 'abandoned', 'aber', 'ability', 'able', 'abroad', 'absolute', 'absolutely', 'abt', 'abuzz', 'academy', 'acc', 'acceptable', 'access', 'accessibility', 'accessible', 'accessories', 'accessory', 'accesssxsw', 'accommodate', 'according', 'accordion', 'account', 'acerbic', 'achieve', 'acknowledge', 'aclu', 'aclus', 'acquired', 'across', 'acrosse', 'acting', 'action', 'actions', 'activate', 'activations', 'activity', 'actors', 'actsofsharing', 'actual', 'actually', 'ad', 'adam', 'adams', 'adapt', 'adaptive', 'add', 'added', 'addicted', 'addictedtotheinterwebs', 'addiction', 'addictive', 'addicts', 'adding', 'addition', 'additional', 'address', 'adfonic', 'admired', 'admission', 'admit', 'admits', 'admitting', 'ado', 'adopter', 'adopters', 'adoption', 'adpeopleproblems', 'ads', 'advanced', 'advantage', 'advent', 'adventure', 'advertising', 'advice', 'advisory', 'aesthetic', 'affair', 'affirmative', 'afford', 'afraid', 'africans', 'afternoon', 'agchat', 'age', 'agencies', 'agency', 'agenda', 'agents', 'agileagency', 'agnerd', 'ago', 'agree', 'agreed', 'ah', 'ahead', 'ahem', 'ahh', 'ahhh', 'ahing', 'aicn', 'aiding', 'aim', 'air', 'airline', 'airlines', 'airplane', 'airport', 'airports', 'airs', 'ajs', 'aka', 'akqas', 'al', 'alamo', 'alan', 'alarm', 'alarms', 'alas', 'album', 'alcoholics', 'alert', 'alerts', 'alex', 'algorithm', 'alive', 'allhat', 'allow', 'allowing', 'allows', 'almost', 'alone', 'along', 'alot', 'alphagraphics', 'already', 'also', 'alt', 'alternate', 'alternative', 'although', 'altimeter', 'always', 'alwayshavingtoplugin', 'amateurhour', 'amazing', 'amazingly', 'amazon', 'ambassador', 'amble', 'amen', 'america', 'amex', 'amid', 'amigos', 'amismarternow', 'among', 'amount', 'amused', 'amusing', 'analysis', 'analytics', 'andoid', 'andrew', 'andriod', 'andro', 'android', 'androidsxsw', 'angel', 'angry', 'angrybirds', 'animation', 'announce', 'announced', 'announcement', 'announcements', 'announces', 'announcing', 'annoyed', 'annoying', 'anoth', 'another', 'answer', 'answered', 'anti', 'anticipate', 'antigov', 'antique', 'antonio', 'antwoord', 'anxiety', 'anxious', 'anybody', 'anybodywanttobuymeanipad', 'anymore', 'anyone', 'anyones', 'anything', 'anyway', 'anyways', 'anywhere', 'aos', 'ap', 'apac', 'apartment', 'api', 'apis', 'apologies', 'app', 'apparent', 'apparently', 'appcircus', 'appeal', 'appealing', 'appear', 'appears', 'applauds', 'applause', 'apple', 'appleaddiction', 'appleatxdt', 'applefanatic', 'apples', 'appletakingoverworld', 'appletogo', 'application', 'applications', 'appolicious', 'appreciate', 'appreciation', 'approach', 'approaches', 'approval', 'approved', 'approves', 'apps', 'appstore', 'aquent', 'arcade', 'archive', 'arctic', 'arduino', 'area', 'areas', 'arg', 'argues', 'argument', 'aristotle', 'arm', 'armadillo', 'armed', 'aron', 'around', 'arrived', 'arrives', 'arriving', 'arsenal', 'art', 'article', 'articles', 'articulate', 'artificial', 'artist', 'artistic', 'artists', 'artwork', 'artworks', 'arw', 'asddieu', 'ask', 'asked', 'asking', 'asks', 'asleep', 'ass', 'assisted', 'assistivetech', 'assume', 'atari', 'atl', 'atms', 'atrix', 'att', 'attached', 'attempt', 'attend', 'attended', 'attendees', 'attending', 'attention', 'attitudes', 'attracted', 'attracting', 'attractive', 'atx', 'atzip', 'audience', 'audio', 'augcomm', 'augmented', 'augmentedreality', 'auntie', 'aus', 'austin', 'austincrowd', 'austinites', 'austintx', 'austinwins', 'australian', 'ausxsw', 'auth', 'authenticator', 'authorization', 'autistic', 'auto', 'autocorrect', 'autocorrected', 'autocorrects', 'autodial', 'automatically', 'autonomous', 'av', 'avail', 'available', 'ave', 'avenue', 'average', 'averages', 'avoid', 'avoiding', 'aw', 'awake', 'award', 'awards', 'aware', 'awareness', 'away', 'awe', 'awesome', 'awesomely', 'awesomeness', 'awesometiming', 'awhile', 'awkward', 'awwww', 'axzwxb', 'baaah', 'baby', 'back', 'background', 'backlight', 'backpack', 'backup', 'backupify', 'bad', 'badge', 'badgeless', 'badger', 'badges', 'bag', 'bags', 'bahahahaha', 'bajillions', 'balance', 'balckberries', 'balcony', 'ball', 'ballroom', 'ballrooms', 'banality', 'band', 'bands', 'bandwaggoners', 'bandwidth', 'bang', 'banged', 'bank', 'banking', 'bankinnovate', 'bankinnovation', 'banks', 'bar', 'barcode', 'barely', 'barging', 'barring', 'barroom', 'barry', 'barrydiller', 'bars', 'bart', 'barton', 'based', 'bashing', 'basic', 'basically', 'basics', 'basis', 'basket', 'bastards', 'bat', 'bathroom', 'batphone', 'batt', 'batteries', 'battery', 'batterykiller', 'battle', 'battledecks', 'battlela', 'bavc', 'bavcid', 'bawling', 'bb', 'bbq', 'bc', 'bcet', 'bday', 'beach', 'beans', 'bear', 'beard', 'beards', 'beat', 'beats', 'beautiful', 'beautifully', 'beauty', 'become', 'becoming', 'bed', 'beechwood', 'beer', 'beforetwitter', 'begin', 'beginning', 'begins', 'behance', 'behave', 'behaving', 'behavior', 'behind', 'believe', 'belinsky', 'belong', 'beluga', 'bemyneighbor', 'ben', 'benefit', 'benieuwd', 'bereft', 'bergstrom', 'berklee', 'berkowitz', 'bernd', 'berry', 'best', 'bestappever', 'bestie', 'bet', 'beta', 'betainvites', 'better', 'bettercloud', 'bettersearch', 'betterthingstodo', 'beware', 'beyond', 'beyondwc', 'bff', 'bgr', 'bicycle', 'big', 'bigger', 'biggest', 'bike', 'billboard', 'billion', 'bin', 'bing', 'biomimicry', 'bird', 'birds', 'birth', 'birthday', 'bit', 'bite', 'biz', 'bizzy', 'bjdproductions', 'black', 'blackberry', 'blackbook', 'blacked', 'blame', 'blast', 'bldg', 'bleed', 'blew', 'blind', 'blinksale', 'blks', 'block', 'blocked', 'blocking', 'blocks', 'blog', 'bloggable', 'blogger', 'blogging', 'blogs', 'bloody', 'bloomberg', 'blowing', 'blows', 'blue', 'blueray', 'bluetooth', 'bluezoom', 'blurs', 'bmm', 'bnet', 'board', 'boarded', 'body', 'bomb', 'bonus', 'boo', 'book', 'bookbook', 'books', 'boom', 'boomers', 'boooo', 'boost', 'booth', 'boots', 'booyah', 'booze', 'borderstylo', 'bored', 'boring', 'born', 'borrow', 'borrowing', 'boss', 'botch', 'bother', 'bots', 'bottom', 'bought', 'bounced', 'bound', 'boundaries', 'bout', 'bowl', 'box', 'boxee', 'boxes', 'boy', 'boyfriend', 'boyfriends', 'boys', 'bpm', 'bracket', 'brah', 'brain', 'brains', 'brainwashed', 'brand', 'branded', 'brands', 'bravo', 'brawls', 'brazil', 'breach', 'bread', 'break', 'breakdown', 'breakfast', 'breaking', 'breakout', 'breakthrough', 'breath', 'breathtaking', 'breeds', 'brian', 'brick', 'bricklin', 'bridging', 'brief', 'bright', 'brightens', 'brightness', 'brilliance', 'brilliant', 'bring', 'bringing', 'brings', 'brisk', 'british', 'brits', 'brk', 'bro', 'broadcast', 'broadcastr', 'broadfeed', 'broken', 'brother', 'brought', 'browse', 'browser', 'browserwars', 'browsing', 'bruises', 'brushstroke', 'bryce', 'bt', 'btw', 'bubble', 'bucket', 'buffalo', 'bug', 'bugger', 'buggy', 'bugs', 'build', 'building', 'buildings', 'built', 'bull', 'bulletin', 'bullish', 'bummed', 'bummer', 'bump', 'bumped', 'bunch', 'burn', 'bursts', 'bus', 'busdev', 'business', 'businesses', 'busy', 'butt', 'button', 'buttons', 'butts', 'buy', 'buyers', 'buying', 'buys', 'buzz', 'buzzing', 'buzzmetrics', 'bynd', 'ca', 'cab', 'cabbies', 'cable', 'cables', 'cabs', 'cactus', 'cake', 'calendar', 'calhoun', 'california', 'call', 'callay', 'callback', 'called', 'callooh', 'calls', 'calyp', 'cam', 'came', 'camera', 'cameras', 'campaigns', 'campbell', 'campus', 'canada', 'canadian', 'cancel', 'cannot', 'cant', 'canvas', 'capabilities', 'capitol', 'capped', 'captain', 'capture', 'captured', 'car', 'caramel', 'carbon', 'card', 'cards', 'care', 'career', 'caring', 'carousel', 'carroll', 'carry', 'carrying', 'cart', 'cartel', 'cartoon', 'cartoonishly', 'case', 'cases', 'cash', 'cashmere', 'cashmore', 'cast', 'castle', 'casually', 'cat', 'catch', 'catching', 'catfight', 'catphysics', 'cattle', 'cause', 'caused', 'causing', 'cautiously', 'cbatsxsw', 'cc', 'cedar', 'celebrate', 'celebrating', 'celebs', 'cell', 'cellular', 'center', 'centers', 'central', 'centre', 'centric', 'cents', 'ceo', 'ceokidschat', 'cera', 'cerebellum', 'cerebral', 'certain', 'certificate', 'ces', 'ch', 'chain', 'chair', 'chalked', 'challenge', 'challenged', 'challenges', 'champ', 'chan', 'chance', 'chances', 'change', 'changed', 'changer', 'changes', 'changing', 'channel', 'channels', 'chaos', 'characters', 'charge', 'charged', 'charger', 'chargers', 'charges', 'chargin', 'charging', 'charity', 'charles', 'charm', 'charts', 'chat', 'chatter', 'chatting', 'cheap', 'cheapen', 'cheaper', 'check', 'checked', 'checking', 'checkins', 'checkout', 'cheeky', 'cheer', 'cheers', 'cheese', 'chen', 'chevy', 'chevysmc', 'chevysxsw', 'chevytweethouse', 'chic', 'chief', 'child', 'childhood', 'chill', 'chilltab', 'china', 'chinese', 'chip', 'chk', 'chng', 'choice', 'chokes', 'choose', 'choplifter', 'choreography', 'chris', 'christian', 'christmas', 'chrome', 'chromeos', 'chronicling', 'chumps', 'chunky', 'cigarettes', 'cinema', 'circle', 'circles', 'circus', 'circusmash', 'cited', 'cites', 'city', 'ck', 'ckers', 'cks', 'claims', 'clarity', 'clark', 'class', 'classical', 'classics', 'classiest', 'classy', 'cle', 'clean', 'clear', 'clearly', 'cleveland', 'clever', 'click', 'clicked', 'client', 'clients', 'climbing', 'clip', 'clipcon', 'clocks', 'close', 'closed', 'closely', 'closer', 'clothes', 'cloud', 'cloudapp', 'cloudsight', 'clumsily', 'cluster', 'cluttering', 'cm', 'cmswire', 'cmty', 'cn', 'cnet', 'cnn', 'cnngrill', 'cnnmoney', 'cnnmoneysxsw', 'cnt', 'cntr', 'co', 'cobra', 'cocaine', 'cocky', 'cocoon', 'code', 'coded', 'coders', 'coding', 'coffee', 'cohen', 'coincide', 'coincides', 'coinsidence', 'cold', 'colin', 'collab', 'collect', 'collection', 'collective', 'collectively', 'color', 'colors', 'colour', 'com', 'combine', 'combines', 'comcom', 'come', 'comedy', 'comers', 'comes', 'comfort', 'comfortable', 'comic', 'coming', 'commandeered', 'comment', 'comments', 'common', 'comms', 'communal', 'communicate', 'communication', 'communications', 'community', 'comp', 'compact', 'compan', 'companies', 'company', 'compared', 'compatible', 'compels', 'compete', 'competition', 'competitor', 'competitors', 'compiling', 'complement', 'complete', 'completely', 'completes', 'complex', 'complicated', 'composed', 'computer', 'computers', 'computing', 'concentrate', 'concept', 'concert', 'concertgoers', 'concierge', 'condense', 'conf', 'conference', 'conferences', 'confession', 'configuration', 'confines', 'confirmed', 'conflagration', 'confusion', 'congrats', 'congratulation', 'congratulations', 'congress', 'connect', 'connected', 'connectedbrands', 'connectedcar', 'connectedtv', 'connectivity', 'connects', 'conquered', 'consciously', 'consequences', 'considering', 'consistent', 'consistently', 'constant', 'consultation', 'consulting', 'consume', 'consumer', 'consumerist', 'consumerization', 'cont', 'contact', 'content', 'contentrules', 'contest', 'context', 'contextual', 'continual', 'continued', 'continues', 'continuous', 'continuum', 'control', 'controller', 'conv', 'convenient', 'conveniently', 'convention', 'conventions', 'converge', 'conversation', 'conversations', 'conversion', 'convience', 'convince', 'convinced', 'convore', 'cool', 'coolaid', 'cooler', 'coolest', 'coolhaus', 'coolness', 'coordinate', 'cope', 'copia', 'copper', 'cops', 'copy', 'cor', 'cord', 'cordless', 'cords', 'core', 'corner', 'coronasdk', 'corporate', 'corporation', 'corps', 'corralling', 'correct', 'correcting', 'corrupted', 'cost', 'costs', 'costume', 'couch', 'couchfan', 'cough', 'could', 'count', 'countering', 'counting', 'country', 'couple', 'coupons', 'course', 'courtesy', 'courtside', 'courtyard', 'cover', 'coverage', 'covered', 'covering', 'covet', 'cow', 'cowboy', 'coworkers', 'cpa', 'cr', 'crack', 'crackberry', 'crafty', 'crap', 'crapkit', 'crapped', 'crappy', 'craps', 'crash', 'crashed', 'crasher', 'crashes', 'crashing', 'crashy', 'crave', 'craving', 'craziness', 'crazy', 'crazyco', 'crazyfest', 'cream', 'create', 'created', 'creates', 'creating', 'creative', 'creatively', 'creativity', 'creator', 'creators', 'creatures', 'credit', 'creek', 'creeper', 'crew', 'cried', 'crippling', 'crisis', 'critiques', 'cross', 'crossed', 'crossing', 'crowd', 'crowdbeacon', 'crowded', 'crowds', 'crowdsourcing', 'crowley', 'crunch', 'crushing', 'crushit', 'cruze', 'cry', 'csr', 'cstejas', 'csuitecsourcing', 'ctia', 'cult', 'culture', 'cunning', 'cup', 'cupcake', 'cupertino', 'cups', 'curated', 'curatedebate', 'curiosity', 'curious', 'current', 'curse', 'cursing', 'cursor', 'custom', 'custome', 'customer', 'customers', 'customizable', 'cut', 'cute', 'cuts', 'cutsies', 'cuz', 'cwc', 'cwebb', 'cynical', 'da', 'dah', 'dahl', 'dailies', 'daily', 'dairy', 'dali', 'damage', 'damm', 'dammit', 'damn', 'damon', 'dan', 'dance', 'dancing', 'dandy', 'danfung', 'dang', 'dangerous', 'dangling', 'daniel', 'danny', 'dark', 'darn', 'darryl', 'das', 'dashboard', 'dat', 'data', 'database', 'dataviz', 'date', 'dating', 'david', 'davis', 'dawdled', 'dawg', 'dawn', 'dawned', 'day', 'daylight', 'days', 'de', 'dead', 'deadline', 'deadly', 'deal', 'dealing', 'deals', 'dear', 'death', 'debating', 'debut', 'debuting', 'debuts', 'decade', 'decent', 'decide', 'decided', 'deciding', 'decision', 'deck', 'dedication', 'deep', 'deeper', 'def', 'default', 'deficit', 'define', 'defining', 'definitely', 'deforestation', 'degrees', 'dehumanizing', 'delay', 'delayed', 'delegates', 'delete', 'deleting', 'delicious', 'deliciously', 'deliciousness', 'delight', 'delightful', 'deliver', 'delivered', 'delivering', 'delivery', 'dell', 'delving', 'demand', 'demo', 'democracy', 'demoed', 'demoing', 'demonstrate', 'demonstrates', 'demonstration', 'demos', 'denies', 'dennis', 'denotes', 'dense', 'density', 'depeche', 'depressed', 'described', 'design', 'designed', 'designer', 'designers', 'designflaws', 'designing', 'designingforkids', 'desk', 'desktop', 'desktops', 'desperate', 'desperately', 'despite', 'destroyed', 'detail', 'detailed', 'details', 'detect', 'detection', 'dev', 'develop', 'developed', 'developer', 'developers', 'developing', 'development', 'deviantart', 'device', 'devices', 'devs', 'dexteria', 'dfcbto', 'dfp', 'dfw', 'dgtltribe', 'diabetes', 'dictaphone', 'dictators', 'dictatorship', 'die', 'died', 'diego', 'dieing', 'dies', 'diet', 'diferencia', 'diff', 'difference', 'different', 'diffphonesatonce', 'dig', 'digg', 'digging', 'digibiz', 'digital', 'digitalluxury', 'digitally', 'dilemma', 'diller', 'dimensional', 'dine', 'dinner', 'direct', 'direction', 'directions', 'director', 'directors', 'dirty', 'dis', 'disabilities', 'disagree', 'disappointed', 'disappointingly', 'disaster', 'disc', 'discontinued', 'discotalk', 'discover', 'discovered', 'discovery', 'discovr', 'discuss', 'discusses', 'discussion', 'disgraceful', 'disgusted', 'disk', 'dislike', 'disliking', 'disney', 'disneyland', 'display', 'displaying', 'disrupt', 'disruptive', 'disrupts', 'dissapointment', 'distance', 'distract', 'distribution', 'disturbing', 'ditch', 'divasanddorks', 'divide', 'dividends', 'dj', 'djroe', 'dk', 'dl', 'dm', 'doc', 'dock', 'docomo', 'docs', 'documented', 'documents', 'dodgeball', 'dodo', 'doesdroid', 'dog', 'dogs', 'doingitwrong', 'dokobots', 'dollar', 'dollars', 'dom', 'domain', 'dominance', 'domo', 'donate', 'donates', 'donating', 'donation', 'done', 'dongle', 'donline', 'dont', 'dontbehatin', 'doo', 'doodle', 'doodles', 'doofusness', 'door', 'dorkinout', 'dotco', 'double', 'doubly', 'doubt', 'douche', 'douchebag', 'douchebaggery', 'dow', 'downer', 'download', 'downloaded', 'downloading', 'downloads', 'downside', 'downstairs', 'downtown', 'dr', 'drafthouse', 'drag', 'draining', 'draw', 'drawing', 'draws', 'dream', 'dreams', 'drink', 'drinks', 'drive', 'driven', 'drivers', 'drives', 'driving', 'droid', 'drooling', 'drop', 'dropped', 'dropping', 'drowning', 'drug', 'drumbeat', 'drumroll', 'drunk', 'drupalcon', 'dst', 'dt', 'dtas', 'ducks', 'dude', 'due', 'duh', 'duking', 'dumped', 'dunno', 'durable', 'dw', 'dwindled', 'dwindling', 'dyac', 'dynamic', 'dynamics', 'ea', 'eagerly', 'earbud', 'earbuds', 'earlier', 'early', 'earned', 'earphones', 'earplugs', 'ears', 'earth', 'earthhour', 'earthquake', 'earths', 'easeljs', 'easier', 'easily', 'east', 'easy', 'eat', 'eatdrinktweet', 'eating', 'eats', 'ebay', 'ebooks', 'ecademy', 'echofon', 'ecko', 'ecodriving', 'economies', 'economy', 'ecosystem', 'ed', 'edchat', 'eddy', 'edible', 'edit', 'edition', 'edreform', 'edtech', 'education', 'educational', 'eduvc', 'eff', 'effective', 'efficient', 'effing', 'effort', 'efforts', 'eg', 'egomaniacs', 'eh', 'eightbit', 'either', 'elbow', 'election', 'electronics', 'elegant', 'elements', 'elevate', 'elevation', 'elonsxsw', 'else', 'elusive', 'email', 'emails', 'embarrassed', 'emc', 'eminent', 'emotional', 'employee', 'employees', 'empowered', 'empowering', 'empty', 'emulates', 'enable', 'enabled', 'enables', 'enabling', 'enchanted', 'enchanting', 'enchantment', 'end', 'endeavor', 'ended', 'endorsed', 'endorsement', 'ends', 'energy', 'engage', 'engagement', 'engaging', 'engine', 'engineer', 'engines', 'english', 'enhancements', 'enjoy', 'enjoyed', 'enjoying', 'enjoys', 'enlightening', 'enough', 'ensue', 'ensues', 'enter', 'entered', 'enterprise', 'entertaining', 'entire', 'entirely', 'entrepreneur', 'entry', 'enuf', 'enviro', 'environment', 'environmental', 'envisioning', 'envy', 'epic', 'epicenter', 'epicurious', 'equates', 'equity', 'er', 'era', 'eric', 'error', 'ers', 'es', 'escape', 'esp', 'especially', 'essential', 'essentially', 'essentials', 'estate', 'et', 'etc', 'etch', 'etsbzk', 'etsy', 'euphoria', 'europe', 'eurosxsw', 'evade', 'evaporation', 'even', 'evening', 'event', 'eventbrite', 'eventprofs', 'events', 'eventseekr', 'eventually', 'ever', 'everbody', 'evernote', 'every', 'everybody', 'everyday', 'everyone', 'everything', 'everytime', 'everywhere', 'evidence', 'evil', 'evo', 'evolve', 'evolving', 'evolvingworkplace', 'ex', 'exactly', 'example', 'examples', 'excel', 'excellent', 'except', 'exceptionally', 'exchange', 'excited', 'excitement', 'exciting', 'excludes', 'exclusive', 'excuse', 'executed', 'executing', 'exhibit', 'exhibitors', 'exist', 'existence', 'existent', 'exists', 'exp', 'expansion', 'expect', 'expectation', 'expected', 'expecting', 'expensive', 'experience', 'experiential', 'experiment', 'experimenting', 'expert', 'experts', 'expierence', 'explaining', 'explanation', 'explode', 'exploiting', 'explorer', 'explorers', 'exploring', 'exported', 'exposing', 'express', 'exquisite', 'extended', 'extenders', 'extolling', 'extra', 'extraordinary', 'extras', 'extreme', 'eye', 'eyeballed', 'eyes', 'fab', 'fabulous', 'face', 'facebook', 'facepalmed', 'facetime', 'facing', 'facist', 'fact', 'factor', 'facts', 'fades', 'fail', 'failed', 'failing', 'failure', 'fair', 'fake', 'false', 'fam', 'familiarize', 'famous', 'fan', 'fanbois', 'fanboy', 'fanboyism', 'fanboys', 'fancrazed', 'fandango', 'fans', 'fantastic', 'fantastico', 'far', 'farm', 'farmers', 'farmville', 'farooqui', 'fascinating', 'fascist', 'fashion', 'fast', 'fastcompanygrill', 'fastcompanygrille', 'faster', 'fastest', 'fastsociety', 'fat', 'fathom', 'faulty', 'fav', 'fave', 'favorite', 'favorited', 'favorites', 'favour', 'fawning', 'fb', 'fear', 'feature', 'featured', 'features', 'featuring', 'feckin', 'fed', 'feed', 'feeding', 'feel', 'feelin', 'feeling', 'feelings', 'feels', 'fees', 'felix', 'fell', 'fellow', 'fellowship', 'felt', 'ferris', 'ferriss', 'fessing', 'fest', 'festgoers', 'festival', 'festivalexplorer', 'festivalgenius', 'fetishism', 'ff', 'fh', 'fi', 'field', 'fiendishly', 'fight', 'fighting', 'fightthepaddle', 'figure', 'figuring', 'fill', 'filled', 'filling', 'film', 'filmaster', 'filming', 'filter', 'filters', 'fin', 'final', 'finalist', 'finalists', 'finally', 'finals', 'find', 'finder', 'finding', 'finds', 'fine', 'finger', 'fingerprint', 'fingers', 'finish', 'finished', 'fire', 'firm', 'first', 'firstworldproblems', 'fishing', 'fists', 'fit', 'fits', 'five', 'fives', 'fiving', 'fix', 'fixing', 'flaming', 'flannel', 'flap', 'flash', 'flashspecial', 'flask', 'flavor', 'flaw', 'flawless', 'fleets', 'flew', 'flight', 'flights', 'flip', 'flipboard', 'floating', 'flocking', 'flood', 'floor', 'flop', 'florian', 'flow', 'fludapp', 'fluffertrax', 'fluid', 'flummoxed', 'fly', 'flying', 'flypost', 'fml', 'fmsignal', 'focus', 'focuses', 'focusing', 'fodder', 'fogo', 'foing', 'folks', 'follow', 'followed', 'followers', 'following', 'followings', 'fond', 'fondling', 'fonts', 'food', 'foodies', 'foods', 'foodspotting', 'fools', 'foosspotting', 'foot', 'footage', 'footnotes', 'forbes', 'forbidden', 'force', 'forecast', 'forests', 'forever', 'forget', 'forgo', 'forgot', 'forgotten', 'form', 'format', 'formation', 'former', 'formerly', 'formula', 'forward', 'foster', 'found', 'four', 'foursquare', 'fr', 'frabjous', 'fragmentation', 'framework', 'franchised', 'francisco', 'franco', 'frank', 'franken', 'frankeninterface', 'freak', 'freaking', 'free', 'freemusic', 'freespeech', 'freeze', 'frenzy', 'fresh', 'fri', 'frickin', 'fricking', 'frid', 'friday', 'friend', 'friendly', 'friends', 'frm', 'front', 'frontend', 'frood', 'frostwire', 'frothy', 'frozen', 'fruit', 'frustrated', 'frustrating', 'frustration', 'ft', 'ftp', 'ftw', 'fuck', 'fucking', 'fuckit', 'fuckyeah', 'fuel', 'full', 'fulltime', 'fully', 'fun', 'function', 'functionality', 'functions', 'fundraising', 'funny', 'fusion', 'future', 'futurecast', 'futuremf', 'futureoftouch', 'fwd', 'fxsw', 'fyi', 'gabacustweets', 'gadget', 'gadgetenvy', 'gadgets', 'gadgetzilla', 'gaga', 'gah', 'gain', 'gaining', 'gains', 'galaxy', 'gallery', 'galore', 'game', 'gamechanger', 'gamelayer', 'games', 'gamesfortv', 'gamestorming', 'gaming', 'gap', 'garageband', 'garyvee', 'gas', 'gasps', 'gatekeeper', 'gathering', 'gave', 'gawking', 'gay', 'gayno', 'gb', 'ge', 'gear', 'gecko', 'gee', 'geek', 'geekdate', 'geekdilemma', 'geekdom', 'geekery', 'geekest', 'geekfest', 'geeking', 'geekout', 'geeks', 'geekspringbreak', 'geeksrule', 'geeky', 'gen', 'general', 'generally', 'generated', 'generations', 'generous', 'genius', 'geniuses', 'gents', 'geo', 'geogames', 'geolocation', 'germ', 'gesture', 'get', 'getjarsxsw', 'gets', 'getting', 'gettinng', 'ghost', 'giant', 'gibson', 'giddy', 'gift', 'gig', 'giggle', 'giggling', 'gigs', 'gilt', 'ginger', 'girl', 'girlcrush', 'girls', 'git', 'gitchococktailon', 'give', 'giveaway', 'giveaways', 'given', 'gives', 'giving', 'glad', 'glass', 'glasses', 'glenda', 'glimpse', 'global', 'globalbestaward', 'globally', 'glow', 'glowing', 'glued', 'gmail', 'go', 'god', 'goddamn', 'godsend', 'goer', 'goers', 'goes', 'gogglers', 'goggles', 'gogo', 'goin', 'going', 'gold', 'golden', 'golds', 'gone', 'gonna', 'gonnagetanipad', 'goo', 'good', 'goodcustomerservice', 'gooddeed', 'goodguide', 'goodness', 'goody', 'goog', 'google', 'googleblog', 'googlebread', 'googlecircles', 'googled', 'googledoodle', 'googledoodles', 'googlegays', 'googleio', 'googlemaps', 'googleplaces', 'googletv', 'goona', 'gorgeous', 'got', 'gotta', 'gotten', 'gotto', 'government', 'govt', 'gowalla', 'gps', 'gr', 'grab', 'grabbed', 'grabs', 'gram', 'gran', 'grand', 'grant', 'granted', 'grape', 'graph', 'graphic', 'graphics', 'grateful', 'gratification', 'great', 'greater', 'greatergood', 'greatest', 'greet', 'greeted', 'grew', 'griddler', 'griffin', 'grill', 'grille', 'grindr', 'grn', 'grooving', 'grossed', 'ground', 'groundlink', 'group', 'groupchatapps', 'grouped', 'groupme', 'groupon', 'groups', 'grow', 'growing', 'grown', 'grrr', 'grrrr', 'gruber', 'grumbling', 'gs', 'gsd', 'gsdm', 'gswsxsw', 'gtd', 'guard', 'guardian', 'guards', 'guess', 'guessing', 'guest', 'guguchu', 'guide', 'guidelines', 'guides', 'guild', 'guilty', 'guitar', 'gun', 'guru', 'guy', 'guykawasaki', 'guys', 'gvlrin', 'gym', 'gzypv', 'ha', 'habits', 'hack', 'hackathon', 'hacker', 'hackers', 'hacknews', 'hah', 'haha', 'hahaha', 'hair', 'hairy', 'haiti', 'half', 'halfway', 'hall', 'halls', 'hallway', 'hamsandwich', 'hand', 'handicapped', 'handing', 'handle', 'handled', 'hands', 'handset', 'handsome', 'handwriting', 'handy', 'hang', 'hanging', 'hangover', 'hannukah', 'happen', 'happened', 'happening', 'happiest', 'happily', 'happy', 'happydance', 'hard', 'harlow', 'harnessing', 'harris', 'hash', 'hashable', 'hashtag', 'hashtags', 'hassle', 'hate', 'hated', 'haul', 'hauling', 'havent', 'havnt', 'hawk', 'hawt', 'haystack', 'haz', 'hcsm', 'hdmi', 'head', 'headaches', 'headed', 'heading', 'headline', 'headphones', 'heads', 'headsets', 'health', 'hear', 'heard', 'hearing', 'heart', 'heat', 'heating', 'heatmap', 'heats', 'heattracker', 'heavenly', 'heavens', 'heavier', 'heaving', 'heavy', 'heck', 'held', 'hell', 'hello', 'help', 'helped', 'helpful', 'helping', 'helps', 'hereforwork', 'hey', 'heyo', 'hhaha', 'hhrs', 'hi', 'hidden', 'hide', 'high', 'higher', 'highlight', 'highlights', 'highly', 'highs', 'hijack', 'hilarious', 'hill', 'hilton', 'hint', 'hints', 'hip', 'hipstamatic', 'hipstapaks', 'hipster', 'hipstermuch', 'hipsters', 'hire', 'hireme', 'hirer', 'hiss', 'history', 'hisxsw', 'hit', 'hitlantis', 'hive', 'hls', 'hm', 'hmm', 'hmmm', 'hmmzies', 'hobo', 'hoc', 'hoffman', 'hold', 'holding', 'hole', 'holla', 'holler', 'hollergram', 'hollow', 'hollrback', 'hollywood', 'holy', 'holytrafficjams', 'home', 'homeless', 'homepage', 'homogeneity', 'honesty', 'honor', 'honors', 'hoo', 'hook', 'hooked', 'hoooooooooooooo', 'hooray', 'hoot', 'hooting', 'hootsuite', 'hop', 'hope', 'hopefully', 'hopes', 'hoping', 'hopkins', 'hordes', 'horrendous', 'horrible', 'horror', 'host', 'hosted', 'hosting', 'hot', 'hotel', 'hotels', 'hotpot', 'hotspot', 'hottest', 'hour', 'hours', 'house', 'housecat', 'housing', 'howdy', 'howmto', 'hp', 'hpsxsw', 'hr', 'hrs', 'ht', 'htdfim', 'html', 'htt', 'http', 'https', 'hubby', 'huge', 'human', 'hundred', 'hundreds', 'hunger', 'hungry', 'hunt', 'hunts', 'hurricaneparty', 'hurt', 'husband', 'huzzah', 'hyatt', 'hype', 'hyped', 'ia', 'iads', 'ical', 'icanhas', 'ice', 'icebreaker', 'iconbuffet', 'id', 'idea', 'ideally', 'ideas', 'identity', 'idiocy', 'idiot', 'idk', 'idol', 'idontbelieve', 'ie', 'ieavob', 'ifr', 'ifrom', 'ignite', 'ignore', 'igottagetit', 'ihop', 'il', 'illa', 'illegal', 'illmakeitwork', 'iloveasurprise', 'im', 'imac', 'imaconf', 'imacs', 'image', 'images', 'imagine', 'imanidiot', 'imanoutcast', 'imho', 'immersive', 'immobile', 'imo', 'imp', 'impact', 'impactdashboard', 'impediment', 'impedimenta', 'implement', 'implementation', 'implementing', 'implode', 'important', 'impossible', 'impressed', 'impression', 'impressions', 'impressive', 'impromptu', 'improve', 'improvement', 'improvements', 'improvemnt', 'impulse', 'impulsive', 'imrich', 'imthatgood', 'inane', 'inbox', 'incapable', 'incenticize', 'incl', 'include', 'included', 'includes', 'including', 'incorrect', 'increase', 'incredible', 'incredibly', 'inde', 'indeed', 'indicates', 'indie', 'indigenous', 'individuals', 'indoor', 'industry', 'infact', 'infektd', 'inferior', 'influence', 'influencers', 'influx', 'info', 'informal', 'information', 'informed', 'ing', 'ingenious', 'initial', 'initiative', 'ink', 'innacurate', 'inner', 'innotribe', 'innovate', 'innovating', 'innovation', 'innovative', 'innovators', 'input', 'ins', 'insane', 'insanely', 'insatiable', 'insertion', 'inside', 'insider', 'insidious', 'insight', 'insightful', 'insights', 'insists', 'inspired', 'inspiring', 'instagram', 'install', 'installed', 'installing', 'installs', 'instant', 'instantly', 'instead', 'instruments', 'integrated', 'integration', 'intel', 'intelligence', 'intelligent', 'intended', 'intense', 'intentionally', 'interact', 'interactive', 'interested', 'interesting', 'interface', 'interfaces', 'intermittent', 'international', 'internet', 'internetonlinewebsite', 'interrupt', 'interview', 'interviewed', 'intimate', 'intimidated', 'intrestin', 'intricate', 'intriguing', 'intro', 'introduced', 'introduces', 'introducing', 'intrvw', 'invades', 'inventing', 'inventory', 'invest', 'investment', 'investor', 'investors', 'invisible', 'invite', 'invited', 'invites', 'invoking', 'io', 'ios', 'ip', 'ipad', 'ipaddesignheadaches', 'ipading', 'ipadmadness', 'ipads', 'iphone', 'iphones', 'ipod', 'ipods', 'ipoo', 'iqlab', 'iradar', 'irelay', 'ireport', 'ireports', 'iron', 'ironic', 'irrelevant', 'irresistible', 'isack', 'ischafer', 'issue', 'issues', 'istache', 'istock', 'item', 'itme', 'ittttt', 'itun', 'itunes', 'itwillbemine', 'iusxsw', 'iwantacameraonmyipad', 'ixd', 'jailbreak', 'jaloux', 'james', 'jammy', 'janecek', 'japan', 'japanese', 'jared', 'java', 'javascript', 'jaw', 'jcpenney', 'jealous', 'jeanne', 'jeans', 'jeebus', 'jeez', 'jeff', 'jerk', 'jerranalley', 'jessedee', 'jesus', 'jet', 'jetlag', 'jetsons', 'jinx', 'jk', 'jo', 'job', 'jobs', 'jobsco', 'joe', 'johnston', 'join', 'joined', 'joins', 'joint', 'joke', 'jonathan', 'joomla', 'jose', 'josh', 'journal', 'journalists', 'journalsim', 'journey', 'joy', 'jpmobilesummit', 'jqtouch', 'jr', 'js', 'judging', 'juice', 'juiced', 'juicepack', 'julian', 'julie', 'jump', 'june', 'justin', 'justinjustinjustin', 'justmet', 'justsayin', 'justsaying', 'juts', 'juxtaposed', 'jwtatl', 'jzsxsw', 'kara', 'karaoke', 'karateka', 'kawasaki', 'keep', 'keepaustinweird', 'keeping', 'keeps', 'keg', 'kek', 'ken', 'kenny', 'ketchsx', 'keyboard', 'keynote', 'keys', 'keywords', 'kh', 'khan', 'khoi', 'kick', 'kickass', 'kicked', 'kicking', 'kid', 'kiddie', 'kidding', 'kids', 'kiiiiiilling', 'kik', 'kill', 'killcommunity', 'killer', 'killers', 'killing', 'kind', 'kinda', 'kindle', 'king', 'kingston', 'kiosk', 'kirkus', 'kiss', 'kit', 'klick', 'klm', 'knackered', 'knew', 'knickers', 'knife', 'kno', 'knockout', 'know', 'knowing', 'knowledge', 'known', 'knows', 'korean', 'korine', 'kthxbai', 'kudos', 'kweli', 'kyping', 'la', 'lab', 'labs', 'lack', 'ladies', 'lady', 'lake', 'lam', 'lame', 'lamesauce', 'land', 'landlords', 'landmark', 'landscapes', 'lanyrd', 'lap', 'laptop', 'laptops', 'large', 'larger', 'largest', 'larry', 'laser', 'last', 'lasts', 'lat', 'late', 'lately', 'later', 'latest', 'latina', 'latinasintech', 'latism', 'latitude', 'laugh', 'laughed', 'launch', 'launched', 'launches', 'launching', 'launchrock', 'laurieshook', 'lava', 'lavelle', 'law', 'laws', 'lax', 'layed', 'layer', 'lazy', 'lazyweb', 'lbs', 'lead', 'leading', 'league', 'leaked', 'leaning', 'leanstartup', 'learn', 'learned', 'learning', 'learnt', 'leash', 'leasing', 'least', 'leather', 'leave', 'leaves', 'leaving', 'left', 'legacy', 'lego', 'leider', 'leisure', 'leisurely', 'lemon', 'length', 'leo', 'leopard', 'less', 'lessons', 'let', 'lets', 'letschangetheworld', 'letter', 'letters', 'letting', 'letushopenot', 'level', 'leveraging', 'lewis', 'liberty', 'libraries', 'library', 'licked', 'lie', 'life', 'lifeless', 'lifelinetotheworld', 'lifetime', 'light', 'lightbox', 'lightbulb', 'lighters', 'likability', 'like', 'likeability', 'liked', 'likely', 'likes', 'liking', 'lil', 'limit', 'limited', 'limp', 'lindsay', 'line', 'lines', 'lineup', 'lining', 'link', 'linking', 'links', 'lions', 'lisa', 'list', 'listen', 'listened', 'listening', 'lists', 'literally', 'litle', 'little', 'live', 'liveblog', 'lives', 'livesteam', 'livetapp', 'living', 'livingthedream', 'lmndst', 'load', 'loaded', 'loading', 'loathe', 'lobby', 'lobbying', 'local', 'localmind', 'locals', 'locating', 'location', 'locations', 'lockers', 'lockout', 'logic', 'logical', 'login', 'logo', 'logos', 'lol', 'lonely', 'lonelyplanet', 'long', 'longer', 'longlinesbadux', 'look', 'lookalike', 'looked', 'lookin', 'looking', 'lookingforwardtothemusicfest', 'looks', 'loose', 'looseorganizations', 'lord', 'lordy', 'lorry', 'lose', 'losers', 'losing', 'lost', 'lot', 'lots', 'lottery', 'loud', 'louis', 'louisiana', 'lounge', 'lousy', 'love', 'loved', 'lovefresh', 'loveher', 'lovely', 'lovemusicapi', 'lovers', 'loves', 'lovesit', 'lovin', 'loving', 'lowest', 'loyalists', 'loyalty', 'lp', 'luck', 'luckily', 'lucky', 'ludicon', 'lug', 'lugging', 'lunch', 'lust', 'lustre', 'luxury', 'lxh', 'ly', 'lybian', 'lying', 'lynn', 'mac', 'macallan', 'macbook', 'macbookpro', 'macbooks', 'macchiato', 'machine', 'machines', 'mackbook', 'macs', 'macys', 'mad', 'made', 'madebymany', 'madness', 'mae', 'maes', 'magazine', 'magazines', 'maggie', 'magic', 'maglight', 'magnet', 'magnetic', 'magnifying', 'mags', 'mail', 'major', 'majority', 'make', 'makery', 'makes', 'makeshift', 'making', 'malady', 'malbonster', 'mall', 'malt', 'man', 'manage', 'management', 'manager', 'managing', 'manhandling', 'mania', 'manor', 'mantra', 'many', 'map', 'mapped', 'mappers', 'mapping', 'mapquest', 'maps', 'mar', 'marc', 'marcelosomers', 'march', 'margarita', 'margin', 'marisa', 'marissa', 'marissagoogle', 'marissamayer', 'marissameyer', 'mark', 'marker', 'market', 'marketer', 'marketers', 'marketing', 'marketplace', 'markets', 'mart', 'martinis', 'marty', 'marys', 'masha', 'mashable', 'mashbash', 'mass', 'masses', 'massive', 'mastered', 'matching', 'mater', 'math', 'matt', 'matter', 'matthew', 'maudies', 'mavis', 'maximum', 'may', 'maybe', 'mayer', 'mayers', 'mayor', 'mb', 'mbp', 'mccannsxsw', 'mdw', 'mealtime', 'mean', 'meaning', 'meaningful', 'means', 'meant', 'measurement', 'measuring', 'meat', 'mecca', 'mechanics', 'media', 'meet', 'meeti', 'meeting', 'meetings', 'meets', 'meetup', 'meetups', 'mega', 'megastore', 'meh', 'mekong', 'mel', 'member', 'memolane', 'memories', 'men', 'mental', 'mention', 'mentioned', 'mentionn', 'mentionr', 'merchant', 'mercy', 'message', 'messages', 'messaging', 'messed', 'messenger', 'messina', 'met', 'metaphor', 'methinks', 'mexican', 'mexico', 'mhealth', 'miamibeach', 'mic', 'michael', 'michaelpiliero', 'microformats', 'microsoft', 'mid', 'midday', 'middle', 'midem', 'midnight', 'midst', 'midway', 'mifi', 'might', 'mike', 'miles', 'military', 'mill', 'miller', 'million', 'millions', 'min', 'mind', 'minded', 'mindjet', 'mindmanager', 'minds', 'mindshare', 'mindtouch', 'mindtouchers', 'mine', 'ming', 'mini', 'minimalistprogramming', 'minor', 'mins', 'mint', 'minute', 'minutes', 'miracle', 'mirroring', 'miss', 'missed', 'missing', 'mission', 'misstatements', 'mistake', 'mistakes', 'mister', 'mitharvard', 'mix', 'mixed', 'mixing', 'mk', 'mkesxsw', 'mkt', 'mktg', 'mmm', 'mmod', 'mnbuzz', 'mngr', 'mobil', 'mobile', 'mobilefarm', 'mobileroadie', 'mobs', 'mock', 'mocked', 'mocking', 'mode', 'model', 'models', 'moderator', 'mojo', 'mom', 'moma', 'moment', 'momento', 'moments', 'mommy', 'mon', 'monday', 'mondays', 'monetization', 'money', 'monger', 'monitor', 'monopoly', 'monster', 'month', 'monthly', 'months', 'mood', 'moody', 'moonbot', 'moonshine', 'mophie', 'moreknowledge', 'morning', 'moro', 'morphie', 'mosaicxm', 'mostly', 'motherboard', 'mothers', 'motivator', 'motorola', 'mountain', 'mounts', 'mouse', 'move', 'movement', 'movers', 'moves', 'movie', 'movies', 'moving', 'mozilla', 'mp', 'mq', 'mr', 'mrs', 'msft', 'mt', 'much', 'mullenweg', 'multiple', 'muro', 'murphy', 'musedchat', 'museum', 'museums', 'music', 'musica', 'musicians', 'musicviz', 'musiek', 'musik', 'musique', 'must', 'mute', 'muting', 'mwrc', 'mxm', 'myegc', 'mylunch', 'mypov', 'myspace', 'mystery', 'mzb', 'nab', 'nah', 'nailed', 'naive', 'name', 'named', 'naomi', 'nat', 'native', 'natural', 'navigating', 'navigation', 'nba', 'nc', 'ncaa', 'ncf', 'nd', 'near', 'nearly', 'neat', 'need', 'needle', 'needs', 'neither', 'nerd', 'nerdbird', 'nerdcore', 'nerdheaven', 'nerdiest', 'nerds', 'nerdsunite', 'nerdy', 'ness', 'net', 'netbook', 'netflix', 'netflixiphone', 'network', 'networking', 'networks', 'neumann', 'never', 'nevertheless', 'new', 'newapplestoreaustin', 'newest', 'newly', 'news', 'newsapp', 'newsapps', 'newspaper', 'newspapers', 'newsworthy', 'newtrent', 'newtwitter', 'next', 'nextflix', 'nexus', 'nfc', 'nfl', 'nfusion', 'nhk', 'nice', 'nicely', 'niceness', 'nick', 'nieuwe', 'nifty', 'night', 'nightjar', 'nike', 'nine', 'nineties', 'ning', 'ninja', 'ninjafinder', 'nite', 'nobody', 'noes', 'nokia', 'nokiaconnects', 'non', 'nonprofit', 'nonprofits', 'noon', 'nope', 'normal', 'north', 'notch', 'note', 'notes', 'notetaker', 'notevenstartedyet', 'nothing', 'notice', 'noticed', 'notionink', 'notpouting', 'notsomuch', 'nottheipad', 'novelty', 'novideo', 'nowhammies', 'npr', 'nptech', 'nqv', 'ntc', 'nten', 'ntn', 'nuances', 'nudgenudge', 'numbassonfloor', 'number', 'nur', 'nuts', 'nutshell', 'nutters', 'nvidia', 'nxt', 'nyc', 'nyt', 'object', 'objective', 'obs', 'observation', 'observations', 'observer', 'obsessed', 'obsolete', 'obv', 'obvious', 'obviously', 'occasional', 'offer', 'offered', 'offering', 'offers', 'office', 'officer', 'official', 'officially', 'offline', 'offsite', 'often', 'ogilvy', 'ogilvynotes', 'oh', 'oil', 'ok', 'okay', 'ol', 'old', 'oldschool', 'oldsko', 'omaha', 'omfg', 'omg', 'omgz', 'omitting', 'one', 'ones', 'online', 'onto', 'ooing', 'oooh', 'ooooo', 'open', 'openbeta', 'opened', 'openexhibits', 'opening', 'opens', 'operators', 'opinions', 'opportunity', 'opposite', 'optimistic', 'optimized', 'optimum', 'options', 'optiscan', 'orange', 'order', 'ordered', 'ordering', 'ordinance', 'org', 'organic', 'organically', 'organization', 'organize', 'organized', 'organizing', 'original', 'orkut', 'orlando', 'orly', 'oscars', 'osmpw', 'ossum', 'others', 'otherwise', 'ouch', 'outbrain', 'outdid', 'outlandish', 'outlet', 'outlook', 'outs', 'outside', 'overall', 'overblown', 'overcome', 'overflow', 'overheard', 'overheating', 'overlaid', 'overlapping', 'overlay', 'overload', 'overshadowing', 'oversized', 'overtaken', 'overview', 'overwhelming', 'owl', 'owllove', 'owner', 'owners', 'owns', 'oy', 'pac', 'pacific', 'pack', 'packed', 'packing', 'packrat', 'packs', 'pacman', 'padless', 'page', 'pagemaker', 'pages', 'paid', 'painful', 'pair', 'paired', 'pak', 'pakistan', 'palette', 'palsy', 'pandora', 'panel', 'panelist', 'panelists', 'panels', 'panhandling', 'panic', 'panned', 'panning', 'panorama', 'pants', 'paolo', 'papa', 'papasangre', 'paper', 'paperless', 'papyrus', 'para', 'parachute', 'paradigms', 'parentheses', 'parents', 'pariah', 'park', 'parked', 'part', 'partial', 'participants', 'participating', 'parties', 'partner', 'partnerhub', 'partnership', 'parts', 'party', 'partying', 'partytweets', 'pass', 'passage', 'passed', 'passenger', 'passerby', 'passes', 'passing', 'passport', 'past', 'paste', 'patch', 'patented', 'path', 'patience', 'paul', 'pauly', 'pause', 'pavement', 'pay', 'paying', 'payingwithdata', 'payments', 'paypal', 'pc', 'pcbuzz', 'pcma', 'pdanet', 'pdf', 'pdx', 'peaked', 'pearl', 'peddle', 'pedicab', 'peek', 'peeked', 'peeps', 'peer', 'pen', 'penalty', 'penetrates', 'pengairborne', 'penguin', 'people', 'pep', 'per', 'percent', 'percentage', 'perfect', 'perfectly', 'performance', 'perhaps', 'periscope', 'permanent', 'permanently', 'perserverance', 'person', 'personal', 'personalcloud', 'personalized', 'peter', 'petition', 'petricone', 'petting', 'pg', 'pgi', 'phenomenal', 'phew', 'phone', 'phones', 'photo', 'photobooth', 'photoes', 'photos', 'photosharing', 'physical', 'pi', 'pic', 'pick', 'picked', 'picking', 'pickmeupanipad', 'pics', 'picture', 'pictures', 'pie', 'piece', 'pig', 'pigfucker', 'pile', 'pilhofer', 'pillow', 'pink', 'pinoy', 'piping', 'piss', 'pissedimnotgoingtosxsw', 'pissing', 'pit', 'pitch', 'pitchforks', 'pitfalls', 'pitted', 'pix', 'pixel', 'pixelated', 'pixels', 'pixieengine', 'pk', 'place', 'places', 'plaid', 'plain', 'plan', 'plancast', 'plane', 'planely', 'planes', 'planet', 'planner', 'planning', 'plans', 'planting', 'planzai', 'plate', 'platform', 'play', 'playback', 'playbook', 'played', 'player', 'players', 'playhopskoch', 'playing', 'plays', 'playstation', 'playsxsw', 'please', 'pleased', 'plenty', 'plied', 'plixi', 'pls', 'plug', 'pluged', 'plugin', 'plunge', 'plus', 'pm', 'pnid', 'pocket', 'podcast', 'poetry', 'point', 'pointer', 'points', 'police', 'policy', 'political', 'politics', 'pollak', 'ponies', 'poo', 'pool', 'poole', 'poor', 'poos', 'pop', 'popped', 'popping', 'popplet', 'poppop', 'popular', 'populous', 'popup', 'popupshop', 'popupstore', 'por', 'porn', 'portable', 'porting', 'posed', 'position', 'positioning', 'positive', 'positively', 'positives', 'possibility', 'possible', 'possibly', 'post', 'posted', 'posterous', 'postpc', 'pot', 'potential', 'potentially', 'pour', 'poursite', 'power', 'powered', 'powerful', 'powerhouse', 'powering', 'powermat', 'powermatteam', 'powermattteam', 'pp', 'ppl', 'pr', 'practice', 'pragmatic', 'pre', 'precedent', 'precommerce', 'predictability', 'prefer', 'preference', 'preferences', 'preferrably', 'preferred', 'prefers', 'premature', 'premiere', 'premium', 'prep', 'preparation', 'preparations', 'prepared', 'preparing', 'prepping', 'presence', 'present', 'presentation', 'presented', 'presenters', 'presenting', 'preso', 'presos', 'press', 'pressie', 'pressure', 'pretty', 'prettycool', 'preview', 'previews', 'previous', 'price', 'prices', 'pride', 'princess', 'principles', 'print', 'printed', 'prints', 'priorities', 'priority', 'privacy', 'private', 'prize', 'prizes', 'pro', 'prob', 'probably', 'problem', 'process', 'prodmktg', 'produced', 'producers', 'product', 'products', 'professionals', 'profile', 'profits', 'program', 'programming', 'progressbar', 'progression', 'project', 'projecting', 'projects', 'promises', 'promo', 'promote', 'promotion', 'prompt', 'proof', 'propping', 'proprietary', 'props', 'protect', 'protecting', 'protip', 'protocol', 'proud', 'proven', 'provide', 'provided', 'providing', 'proving', 'prx', 'ps', 'pseudoretweet', 'psfk', 'pst', 'psych', 'psyched', 'psyches', 'pub', 'pubcamp', 'public', 'publishers', 'publishing', 'pubs', 'pull', 'pulling', 'pumped', 'pumps', 'pun', 'puppy', 'purchase', 'purchased', 'purchasers', 'purchases', 'purchasing', 'pure', 'puregenius', 'purpose', 'push', 'pushed', 'pusher', 'pushio', 'pushsnowboarding', 'put', 'puts', 'putting', 'puzzles', 'qa', 'qagb', 'qho', 'qr', 'qrafter', 'qrank', 'qrcode', 'qs', 'quadroid', 'quake', 'qualcomm', 'qualified', 'quality', 'quantity', 'quantter', 'quarantined', 'quarter', 'quarters', 'que', 'queries', 'question', 'questioner', 'questions', 'queue', 'quibids', 'quibidswin', 'quick', 'quicker', 'quickly', 'quiet', 'quinn', 'quit', 'quite', 'quotable', 'quotables', 'quotes', 'race', 'rachael', 'rad', 'radian', 'radical', 'radio', 'raffled', 'raffling', 'rage', 'rails', 'rain', 'rainjacket', 'raised', 'raises', 'rallying', 'ran', 'rana', 'random', 'randomly', 'randy', 'range', 'rank', 'ranked', 'ranking', 'rankings', 'rant', 'rare', 'rate', 'rates', 'rather', 'rating', 'ratings', 'ratio', 'ray', 'rd', 'reach', 'reached', 'reacquainted', 'read', 'reader', 'readership', 'reading', 'ready', 'real', 'realistic', 'reality', 'realize', 'realized', 'realizing', 'realllllllly', 'really', 'realtalk', 'realtime', 'rear', 'reason', 'reasonable', 'reasoning', 'reasons', 'rebecca', 'rebels', 'rebeltv', 'rebranded', 'recap', 'received', 'recharge', 'recharging', 'recipe', 'recipes', 'recipient', 'reclaimed', 'recognition', 'recognize', 'recognizing', 'recomds', 'recommend', 'recommendation', 'recommendations', 'recommended', 'recommends', 'record', 'recorder', 'recording', 'recos', 'recovery', 'recreated', 'recs', 'recycled', 'red', 'redbox', 'redbull', 'redbullbpm', 'reddit', 'rediculous', 'reel', 'reeling', 'ref', 'referrals', 'refine', 'refresh', 'refrigerator', 'regarded', 'regel', 'regions', 'register', 'registers', 'registrant', 'registration', 'regrets', 'regretting', 'regular', 'regularly', 'rei', 'reid', 'reilly', 'reily', 'rejection', 'related', 'relation', 'relationship', 'relaxed', 'relaxing', 'release', 'released', 'releases', 'releasing', 'relevance', 'relevant', 'relic', 'relief', 'relies', 'religion', 'relinquish', 'relive', 'reliving', 'rely', 'remaining', 'rematch', 'remedied', 'remember', 'remembered', 'reminding', 'removable', 'remove', 'rendering', 'renders', 'repair', 'replaced', 'replacement', 'replacing', 'replenished', 'replicate', 'replies', 'report', 'reporting', 'reports', 'repressed', 'reproducing', 'republic', 'reputation', 'rerouted', 'rescuing', 'research', 'resetting', 'resist', 'resonance', 'resource', 'resourceful', 'respect', 'respectfully', 'respecting', 'response', 'responses', 'responsibility', 'rest', 'restaurant', 'restaurants', 'restful', 'resting', 'restore', 'restored', 'restraunts', 'result', 'resulting', 'results', 'resume', 'retail', 'retiring', 'retrollect', 'return', 'retweet', 'retweeting', 'revealed', 'reveals', 'revelations', 'revenge', 'revenue', 'review', 'reviews', 'revolt', 'revolution', 'revolutionary', 'revolutions', 'reward', 'rewards', 'rewardswagon', 'rf', 'rfid', 'rhizome', 'richard', 'ridculous', 'ride', 'rides', 'ridic', 'ridicule', 'ridiculous', 'ridiculously', 'riding', 'rig', 'rigeur', 'right', 'rightfully', 'rim', 'rimmed', 'ringing', 'rinna', 'riots', 'rip', 'ripped', 'ripping', 'rise', 'rises', 'rite', 'river', 'rji', 'rm', 'road', 'roadie', 'roaming', 'robot', 'robots', 'rock', 'rockaroke', 'rocked', 'rockin', 'rocking', 'rocks', 'rockstache', 'role', 'roll', 'rolled', 'rollout', 'roof', 'room', 'rosso', 'rotational', 'round', 'route', 'routes', 'routing', 'row', 'rows', 'rpg', 'rsq', 'rsvp', 'rt', 'rub', 'rubbing', 'rule', 'rules', 'rumor', 'rumored', 'rumors', 'rumours', 'run', 'runaround', 'running', 'runs', 'rww', 'saatchiny', 'saber', 'sabotaged', 'sad', 'sadly', 'safari', 'said', 'sale', 'sales', 'salesperson', 'salon', 'sam', 'sampler', 'samsung', 'samsungmobileus', 'san', 'sandwich', 'sandwiched', 'sangre', 'sans', 'sapient', 'sat', 'satanic', 'saturday', 'sauce', 'save', 'savebrands', 'saved', 'saves', 'saveustechies', 'saving', 'savings', 'savvy', 'saw', 'say', 'sayin', 'saying', 'says', 'saysshewithoutanipad', 'scale', 'scan', 'scanner', 'scans', 'scarborough', 'scarbrough', 'scared', 'scarfing', 'scary', 'scavenger', 'scene', 'scenes', 'scepticism', 'sched', 'schedule', 'scheduled', 'scheduler', 'schedules', 'scheduling', 'schemas', 'school', 'schoolgirls', 'schools', 'schtuff', 'schwag', 'science', 'scientific', 'scoping', 'score', 'scored', 'scoremore', 'scouts', 'screamed', 'screams', 'screen', 'screenfuture', 'screening', 'screenings', 'script', 'sd', 'sea', 'search', 'searchable', 'searches', 'searching', 'season', 'seat', 'seated', 'seats', 'seattle', 'sec', 'second', 'seconds', 'secret', 'security', 'see', 'seeing', 'seem', 'seemed', 'seemingly', 'seems', 'seen', 'seenocreepy', 'sees', 'seesmic', 'select', 'selected', 'selection', 'self', 'selfish', 'sell', 'selling', 'sells', 'sem', 'semantic', 'semi', 'semis', 'send', 'sending', 'sense', 'sent', 'seo', 'separate', 'september', 'serendipity', 'serious', 'seriously', 'seriousness', 'serv', 'serve', 'served', 'server', 'servers', 'serves', 'service', 'services', 'sesh', 'session', 'sessions', 'set', 'seta', 'sets', 'setting', 'settle', 'settling', 'setup', 'several', 'severe', 'severely', 'severity', 'sexy', 'sez', 'sfo', 'shade', 'shades', 'shakers', 'shakespeare', 'shall', 'shallow', 'shame', 'shamed', 'shameless', 'shaping', 'share', 'shareable', 'shared', 'sharers', 'sharing', 'sharp', 'shat', 'shatter', 'sheen', 'sheeple', 'shell', 'shelves', 'sheraton', 'shift', 'shill', 'shiner', 'shinmy', 'shiny', 'shipment', 'shipments', 'ships', 'shirt', 'shit', 'shite', 'shitty', 'shocked', 'shoot', 'shooting', 'shop', 'shops', 'short', 'shortcuts', 'shortening', 'shortly', 'shot', 'shotgun', 'shoulda', 'shoulder', 'shout', 'shouts', 'show', 'showcase', 'showcased', 'showcases', 'showcasing', 'showed', 'showing', 'shows', 'showusyouricrazy', 'shrink', 'shuffling', 'shut', 'sick', 'side', 'sides', 'sigh', 'sighting', 'sightings', 'sign', 'signal', 'signals', 'signed', 'signing', 'signs', 'silicon', 'sillier', 'silly', 'silver', 'simple', 'simplicity', 'simply', 'simultaneously', 'sin', 'since', 'singing', 'single', 'sings', 'singularity', 'sipping', 'sis', 'sister', 'sit', 'sitby', 'site', 'sites', 'sitting', 'six', 'sixth', 'size', 'skateboards', 'skepticism', 'sketch', 'sketchy', 'skewed', 'skiers', 'skill', 'skillfully', 'skills', 'skinny', 'skip', 'skulls', 'skyfire', 'skynet', 'skype', 'slap', 'slated', 'sleek', 'sleep', 'sleepy', 'sleeves', 'slice', 'sliced', 'slick', 'slides', 'slightly', 'slim', 'slips', 'sloansxsw', 'sloanxsw', 'slow', 'slower', 'slowly', 'slowpoke', 'slp', 'smackdown', 'small', 'smallbiz', 'smaller', 'smart', 'smartcover', 'smarter', 'smartest', 'smartphone', 'smartphones', 'smartthings', 'smarty', 'smashed', 'smcdallas', 'smcomedyfyeah', 'smell', 'smileyparty', 'smm', 'smmnextgen', 'smokes', 'smooth', 'sms', 'smtravel', 'smudgy', 'smugness', 'smurf', 'smut', 'smvis', 'smyle', 'sn', 'snagged', 'snakeheead', 'snap', 'snapping', 'snarky', 'sneakers', 'sneaky', 'snubor', 'socbiz', 'social', 'socialfuel', 'socially', 'socialmedia', 'socialmediabum', 'socialmuse', 'socialviewing', 'society', 'socks', 'socmedia', 'socnet', 'softball', 'softlayer', 'software', 'solar', 'sold', 'solely', 'solid', 'solo', 'solution', 'solutions', 'solves', 'solving', 'somebody', 'someday', 'somehow', 'someone', 'someones', 'something', 'somewhere', 'song', 'songs', 'sonos', 'sony', 'soo', 'soon', 'sooo', 'sore', 'sorry', 'sort', 'sorta', 'sorted', 'soul', 'sound', 'soundcloud', 'sounding', 'sounds', 'soundtrckr', 'source', 'south', 'southby', 'southpaw', 'southwest', 'space', 'spanking', 'spark', 'spasmatics', 'spazmatic', 'spazmatics', 'spazzmatics', 'speak', 'speakeasy', 'speaking', 'speaks', 'special', 'specials', 'specific', 'speech', 'speed', 'speedup', 'spell', 'speller', 'spend', 'spending', 'spent', 'spider', 'spilled', 'spiltbeer', 'spin', 'spinning', 'spins', 'spirit', 'spoiled', 'spoke', 'spoken', 'sponso', 'sponsored', 'spontaniety', 'sporting', 'spot', 'spots', 'spotted', 'spread', 'spring', 'sprinkle', 'sprint', 'spy', 'sq', 'square', 'squeal', 'squeeze', 'srsly', 'st', 'stabilizer', 'stacks', 'staff', 'stage', 'stand', 'standard', 'standardization', 'standing', 'star', 'starbu', 'starbucks', 'staring', 'starry', 'stars', 'start', 'started', 'starting', 'starts', 'startup', 'startupbus', 'startups', 'statement', 'states', 'station', 'stations', 'stats', 'status', 'statuses', 'stay', 'staying', 'stays', 'steady', 'stealing', 'steals', 'steampunk', 'steamy', 'stellar', 'step', 'stepped', 'stereo', 'sters', 'steve', 'stickers', 'still', 'stillman', 'stillonamacbook', 'stock', 'stogies', 'stoked', 'stole', 'stolen', 'stood', 'stop', 'stopped', 'stops', 'storage', 'store', 'stores', 'stories', 'storm', 'story', 'straight', 'strange', 'strangeproblems', 'stranger', 'strangers', 'straps', 'strategic', 'strategy', 'straw', 'stream', 'streaming', 'streams', 'street', 'streetview', 'strength', 'stress', 'stretches', 'striking', 'strip', 'strive', 'stroke', 'strong', 'structured', 'struggle', 'strums', 'stuck', 'studentsforcleanwater', 'studies', 'studios', 'study', 'studying', 'stuff', 'stumbledupon', 'stumbling', 'stunning', 'stunt', 'stupid', 'style', 'stylish', 'suasxsw', 'subscription', 'subscriptions', 'succeed', 'success', 'successful', 'succumb', 'suck', 'suckas', 'sucked', 'suckling', 'sucks', 'suddenly', 'suffered', 'suffering', 'suggest', 'suggestion', 'suggestions', 'suicidal', 'suicide', 'sullivan', 'sum', 'summer', 'summit', 'sun', 'sunday', 'sundayswagger', 'sunglasses', 'sunny', 'suns', 'super', 'superbia', 'supply', 'support', 'supporting', 'suppose', 'supposed', 'supposedly', 'sure', 'surely', 'surface', 'surpassed', 'surplus', 'surprise', 'surprises', 'surrounded', 'surui', 'survey', 'survival', 'survive', 'survived', 'suspense', 'sustainability', 'sux', 'suxsw', 'svcs', 'swag', 'swarming', 'swarms', 'sweater', 'sweeeeet', 'sweeeet', 'sweepstakes', 'sweet', 'sweets', 'swift', 'swing', 'swish', 'swisher', 'switch', 'switches', 'swonderlin', 'swoon', 'swsurrogates', 'swsx', 'sxfl', 'sxflip', 'sxprotect', 'sxsh', 'sxsurrogates', 'sxsw', 'sxswaccel', 'sxswbarcrawl', 'sxswbigbrands', 'sxswbuffalo', 'sxswchi', 'sxsweisner', 'sxswfail', 'sxswgo', 'sxswgood', 'sxswh', 'sxswi', 'sxswk', 'sxswlatam', 'sxswmobileapps', 'sxswmoot', 'sxswmusic', 'sxswmymistake', 'sxswnui', 'sxswparty', 'sxswpass', 'sxswsa', 'sxswsex', 'sxswsmall', 'sxswtoolkit', 'sxtxstate', 'sxwsi', 'sxxpress', 'syked', 'symbian', 'symbol', 'sync', 'synced', 'synching', 'syncing', 'syncs', 'synergy', 'system', 'systems', 'taariq', 'tab', 'table', 'tables', 'tablet', 'tablets', 'taccsxsw', 'tacos', 'tag', 'tagging', 'take', 'takeaway', 'taken', 'takeover', 'takes', 'takin', 'taking', 'talent', 'talented', 'talib', 'talk', 'talked', 'talking', 'talks', 'tan', 'tap', 'tapworthy', 'target', 'task', 'tastes', 'tattoo', 'tattooed', 'taught', 'taunt', 'tax', 'taxi', 'tbalinas', 'tbwasxsw', 'tc', 'tchin', 'tcs', 'tdg', 'tea', 'teach', 'teaching', 'team', 'teamandroid', 'teamandroidsxsw', 'teams', 'tear', 'teathering', 'tech', 'techcrunch', 'techenvy', 'techgeek', 'techie', 'techies', 'techiesunite', 'technews', 'technical', 'techno', 'technology', 'techrockstar', 'techsmith', 'tee', 'teeming', 'teeny', 'teeth', 'telegraph', 'teleporting', 'television', 'telework', 'tell', 'tells', 'temp', 'temperature', 'temperatures', 'temporary', 'tempt', 'temptation', 'tempted', 'tempting', 'ten', 'tenets', 'tent', 'teo', 'term', 'terminal', 'terms', 'terrible', 'test', 'tested', 'testing', 'tests', 'tether', 'tethering', 'texas', 'texasevery', 'text', 'texting', 'th', 'thank', 'thanks', 'thanksforthebrandedshades', 'thankyouecon', 'thats', 'theatre', 'theem', 'theft', 'thegogame', 'theindustryparty', 'theme', 'themed', 'thenextweb', 'theplatform', 'ther', 'therapy', 'thereby', 'therefore', 'thewildernessdowntown', 'thick', 'thier', 'thin', 'thing', 'things', 'thingsthatdontgotogether', 'think', 'thinking', 'thinks', 'thinmints', 'thinner', 'third', 'thirsty', 'thisisdare', 'tho', 'thomas', 'thoora', 'though', 'thought', 'thoughtful', 'thoughts', 'thousands', 'threat', 'three', 'threw', 'thrilled', 'throughout', 'throw', 'throwin', 'throwing', 'thru', 'tht', 'thumbs', 'thunder', 'thursday', 'thus', 'thwarted', 'thx', 'ticket', 'tickets', 'tidbit', 'tiff', 'tigerblood', 'tight', 'til', 'till', 'tim', 'timberlake', 'time', 'timechange', 'timed', 'timeline', 'timely', 'times', 'timing', 'tinkering', 'tiny', 'tinyurl', 'tip', 'tipped', 'tips', 'tired', 'tis', 'title', 'titles', 'tix', 'tkts', 'tm', 'tme', 'tmobile', 'tmr', 'tmrw', 'tmsxsw', 'tnw', 'tnx', 'toast', 'today', 'together', 'told', 'tomlinson', 'tomorrow', 'ton', 'tonchidot', 'tonigh', 'tonight', 'tons', 'toocoolforsxswanyway', 'toodamnlucky', 'took', 'tool', 'toolkit', 'toolongforme', 'tools', 'toooo', 'top', 'topicality', 'topics', 'topnews', 'tops', 'topspin', 'torch', 'tore', 'torture', 'torturous', 'total', 'totalitarian', 'totally', 'toting', 'touch', 'touched', 'touching', 'touchingstories', 'tough', 'tougher', 'toured', 'tournament', 'towards', 'towel', 'town', 'toy', 'track', 'tracker', 'trackpads', 'tracks', 'traction', 'tractor', 'trade', 'traded', 'tradeshow', 'traffic', 'trailer', 'train', 'trajan', 'tramplings', 'transfer', 'transient', 'transition', 'translated', 'translates', 'transparency', 'transparently', 'trashy', 'trauma', 'travel', 'travelers', 'traveling', 'traveller', 'treatment', 'trenches', 'trend', 'trending', 'trends', 'tribes', 'tricked', 'tried', 'tries', 'trigger', 'trip', 'tripping', 'tron', 'trophy', 'trouble', 'truck', 'trucks', 'true', 'truly', 'trumping', 'trumps', 'trust', 'trusted', 'trustworthiness', 'truth', 'try', 'trying', 'ts', 'tshirt', 'tsunami', 'tt', 'tub', 'tube', 'tuesday', 'tumblr', 'tunage', 'tune', 'tuned', 'tunehopper', 'tunes', 'turing', 'turkey', 'turn', 'turned', 'turning', 'turns', 'tuxedo', 'tv', 'tveverywhere', 'tvontheradio', 'tvs', 'tweeps', 'tweet', 'tweetcaster', 'tweetdeck', 'tweeted', 'tweethouse', 'tweetie', 'tweetignite', 'tweeting', 'tweets', 'tweetup', 'twice', 'twit', 'twitpic', 'twitter', 'twittering', 'twitterpower', 'twnp', 'two', 'tx', 'tye', 'type', 'typing', 'tyson', 'uber', 'uberguide', 'ubersocial', 'ubertwitter', 'ubiquitous', 'ubiquity', 'ubuntu', 'ugh', 'ughhh', 'ui', 'um', 'umassjour', 'umm', 'ummmm', 'umshini', 'un', 'una', 'unabashed', 'unadulterated', 'unbearable', 'unbelievable', 'unboxing', 'uncategorized', 'uncertainty', 'uncharged', 'unconfirmed', 'underestimate', 'underneath', 'understand', 'understanding', 'underway', 'underwire', 'undoubtedly', 'unequipped', 'unexpected', 'unfair', 'ungrateful', 'unimitated', 'unique', 'unite', 'united', 'units', 'universe', 'unleash', 'unless', 'unlisted', 'unloaded', 'unloading', 'unlockable', 'unlocking', 'unoffic', 'unofficial', 'unpack', 'unpaid', 'unreal', 'unscientific', 'unsix', 'unstable', 'untapped', 'untrue', 'unveil', 'unveiled', 'unveiling', 'unveils', 'uosxsw', 'upbeat', 'upc', 'update', 'updated', 'updates', 'updating', 'upgrade', 'upgrading', 'upload', 'upon', 'uppward', 'ups', 'upset', 'upside', 'upstairs', 'ur', 'urinal', 'urs', 'urthots', 'us', 'usa', 'usability', 'usage', 'usb', 'usdes', 'use', 'used', 'useful', 'usefulness', 'useless', 'user', 'users', 'uses', 'usguys', 'using', 'ustream', 'usual', 'usurped', 'utility', 'utilize', 'utter', 'ux', 'uxdes', 'uzu', 'vacation', 'valid', 'valley', 'valuable', 'value', 'values', 'vast', 'vb', 'vcards', 'vector', 'vectors', 'vegan', 'vegas', 'vending', 'venturebeat', 'venue', 'venues', 'ver', 'verizon', 'verpixelungsrecht', 'version', 'versions', 'veryslow', 'vestibule', 'veterans', 'via', 'viagra', 'vibe', 'vicariously', 'victims', 'vid', 'video', 'videogame', 'videogames', 'videos', 'vids', 'view', 'viewed', 'viewing', 'views', 'vinh', 'vintage', 'vip', 'virgin', 'virginity', 'virtual', 'virtually', 'virtualoffice', 'virtualwallet', 'visigoths', 'visit', 'visiting', 'visitors', 'visits', 'visual', 'visualisation', 'visualization', 'visualize', 'visualizing', 'vmware', 'vodka', 'voice', 'voicefeed', 'volume', 'voluntarily', 'volunteering', 'volunteers', 'vortex', 'vote', 'voxpop', 'vp', 'vs', 'vuelta', 'vufinders', 'vuitton', 'vuvuzela', 'waaaaaa', 'wack', 'wait', 'waited', 'waiting', 'wakeup', 'wakeuplaughing', 'waking', 'wal', 'walk', 'walked', 'walkin', 'walking', 'walks', 'wall', 'wallace', 'walmart', 'wam', 'wandered', 'wanderer', 'wanna', 'wannabe', 'want', 'wanted', 'wanting', 'wants', 'war', 'warmer', 'warmth', 'warning', 'wars', 'wary', 'waste', 'wasted', 'wasting', 'watch', 'watched', 'watching', 'water', 'waterproof', 'watson', 'wave', 'waves', 'way', 'ways', 'waze', 'wean', 'wearing', 'weasel', 'weather', 'web', 'webber', 'webdoc', 'webkit', 'webmail', 'webmaster', 'webmasters', 'website', 'websites', 'webvisions', 'wed', 'week', 'weekend', 'weeks', 'weeping', 'weight', 'weinschenk', 'weird', 'welcome', 'welivehere', 'well', 'went', 'wesley', 'west', 'weve', 'wew', 'whale', 'whatcha', 'whether', 'whimsical', 'white', 'whiteboarding', 'whoa', 'whole', 'wholistic', 'whoohoo', 'whoooooo', 'whoops', 'whowillrise', 'whrrl', 'wi', 'wider', 'widfy', 'widgets', 'wife', 'wifi', 'wii', 'wil', 'wild', 'wilderness', 'williams', 'willing', 'willpay', 'willpower', 'wilting', 'win', 'winamp', 'windows', 'wine', 'wings', 'winner', 'winners', 'winning', 'wins', 'wintel', 'winwin', 'wipes', 'wired', 'wireless', 'wires', 'wisconsin', 'wise', 'wish', 'wishful', 'wishing', 'withdrawal', 'within', 'withme', 'without', 'witnessed', 'witty', 'wjchat', 'wk', 'wkd', 'wkend', 'wknd', 'woah', 'wodpress', 'woes', 'wohooo', 'woke', 'wolfenstein', 'wolfram', 'woman', 'women', 'wonder', 'wonderful', 'wondering', 'wonders', 'woo', 'woohoo', 'wooooo', 'woops', 'woot', 'word', 'wordnerd', 'wordpress', 'words', 'work', 'worked', 'workers', 'workin', 'working', 'works', 'workspace', 'world', 'worlds', 'worldwide', 'worn', 'worried', 'worry', 'worse', 'worst', 'worth', 'worthwhile', 'wot', 'would', 'wow', 'wowwwwww', 'wozniak', 'wp', 'wr', 'wrap', 'wrapper', 'wrapping', 'write', 'writer', 'writes', 'writing', 'wrong', 'wrote', 'wsj', 'wssxsw', 'wtf', 'wth', 'wundertablet', 'wut', 'wwsxsw', 'www', 'xbox', 'xd', 'xipad', 'xm', 'xmas', 'xml', 'xoom', 'xperia', 'xplat', 'xvwc', 'xwave', 'ya', 'yai', 'yall', 'yawn', 'yay', 'yea', 'yeaayyy', 'yeah', 'year', 'years', 'yeasayer', 'yeay', 'yellow', 'yelp', 'yelping', 'yep', 'yer', 'yes', 'yesterday', 'yet', 'yield', 'yikes', 'yo', 'yobongo', 'yonkers', 'york', 'youneedthis', 'youtube', 'yowza', 'yr', 'yrs', 'yummy', 'yup', 'zaarly', 'zaarlyiscoming', 'zagg', 'zaggle', 'zap', 'zappos', 'zazzle', 'zazzlesxsw', 'zazzlsxsw', 'ze', 'zelda', 'zeldman', 'zero', 'zgd', 'zimride', 'zing', 'zip', 'zite', 'zms', 'zombies', 'zomg', 'zone', 'zoom', 'zzzs']\n"
     ]
    }
   ],
   "source": [
    "# Take a look at the words in the vocabulary\n",
    "vocab = vect.get_feature_names()\n",
    "print(vocab)"
   ]
  },
  {
   "cell_type": "markdown",
   "metadata": {
    "colab_type": "text",
    "id": "dwtgjTBeH0Ny"
   },
   "source": [
    "#### Tip: To see all available functions for an Object use dir"
   ]
  },
  {
   "cell_type": "code",
   "execution_count": 260,
   "metadata": {
    "colab": {},
    "colab_type": "code",
    "id": "2n_iCcTNH0N0"
   },
   "outputs": [
    {
     "data": {
      "text/plain": [
       "5647"
      ]
     },
     "execution_count": 260,
     "metadata": {},
     "output_type": "execute_result"
    }
   ],
   "source": [
    "len(vocab)"
   ]
  },
  {
   "cell_type": "markdown",
   "metadata": {},
   "source": [
    "5647 words exist in the vocabulary"
   ]
  },
  {
   "cell_type": "markdown",
   "metadata": {
    "colab_type": "text",
    "id": "ShA6D8jKH0N5"
   },
   "source": [
    "### 6. Find out how many Positive and Negative emotions are there.\n",
    "\n",
    "Hint: Use value_counts on that column"
   ]
  },
  {
   "cell_type": "code",
   "execution_count": 261,
   "metadata": {
    "colab": {},
    "colab_type": "code",
    "id": "q7LAl5pzH0N6"
   },
   "outputs": [
    {
     "data": {
      "text/plain": [
       "Positive emotion    2978\n",
       "Negative emotion     570\n",
       "Name: is_there_an_emotion_directed_at_a_brand_or_product, dtype: int64"
      ]
     },
     "execution_count": 261,
     "metadata": {},
     "output_type": "execute_result"
    }
   ],
   "source": [
    "df_new2['is_there_an_emotion_directed_at_a_brand_or_product'].value_counts()"
   ]
  },
  {
   "cell_type": "markdown",
   "metadata": {},
   "source": [
    "2978 positive and 570 negative emotions in the dataset"
   ]
  },
  {
   "cell_type": "markdown",
   "metadata": {
    "colab_type": "text",
    "id": "IUvgj0FoH0N9"
   },
   "source": [
    "### 7. Change the labels for Positive and Negative emotions as 1 and 0 respectively and store in a different column in the same dataframe named 'Label'\n",
    "\n",
    "Hint: use map on that column and give labels"
   ]
  },
  {
   "cell_type": "code",
   "execution_count": 262,
   "metadata": {
    "colab": {},
    "colab_type": "code",
    "id": "YftKwFv7H0N9"
   },
   "outputs": [
    {
     "name": "stderr",
     "output_type": "stream",
     "text": [
      "/Users/ashishsingh/anaconda3/lib/python3.7/site-packages/ipykernel_launcher.py:1: SettingWithCopyWarning: \n",
      "A value is trying to be set on a copy of a slice from a DataFrame.\n",
      "Try using .loc[row_indexer,col_indexer] = value instead\n",
      "\n",
      "See the caveats in the documentation: http://pandas.pydata.org/pandas-docs/stable/indexing.html#indexing-view-versus-copy\n",
      "  \"\"\"Entry point for launching an IPython kernel.\n"
     ]
    }
   ],
   "source": [
    "df_new2['Labels'] = df_new2.is_there_an_emotion_directed_at_a_brand_or_product.map({'Positive emotion':1,'Negative emotion':0 })"
   ]
  },
  {
   "cell_type": "code",
   "execution_count": 263,
   "metadata": {},
   "outputs": [
    {
     "data": {
      "text/html": [
       "<div>\n",
       "<style scoped>\n",
       "    .dataframe tbody tr th:only-of-type {\n",
       "        vertical-align: middle;\n",
       "    }\n",
       "\n",
       "    .dataframe tbody tr th {\n",
       "        vertical-align: top;\n",
       "    }\n",
       "\n",
       "    .dataframe thead th {\n",
       "        text-align: right;\n",
       "    }\n",
       "</style>\n",
       "<table border=\"1\" class=\"dataframe\">\n",
       "  <thead>\n",
       "    <tr style=\"text-align: right;\">\n",
       "      <th></th>\n",
       "      <th>index</th>\n",
       "      <th>tweet_text</th>\n",
       "      <th>emotion_in_tweet_is_directed_at</th>\n",
       "      <th>is_there_an_emotion_directed_at_a_brand_or_product</th>\n",
       "      <th>text</th>\n",
       "      <th>Labels</th>\n",
       "    </tr>\n",
       "  </thead>\n",
       "  <tbody>\n",
       "    <tr>\n",
       "      <th>0</th>\n",
       "      <td>0</td>\n",
       "      <td>.@wesley83 I have a 3G iPhone. After 3 hrs twe...</td>\n",
       "      <td>iPhone</td>\n",
       "      <td>Negative emotion</td>\n",
       "      <td></td>\n",
       "      <td>0</td>\n",
       "    </tr>\n",
       "    <tr>\n",
       "      <th>1</th>\n",
       "      <td>1</td>\n",
       "      <td>@jessedee Know about @fludapp ? Awesome iPad/i...</td>\n",
       "      <td>iPad or iPhone App</td>\n",
       "      <td>Positive emotion</td>\n",
       "      <td></td>\n",
       "      <td>1</td>\n",
       "    </tr>\n",
       "    <tr>\n",
       "      <th>2</th>\n",
       "      <td>2</td>\n",
       "      <td>@swonderlin Can not wait for #iPad 2 also. The...</td>\n",
       "      <td>iPad</td>\n",
       "      <td>Positive emotion</td>\n",
       "      <td></td>\n",
       "      <td>1</td>\n",
       "    </tr>\n",
       "    <tr>\n",
       "      <th>3</th>\n",
       "      <td>3</td>\n",
       "      <td>@sxsw I hope this year's festival isn't as cra...</td>\n",
       "      <td>iPad or iPhone App</td>\n",
       "      <td>Negative emotion</td>\n",
       "      <td></td>\n",
       "      <td>0</td>\n",
       "    </tr>\n",
       "    <tr>\n",
       "      <th>4</th>\n",
       "      <td>4</td>\n",
       "      <td>@sxtxstate great stuff on Fri #SXSW: Marissa M...</td>\n",
       "      <td>Google</td>\n",
       "      <td>Positive emotion</td>\n",
       "      <td></td>\n",
       "      <td>1</td>\n",
       "    </tr>\n",
       "  </tbody>\n",
       "</table>\n",
       "</div>"
      ],
      "text/plain": [
       "   index                                         tweet_text  \\\n",
       "0      0  .@wesley83 I have a 3G iPhone. After 3 hrs twe...   \n",
       "1      1  @jessedee Know about @fludapp ? Awesome iPad/i...   \n",
       "2      2  @swonderlin Can not wait for #iPad 2 also. The...   \n",
       "3      3  @sxsw I hope this year's festival isn't as cra...   \n",
       "4      4  @sxtxstate great stuff on Fri #SXSW: Marissa M...   \n",
       "\n",
       "  emotion_in_tweet_is_directed_at  \\\n",
       "0                          iPhone   \n",
       "1              iPad or iPhone App   \n",
       "2                            iPad   \n",
       "3              iPad or iPhone App   \n",
       "4                          Google   \n",
       "\n",
       "  is_there_an_emotion_directed_at_a_brand_or_product text  Labels  \n",
       "0                                   Negative emotion            0  \n",
       "1                                   Positive emotion            1  \n",
       "2                                   Positive emotion            1  \n",
       "3                                   Negative emotion            0  \n",
       "4                                   Positive emotion            1  "
      ]
     },
     "execution_count": 263,
     "metadata": {},
     "output_type": "execute_result"
    }
   ],
   "source": [
    "df_new2.head()"
   ]
  },
  {
   "cell_type": "markdown",
   "metadata": {
    "colab_type": "text",
    "id": "3YErwYLCH0N_"
   },
   "source": [
    "### 8 Define the feature set (independent variable or X) to be `text` column and `labels` as target (or dependent variable)  and divide into train and test datasets"
   ]
  },
  {
   "cell_type": "code",
   "execution_count": 264,
   "metadata": {
    "colab": {},
    "colab_type": "code",
    "id": "lNkwrGgEH0OA"
   },
   "outputs": [],
   "source": [
    "# df_ind = df_new2['tweet_text']\n",
    "df_target = df_new2['Labels']"
   ]
  },
  {
   "cell_type": "code",
   "execution_count": 265,
   "metadata": {},
   "outputs": [
    {
     "data": {
      "text/plain": [
       "(3548,)"
      ]
     },
     "execution_count": 265,
     "metadata": {},
     "output_type": "execute_result"
    }
   ],
   "source": [
    "df_target.shape"
   ]
  },
  {
   "cell_type": "code",
   "execution_count": 266,
   "metadata": {},
   "outputs": [],
   "source": [
    "# Split X and y into training and test set in 75:25 ratio\n",
    "\n",
    "X_train, X_test, y_train, y_test = train_test_split(tweet_data_features, df_target, test_size=0.3)"
   ]
  },
  {
   "cell_type": "markdown",
   "metadata": {
    "colab_type": "text",
    "id": "Q5nlCuaaH0OD"
   },
   "source": [
    "## 9. **Predicting the sentiment:**\n",
    "\n",
    "\n",
    "### Use Naive Bayes and Logistic Regression and their accuracy scores for predicting the sentiment of the given text"
   ]
  },
  {
   "cell_type": "code",
   "execution_count": 267,
   "metadata": {
    "colab": {},
    "colab_type": "code",
    "id": "2AbVYssaH0OE"
   },
   "outputs": [
    {
     "data": {
      "text/plain": [
       "GaussianNB(priors=None, var_smoothing=1e-09)"
      ]
     },
     "execution_count": 267,
     "metadata": {},
     "output_type": "execute_result"
    }
   ],
   "source": [
    "# Invoking the NB Gaussian function to create the model\n",
    "# fitting the model in the training data set\n",
    "model = GaussianNB()\n",
    "model.fit(X_train, y_train)"
   ]
  },
  {
   "cell_type": "code",
   "execution_count": 268,
   "metadata": {
    "colab": {},
    "colab_type": "code",
    "id": "ktXrLhmOH0Of"
   },
   "outputs": [
    {
     "data": {
      "text/plain": [
       "0.941602899718083"
      ]
     },
     "execution_count": 268,
     "metadata": {},
     "output_type": "execute_result"
    }
   ],
   "source": [
    "model.score(X_train , y_train)   "
   ]
  },
  {
   "cell_type": "code",
   "execution_count": 269,
   "metadata": {
    "colab": {},
    "colab_type": "code",
    "id": "clv2X0kKH0Ok"
   },
   "outputs": [
    {
     "name": "stdout",
     "output_type": "stream",
     "text": [
      "              precision    recall  f1-score   support\n",
      "\n",
      "           0       0.34      0.51      0.41       166\n",
      "           1       0.90      0.82      0.86       899\n",
      "\n",
      "   micro avg       0.77      0.77      0.77      1065\n",
      "   macro avg       0.62      0.66      0.63      1065\n",
      "weighted avg       0.81      0.77      0.79      1065\n",
      "\n",
      "[[ 85  81]\n",
      " [166 733]]\n"
     ]
    }
   ],
   "source": [
    "test_pred = model.predict(X_test)\n",
    "\n",
    "print(metrics.classification_report(y_test, test_pred))\n",
    "print(metrics.confusion_matrix(y_test, test_pred))"
   ]
  },
  {
   "cell_type": "code",
   "execution_count": 270,
   "metadata": {
    "colab": {},
    "colab_type": "code",
    "id": "K86LRMfdH0Ou"
   },
   "outputs": [
    {
     "name": "stdout",
     "output_type": "stream",
     "text": [
      "0.8798122065727699\n"
     ]
    },
    {
     "name": "stderr",
     "output_type": "stream",
     "text": [
      "/Users/ashishsingh/anaconda3/lib/python3.7/site-packages/sklearn/linear_model/logistic.py:433: FutureWarning: Default solver will be changed to 'lbfgs' in 0.22. Specify a solver to silence this warning.\n",
      "  FutureWarning)\n"
     ]
    }
   ],
   "source": [
    "#Logistic regression\n",
    "\n",
    "# Fit the model on 30%\n",
    "model2 = LogisticRegression()\n",
    "model2.fit(X_train, y_train)\n",
    "test_pred_LR = model2.predict(X_test)\n",
    "model_score_LR = model2.score(X_test, y_test)\n",
    "print(model_score_LR)\n",
    "\n"
   ]
  },
  {
   "cell_type": "code",
   "execution_count": 271,
   "metadata": {},
   "outputs": [
    {
     "name": "stdout",
     "output_type": "stream",
     "text": [
      "              precision    recall  f1-score   support\n",
      "\n",
      "           0       0.76      0.33      0.46       166\n",
      "           1       0.89      0.98      0.93       899\n",
      "\n",
      "   micro avg       0.88      0.88      0.88      1065\n",
      "   macro avg       0.83      0.66      0.70      1065\n",
      "weighted avg       0.87      0.88      0.86      1065\n",
      "\n",
      "[[ 55 111]\n",
      " [ 17 882]]\n"
     ]
    }
   ],
   "source": [
    "print(metrics.classification_report(y_test, test_pred_LR))\n",
    "print(metrics.confusion_matrix(y_test, test_pred_LR))"
   ]
  },
  {
   "cell_type": "markdown",
   "metadata": {
    "colab_type": "text",
    "id": "sw-0B33tH0Ox"
   },
   "source": [
    "## 10. Create a function called `tokenize_predict` which can take count vectorizer object as input and prints the accuracy for x (text) and y (labels)"
   ]
  },
  {
   "cell_type": "code",
   "execution_count": 272,
   "metadata": {
    "colab": {},
    "colab_type": "code",
    "id": "okCTOs1TH0Oy"
   },
   "outputs": [],
   "source": [
    "def tokenize_predict(vect, x_train, x_test, y_train, y_test):\n",
    "    x_train_dtm = vect.fit_transform(x_train)\n",
    "    print('Features: ', x_train_dtm.shape[1])\n",
    "    x_test_dtm = vect.transform(x_test)\n",
    "    nb = MultinomialNB()\n",
    "    nb.fit(x_train_dtm, y_train)\n",
    "    y_pred_class = nb.predict(x_test_dtm)\n",
    "    print('Accuracy: ', metrics.accuracy_score(y_test, y_pred_class))"
   ]
  },
  {
   "cell_type": "markdown",
   "metadata": {
    "colab_type": "text",
    "id": "JxZ8jfPEH0O0"
   },
   "source": [
    "### 11 Create a count vectorizer function which includes n_grams = 1,2  and pass it to tokenize_predict function to print the accuracy score"
   ]
  },
  {
   "cell_type": "code",
   "execution_count": 273,
   "metadata": {
    "colab": {},
    "colab_type": "code",
    "id": "kdCyAN_IH0O0"
   },
   "outputs": [],
   "source": [
    "vect = CountVectorizer(ngram_range=(1,2)) \n",
    "X = df_new2.tweet_text\n",
    "labels = df_new2['Labels']\n",
    "X_train, X_test, y_train, y_test = train_test_split(X, labels, test_size=0.3)\n",
    "\n"
   ]
  },
  {
   "cell_type": "code",
   "execution_count": 274,
   "metadata": {},
   "outputs": [
    {
     "name": "stdout",
     "output_type": "stream",
     "text": [
      "Features:  25883\n",
      "Accuracy:  0.8760563380281691\n"
     ]
    }
   ],
   "source": [
    "tokenize_predict(vect,X_train, X_test, y_train, y_test)"
   ]
  },
  {
   "cell_type": "markdown",
   "metadata": {
    "colab_type": "text",
    "id": "axepytmgH0O4"
   },
   "source": [
    "### Q 12 Create a count vectorizer function with stopwords = 'english'  and pass it to tokenize_predict function to print the accuracy score"
   ]
  },
  {
   "cell_type": "code",
   "execution_count": 275,
   "metadata": {
    "colab": {},
    "colab_type": "code",
    "id": "HToGkq7vH0O4"
   },
   "outputs": [
    {
     "name": "stdout",
     "output_type": "stream",
     "text": [
      "Features:  4846\n",
      "Accuracy:  0.8582159624413146\n"
     ]
    }
   ],
   "source": [
    "vect = CountVectorizer(stop_words='english') \n",
    "tokenize_predict(vect,X_train, X_test, y_train, y_test)"
   ]
  },
  {
   "cell_type": "markdown",
   "metadata": {
    "colab_type": "text",
    "id": "iOIlJRxoH0O7"
   },
   "source": [
    "### Q 13 Create a count vectorizer function with stopwords = 'english' and max_features =300  and pass it to tokenize_predict function to print the accuracy score"
   ]
  },
  {
   "cell_type": "code",
   "execution_count": 276,
   "metadata": {
    "colab": {},
    "colab_type": "code",
    "id": "6fUhff-oH0O8"
   },
   "outputs": [
    {
     "name": "stdout",
     "output_type": "stream",
     "text": [
      "Features:  300\n",
      "Accuracy:  0.815962441314554\n"
     ]
    }
   ],
   "source": [
    "vect = CountVectorizer(stop_words='english', max_features=300) \n",
    "tokenize_predict(vect,X_train, X_test, y_train, y_test)"
   ]
  },
  {
   "cell_type": "markdown",
   "metadata": {
    "colab_type": "text",
    "id": "S2KZNWVkH0PA"
   },
   "source": [
    "### Q 14 Create a count vectorizer function with n_grams = 1,2  and max_features = 15000  and pass it to tokenize_predict function to print the accuracy score"
   ]
  },
  {
   "cell_type": "code",
   "execution_count": 277,
   "metadata": {
    "colab": {},
    "colab_type": "code",
    "id": "3v9XD082H0PB"
   },
   "outputs": [
    {
     "name": "stdout",
     "output_type": "stream",
     "text": [
      "Features:  15000\n",
      "Accuracy:  0.8741784037558685\n"
     ]
    }
   ],
   "source": [
    "vect = CountVectorizer(ngram_range=(1,2), max_features=15000) \n",
    "tokenize_predict(vect,X_train, X_test, y_train, y_test)"
   ]
  },
  {
   "cell_type": "markdown",
   "metadata": {
    "colab_type": "text",
    "id": "We3JK_SRH0PO"
   },
   "source": [
    "### Q. 15 -Create a count vectorizer function with n_grams = 1,2  and include terms that appear at least 2 times (min_df = 2)  and pass it to tokenize_predict function to print the accuracy score"
   ]
  },
  {
   "cell_type": "code",
   "execution_count": 278,
   "metadata": {
    "colab": {},
    "colab_type": "code",
    "id": "fUHrfDCyH0PP"
   },
   "outputs": [],
   "source": [
    "vect = CountVectorizer(ngram_range=(1,2), min_df=2) "
   ]
  },
  {
   "cell_type": "code",
   "execution_count": 279,
   "metadata": {
    "colab": {},
    "colab_type": "code",
    "id": "3H4k_lVZH0PS"
   },
   "outputs": [
    {
     "name": "stdout",
     "output_type": "stream",
     "text": [
      "Features:  7896\n",
      "Accuracy:  0.8647887323943662\n"
     ]
    }
   ],
   "source": [
    "tokenize_predict(vect,X_train, X_test, y_train, y_test)"
   ]
  }
 ],
 "metadata": {
  "accelerator": "GPU",
  "colab": {
   "collapsed_sections": [],
   "name": "R8_Internal_Lab_Questions.ipynb",
   "provenance": [],
   "version": "0.3.2"
  },
  "kernelspec": {
   "display_name": "Python 3",
   "language": "python",
   "name": "python3"
  },
  "language_info": {
   "codemirror_mode": {
    "name": "ipython",
    "version": 3
   },
   "file_extension": ".py",
   "mimetype": "text/x-python",
   "name": "python",
   "nbconvert_exporter": "python",
   "pygments_lexer": "ipython3",
   "version": "3.7.2"
  }
 },
 "nbformat": 4,
 "nbformat_minor": 1
}
