{
 "cells": [
  {
   "cell_type": "markdown",
   "metadata": {
    "colab_type": "text",
    "id": "xT7MKZuMRaCg"
   },
   "source": [
    "# Sentiment Classification\n",
    "\n",
    "\n",
    "### Generate Word Embeddings and retrieve outputs of each layer with Keras based on Classification task\n",
    "\n",
    "Word embeddings are a type of word representation that allows words with similar meaning to have a similar representation.\n",
    "\n",
    "It is a distributed representation for text that is perhaps one of the key breakthroughs for the impressive performance of deep learning methods on challenging natural language processing problems.\n",
    "\n",
    "We willl use the imdb dataset to learn word embeddings as we train our dataset. This dataset contains 25,000 movie reviews from IMDB, labeled with sentiment (positive or negative). \n",
    "\n",
    "\n",
    "\n",
    "### Dataset\n",
    "\n",
    "`from keras.datasets import imdb`\n",
    "\n",
    "Dataset of 25,000 movies reviews from IMDB, labeled by sentiment (positive/negative). Reviews have been preprocessed, and each review is encoded as a sequence of word indexes (integers). For convenience, the words are indexed by their frequency in the dataset, meaning the for that has index 1 is the most frequent word. Use the first 20 words from each review to speed up training, using a max vocab size of 10,000.\n",
    "\n",
    "As a convention, \"0\" does not stand for a specific word, but instead is used to encode any unknown word.\n",
    "\n",
    "\n",
    "### Aim\n",
    "\n",
    "1. Import test and train data  \n",
    "2. Import the labels ( train and test) \n",
    "3. Get the word index and then Create key value pair for word and word_id. (12.5 points)\n",
    "4. Build a Sequential Model using Keras for Sentiment Classification task. (10 points)\n",
    "5. Report the Accuracy of the model. (5 points)  \n",
    "6. Retrive the output of each layer in keras for a given single test sample from the trained model you built. (2.5 points)\n"
   ]
  },
  {
   "cell_type": "markdown",
   "metadata": {
    "colab_type": "text",
    "id": "Wq4RCyyPSYRp"
   },
   "source": [
    "#### Usage:"
   ]
  },
  {
   "cell_type": "code",
   "execution_count": 145,
   "metadata": {},
   "outputs": [],
   "source": [
    "import numpy as np\n",
    "import seaborn as sns\n",
    "from sklearn import metrics\n",
    "\n",
    "from keras.models import Sequential\n",
    "from keras.layers import LSTM, SimpleRNN, Dense\n",
    "from keras.layers import Flatten\n",
    "from keras.layers.embeddings import Embedding\n",
    "\n",
    "import matplotlib.pyplot as plt\n",
    "%matplotlib inline\n",
    "\n",
    "from keras.callbacks import ModelCheckpoint, EarlyStopping"
   ]
  },
  {
   "cell_type": "code",
   "execution_count": 118,
   "metadata": {
    "colab": {},
    "colab_type": "code",
    "id": "NGCtiXUhSWss"
   },
   "outputs": [],
   "source": [
    "from keras.datasets import imdb\n",
    "\n",
    "vocab_size = 10000 #vocab size\n",
    "\n",
    "(x_train, y_train), (x_test, y_test) = imdb.load_data(num_words=vocab_size) # vocab_size is no.of words to consider from the dataset, ordering based on frequency."
   ]
  },
  {
   "cell_type": "code",
   "execution_count": 119,
   "metadata": {
    "colab": {},
    "colab_type": "code",
    "id": "fCPC_WN-eCyw"
   },
   "outputs": [],
   "source": [
    "from keras.preprocessing.sequence import pad_sequences\n",
    "# vocab_size = 10000 #vocab size\n",
    "maxlen = 300  #number of word used from each review"
   ]
  },
  {
   "cell_type": "code",
   "execution_count": 120,
   "metadata": {
    "colab": {},
    "colab_type": "code",
    "id": "h0g381XzeCyz"
   },
   "outputs": [],
   "source": [
    "#load dataset as a list of ints\n",
    "# (x_train, y_train), (x_test, y_test) = imdb.load_data(num_words=vocab_size)\n",
    "#make all sequences of the same length\n",
    "x_train_pad = pad_sequences(x_train, maxlen=maxlen)\n",
    "x_test_pad =  pad_sequences(x_test, maxlen=maxlen)"
   ]
  },
  {
   "cell_type": "code",
   "execution_count": 121,
   "metadata": {
    "colab": {},
    "colab_type": "code",
    "id": "Jy6n-uM2eCy2"
   },
   "outputs": [
    {
     "data": {
      "text/plain": [
       "(25000, 300)"
      ]
     },
     "execution_count": 121,
     "metadata": {},
     "output_type": "execute_result"
    }
   ],
   "source": [
    "x_train_pad.shape"
   ]
  },
  {
   "cell_type": "code",
   "execution_count": 122,
   "metadata": {},
   "outputs": [
    {
     "name": "stdout",
     "output_type": "stream",
     "text": [
      "9999\n"
     ]
    }
   ],
   "source": [
    "#total # of unique words\n",
    "print(len(np.unique(np.hstack(x_train_pad))))"
   ]
  },
  {
   "cell_type": "code",
   "execution_count": 123,
   "metadata": {},
   "outputs": [
    {
     "name": "stdout",
     "output_type": "stream",
     "text": [
      "[0 1]\n"
     ]
    }
   ],
   "source": [
    "print(np.unique(y_test))"
   ]
  },
  {
   "cell_type": "code",
   "execution_count": 124,
   "metadata": {},
   "outputs": [
    {
     "data": {
      "text/plain": [
       "(25000, 300)"
      ]
     },
     "execution_count": 124,
     "metadata": {},
     "output_type": "execute_result"
    }
   ],
   "source": [
    "x_train_pad.shape"
   ]
  },
  {
   "cell_type": "code",
   "execution_count": 125,
   "metadata": {
    "colab": {},
    "colab_type": "code",
    "id": "tZhMAgaNeCy5"
   },
   "outputs": [
    {
     "name": "stdout",
     "output_type": "stream",
     "text": [
      "mkdir: model_checkpoints: File exists\n",
      "mkdir: models: File exists\n",
      "mkdir: cnf: File exists\n"
     ]
    }
   ],
   "source": [
    "!mkdir model_checkpoints # folder for saving checkpoints\n",
    "!mkdir models # folder for saving models for future use\n",
    "!mkdir cnf # folder for saving models for future use"
   ]
  },
  {
   "cell_type": "code",
   "execution_count": 133,
   "metadata": {},
   "outputs": [],
   "source": [
    "# utility fxn to plot model history and accuracy for each epoch\n",
    "def plot_model_history(model_history):\n",
    "    fig, axs = plt.subplots(1,2,figsize=(15,5))\n",
    "    # summarize history for accuracy\n",
    "    axs[0].plot(range(1,len(model_history.history['acc'])+1),model_history.history['acc'])\n",
    "    axs[0].plot(range(1,len(model_history.history['val_acc'])+1),model_history.history['val_acc'])\n",
    "    axs[0].set_title('Model Accuracy')\n",
    "    axs[0].set_ylabel('Accuracy')\n",
    "    axs[0].set_xlabel('Epoch')\n",
    "    axs[0].set_xticks(np.arange(1,len(model_history.history['acc'])+1),len(model_history.history['acc'])/10)\n",
    "    axs[0].legend(['train', 'val'], loc='best')\n",
    "    # summarize history for loss\n",
    "    axs[1].plot(range(1,len(model_history.history['loss'])+1),model_history.history['loss'])\n",
    "    axs[1].plot(range(1,len(model_history.history['val_loss'])+1),model_history.history['val_loss'])\n",
    "    axs[1].set_title('Model Loss')\n",
    "    axs[1].set_ylabel('Loss')\n",
    "    axs[1].set_xlabel('Epoch')\n",
    "    axs[1].set_xticks(np.arange(1,len(model_history.history['loss'])+1),len(model_history.history['loss'])/10)\n",
    "    axs[1].legend(['train', 'val'], loc='best')\n",
    "    plt.show()\n",
    "\n",
    "# callback utility fxn for tensorboard, Initializing Early stopping and Model chekpoint callbacks**\n",
    "# these fxn will be passed in model.fit \n",
    "def EarlyStoppingModelCheckPoint():\n",
    "    #tensorboard = TensorBoard(log_dir=\".logs/{}\".format(time.time()))\n",
    "\n",
    "    #Adding Early stopping callback to the fit function is going to stop the training,\n",
    "    #if the val_loss is not going to change even '0.001' for more than 5 continous epochs\n",
    "\n",
    "    early_stopping = EarlyStopping(monitor='val_loss', min_delta=0.001, patience=3)\n",
    "\n",
    "    #Adding Model Checkpoint callback to the fit function is going to save the weights whenever val_loss achieves \n",
    "    # a new low value. Hence saving the best weights occurred during training\n",
    "\n",
    "    model_checkpoint =  ModelCheckpoint('model_checkpoints/checkpoint_{epoch:02d}_loss{val_loss:.4f}.h5',\n",
    "                                                               monitor='val_loss',\n",
    "                                                               verbose=1,\n",
    "                                                               save_best_only=True,\n",
    "                                                               save_weights_only=True,\n",
    "                                                               mode='auto',\n",
    "                                                               period=1)\n",
    "    return early_stopping, model_checkpoint\n",
    "\n",
    "review = ['Positive', 'Negative']\n",
    "\n",
    "def plot_cnf_matrix(cnf_matrix, name):\n",
    "    fig, ax = plt.subplots(1, figsize=(12,5))\n",
    "    ax = sns.heatmap(cnf_matrix, ax=ax, cmap=plt.cm.Greens, annot=True)\n",
    "    ax.set_xticklabels(review)\n",
    "    ax.set_yticklabels(review)\n",
    "    plt.title('Confusion Matrix')\n",
    "    plt.ylabel('True class')\n",
    "    plt.xlabel('Predicted class')\n",
    "    fig.savefig('cnf/{}.png'.format(name), dpi=300)\n",
    "    plt.show();\n",
    "    \n",
    "def get1D_y_predict(y_pred):\n",
    "    result = []\n",
    "    for i in range(len(y_pred)):\n",
    "        if(y_pred[i][0] > 0.50):\n",
    "            result.append(1)\n",
    "        else:\n",
    "            result.append(0)\n",
    "    return result"
   ]
  },
  {
   "cell_type": "markdown",
   "metadata": {
    "colab_type": "text",
    "id": "dybtUgUReCy8"
   },
   "source": [
    "## Build Keras Embedding Layer Model\n",
    "We can think of the Embedding layer as a dicionary that maps a index assigned to a word to a word vector. This layer is very flexible and can be used in a few ways:\n",
    "\n",
    "* The embedding layer can be used at the start of a larger deep learning model. \n",
    "* Also we could load pre-train word embeddings into the embedding layer when we create our model.\n",
    "* Use the embedding layer to train our own word2vec models.\n",
    "\n",
    "The keras embedding layer doesn't require us to onehot encode our words, instead we have to give each word a unqiue intger number as an id. For the imdb dataset we've loaded this has already been done, but if this wasn't the case we could use sklearn [LabelEncoder](http://scikit-learn.org/stable/modules/generated/sklearn.preprocessing.LabelEncoder.html)."
   ]
  },
  {
   "cell_type": "code",
   "execution_count": 134,
   "metadata": {
    "colab": {},
    "colab_type": "code",
    "id": "A5OLM4eBeCy9"
   },
   "outputs": [],
   "source": [
    "# define the model\n",
    "model = Sequential()\n",
    "model.add(Embedding(vocab_size, 8, input_length=maxlen))\n",
    "model.add(\n",
    "    SimpleRNN(\n",
    "        1, return_sequences=False, dropout=0.1, batch_input_shape=(vocab_size, maxlen,1)))\n",
    "model.add(Dense(1, activation='sigmoid'))"
   ]
  },
  {
   "cell_type": "code",
   "execution_count": 135,
   "metadata": {
    "colab": {},
    "colab_type": "code",
    "id": "TxNDNhrseCzA"
   },
   "outputs": [],
   "source": [
    "# compile the model\n",
    "model.compile(optimizer='adam', loss='binary_crossentropy', metrics=['acc'])"
   ]
  },
  {
   "cell_type": "code",
   "execution_count": 136,
   "metadata": {
    "colab": {},
    "colab_type": "code",
    "id": "L3CSVVPPeCzD"
   },
   "outputs": [
    {
     "name": "stdout",
     "output_type": "stream",
     "text": [
      "_________________________________________________________________\n",
      "Layer (type)                 Output Shape              Param #   \n",
      "=================================================================\n",
      "embedding_4 (Embedding)      (None, 300, 8)            80000     \n",
      "_________________________________________________________________\n",
      "simple_rnn_13 (SimpleRNN)    (None, 1)                 10        \n",
      "_________________________________________________________________\n",
      "dense_13 (Dense)             (None, 1)                 2         \n",
      "=================================================================\n",
      "Total params: 80,012\n",
      "Trainable params: 80,012\n",
      "Non-trainable params: 0\n",
      "_________________________________________________________________\n",
      "None\n"
     ]
    }
   ],
   "source": [
    "# summarize the model\n",
    "print(model.summary())"
   ]
  },
  {
   "cell_type": "code",
   "execution_count": 137,
   "metadata": {},
   "outputs": [],
   "source": [
    "early_stopping, model_checkpoint = EarlyStoppingModelCheckPoint()"
   ]
  },
  {
   "cell_type": "code",
   "execution_count": 138,
   "metadata": {},
   "outputs": [
    {
     "name": "stdout",
     "output_type": "stream",
     "text": [
      "Train on 25000 samples, validate on 25000 samples\n",
      "Epoch 1/50\n",
      "25000/25000 [==============================] - 3s 127us/step - loss: 0.6956 - acc: 0.4979 - val_loss: 0.6949 - val_acc: 0.5025\n",
      "\n",
      "Epoch 00001: val_loss improved from inf to 0.69493, saving model to model_checkpoints/checkpoint_01_loss0.6949.h5\n",
      "Epoch 2/50\n",
      "25000/25000 [==============================] - 2s 70us/step - loss: 0.6914 - acc: 0.5268 - val_loss: 0.6941 - val_acc: 0.5082\n",
      "\n",
      "Epoch 00002: val_loss improved from 0.69493 to 0.69412, saving model to model_checkpoints/checkpoint_02_loss0.6941.h5\n",
      "Epoch 3/50\n",
      "25000/25000 [==============================] - 2s 66us/step - loss: 0.6884 - acc: 0.5447 - val_loss: 0.6934 - val_acc: 0.5126\n",
      "\n",
      "Epoch 00003: val_loss improved from 0.69412 to 0.69342, saving model to model_checkpoints/checkpoint_03_loss0.6934.h5\n",
      "Epoch 4/50\n",
      "25000/25000 [==============================] - 2s 65us/step - loss: 0.6858 - acc: 0.5616 - val_loss: 0.6928 - val_acc: 0.5127\n",
      "\n",
      "Epoch 00004: val_loss improved from 0.69342 to 0.69279, saving model to model_checkpoints/checkpoint_04_loss0.6928.h5\n",
      "Epoch 5/50\n",
      "25000/25000 [==============================] - 2s 65us/step - loss: 0.6827 - acc: 0.5786 - val_loss: 0.6922 - val_acc: 0.5161\n",
      "\n",
      "Epoch 00005: val_loss improved from 0.69279 to 0.69222, saving model to model_checkpoints/checkpoint_05_loss0.6922.h5\n",
      "Epoch 6/50\n",
      "25000/25000 [==============================] - 2s 66us/step - loss: 0.6796 - acc: 0.5958 - val_loss: 0.6917 - val_acc: 0.5200\n",
      "\n",
      "Epoch 00006: val_loss improved from 0.69222 to 0.69173, saving model to model_checkpoints/checkpoint_06_loss0.6917.h5\n",
      "Epoch 7/50\n",
      "25000/25000 [==============================] - 2s 68us/step - loss: 0.6768 - acc: 0.6114 - val_loss: 0.6913 - val_acc: 0.5236\n",
      "\n",
      "Epoch 00007: val_loss improved from 0.69173 to 0.69130, saving model to model_checkpoints/checkpoint_07_loss0.6913.h5\n",
      "Epoch 8/50\n",
      "25000/25000 [==============================] - 2s 68us/step - loss: 0.6738 - acc: 0.6235 - val_loss: 0.6909 - val_acc: 0.5258\n",
      "\n",
      "Epoch 00008: val_loss improved from 0.69130 to 0.69094, saving model to model_checkpoints/checkpoint_08_loss0.6909.h5\n",
      "Epoch 9/50\n",
      "25000/25000 [==============================] - 2s 66us/step - loss: 0.6709 - acc: 0.6358 - val_loss: 0.6906 - val_acc: 0.5263\n",
      "\n",
      "Epoch 00009: val_loss improved from 0.69094 to 0.69065, saving model to model_checkpoints/checkpoint_09_loss0.6906.h5\n",
      "Epoch 10/50\n",
      "25000/25000 [==============================] - 2s 66us/step - loss: 0.6677 - acc: 0.6484 - val_loss: 0.6904 - val_acc: 0.5281\n",
      "\n",
      "Epoch 00010: val_loss improved from 0.69065 to 0.69038, saving model to model_checkpoints/checkpoint_10_loss0.6904.h5\n",
      "Epoch 11/50\n",
      "25000/25000 [==============================] - 2s 66us/step - loss: 0.6650 - acc: 0.6572 - val_loss: 0.6901 - val_acc: 0.5289\n",
      "\n",
      "Epoch 00011: val_loss improved from 0.69038 to 0.69013, saving model to model_checkpoints/checkpoint_11_loss0.6901.h5\n"
     ]
    }
   ],
   "source": [
    "# fit the model\n",
    "history1 = model.fit(x_train_pad, y_train, \n",
    "                     epochs=50, \n",
    "                     verbose=1, \n",
    "                     batch_size=vocab_size, \n",
    "                     validation_data=(x_test_pad, y_test), \n",
    "                     callbacks=[early_stopping, model_checkpoint])"
   ]
  },
  {
   "cell_type": "code",
   "execution_count": 142,
   "metadata": {},
   "outputs": [
    {
     "data": {
      "image/png": "[encoded data removed]",
      "text/plain": [
       "<Figure size 1080x360 with 2 Axes>"
      ]
     },
     "metadata": {
      "needs_background": "light"
     },
     "output_type": "display_data"
    }
   ],
   "source": [
    "# plot model history\n",
    "plot_model_history(history1)"
   ]
  },
  {
   "cell_type": "code",
   "execution_count": 143,
   "metadata": {},
   "outputs": [
    {
     "name": "stdout",
     "output_type": "stream",
     "text": [
      "25000/25000 [==============================] - 12s 462us/step\n",
      "Accuracy: 52.892000\n"
     ]
    }
   ],
   "source": [
    "# evaluate the model\n",
    "loss, accuracy = model.evaluate(x_test_pad, y_test, verbose=1)\n",
    "print('Accuracy: %f' % (accuracy*100))\n",
    "\n"
   ]
  },
  {
   "cell_type": "code",
   "execution_count": 146,
   "metadata": {},
   "outputs": [
    {
     "name": "stdout",
     "output_type": "stream",
     "text": [
      "Classification Report: \n",
      "\n",
      "               precision    recall  f1-score   support\n",
      "\n",
      "           0       0.53      0.51      0.52     12500\n",
      "           1       0.53      0.55      0.54     12500\n",
      "\n",
      "   micro avg       0.53      0.53      0.53     25000\n",
      "   macro avg       0.53      0.53      0.53     25000\n",
      "weighted avg       0.53      0.53      0.53     25000\n",
      "\n"
     ]
    }
   ],
   "source": [
    "# predict test data and get classification report\n",
    "y_pred = model.predict(x_test_pad)\n",
    "ypred = get1D_y_predict(y_pred)\n",
    "\n",
    "# classification report with model accuracy and F1 score\n",
    "cr = metrics.classification_report(y_test,ypred)\n",
    "print(\"Classification Report: \\n\\n\", cr)"
   ]
  },
  {
   "cell_type": "code",
   "execution_count": 147,
   "metadata": {},
   "outputs": [
    {
     "data": {
      "image/png": "[encoded data removed]",
      "text/plain": [
       "<Figure size 864x360 with 2 Axes>"
      ]
     },
     "metadata": {
      "needs_background": "light"
     },
     "output_type": "display_data"
    }
   ],
   "source": [
    "# confusion matrix\n",
    "cm = metrics.confusion_matrix(y_test, ypred)\n",
    "plot_cnf_matrix(cm, \"cm\")"
   ]
  },
  {
   "cell_type": "code",
   "execution_count": 149,
   "metadata": {},
   "outputs": [],
   "source": [
    "# Save model and weights for future use. \n",
    "model.save('models/exp1_model.h5')\n",
    "model.save_weights('exp1_weights.h5')"
   ]
  },
  {
   "cell_type": "markdown",
   "metadata": {
    "colab_type": "text",
    "id": "Igq8Qm8GeCzG"
   },
   "source": [
    "## Retrive the output of each layer in keras for a given single test sample from the trained model you built"
   ]
  },
  {
   "cell_type": "code",
   "execution_count": 150,
   "metadata": {
    "colab": {},
    "colab_type": "code",
    "id": "0AqOnLa2eCzH"
   },
   "outputs": [],
   "source": [
    "from keras.models import load_model\n",
    "model = load_model('models/exp1_model.h5')"
   ]
  },
  {
   "cell_type": "code",
   "execution_count": 151,
   "metadata": {
    "colab": {},
    "colab_type": "code",
    "id": "-dUDSg7VeCzM"
   },
   "outputs": [
    {
     "name": "stdout",
     "output_type": "stream",
     "text": [
      "_________________________________________________________________\n",
      "Layer (type)                 Output Shape              Param #   \n",
      "=================================================================\n",
      "embedding_4 (Embedding)      (None, 300, 8)            80000     \n",
      "_________________________________________________________________\n",
      "simple_rnn_13 (SimpleRNN)    (None, 1)                 10        \n",
      "_________________________________________________________________\n",
      "dense_13 (Dense)             (None, 1)                 2         \n",
      "=================================================================\n",
      "Total params: 80,012\n",
      "Trainable params: 80,012\n",
      "Non-trainable params: 0\n",
      "_________________________________________________________________\n"
     ]
    }
   ],
   "source": [
    "model.summary()"
   ]
  },
  {
   "cell_type": "code",
   "execution_count": 152,
   "metadata": {
    "colab": {},
    "colab_type": "code",
    "id": "Tskt_1npeCzP"
   },
   "outputs": [],
   "source": [
    "#retrieve output at each layer\n",
    "\n",
    "from keras import backend as K\n",
    "\n",
    "inp = model.input                               # input placeholder\n",
    "outputs = [layer.output for layer in model.layers ]          # all layer outputs\n",
    "functors = [K.function([inp, K.learning_phase()], [out]) for out in outputs]    # evaluation functions"
   ]
  },
  {
   "cell_type": "code",
   "execution_count": 153,
   "metadata": {},
   "outputs": [
    {
     "name": "stdout",
     "output_type": "stream",
     "text": [
      "\n",
      "Layer name: embedding_4, Shape: (300, 8): \n",
      "Layer output\n",
      "[[-0.04013146 -0.02682588 -0.0443143  ... -0.01225164 -0.00495133\n",
      "  -0.05599364]\n",
      " [-0.04013146 -0.02682588 -0.0443143  ... -0.01225164 -0.00495133\n",
      "  -0.05599364]\n",
      " [-0.04013146 -0.02682588 -0.0443143  ... -0.01225164 -0.00495133\n",
      "  -0.05599364]\n",
      " ...\n",
      " [-0.00209993  0.01133369  0.00346888 ...  0.02624813 -0.00444381\n",
      "  -0.06855737]\n",
      " [-0.02206863  0.0398508  -0.05593491 ... -0.04494559  0.00158423\n",
      "   0.00316717]\n",
      " [-0.03653032 -0.01963209 -0.04409729 ... -0.01067043  0.02560998\n",
      "   0.02877974]]\n",
      "\n",
      "Layer name: simple_rnn_13, Shape: (1,): \n",
      "Layer output\n",
      "[0.28396037]\n",
      "\n",
      "Layer name: dense_13, Shape: (1,): \n",
      "Layer output\n",
      "[0.43129978]\n"
     ]
    }
   ],
   "source": [
    "# getting output at each layer for test sample\n",
    "\n",
    "sample_pos = 100  # btw 0~24999\n",
    "testSample = x_test_pad[sample_pos][np.newaxis,...] # get the test sample\n",
    "\n",
    "layer_outs = [func([testSample, 1.]) for func in functors] # get the output at each layer for the test sample\n",
    "\n",
    "# print output at each layer\n",
    "for idx, layer in enumerate(model.layers):\n",
    "    print(\"\\nLayer name: {}, Shape: {}: \".format(layer.name, layer_outs[idx][0][0].shape))\n",
    "    print(\"Layer output\")\n",
    "    print(layer_outs[idx][0][0])"
   ]
  },
  {
   "cell_type": "code",
   "execution_count": null,
   "metadata": {},
   "outputs": [],
   "source": []
  }
 ],
 "metadata": {
  "accelerator": "GPU",
  "colab": {
   "collapsed_sections": [],
   "name": "SeqNLP_Project1_Questions.ipynb",
   "provenance": [],
   "version": "0.3.2"
  },
  "kernelspec": {
   "display_name": "Python 3",
   "language": "python",
   "name": "python3"
  },
  "language_info": {
   "codemirror_mode": {
    "name": "ipython",
    "version": 3
   },
   "file_extension": ".py",
   "mimetype": "text/x-python",
   "name": "python",
   "nbconvert_exporter": "python",
   "pygments_lexer": "ipython3",
   "version": "3.7.2"
  }
 },
 "nbformat": 4,
 "nbformat_minor": 1
}
