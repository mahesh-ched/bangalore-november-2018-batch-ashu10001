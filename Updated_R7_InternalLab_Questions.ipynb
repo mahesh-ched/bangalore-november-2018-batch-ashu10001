{
 "cells": [
  {
   "cell_type": "markdown",
   "metadata": {
    "colab_type": "text",
    "id": "4WH1Pr4KQlCh"
   },
   "source": [
    "### Build a DNN using Keras with `RELU` and `ADAM`"
   ]
  },
  {
   "cell_type": "markdown",
   "metadata": {
    "colab_type": "text",
    "id": "TbvI8LqlQlCl",
    "slideshow": {
     "slide_type": "slide"
    }
   },
   "source": [
    "#### Load tensorflow"
   ]
  },
  {
   "cell_type": "code",
   "execution_count": 1,
   "metadata": {
    "colab": {},
    "colab_type": "code",
    "id": "SPW-a-qYQlCp"
   },
   "outputs": [],
   "source": [
    "import tensorflow as tf\n",
    "tf.reset_default_graph()\n",
    "tf.set_random_seed(42)"
   ]
  },
  {
   "cell_type": "markdown",
   "metadata": {
    "colab_type": "text",
    "id": "74cQBsi5QlCw",
    "slideshow": {
     "slide_type": "slide"
    }
   },
   "source": [
    "#### Collect Fashion mnist data from tf.keras.datasets "
   ]
  },
  {
   "cell_type": "code",
   "execution_count": 2,
   "metadata": {
    "colab": {},
    "colab_type": "code",
    "id": "wVWy0oDTr2Kj"
   },
   "outputs": [],
   "source": [
    "(trainX, trainY),(testX, testY) = tf.keras.datasets.fashion_mnist.load_data()"
   ]
  },
  {
   "cell_type": "code",
   "execution_count": 3,
   "metadata": {},
   "outputs": [],
   "source": [
    "import numpy as np"
   ]
  },
  {
   "cell_type": "code",
   "execution_count": 4,
   "metadata": {},
   "outputs": [
    {
     "data": {
      "text/plain": [
       "10"
      ]
     },
     "execution_count": 4,
     "metadata": {},
     "output_type": "execute_result"
    }
   ],
   "source": [
    "#finding the number of unique classes in trainY\n",
    "len(np.unique(trainY))"
   ]
  },
  {
   "cell_type": "code",
   "execution_count": 5,
   "metadata": {},
   "outputs": [
    {
     "name": "stdout",
     "output_type": "stream",
     "text": [
      "[0 1 2 3 4 5 6 7 8 9]\n",
      "[ 1 16  5  3 19  8 18  6 23  0]\n"
     ]
    }
   ],
   "source": [
    "#2nd way to find the number of unique classes in trainY\n",
    "indices,u = np.unique(trainY, return_index = True) \n",
    "print(indices)\n",
    "print(u)"
   ]
  },
  {
   "cell_type": "markdown",
   "metadata": {
    "colab_type": "text",
    "id": "no7aWYZyQlC1",
    "slideshow": {
     "slide_type": "slide"
    }
   },
   "source": [
    "#### Change train and test labels into one-hot vectors"
   ]
  },
  {
   "cell_type": "code",
   "execution_count": 6,
   "metadata": {
    "colab": {},
    "colab_type": "code",
    "id": "UX6otc4wQlC2"
   },
   "outputs": [],
   "source": [
    "trainY = tf.keras.utils.to_categorical(trainY, num_classes=10)\n",
    "testY = tf.keras.utils.to_categorical(testY, num_classes=10)"
   ]
  },
  {
   "cell_type": "markdown",
   "metadata": {
    "colab_type": "text",
    "id": "QjNrRTdoQlC5",
    "slideshow": {
     "slide_type": "slide"
    }
   },
   "source": [
    "#### Build the Graph"
   ]
  },
  {
   "cell_type": "markdown",
   "metadata": {
    "colab_type": "text",
    "id": "CDJ9DHVNQlC7"
   },
   "source": [
    "#### Initialize model, reshape & normalize data"
   ]
  },
  {
   "cell_type": "code",
   "execution_count": 7,
   "metadata": {
    "colab": {
     "base_uri": "https://localhost:8080/",
     "height": 88
    },
    "colab_type": "code",
    "id": "pCDQs_g1QlC8",
    "outputId": "e854b4d2-903a-4515-c21b-bd6a6e4fe2f8"
   },
   "outputs": [
    {
     "name": "stdout",
     "output_type": "stream",
     "text": [
      "WARNING:tensorflow:From /Users/ashishsingh/anaconda3/lib/python3.7/site-packages/tensorflow/python/ops/resource_variable_ops.py:435: colocate_with (from tensorflow.python.framework.ops) is deprecated and will be removed in a future version.\n",
      "Instructions for updating:\n",
      "Colocations handled automatically by placer.\n"
     ]
    }
   ],
   "source": [
    "#Initialize model, reshape & normalize data\n",
    "model = tf.keras.models.Sequential()\n",
    "model.add(tf.keras.layers.Reshape((784,),input_shape=(28,28,)))\n",
    "model.add(tf.keras.layers.BatchNormalization())"
   ]
  },
  {
   "cell_type": "markdown",
   "metadata": {
    "colab_type": "text",
    "id": "kBGwTTilQlDD",
    "slideshow": {
     "slide_type": "slide"
    }
   },
   "source": [
    "#### Add two fully connected layers with 200 and 100 neurons respectively with `relu` activations. Add a dropout layer with `p=0.25`"
   ]
  },
  {
   "cell_type": "code",
   "execution_count": 8,
   "metadata": {
    "colab": {
     "base_uri": "https://localhost:8080/",
     "height": 88
    },
    "colab_type": "code",
    "id": "IXbfpfOzQlDF",
    "outputId": "f46a2e3a-2634-4e9e-88bd-57bb8de1ff0c"
   },
   "outputs": [
    {
     "name": "stdout",
     "output_type": "stream",
     "text": [
      "WARNING:tensorflow:From /Users/ashishsingh/anaconda3/lib/python3.7/site-packages/tensorflow/python/keras/layers/core.py:143: calling dropout (from tensorflow.python.ops.nn_ops) with keep_prob is deprecated and will be removed in a future version.\n",
      "Instructions for updating:\n",
      "Please use `rate` instead of `keep_prob`. Rate should be set to `rate = 1 - keep_prob`.\n"
     ]
    }
   ],
   "source": [
    "#Hidden layers\n",
    "model.add(tf.keras.layers.Dense(200, activation='relu', name='Layer_1'))\n",
    "model.add(tf.keras.layers.Dense(100, activation='relu', name='Layer_2'))\n",
    "\n",
    "#Dropout layer\n",
    "model.add(tf.keras.layers.Dropout(0.25))"
   ]
  },
  {
   "cell_type": "markdown",
   "metadata": {
    "colab_type": "text",
    "id": "5I8f5otcQlDJ"
   },
   "source": [
    "### Add the output layer with a fully connected layer with 10 neurons with `softmax` activation. Use `categorical_crossentropy` loss and `adam` optimizer and train the network. And, report the final validation."
   ]
  },
  {
   "cell_type": "code",
   "execution_count": 9,
   "metadata": {},
   "outputs": [],
   "source": [
    "#Output layer\n",
    "model.add(tf.keras.layers.Dense(10, activation='softmax', name='Output'))"
   ]
  },
  {
   "cell_type": "code",
   "execution_count": 10,
   "metadata": {},
   "outputs": [],
   "source": [
    "model.compile(optimizer='adam', loss='categorical_crossentropy', metrics=['accuracy'])"
   ]
  },
  {
   "cell_type": "code",
   "execution_count": 17,
   "metadata": {},
   "outputs": [
    {
     "name": "stdout",
     "output_type": "stream",
     "text": [
      "Train on 60000 samples, validate on 10000 samples\n",
      "Epoch 1/30\n",
      "60000/60000 [==============================] - 8s 133us/sample - loss: 0.1653 - acc: 0.9407 - val_loss: 0.5033 - val_acc: 0.8864\n",
      "Epoch 2/30\n",
      "60000/60000 [==============================] - 8s 130us/sample - loss: 0.1546 - acc: 0.9445 - val_loss: 0.4832 - val_acc: 0.8866\n",
      "Epoch 3/30\n",
      "60000/60000 [==============================] - 8s 130us/sample - loss: 0.1568 - acc: 0.9432 - val_loss: 0.5278 - val_acc: 0.8864\n",
      "Epoch 4/30\n",
      "60000/60000 [==============================] - 8s 130us/sample - loss: 0.1514 - acc: 0.9454 - val_loss: 0.5486 - val_acc: 0.8857\n",
      "Epoch 5/30\n",
      "60000/60000 [==============================] - 8s 133us/sample - loss: 0.1544 - acc: 0.9433 - val_loss: 0.5255 - val_acc: 0.8876\n",
      "Epoch 6/30\n",
      "60000/60000 [==============================] - 8s 131us/sample - loss: 0.1531 - acc: 0.9445 - val_loss: 0.5099 - val_acc: 0.8909\n",
      "Epoch 7/30\n",
      "60000/60000 [==============================] - 8s 132us/sample - loss: 0.1530 - acc: 0.9443 - val_loss: 0.5108 - val_acc: 0.8878\n",
      "Epoch 8/30\n",
      "60000/60000 [==============================] - 8s 136us/sample - loss: 0.1489 - acc: 0.9458 - val_loss: 0.5195 - val_acc: 0.8877\n",
      "Epoch 9/30\n",
      "60000/60000 [==============================] - 8s 140us/sample - loss: 0.1499 - acc: 0.9455 - val_loss: 0.5137 - val_acc: 0.8883\n",
      "Epoch 10/30\n",
      "60000/60000 [==============================] - 9s 144us/sample - loss: 0.1475 - acc: 0.9474 - val_loss: 0.5226 - val_acc: 0.8875\n",
      "Epoch 11/30\n",
      "60000/60000 [==============================] - 8s 141us/sample - loss: 0.1488 - acc: 0.9455 - val_loss: 0.5253 - val_acc: 0.8860\n",
      "Epoch 12/30\n",
      "60000/60000 [==============================] - 8s 134us/sample - loss: 0.1487 - acc: 0.9470 - val_loss: 0.5241 - val_acc: 0.8869\n",
      "Epoch 13/30\n",
      "60000/60000 [==============================] - 8s 134us/sample - loss: 0.1462 - acc: 0.9479 - val_loss: 0.4859 - val_acc: 0.8903\n",
      "Epoch 14/30\n",
      "60000/60000 [==============================] - 8s 134us/sample - loss: 0.1429 - acc: 0.9485 - val_loss: 0.5436 - val_acc: 0.8817\n",
      "Epoch 15/30\n",
      "60000/60000 [==============================] - 8s 136us/sample - loss: 0.1401 - acc: 0.9490 - val_loss: 0.5506 - val_acc: 0.8898\n",
      "Epoch 16/30\n",
      "60000/60000 [==============================] - 8s 134us/sample - loss: 0.1440 - acc: 0.9486 - val_loss: 0.5177 - val_acc: 0.8920\n",
      "Epoch 17/30\n",
      "60000/60000 [==============================] - 9s 145us/sample - loss: 0.1441 - acc: 0.9493 - val_loss: 0.5284 - val_acc: 0.8874\n",
      "Epoch 18/30\n",
      "60000/60000 [==============================] - 8s 137us/sample - loss: 0.1383 - acc: 0.9498 - val_loss: 0.5118 - val_acc: 0.8878\n",
      "Epoch 19/30\n",
      "60000/60000 [==============================] - 8s 132us/sample - loss: 0.1424 - acc: 0.9488 - val_loss: 0.5241 - val_acc: 0.8891\n",
      "Epoch 20/30\n",
      "60000/60000 [==============================] - 8s 132us/sample - loss: 0.1425 - acc: 0.9490 - val_loss: 0.5466 - val_acc: 0.8871\n",
      "Epoch 21/30\n",
      "60000/60000 [==============================] - 8s 136us/sample - loss: 0.1374 - acc: 0.9510 - val_loss: 0.5296 - val_acc: 0.8906\n",
      "Epoch 22/30\n",
      "60000/60000 [==============================] - 8s 134us/sample - loss: 0.1395 - acc: 0.9503 - val_loss: 0.5482 - val_acc: 0.8894\n",
      "Epoch 23/30\n",
      "60000/60000 [==============================] - 8s 139us/sample - loss: 0.1407 - acc: 0.9503 - val_loss: 0.5384 - val_acc: 0.8851\n",
      "Epoch 24/30\n",
      "60000/60000 [==============================] - 8s 131us/sample - loss: 0.1368 - acc: 0.9510 - val_loss: 0.5372 - val_acc: 0.8846\n",
      "Epoch 25/30\n",
      "60000/60000 [==============================] - 8s 132us/sample - loss: 0.1357 - acc: 0.9506 - val_loss: 0.5415 - val_acc: 0.8913\n",
      "Epoch 26/30\n",
      "60000/60000 [==============================] - 8s 132us/sample - loss: 0.1367 - acc: 0.9510 - val_loss: 0.5466 - val_acc: 0.8845\n",
      "Epoch 27/30\n",
      "60000/60000 [==============================] - 8s 132us/sample - loss: 0.1329 - acc: 0.9513 - val_loss: 0.5727 - val_acc: 0.8867\n",
      "Epoch 28/30\n",
      "60000/60000 [==============================] - 8s 133us/sample - loss: 0.1413 - acc: 0.9496 - val_loss: 0.5662 - val_acc: 0.8870\n",
      "Epoch 29/30\n",
      "60000/60000 [==============================] - 8s 133us/sample - loss: 0.1343 - acc: 0.9520 - val_loss: 0.5581 - val_acc: 0.8892\n",
      "Epoch 30/30\n",
      "60000/60000 [==============================] - 8s 134us/sample - loss: 0.1363 - acc: 0.9520 - val_loss: 0.5734 - val_acc: 0.8764\n"
     ]
    }
   ],
   "source": [
    "# Fit the model\n",
    "\n",
    "history = model.fit(trainX,trainY,          \n",
    "          validation_data=(testX,testY),\n",
    "          epochs=30,\n",
    "          batch_size=20)\n",
    "\n"
   ]
  },
  {
   "cell_type": "code",
   "execution_count": 18,
   "metadata": {},
   "outputs": [
    {
     "data": {
      "image/png": "[encoded data removed]",
      "text/plain": [
       "<Figure size 432x288 with 1 Axes>"
      ]
     },
     "metadata": {
      "needs_background": "light"
     },
     "output_type": "display_data"
    }
   ],
   "source": [
    "import matplotlib.pyplot as plt\n",
    "plt.plot(history.history['loss'])\n",
    "plt.plot(history.history['val_loss'])\n",
    "plt.title('Model loss')\n",
    "plt.ylabel('Loss')\n",
    "plt.xlabel('Epoch')\n",
    "plt.legend(['Train', 'Test'], loc='upper left')\n",
    "plt.show()"
   ]
  },
  {
   "cell_type": "code",
   "execution_count": 19,
   "metadata": {},
   "outputs": [
    {
     "data": {
      "image/png": "[encoded data removed]",
      "text/plain": [
       "<Figure size 432x288 with 1 Axes>"
      ]
     },
     "metadata": {
      "needs_background": "light"
     },
     "output_type": "display_data"
    }
   ],
   "source": [
    "# Plot training & validation accuracy values\n",
    "plt.plot(history.history['acc'])\n",
    "plt.plot(history.history['val_acc'])\n",
    "plt.title('Model accuracy')\n",
    "plt.ylabel('Accuracy')\n",
    "plt.xlabel('Epoch')\n",
    "plt.legend(['Train', 'Test'], loc='upper left')\n",
    "plt.show()"
   ]
  },
  {
   "cell_type": "code",
   "execution_count": null,
   "metadata": {},
   "outputs": [],
   "source": []
  }
 ],
 "metadata": {
  "colab": {
   "collapsed_sections": [],
   "name": "updated_R7_ExternalLab_Questions.ipynb",
   "provenance": [],
   "version": "0.3.2"
  },
  "kernelspec": {
   "display_name": "Python 3",
   "language": "python",
   "name": "python3"
  },
  "language_info": {
   "codemirror_mode": {
    "name": "ipython",
    "version": 3
   },
   "file_extension": ".py",
   "mimetype": "text/x-python",
   "name": "python",
   "nbconvert_exporter": "python",
   "pygments_lexer": "ipython3",
   "version": "3.7.2"
  }
 },
 "nbformat": 4,
 "nbformat_minor": 1
}
