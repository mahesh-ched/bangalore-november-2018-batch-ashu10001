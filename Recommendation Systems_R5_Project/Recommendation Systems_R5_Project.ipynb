{
 "cells": [
  {
   "cell_type": "markdown",
   "metadata": {},
   "source": [
    "Steps -\n",
    "\n",
    "Read and explore the given dataset.  ( Rename column/add headers, plot histograms, find data characteristics)\n",
    "Take a subset of the dataset to make it less sparse/ denser. ( For example, keep the users only who has given 50 or more number of ratings )\n",
    "Split the data randomly into train and test dataset. ( For example, split it in 70/30 ratio)\n",
    "Build Popularity Recommender model.\n",
    "Build Collaborative Filtering model.\n",
    "Evaluate both the models. ( Once the model is trained on the training data, it can be used to compute the error (RMSE) on predictions made on the test data.)\n",
    "Get top - K ( K = 5) recommendations. Since our goal is to recommend new products to each user based on his/her habits, we will recommend 5 new products.\n",
    "Summarise your insights.\n"
   ]
  },
  {
   "cell_type": "code",
   "execution_count": 129,
   "metadata": {},
   "outputs": [],
   "source": [
    "%matplotlib inline\n",
    "import sklearn as sns\n",
    "import pandas as pd\n",
    "\n",
    "from sklearn.model_selection import train_test_split\n",
    "import numpy as np\n",
    "import time\n",
    "from sklearn.externals import joblib\n",
    "import Recommenders as Recommenders\n",
    "import Evaluation as Evaluation"
   ]
  },
  {
   "cell_type": "code",
   "execution_count": 87,
   "metadata": {},
   "outputs": [],
   "source": [
    "df_ratings = pd.read_csv(\"ratings_Electronics.csv\", names = ['user_id', 'productId', 'ratings', 'timestamp'])"
   ]
  },
  {
   "cell_type": "code",
   "execution_count": 88,
   "metadata": {},
   "outputs": [
    {
     "data": {
      "text/html": [
       "<div>\n",
       "<style scoped>\n",
       "    .dataframe tbody tr th:only-of-type {\n",
       "        vertical-align: middle;\n",
       "    }\n",
       "\n",
       "    .dataframe tbody tr th {\n",
       "        vertical-align: top;\n",
       "    }\n",
       "\n",
       "    .dataframe thead th {\n",
       "        text-align: right;\n",
       "    }\n",
       "</style>\n",
       "<table border=\"1\" class=\"dataframe\">\n",
       "  <thead>\n",
       "    <tr style=\"text-align: right;\">\n",
       "      <th></th>\n",
       "      <th>user_id</th>\n",
       "      <th>productId</th>\n",
       "      <th>ratings</th>\n",
       "      <th>timestamp</th>\n",
       "    </tr>\n",
       "  </thead>\n",
       "  <tbody>\n",
       "    <tr>\n",
       "      <th>0</th>\n",
       "      <td>AKM1MP6P0OYPR</td>\n",
       "      <td>0132793040</td>\n",
       "      <td>5.0</td>\n",
       "      <td>1365811200</td>\n",
       "    </tr>\n",
       "    <tr>\n",
       "      <th>1</th>\n",
       "      <td>A2CX7LUOHB2NDG</td>\n",
       "      <td>0321732944</td>\n",
       "      <td>5.0</td>\n",
       "      <td>1341100800</td>\n",
       "    </tr>\n",
       "    <tr>\n",
       "      <th>2</th>\n",
       "      <td>A2NWSAGRHCP8N5</td>\n",
       "      <td>0439886341</td>\n",
       "      <td>1.0</td>\n",
       "      <td>1367193600</td>\n",
       "    </tr>\n",
       "    <tr>\n",
       "      <th>3</th>\n",
       "      <td>A2WNBOD3WNDNKT</td>\n",
       "      <td>0439886341</td>\n",
       "      <td>3.0</td>\n",
       "      <td>1374451200</td>\n",
       "    </tr>\n",
       "    <tr>\n",
       "      <th>4</th>\n",
       "      <td>A1GI0U4ZRJA8WN</td>\n",
       "      <td>0439886341</td>\n",
       "      <td>1.0</td>\n",
       "      <td>1334707200</td>\n",
       "    </tr>\n",
       "  </tbody>\n",
       "</table>\n",
       "</div>"
      ],
      "text/plain": [
       "          user_id   productId  ratings   timestamp\n",
       "0   AKM1MP6P0OYPR  0132793040      5.0  1365811200\n",
       "1  A2CX7LUOHB2NDG  0321732944      5.0  1341100800\n",
       "2  A2NWSAGRHCP8N5  0439886341      1.0  1367193600\n",
       "3  A2WNBOD3WNDNKT  0439886341      3.0  1374451200\n",
       "4  A1GI0U4ZRJA8WN  0439886341      1.0  1334707200"
      ]
     },
     "execution_count": 88,
     "metadata": {},
     "output_type": "execute_result"
    }
   ],
   "source": [
    "df_ratings.head()"
   ]
  },
  {
   "cell_type": "code",
   "execution_count": 89,
   "metadata": {},
   "outputs": [
    {
     "data": {
      "text/plain": [
       "(7824482, 4)"
      ]
     },
     "execution_count": 89,
     "metadata": {},
     "output_type": "execute_result"
    }
   ],
   "source": [
    "df_ratings.shape"
   ]
  },
  {
   "cell_type": "code",
   "execution_count": 90,
   "metadata": {},
   "outputs": [],
   "source": [
    "df_ratings.drop(columns='timestamp', inplace=True)"
   ]
  },
  {
   "cell_type": "code",
   "execution_count": 91,
   "metadata": {},
   "outputs": [
    {
     "data": {
      "text/html": [
       "<div>\n",
       "<style scoped>\n",
       "    .dataframe tbody tr th:only-of-type {\n",
       "        vertical-align: middle;\n",
       "    }\n",
       "\n",
       "    .dataframe tbody tr th {\n",
       "        vertical-align: top;\n",
       "    }\n",
       "\n",
       "    .dataframe thead th {\n",
       "        text-align: right;\n",
       "    }\n",
       "</style>\n",
       "<table border=\"1\" class=\"dataframe\">\n",
       "  <thead>\n",
       "    <tr style=\"text-align: right;\">\n",
       "      <th></th>\n",
       "      <th>user_id</th>\n",
       "      <th>productId</th>\n",
       "      <th>ratings</th>\n",
       "    </tr>\n",
       "  </thead>\n",
       "  <tbody>\n",
       "    <tr>\n",
       "      <th>0</th>\n",
       "      <td>AKM1MP6P0OYPR</td>\n",
       "      <td>0132793040</td>\n",
       "      <td>5.0</td>\n",
       "    </tr>\n",
       "    <tr>\n",
       "      <th>1</th>\n",
       "      <td>A2CX7LUOHB2NDG</td>\n",
       "      <td>0321732944</td>\n",
       "      <td>5.0</td>\n",
       "    </tr>\n",
       "    <tr>\n",
       "      <th>2</th>\n",
       "      <td>A2NWSAGRHCP8N5</td>\n",
       "      <td>0439886341</td>\n",
       "      <td>1.0</td>\n",
       "    </tr>\n",
       "    <tr>\n",
       "      <th>3</th>\n",
       "      <td>A2WNBOD3WNDNKT</td>\n",
       "      <td>0439886341</td>\n",
       "      <td>3.0</td>\n",
       "    </tr>\n",
       "    <tr>\n",
       "      <th>4</th>\n",
       "      <td>A1GI0U4ZRJA8WN</td>\n",
       "      <td>0439886341</td>\n",
       "      <td>1.0</td>\n",
       "    </tr>\n",
       "  </tbody>\n",
       "</table>\n",
       "</div>"
      ],
      "text/plain": [
       "          user_id   productId  ratings\n",
       "0   AKM1MP6P0OYPR  0132793040      5.0\n",
       "1  A2CX7LUOHB2NDG  0321732944      5.0\n",
       "2  A2NWSAGRHCP8N5  0439886341      1.0\n",
       "3  A2WNBOD3WNDNKT  0439886341      3.0\n",
       "4  A1GI0U4ZRJA8WN  0439886341      1.0"
      ]
     },
     "execution_count": 91,
     "metadata": {},
     "output_type": "execute_result"
    }
   ],
   "source": [
    "df_ratings.head()"
   ]
  },
  {
   "cell_type": "code",
   "execution_count": 92,
   "metadata": {},
   "outputs": [
    {
     "data": {
      "text/plain": [
       "user_id      0\n",
       "productId    0\n",
       "ratings      0\n",
       "dtype: int64"
      ]
     },
     "execution_count": 92,
     "metadata": {},
     "output_type": "execute_result"
    }
   ],
   "source": [
    "df_ratings.isna().sum()"
   ]
  },
  {
   "cell_type": "code",
   "execution_count": 93,
   "metadata": {},
   "outputs": [
    {
     "data": {
      "text/plain": [
       "user_id      0\n",
       "productId    0\n",
       "ratings      0\n",
       "dtype: int64"
      ]
     },
     "execution_count": 93,
     "metadata": {},
     "output_type": "execute_result"
    }
   ],
   "source": [
    "df_ratings.isnull().sum()"
   ]
  },
  {
   "cell_type": "code",
   "execution_count": 94,
   "metadata": {},
   "outputs": [
    {
     "data": {
      "text/plain": [
       "476002"
      ]
     },
     "execution_count": 94,
     "metadata": {},
     "output_type": "execute_result"
    }
   ],
   "source": [
    "# of unique values\n",
    "df_ratings.productId.nunique()"
   ]
  },
  {
   "cell_type": "code",
   "execution_count": 95,
   "metadata": {},
   "outputs": [
    {
     "data": {
      "text/plain": [
       "5"
      ]
     },
     "execution_count": 95,
     "metadata": {},
     "output_type": "execute_result"
    }
   ],
   "source": [
    "df_ratings.ratings.nunique()"
   ]
  },
  {
   "cell_type": "code",
   "execution_count": 96,
   "metadata": {},
   "outputs": [
    {
     "name": "stdout",
     "output_type": "stream",
     "text": [
      "<class 'pandas.core.frame.DataFrame'>\n",
      "RangeIndex: 7824482 entries, 0 to 7824481\n",
      "Data columns (total 3 columns):\n",
      "user_id      object\n",
      "productId    object\n",
      "ratings      float64\n",
      "dtypes: float64(1), object(2)\n",
      "memory usage: 179.1+ MB\n"
     ]
    }
   ],
   "source": [
    "df_ratings.info()"
   ]
  },
  {
   "cell_type": "code",
   "execution_count": 97,
   "metadata": {},
   "outputs": [
    {
     "data": {
      "text/plain": [
       "user_id\n",
       "A00000262KYZUE4J55XGL    1\n",
       "A000063614T1OE0BUSKUT    1\n",
       "A00009182QVLSWIGHLS1B    1\n",
       "A00009661LC9LQPGKJ24G    1\n",
       "A00010809P09NUU6ZP6H     1\n",
       "A00014061C2IZNE0YEILY    1\n",
       "A000145014WOTZJ5NSKOR    1\n",
       "A00015222LZ55IJSVL5IX    1\n",
       "A00015228CUPGPF957DS     1\n",
       "A0001528BGUBOEVR6T5U     2\n",
       "A00018041RRVMCICCAP79    1\n",
       "A000186437REL8X2RW8UW    1\n",
       "A000187635I595IAVSQLH    1\n",
       "A00019466UY2KR1IPXQN     1\n",
       "A0002012T7HVDB2EF4RH     1\n",
       "A0002032ZFQKDVHYKGWR     1\n",
       "A0002550196XWX0PEOZND    1\n",
       "A00027081JC8NE8X6TD5     1\n",
       "A00027561NC7JTXEP3EOD    1\n",
       "A00028781NF0U7YEN9U19    1\n",
       "A00029263J863WSR0TDRS    1\n",
       "A000294826HEMAY5L3K1H    1\n",
       "A00029825UMZ6N0ETLHY     1\n",
       "A00033481VZEEGYXEN32T    2\n",
       "A00037441I8XOQJSUWCAG    1\n",
       "A00038802J7X43YTW44TD    2\n",
       "A000428226SAAAIBK8I36    1\n",
       "A0004478EF5NFPHLGCWG     1\n",
       "A00045341JXVKNK93M6JE    1\n",
       "A00059641RDIAMDC7IJRZ    1\n",
       "                        ..\n",
       "AZZYJH0XNZ896            1\n",
       "AZZYK2BT6EU8V            2\n",
       "AZZYKX2KZ0Q82            1\n",
       "AZZYMQZHES0KT            1\n",
       "AZZYO4XQYE89O            1\n",
       "AZZYQ6753ZHTK            1\n",
       "AZZYTPFG6JF1K            1\n",
       "AZZYUA6JI1MO0            1\n",
       "AZZYVKZGCY2MQ            1\n",
       "AZZYW4YOE1B6E            3\n",
       "AZZYW8JCAHAQY            1\n",
       "AZZYWDOD33FFE            1\n",
       "AZZYXVW7BAJVD            1\n",
       "AZZYYC8OX8ELM            1\n",
       "AZZYYPNQ2ZYH6            1\n",
       "AZZZ3LGTCGUZF            1\n",
       "AZZZ9NB3TEH8F            1\n",
       "AZZZBEVIZYROM            1\n",
       "AZZZBHHLU1CMM            1\n",
       "AZZZBMD2MDOQR            1\n",
       "AZZZDSAJ757Z4            1\n",
       "AZZZEWADNFNUM            2\n",
       "AZZZJXM9GW3C5            1\n",
       "AZZZM2FO19RUO            1\n",
       "AZZZMSZI9LKE6            1\n",
       "AZZZOVIBXHGDR            3\n",
       "AZZZRS1YZ8HVP            1\n",
       "AZZZSIK7NFFVP            1\n",
       "AZZZWXXUPZ1F3            1\n",
       "AZZZY1W55XHZR            1\n",
       "Name: ratings, Length: 4201696, dtype: int64"
      ]
     },
     "execution_count": 97,
     "metadata": {},
     "output_type": "execute_result"
    }
   ],
   "source": [
    "df_ratings.groupby('user_id')['ratings'].nunique()"
   ]
  },
  {
   "cell_type": "code",
   "execution_count": 98,
   "metadata": {},
   "outputs": [],
   "source": [
    "df_ratings['tot_rating'] = df_ratings.groupby('user_id')['productId'].transform('count')"
   ]
  },
  {
   "cell_type": "code",
   "execution_count": 99,
   "metadata": {},
   "outputs": [
    {
     "data": {
      "text/html": [
       "<div>\n",
       "<style scoped>\n",
       "    .dataframe tbody tr th:only-of-type {\n",
       "        vertical-align: middle;\n",
       "    }\n",
       "\n",
       "    .dataframe tbody tr th {\n",
       "        vertical-align: top;\n",
       "    }\n",
       "\n",
       "    .dataframe thead th {\n",
       "        text-align: right;\n",
       "    }\n",
       "</style>\n",
       "<table border=\"1\" class=\"dataframe\">\n",
       "  <thead>\n",
       "    <tr style=\"text-align: right;\">\n",
       "      <th></th>\n",
       "      <th>user_id</th>\n",
       "      <th>productId</th>\n",
       "      <th>ratings</th>\n",
       "      <th>tot_rating</th>\n",
       "    </tr>\n",
       "  </thead>\n",
       "  <tbody>\n",
       "    <tr>\n",
       "      <th>0</th>\n",
       "      <td>AKM1MP6P0OYPR</td>\n",
       "      <td>0132793040</td>\n",
       "      <td>5.0</td>\n",
       "      <td>2</td>\n",
       "    </tr>\n",
       "    <tr>\n",
       "      <th>1</th>\n",
       "      <td>A2CX7LUOHB2NDG</td>\n",
       "      <td>0321732944</td>\n",
       "      <td>5.0</td>\n",
       "      <td>4</td>\n",
       "    </tr>\n",
       "    <tr>\n",
       "      <th>2</th>\n",
       "      <td>A2NWSAGRHCP8N5</td>\n",
       "      <td>0439886341</td>\n",
       "      <td>1.0</td>\n",
       "      <td>1</td>\n",
       "    </tr>\n",
       "    <tr>\n",
       "      <th>3</th>\n",
       "      <td>A2WNBOD3WNDNKT</td>\n",
       "      <td>0439886341</td>\n",
       "      <td>3.0</td>\n",
       "      <td>1</td>\n",
       "    </tr>\n",
       "    <tr>\n",
       "      <th>4</th>\n",
       "      <td>A1GI0U4ZRJA8WN</td>\n",
       "      <td>0439886341</td>\n",
       "      <td>1.0</td>\n",
       "      <td>1</td>\n",
       "    </tr>\n",
       "  </tbody>\n",
       "</table>\n",
       "</div>"
      ],
      "text/plain": [
       "          user_id   productId  ratings  tot_rating\n",
       "0   AKM1MP6P0OYPR  0132793040      5.0           2\n",
       "1  A2CX7LUOHB2NDG  0321732944      5.0           4\n",
       "2  A2NWSAGRHCP8N5  0439886341      1.0           1\n",
       "3  A2WNBOD3WNDNKT  0439886341      3.0           1\n",
       "4  A1GI0U4ZRJA8WN  0439886341      1.0           1"
      ]
     },
     "execution_count": 99,
     "metadata": {},
     "output_type": "execute_result"
    }
   ],
   "source": [
    "df_ratings.head()"
   ]
  },
  {
   "cell_type": "code",
   "execution_count": 100,
   "metadata": {},
   "outputs": [],
   "source": [
    "df_ratings2 = df_ratings[df_ratings[\"tot_rating\"] >= 50]"
   ]
  },
  {
   "cell_type": "code",
   "execution_count": 101,
   "metadata": {},
   "outputs": [
    {
     "data": {
      "text/plain": [
       "(7824482, 4)"
      ]
     },
     "execution_count": 101,
     "metadata": {},
     "output_type": "execute_result"
    }
   ],
   "source": [
    "df_ratings.shape"
   ]
  },
  {
   "cell_type": "code",
   "execution_count": 102,
   "metadata": {},
   "outputs": [
    {
     "data": {
      "text/plain": [
       "(125871, 4)"
      ]
     },
     "execution_count": 102,
     "metadata": {},
     "output_type": "execute_result"
    }
   ],
   "source": [
    "df_ratings2.shape"
   ]
  },
  {
   "cell_type": "code",
   "execution_count": 103,
   "metadata": {},
   "outputs": [
    {
     "data": {
      "text/html": [
       "<div>\n",
       "<style scoped>\n",
       "    .dataframe tbody tr th:only-of-type {\n",
       "        vertical-align: middle;\n",
       "    }\n",
       "\n",
       "    .dataframe tbody tr th {\n",
       "        vertical-align: top;\n",
       "    }\n",
       "\n",
       "    .dataframe thead th {\n",
       "        text-align: right;\n",
       "    }\n",
       "</style>\n",
       "<table border=\"1\" class=\"dataframe\">\n",
       "  <thead>\n",
       "    <tr style=\"text-align: right;\">\n",
       "      <th></th>\n",
       "      <th>user_id</th>\n",
       "      <th>productId</th>\n",
       "      <th>ratings</th>\n",
       "      <th>tot_rating</th>\n",
       "    </tr>\n",
       "  </thead>\n",
       "  <tbody>\n",
       "    <tr>\n",
       "      <th>94</th>\n",
       "      <td>A3BY5KCNQZXV5U</td>\n",
       "      <td>0594451647</td>\n",
       "      <td>5.0</td>\n",
       "      <td>50</td>\n",
       "    </tr>\n",
       "    <tr>\n",
       "      <th>118</th>\n",
       "      <td>AT09WGFUM934H</td>\n",
       "      <td>0594481813</td>\n",
       "      <td>3.0</td>\n",
       "      <td>110</td>\n",
       "    </tr>\n",
       "    <tr>\n",
       "      <th>177</th>\n",
       "      <td>A32HSNCNPRUMTR</td>\n",
       "      <td>0970407998</td>\n",
       "      <td>1.0</td>\n",
       "      <td>72</td>\n",
       "    </tr>\n",
       "    <tr>\n",
       "      <th>178</th>\n",
       "      <td>A17HMM1M7T9PJ1</td>\n",
       "      <td>0970407998</td>\n",
       "      <td>4.0</td>\n",
       "      <td>151</td>\n",
       "    </tr>\n",
       "    <tr>\n",
       "      <th>492</th>\n",
       "      <td>A3CLWR1UUZT6TG</td>\n",
       "      <td>0972683275</td>\n",
       "      <td>5.0</td>\n",
       "      <td>58</td>\n",
       "    </tr>\n",
       "  </tbody>\n",
       "</table>\n",
       "</div>"
      ],
      "text/plain": [
       "            user_id   productId  ratings  tot_rating\n",
       "94   A3BY5KCNQZXV5U  0594451647      5.0          50\n",
       "118   AT09WGFUM934H  0594481813      3.0         110\n",
       "177  A32HSNCNPRUMTR  0970407998      1.0          72\n",
       "178  A17HMM1M7T9PJ1  0970407998      4.0         151\n",
       "492  A3CLWR1UUZT6TG  0972683275      5.0          58"
      ]
     },
     "execution_count": 103,
     "metadata": {},
     "output_type": "execute_result"
    }
   ],
   "source": [
    "df_ratings2.head()"
   ]
  },
  {
   "cell_type": "code",
   "execution_count": 104,
   "metadata": {},
   "outputs": [],
   "source": [
    "df_ratings2.drop(columns='tot_rating', axis=1, inplace=True)"
   ]
  },
  {
   "cell_type": "code",
   "execution_count": 105,
   "metadata": {},
   "outputs": [
    {
     "data": {
      "text/html": [
       "<div>\n",
       "<style scoped>\n",
       "    .dataframe tbody tr th:only-of-type {\n",
       "        vertical-align: middle;\n",
       "    }\n",
       "\n",
       "    .dataframe tbody tr th {\n",
       "        vertical-align: top;\n",
       "    }\n",
       "\n",
       "    .dataframe thead th {\n",
       "        text-align: right;\n",
       "    }\n",
       "</style>\n",
       "<table border=\"1\" class=\"dataframe\">\n",
       "  <thead>\n",
       "    <tr style=\"text-align: right;\">\n",
       "      <th></th>\n",
       "      <th>user_id</th>\n",
       "      <th>productId</th>\n",
       "      <th>ratings</th>\n",
       "    </tr>\n",
       "  </thead>\n",
       "  <tbody>\n",
       "    <tr>\n",
       "      <th>94</th>\n",
       "      <td>A3BY5KCNQZXV5U</td>\n",
       "      <td>0594451647</td>\n",
       "      <td>5.0</td>\n",
       "    </tr>\n",
       "    <tr>\n",
       "      <th>118</th>\n",
       "      <td>AT09WGFUM934H</td>\n",
       "      <td>0594481813</td>\n",
       "      <td>3.0</td>\n",
       "    </tr>\n",
       "    <tr>\n",
       "      <th>177</th>\n",
       "      <td>A32HSNCNPRUMTR</td>\n",
       "      <td>0970407998</td>\n",
       "      <td>1.0</td>\n",
       "    </tr>\n",
       "    <tr>\n",
       "      <th>178</th>\n",
       "      <td>A17HMM1M7T9PJ1</td>\n",
       "      <td>0970407998</td>\n",
       "      <td>4.0</td>\n",
       "    </tr>\n",
       "    <tr>\n",
       "      <th>492</th>\n",
       "      <td>A3CLWR1UUZT6TG</td>\n",
       "      <td>0972683275</td>\n",
       "      <td>5.0</td>\n",
       "    </tr>\n",
       "  </tbody>\n",
       "</table>\n",
       "</div>"
      ],
      "text/plain": [
       "            user_id   productId  ratings\n",
       "94   A3BY5KCNQZXV5U  0594451647      5.0\n",
       "118   AT09WGFUM934H  0594481813      3.0\n",
       "177  A32HSNCNPRUMTR  0970407998      1.0\n",
       "178  A17HMM1M7T9PJ1  0970407998      4.0\n",
       "492  A3CLWR1UUZT6TG  0972683275      5.0"
      ]
     },
     "execution_count": 105,
     "metadata": {},
     "output_type": "execute_result"
    }
   ],
   "source": [
    "df_ratings2.head()"
   ]
  },
  {
   "cell_type": "code",
   "execution_count": 106,
   "metadata": {},
   "outputs": [],
   "source": [
    "users = df_ratings2['user_id'].unique()"
   ]
  },
  {
   "cell_type": "code",
   "execution_count": 107,
   "metadata": {},
   "outputs": [
    {
     "data": {
      "text/plain": [
       "1540"
      ]
     },
     "execution_count": 107,
     "metadata": {},
     "output_type": "execute_result"
    }
   ],
   "source": [
    "len(users)"
   ]
  },
  {
   "cell_type": "code",
   "execution_count": 108,
   "metadata": {},
   "outputs": [],
   "source": [
    "train_ratings, test_ratings = train_test_split(df_ratings2, test_size = 0.30, random_state=0)"
   ]
  },
  {
   "cell_type": "code",
   "execution_count": null,
   "metadata": {},
   "outputs": [],
   "source": []
  },
  {
   "cell_type": "markdown",
   "metadata": {},
   "source": [
    "### Create an instance of popularity based recommender class"
   ]
  },
  {
   "cell_type": "code",
   "execution_count": 130,
   "metadata": {},
   "outputs": [],
   "source": [
    "rating_pop_recom = Recommenders.popularity_recommender_py()"
   ]
  },
  {
   "cell_type": "code",
   "execution_count": 131,
   "metadata": {},
   "outputs": [],
   "source": [
    "# rating_pop_recom.create(train_ratings, 'user"
   ]
  },
  {
   "cell_type": "code",
   "execution_count": 132,
   "metadata": {},
   "outputs": [],
   "source": [
    "rating_pop_recom.create(train_ratings, 'user_id', 'productId')"
   ]
  },
  {
   "cell_type": "code",
   "execution_count": 133,
   "metadata": {},
   "outputs": [
    {
     "data": {
      "text/html": [
       "<div>\n",
       "<style scoped>\n",
       "    .dataframe tbody tr th:only-of-type {\n",
       "        vertical-align: middle;\n",
       "    }\n",
       "\n",
       "    .dataframe tbody tr th {\n",
       "        vertical-align: top;\n",
       "    }\n",
       "\n",
       "    .dataframe thead th {\n",
       "        text-align: right;\n",
       "    }\n",
       "</style>\n",
       "<table border=\"1\" class=\"dataframe\">\n",
       "  <thead>\n",
       "    <tr style=\"text-align: right;\">\n",
       "      <th></th>\n",
       "      <th>user_id</th>\n",
       "      <th>productId</th>\n",
       "      <th>score</th>\n",
       "      <th>Rank</th>\n",
       "    </tr>\n",
       "  </thead>\n",
       "  <tbody>\n",
       "    <tr>\n",
       "      <th>30847</th>\n",
       "      <td>A341HCMGNZCBIT</td>\n",
       "      <td>B0088CJT4U</td>\n",
       "      <td>133</td>\n",
       "      <td>1.0</td>\n",
       "    </tr>\n",
       "    <tr>\n",
       "      <th>30287</th>\n",
       "      <td>A341HCMGNZCBIT</td>\n",
       "      <td>B007WTAJTO</td>\n",
       "      <td>124</td>\n",
       "      <td>2.0</td>\n",
       "    </tr>\n",
       "    <tr>\n",
       "      <th>19647</th>\n",
       "      <td>A341HCMGNZCBIT</td>\n",
       "      <td>B003ES5ZUU</td>\n",
       "      <td>122</td>\n",
       "      <td>3.0</td>\n",
       "    </tr>\n",
       "    <tr>\n",
       "      <th>8752</th>\n",
       "      <td>A341HCMGNZCBIT</td>\n",
       "      <td>B000N99BBC</td>\n",
       "      <td>114</td>\n",
       "      <td>4.0</td>\n",
       "    </tr>\n",
       "    <tr>\n",
       "      <th>30555</th>\n",
       "      <td>A341HCMGNZCBIT</td>\n",
       "      <td>B00829THK0</td>\n",
       "      <td>97</td>\n",
       "      <td>5.0</td>\n",
       "    </tr>\n",
       "    <tr>\n",
       "      <th>30559</th>\n",
       "      <td>A341HCMGNZCBIT</td>\n",
       "      <td>B00829TIEK</td>\n",
       "      <td>97</td>\n",
       "      <td>6.0</td>\n",
       "    </tr>\n",
       "    <tr>\n",
       "      <th>17384</th>\n",
       "      <td>A341HCMGNZCBIT</td>\n",
       "      <td>B002R5AM7C</td>\n",
       "      <td>94</td>\n",
       "      <td>7.0</td>\n",
       "    </tr>\n",
       "    <tr>\n",
       "      <th>31107</th>\n",
       "      <td>A341HCMGNZCBIT</td>\n",
       "      <td>B008DWCRQW</td>\n",
       "      <td>91</td>\n",
       "      <td>8.0</td>\n",
       "    </tr>\n",
       "    <tr>\n",
       "      <th>17573</th>\n",
       "      <td>A341HCMGNZCBIT</td>\n",
       "      <td>B002SZEOLG</td>\n",
       "      <td>84</td>\n",
       "      <td>9.0</td>\n",
       "    </tr>\n",
       "    <tr>\n",
       "      <th>22744</th>\n",
       "      <td>A341HCMGNZCBIT</td>\n",
       "      <td>B004CLYEDC</td>\n",
       "      <td>82</td>\n",
       "      <td>10.0</td>\n",
       "    </tr>\n",
       "  </tbody>\n",
       "</table>\n",
       "</div>"
      ],
      "text/plain": [
       "              user_id   productId  score  Rank\n",
       "30847  A341HCMGNZCBIT  B0088CJT4U    133   1.0\n",
       "30287  A341HCMGNZCBIT  B007WTAJTO    124   2.0\n",
       "19647  A341HCMGNZCBIT  B003ES5ZUU    122   3.0\n",
       "8752   A341HCMGNZCBIT  B000N99BBC    114   4.0\n",
       "30555  A341HCMGNZCBIT  B00829THK0     97   5.0\n",
       "30559  A341HCMGNZCBIT  B00829TIEK     97   6.0\n",
       "17384  A341HCMGNZCBIT  B002R5AM7C     94   7.0\n",
       "31107  A341HCMGNZCBIT  B008DWCRQW     91   8.0\n",
       "17573  A341HCMGNZCBIT  B002SZEOLG     84   9.0\n",
       "22744  A341HCMGNZCBIT  B004CLYEDC     82  10.0"
      ]
     },
     "execution_count": 133,
     "metadata": {},
     "output_type": "execute_result"
    }
   ],
   "source": [
    "user_id = users[20]\n",
    "rating_pop_recom.recommend(user_id)"
   ]
  },
  {
   "cell_type": "markdown",
   "metadata": {},
   "source": [
    "Collaborative - Item similarity"
   ]
  },
  {
   "cell_type": "code",
   "execution_count": 134,
   "metadata": {},
   "outputs": [],
   "source": [
    "rating_collab_model = Recommenders.item_similarity_recommender_py()"
   ]
  },
  {
   "cell_type": "code",
   "execution_count": 135,
   "metadata": {},
   "outputs": [],
   "source": [
    "rating_collab_model.create(train_ratings, 'user_id', 'productId')"
   ]
  },
  {
   "cell_type": "code",
   "execution_count": 136,
   "metadata": {},
   "outputs": [
    {
     "name": "stdout",
     "output_type": "stream",
     "text": [
      "------------------------------------------------------------------------------------\n",
      "Training data product for the user userid: A3TAS1AG6FMBQW:\n",
      "------------------------------------------------------------------------------------\n",
      "B000S5Q9CA\n",
      "B009D79VH4\n",
      "B00D4MFPLA\n",
      "B004T9RR0E\n",
      "B000HPV3RW\n",
      "B00APUQPHW\n",
      "B001F7HLRC\n",
      "B00EVNVRM2\n",
      "B0067WUVF4\n",
      "B003GTSHY8\n",
      "B00DQZQCUI\n",
      "B00BAEVR4I\n",
      "B00JXECZIY\n",
      "B002WE6D44\n",
      "B001VKQR5U\n",
      "B003YKG2UK\n",
      "B008S4TSAI\n",
      "B007IO38MI\n",
      "B00G6CLN3Y\n",
      "B00HWMPSF6\n",
      "B00JZAB8OI\n",
      "B0009SHDGC\n",
      "B0063705PE\n",
      "B0001OHH0Q\n",
      "B007HOHV9U\n",
      "B00002EQC2\n",
      "B00A1DJO12\n",
      "B00ATZ9I9U\n",
      "B007ZTKWFM\n",
      "B001KN6WL2\n",
      "B001963NZI\n",
      "B00DT04I9W\n",
      "B009SG71MC\n",
      "B003X26PMO\n",
      "B00CBCUS1G\n",
      "0972683275\n",
      "B00006I5NE\n",
      "B001M4XCHQ\n",
      "B002MAPRYU\n",
      "B0073FE1F0\n",
      "B00IWQ3Y20\n",
      "B00HRQB28Y\n",
      "B008LHUTKA\n",
      "B0055TEQH4\n",
      "B004LEAYXY\n",
      "B00603RTC8\n",
      "B00IVPU6AA\n",
      "B00894YWD0\n",
      "B001U5R9RG\n",
      "B0090CVJZ4\n",
      "B008X9Z528\n",
      "B004NBL9WK\n",
      "B004HW67MW\n",
      "B00A6YOUWE\n",
      "B0019HGU0M\n",
      "B00HF3X5RU\n",
      "B003ES5ZUU\n",
      "B004LSNF04\n",
      "B00C97AF16\n",
      "B005CG2AX2\n",
      "B009NHWVIA\n",
      "B003CIBCX6\n",
      "B00934CQ56\n",
      "B00D6HBVIO\n",
      "B0061S1INS\n",
      "B000X23I22\n",
      "B0011NVMO8\n",
      "B00A750SCI\n",
      "B000VZS2EU\n",
      "B001PI09SE\n",
      "B0028BBEBI\n",
      "B006GWO5WK\n",
      "B00D8X9FSY\n",
      "B003ELYQGG\n",
      "B0097CZHAU\n",
      "B004J1G2MQ\n",
      "B001F51G16\n",
      "B00CALM17C\n",
      "B000WYVBR0\n",
      "B00005OOJZ\n",
      "B0097CXWUW\n",
      "B00000K0JC\n",
      "B000I68BD4\n",
      "B006DY3CRK\n",
      "B004Q61H6A\n",
      "B00752RAWW\n",
      "B000GW5J58\n",
      "B00DY9UFB8\n",
      "B009RQW3BC\n",
      "B002IW99AU\n",
      "B003IBB9CG\n",
      "B00002EQCW\n",
      "B00B4OCWE8\n",
      "B0002KR0SI\n",
      "B00DOWCQL2\n",
      "B0002J2TLC\n",
      "B006ZP8UOW\n",
      "B00D6XW62I\n",
      "B002C97CAI\n",
      "B00634PLTW\n",
      "B003ZX8B3W\n",
      "B00681RUR6\n",
      "B004CLYEFK\n",
      "B004K1EOCA\n",
      "B005KGOMI0\n",
      "B0017AO5AS\n",
      "B008X9Z7N0\n",
      "B00BD7UXXS\n",
      "B00COF7DGS\n",
      "B0001VGFKW\n",
      "B00A7PPLP2\n",
      "B00EU9V3S0\n",
      "B005CLMJLU\n",
      "B007AHJNF4\n",
      "B001542X64\n",
      "B0079UAT0A\n",
      "B003GZDB1Q\n",
      "----------------------------------------------------------------------\n",
      "Recommendation process going on:\n",
      "----------------------------------------------------------------------\n",
      "No. of unique songs for the user: 117\n",
      "no. of unique songs in the training set: 38226\n",
      "Non zero values in cooccurence_matrix :97609\n"
     ]
    },
    {
     "data": {
      "text/html": [
       "<div>\n",
       "<style scoped>\n",
       "    .dataframe tbody tr th:only-of-type {\n",
       "        vertical-align: middle;\n",
       "    }\n",
       "\n",
       "    .dataframe tbody tr th {\n",
       "        vertical-align: top;\n",
       "    }\n",
       "\n",
       "    .dataframe thead th {\n",
       "        text-align: right;\n",
       "    }\n",
       "</style>\n",
       "<table border=\"1\" class=\"dataframe\">\n",
       "  <thead>\n",
       "    <tr style=\"text-align: right;\">\n",
       "      <th></th>\n",
       "      <th>user_id</th>\n",
       "      <th>song</th>\n",
       "      <th>score</th>\n",
       "      <th>rank</th>\n",
       "    </tr>\n",
       "  </thead>\n",
       "  <tbody>\n",
       "    <tr>\n",
       "      <th>0</th>\n",
       "      <td>A3TAS1AG6FMBQW</td>\n",
       "      <td>B008ULPE70</td>\n",
       "      <td>0.014947</td>\n",
       "      <td>1</td>\n",
       "    </tr>\n",
       "    <tr>\n",
       "      <th>1</th>\n",
       "      <td>A3TAS1AG6FMBQW</td>\n",
       "      <td>B008X9Z3UC</td>\n",
       "      <td>0.014423</td>\n",
       "      <td>2</td>\n",
       "    </tr>\n",
       "    <tr>\n",
       "      <th>2</th>\n",
       "      <td>A3TAS1AG6FMBQW</td>\n",
       "      <td>B008ULPCB8</td>\n",
       "      <td>0.014296</td>\n",
       "      <td>3</td>\n",
       "    </tr>\n",
       "    <tr>\n",
       "      <th>3</th>\n",
       "      <td>A3TAS1AG6FMBQW</td>\n",
       "      <td>B008X9ZBVI</td>\n",
       "      <td>0.013497</td>\n",
       "      <td>4</td>\n",
       "    </tr>\n",
       "    <tr>\n",
       "      <th>4</th>\n",
       "      <td>A3TAS1AG6FMBQW</td>\n",
       "      <td>B008ULPAT2</td>\n",
       "      <td>0.013336</td>\n",
       "      <td>5</td>\n",
       "    </tr>\n",
       "    <tr>\n",
       "      <th>5</th>\n",
       "      <td>A3TAS1AG6FMBQW</td>\n",
       "      <td>B009WZRCO6</td>\n",
       "      <td>0.013163</td>\n",
       "      <td>6</td>\n",
       "    </tr>\n",
       "    <tr>\n",
       "      <th>6</th>\n",
       "      <td>A3TAS1AG6FMBQW</td>\n",
       "      <td>B009YQ8BTI</td>\n",
       "      <td>0.012860</td>\n",
       "      <td>7</td>\n",
       "    </tr>\n",
       "    <tr>\n",
       "      <th>7</th>\n",
       "      <td>A3TAS1AG6FMBQW</td>\n",
       "      <td>B005QCDY50</td>\n",
       "      <td>0.012751</td>\n",
       "      <td>8</td>\n",
       "    </tr>\n",
       "    <tr>\n",
       "      <th>8</th>\n",
       "      <td>A3TAS1AG6FMBQW</td>\n",
       "      <td>B0057UUB1G</td>\n",
       "      <td>0.012215</td>\n",
       "      <td>9</td>\n",
       "    </tr>\n",
       "    <tr>\n",
       "      <th>9</th>\n",
       "      <td>A3TAS1AG6FMBQW</td>\n",
       "      <td>B008X9Z8NE</td>\n",
       "      <td>0.011844</td>\n",
       "      <td>10</td>\n",
       "    </tr>\n",
       "  </tbody>\n",
       "</table>\n",
       "</div>"
      ],
      "text/plain": [
       "          user_id        song     score rank\n",
       "0  A3TAS1AG6FMBQW  B008ULPE70  0.014947    1\n",
       "1  A3TAS1AG6FMBQW  B008X9Z3UC  0.014423    2\n",
       "2  A3TAS1AG6FMBQW  B008ULPCB8  0.014296    3\n",
       "3  A3TAS1AG6FMBQW  B008X9ZBVI  0.013497    4\n",
       "4  A3TAS1AG6FMBQW  B008ULPAT2  0.013336    5\n",
       "5  A3TAS1AG6FMBQW  B009WZRCO6  0.013163    6\n",
       "6  A3TAS1AG6FMBQW  B009YQ8BTI  0.012860    7\n",
       "7  A3TAS1AG6FMBQW  B005QCDY50  0.012751    8\n",
       "8  A3TAS1AG6FMBQW  B0057UUB1G  0.012215    9\n",
       "9  A3TAS1AG6FMBQW  B008X9Z8NE  0.011844   10"
      ]
     },
     "execution_count": 136,
     "metadata": {},
     "output_type": "execute_result"
    }
   ],
   "source": [
    "#Print the products for the user in training data\n",
    "user_id = users[5]\n",
    "user_items = rating_collab_model.get_user_items(user_id)\n",
    "#\n",
    "print(\"------------------------------------------------------------------------------------\")\n",
    "print(\"Training data product for the user userid: %s:\" % user_id)\n",
    "print(\"------------------------------------------------------------------------------------\")\n",
    "\n",
    "for user_item in user_items:\n",
    "    print(user_item)\n",
    "\n",
    "print(\"----------------------------------------------------------------------\")\n",
    "print(\"Recommendation process going on:\")\n",
    "print(\"----------------------------------------------------------------------\")\n",
    "\n",
    "#Recommend songs for the user using personalized model\n",
    "rating_collab_model.recommend(user_id)"
   ]
  },
  {
   "cell_type": "code",
   "execution_count": 137,
   "metadata": {},
   "outputs": [
    {
     "name": "stdout",
     "output_type": "stream",
     "text": [
      "------------------------------------------------------------------------------------\n",
      "Training data products for the user userid: A25RTRAPQAJBDJ:\n",
      "------------------------------------------------------------------------------------\n",
      "B003YNO0LA\n",
      "B000JLU2A8\n",
      "B007W66RCU\n",
      "B0009IG3U4\n",
      "B00902SFC4\n",
      "B00JC5Y6YA\n",
      "B0006FK400\n",
      "B00FXPL1XM\n",
      "B000PAS9IU\n",
      "B00JY4QCJQ\n",
      "B003PL0AME\n",
      "B000BMHERE\n",
      "B008R6WUZC\n",
      "B0002DFIOS\n",
      "B0001ZYAN2\n",
      "B000PH7X30\n",
      "B0006DPPW4\n",
      "B00017O6Q6\n",
      "B00A2T6X0K\n",
      "B000TJFEYO\n",
      "B00BCA41PW\n",
      "B004CZ9U96\n",
      "B00009ZOIZ\n",
      "B00BF9I0JI\n",
      "0972683275\n",
      "B005TDWVQY\n",
      "B000EHHOOE\n",
      "B0034CL2ZI\n",
      "B00026BQJ6\n",
      "B0002KRCHW\n",
      "B00009UH9J\n",
      "B005NCNDOU\n",
      "B0002ZPIXM\n",
      "B0002CNTU4\n",
      "B000782SLO\n",
      "----------------------------------------------------------------------\n",
      "Recommendation process going on:\n",
      "----------------------------------------------------------------------\n",
      "No. of unique songs for the user: 35\n",
      "no. of unique songs in the training set: 38226\n",
      "Non zero values in cooccurence_matrix :13679\n"
     ]
    },
    {
     "data": {
      "text/html": [
       "<div>\n",
       "<style scoped>\n",
       "    .dataframe tbody tr th:only-of-type {\n",
       "        vertical-align: middle;\n",
       "    }\n",
       "\n",
       "    .dataframe tbody tr th {\n",
       "        vertical-align: top;\n",
       "    }\n",
       "\n",
       "    .dataframe thead th {\n",
       "        text-align: right;\n",
       "    }\n",
       "</style>\n",
       "<table border=\"1\" class=\"dataframe\">\n",
       "  <thead>\n",
       "    <tr style=\"text-align: right;\">\n",
       "      <th></th>\n",
       "      <th>user_id</th>\n",
       "      <th>song</th>\n",
       "      <th>score</th>\n",
       "      <th>rank</th>\n",
       "    </tr>\n",
       "  </thead>\n",
       "  <tbody>\n",
       "    <tr>\n",
       "      <th>0</th>\n",
       "      <td>A25RTRAPQAJBDJ</td>\n",
       "      <td>B0000E2XEB</td>\n",
       "      <td>0.014286</td>\n",
       "      <td>1</td>\n",
       "    </tr>\n",
       "    <tr>\n",
       "      <th>1</th>\n",
       "      <td>A25RTRAPQAJBDJ</td>\n",
       "      <td>B00KSBB84S</td>\n",
       "      <td>0.014286</td>\n",
       "      <td>2</td>\n",
       "    </tr>\n",
       "    <tr>\n",
       "      <th>2</th>\n",
       "      <td>A25RTRAPQAJBDJ</td>\n",
       "      <td>B004XJ64RM</td>\n",
       "      <td>0.014286</td>\n",
       "      <td>3</td>\n",
       "    </tr>\n",
       "    <tr>\n",
       "      <th>3</th>\n",
       "      <td>A25RTRAPQAJBDJ</td>\n",
       "      <td>B00B1V2FA0</td>\n",
       "      <td>0.014286</td>\n",
       "      <td>4</td>\n",
       "    </tr>\n",
       "    <tr>\n",
       "      <th>4</th>\n",
       "      <td>A25RTRAPQAJBDJ</td>\n",
       "      <td>B00029X21S</td>\n",
       "      <td>0.014286</td>\n",
       "      <td>5</td>\n",
       "    </tr>\n",
       "    <tr>\n",
       "      <th>5</th>\n",
       "      <td>A25RTRAPQAJBDJ</td>\n",
       "      <td>B001RB24LY</td>\n",
       "      <td>0.014286</td>\n",
       "      <td>6</td>\n",
       "    </tr>\n",
       "    <tr>\n",
       "      <th>6</th>\n",
       "      <td>A25RTRAPQAJBDJ</td>\n",
       "      <td>B00B11C6HW</td>\n",
       "      <td>0.014286</td>\n",
       "      <td>7</td>\n",
       "    </tr>\n",
       "    <tr>\n",
       "      <th>7</th>\n",
       "      <td>A25RTRAPQAJBDJ</td>\n",
       "      <td>B004556RMQ</td>\n",
       "      <td>0.014286</td>\n",
       "      <td>8</td>\n",
       "    </tr>\n",
       "    <tr>\n",
       "      <th>8</th>\n",
       "      <td>A25RTRAPQAJBDJ</td>\n",
       "      <td>B005ZCU4YK</td>\n",
       "      <td>0.014286</td>\n",
       "      <td>9</td>\n",
       "    </tr>\n",
       "    <tr>\n",
       "      <th>9</th>\n",
       "      <td>A25RTRAPQAJBDJ</td>\n",
       "      <td>B001VIPUFU</td>\n",
       "      <td>0.014286</td>\n",
       "      <td>10</td>\n",
       "    </tr>\n",
       "  </tbody>\n",
       "</table>\n",
       "</div>"
      ],
      "text/plain": [
       "          user_id        song     score rank\n",
       "0  A25RTRAPQAJBDJ  B0000E2XEB  0.014286    1\n",
       "1  A25RTRAPQAJBDJ  B00KSBB84S  0.014286    2\n",
       "2  A25RTRAPQAJBDJ  B004XJ64RM  0.014286    3\n",
       "3  A25RTRAPQAJBDJ  B00B1V2FA0  0.014286    4\n",
       "4  A25RTRAPQAJBDJ  B00029X21S  0.014286    5\n",
       "5  A25RTRAPQAJBDJ  B001RB24LY  0.014286    6\n",
       "6  A25RTRAPQAJBDJ  B00B11C6HW  0.014286    7\n",
       "7  A25RTRAPQAJBDJ  B004556RMQ  0.014286    8\n",
       "8  A25RTRAPQAJBDJ  B005ZCU4YK  0.014286    9\n",
       "9  A25RTRAPQAJBDJ  B001VIPUFU  0.014286   10"
      ]
     },
     "execution_count": 137,
     "metadata": {},
     "output_type": "execute_result"
    }
   ],
   "source": [
    "user_id = users[7]\n",
    "\n",
    "user_items = rating_collab_model.get_user_items(user_id)\n",
    "#\n",
    "print(\"------------------------------------------------------------------------------------\")\n",
    "print(\"Training data products for the user userid: %s:\" % user_id)\n",
    "print(\"------------------------------------------------------------------------------------\")\n",
    "\n",
    "for user_item in user_items:\n",
    "    print(user_item)\n",
    "\n",
    "print(\"----------------------------------------------------------------------\")\n",
    "print(\"Recommendation process going on:\")\n",
    "print(\"----------------------------------------------------------------------\")\n",
    "\n",
    "#Recommend songs for the user using personalized model\n",
    "rating_collab_model.recommend(user_id)\n",
    "\n"
   ]
  },
  {
   "cell_type": "markdown",
   "metadata": {},
   "source": [
    "## Quantitative comparison between the models"
   ]
  },
  {
   "cell_type": "code",
   "execution_count": null,
   "metadata": {},
   "outputs": [],
   "source": [
    "start = time.time()\n",
    "\n",
    "#Define what percentage of users to use for precision recall calculation\n",
    "user_sample = 0.05\n",
    "\n",
    "#Instantiate the precision_recall_calculator class\n",
    "pr = Evaluation.precision_recall_calculator(test_ratingsatings, train_ratings, rating_pop_recom, rating_collab_model)\n",
    "\n",
    "#Call method to calculate precision and recall values\n",
    "(pop_avg_precision_list, pop_avg_recall_list, collab_avg_precision_list, collab_avg_recall_list) = pr.calculate_measures(user_sample)\n",
    "\n",
    "end = time.time()\n",
    "print(end - start)"
   ]
  }
 ],
 "metadata": {
  "kernelspec": {
   "display_name": "Python 3",
   "language": "python",
   "name": "python3"
  },
  "language_info": {
   "codemirror_mode": {
    "name": "ipython",
    "version": 3
   },
   "file_extension": ".py",
   "mimetype": "text/x-python",
   "name": "python",
   "nbconvert_exporter": "python",
   "pygments_lexer": "ipython3",
   "version": "3.7.2"
  }
 },
 "nbformat": 4,
 "nbformat_minor": 2
}
