{
 "cells": [
  {
   "cell_type": "markdown",
   "metadata": {
    "colab_type": "text",
    "id": "84Q8JfvaeZZ6"
   },
   "source": [
    "## Linear Classifier in TensorFlow \n",
    "Using Low Level API in Eager Execution mode"
   ]
  },
  {
   "cell_type": "markdown",
   "metadata": {
    "colab_type": "text",
    "id": "sb7Epo0VOB58"
   },
   "source": [
    "### Load tensorflow"
   ]
  },
  {
   "cell_type": "code",
   "execution_count": 81,
   "metadata": {
    "colab": {},
    "colab_type": "code",
    "id": "fHpCNRv1OB5-"
   },
   "outputs": [],
   "source": [
    "import tensorflow as tf\n",
    "import numpy as np"
   ]
  },
  {
   "cell_type": "code",
   "execution_count": 82,
   "metadata": {
    "colab": {},
    "colab_type": "code",
    "id": "Mjtb-EMcm5K0"
   },
   "outputs": [],
   "source": [
    "#Enable Eager Execution if using tensflow version < 2.0\n",
    "#From tensorflow v2.0 onwards, Eager Execution will be enabled by default\n",
    "# tf.enable_eager_execution() #disabling it as it is not allowing adding hidden layer for Iris dataset"
   ]
  },
  {
   "cell_type": "markdown",
   "metadata": {
    "colab_type": "text",
    "id": "DxJDmJqqOB6K",
    "slideshow": {
     "slide_type": "slide"
    }
   },
   "source": [
    "### Collect Data"
   ]
  },
  {
   "cell_type": "code",
   "execution_count": 83,
   "metadata": {
    "colab": {},
    "colab_type": "code",
    "id": "FhllFLyKOB6N"
   },
   "outputs": [],
   "source": [
    "# from google.colab import drive\n",
    "# drive.mount('/gdrive')"
   ]
  },
  {
   "cell_type": "code",
   "execution_count": 84,
   "metadata": {
    "colab": {},
    "colab_type": "code",
    "id": "KiObW4V4SIOz"
   },
   "outputs": [],
   "source": [
    "import pandas as pd"
   ]
  },
  {
   "cell_type": "code",
   "execution_count": 85,
   "metadata": {
    "colab": {},
    "colab_type": "code",
    "id": "B4yQKMiJOB6R"
   },
   "outputs": [],
   "source": [
    "data = pd.read_csv('prices.csv')"
   ]
  },
  {
   "cell_type": "markdown",
   "metadata": {
    "colab_type": "text",
    "id": "fgkX6SEqOB6W"
   },
   "source": [
    "### Check all columns in the dataset"
   ]
  },
  {
   "cell_type": "code",
   "execution_count": 86,
   "metadata": {
    "colab": {},
    "colab_type": "code",
    "id": "7K8pWsNQOB6X"
   },
   "outputs": [
    {
     "data": {
      "text/plain": [
       "Index(['date', 'symbol', 'open', 'close', 'low', 'high', 'volume'], dtype='object')"
      ]
     },
     "execution_count": 86,
     "metadata": {},
     "output_type": "execute_result"
    }
   ],
   "source": [
    "data.columns"
   ]
  },
  {
   "cell_type": "code",
   "execution_count": 87,
   "metadata": {},
   "outputs": [
    {
     "data": {
      "text/html": [
       "<div>\n",
       "<style scoped>\n",
       "    .dataframe tbody tr th:only-of-type {\n",
       "        vertical-align: middle;\n",
       "    }\n",
       "\n",
       "    .dataframe tbody tr th {\n",
       "        vertical-align: top;\n",
       "    }\n",
       "\n",
       "    .dataframe thead th {\n",
       "        text-align: right;\n",
       "    }\n",
       "</style>\n",
       "<table border=\"1\" class=\"dataframe\">\n",
       "  <thead>\n",
       "    <tr style=\"text-align: right;\">\n",
       "      <th></th>\n",
       "      <th>date</th>\n",
       "      <th>symbol</th>\n",
       "      <th>open</th>\n",
       "      <th>close</th>\n",
       "      <th>low</th>\n",
       "      <th>high</th>\n",
       "      <th>volume</th>\n",
       "    </tr>\n",
       "  </thead>\n",
       "  <tbody>\n",
       "    <tr>\n",
       "      <th>0</th>\n",
       "      <td>2016-01-05 00:00:00</td>\n",
       "      <td>WLTW</td>\n",
       "      <td>123.430000</td>\n",
       "      <td>125.839996</td>\n",
       "      <td>122.309998</td>\n",
       "      <td>126.250000</td>\n",
       "      <td>2163600.0</td>\n",
       "    </tr>\n",
       "    <tr>\n",
       "      <th>1</th>\n",
       "      <td>2016-01-06 00:00:00</td>\n",
       "      <td>WLTW</td>\n",
       "      <td>125.239998</td>\n",
       "      <td>119.980003</td>\n",
       "      <td>119.940002</td>\n",
       "      <td>125.540001</td>\n",
       "      <td>2386400.0</td>\n",
       "    </tr>\n",
       "    <tr>\n",
       "      <th>2</th>\n",
       "      <td>2016-01-07 00:00:00</td>\n",
       "      <td>WLTW</td>\n",
       "      <td>116.379997</td>\n",
       "      <td>114.949997</td>\n",
       "      <td>114.930000</td>\n",
       "      <td>119.739998</td>\n",
       "      <td>2489500.0</td>\n",
       "    </tr>\n",
       "    <tr>\n",
       "      <th>3</th>\n",
       "      <td>2016-01-08 00:00:00</td>\n",
       "      <td>WLTW</td>\n",
       "      <td>115.480003</td>\n",
       "      <td>116.620003</td>\n",
       "      <td>113.500000</td>\n",
       "      <td>117.440002</td>\n",
       "      <td>2006300.0</td>\n",
       "    </tr>\n",
       "    <tr>\n",
       "      <th>4</th>\n",
       "      <td>2016-01-11 00:00:00</td>\n",
       "      <td>WLTW</td>\n",
       "      <td>117.010002</td>\n",
       "      <td>114.970001</td>\n",
       "      <td>114.089996</td>\n",
       "      <td>117.330002</td>\n",
       "      <td>1408600.0</td>\n",
       "    </tr>\n",
       "  </tbody>\n",
       "</table>\n",
       "</div>"
      ],
      "text/plain": [
       "                  date symbol        open       close         low        high  \\\n",
       "0  2016-01-05 00:00:00   WLTW  123.430000  125.839996  122.309998  126.250000   \n",
       "1  2016-01-06 00:00:00   WLTW  125.239998  119.980003  119.940002  125.540001   \n",
       "2  2016-01-07 00:00:00   WLTW  116.379997  114.949997  114.930000  119.739998   \n",
       "3  2016-01-08 00:00:00   WLTW  115.480003  116.620003  113.500000  117.440002   \n",
       "4  2016-01-11 00:00:00   WLTW  117.010002  114.970001  114.089996  117.330002   \n",
       "\n",
       "      volume  \n",
       "0  2163600.0  \n",
       "1  2386400.0  \n",
       "2  2489500.0  \n",
       "3  2006300.0  \n",
       "4  1408600.0  "
      ]
     },
     "execution_count": 87,
     "metadata": {},
     "output_type": "execute_result"
    }
   ],
   "source": [
    "data.head()"
   ]
  },
  {
   "cell_type": "markdown",
   "metadata": {
    "colab_type": "text",
    "id": "7dU6X7MpOB6c"
   },
   "source": [
    "### Drop columns `date` and  `symbol`"
   ]
  },
  {
   "cell_type": "code",
   "execution_count": 88,
   "metadata": {
    "colab": {},
    "colab_type": "code",
    "id": "lh_6spSKOB6e"
   },
   "outputs": [],
   "source": [
    "data = data.drop(columns=['date','symbol'])"
   ]
  },
  {
   "cell_type": "code",
   "execution_count": 89,
   "metadata": {},
   "outputs": [
    {
     "data": {
      "text/plain": [
       "(851264, 5)"
      ]
     },
     "execution_count": 89,
     "metadata": {},
     "output_type": "execute_result"
    }
   ],
   "source": [
    "data.shape"
   ]
  },
  {
   "cell_type": "code",
   "execution_count": 90,
   "metadata": {},
   "outputs": [
    {
     "data": {
      "text/plain": [
       "Index(['open', 'close', 'low', 'high', 'volume'], dtype='object')"
      ]
     },
     "execution_count": 90,
     "metadata": {},
     "output_type": "execute_result"
    }
   ],
   "source": [
    "data.columns"
   ]
  },
  {
   "cell_type": "code",
   "execution_count": 91,
   "metadata": {
    "colab": {},
    "colab_type": "code",
    "id": "xlwbUgTwOB6i",
    "outputId": "56bad82a-f271-415a-e0d6-cbe1c4290743"
   },
   "outputs": [
    {
     "data": {
      "text/html": [
       "<div>\n",
       "<style scoped>\n",
       "    .dataframe tbody tr th:only-of-type {\n",
       "        vertical-align: middle;\n",
       "    }\n",
       "\n",
       "    .dataframe tbody tr th {\n",
       "        vertical-align: top;\n",
       "    }\n",
       "\n",
       "    .dataframe thead th {\n",
       "        text-align: right;\n",
       "    }\n",
       "</style>\n",
       "<table border=\"1\" class=\"dataframe\">\n",
       "  <thead>\n",
       "    <tr style=\"text-align: right;\">\n",
       "      <th></th>\n",
       "      <th>open</th>\n",
       "      <th>close</th>\n",
       "      <th>low</th>\n",
       "      <th>high</th>\n",
       "      <th>volume</th>\n",
       "    </tr>\n",
       "  </thead>\n",
       "  <tbody>\n",
       "    <tr>\n",
       "      <th>0</th>\n",
       "      <td>123.430000</td>\n",
       "      <td>125.839996</td>\n",
       "      <td>122.309998</td>\n",
       "      <td>126.250000</td>\n",
       "      <td>2163600.0</td>\n",
       "    </tr>\n",
       "    <tr>\n",
       "      <th>1</th>\n",
       "      <td>125.239998</td>\n",
       "      <td>119.980003</td>\n",
       "      <td>119.940002</td>\n",
       "      <td>125.540001</td>\n",
       "      <td>2386400.0</td>\n",
       "    </tr>\n",
       "    <tr>\n",
       "      <th>2</th>\n",
       "      <td>116.379997</td>\n",
       "      <td>114.949997</td>\n",
       "      <td>114.930000</td>\n",
       "      <td>119.739998</td>\n",
       "      <td>2489500.0</td>\n",
       "    </tr>\n",
       "    <tr>\n",
       "      <th>3</th>\n",
       "      <td>115.480003</td>\n",
       "      <td>116.620003</td>\n",
       "      <td>113.500000</td>\n",
       "      <td>117.440002</td>\n",
       "      <td>2006300.0</td>\n",
       "    </tr>\n",
       "    <tr>\n",
       "      <th>4</th>\n",
       "      <td>117.010002</td>\n",
       "      <td>114.970001</td>\n",
       "      <td>114.089996</td>\n",
       "      <td>117.330002</td>\n",
       "      <td>1408600.0</td>\n",
       "    </tr>\n",
       "  </tbody>\n",
       "</table>\n",
       "</div>"
      ],
      "text/plain": [
       "         open       close         low        high     volume\n",
       "0  123.430000  125.839996  122.309998  126.250000  2163600.0\n",
       "1  125.239998  119.980003  119.940002  125.540001  2386400.0\n",
       "2  116.379997  114.949997  114.930000  119.739998  2489500.0\n",
       "3  115.480003  116.620003  113.500000  117.440002  2006300.0\n",
       "4  117.010002  114.970001  114.089996  117.330002  1408600.0"
      ]
     },
     "execution_count": 91,
     "metadata": {},
     "output_type": "execute_result"
    }
   ],
   "source": [
    "data.head()"
   ]
  },
  {
   "cell_type": "markdown",
   "metadata": {
    "colab_type": "text",
    "id": "3DBv3WWYOB6q"
   },
   "source": [
    "### Consider only first 1000 rows in the dataset for building feature set and target set\n",
    "Target 'Volume' has very high values. Divide 'Volume' by 1000,000"
   ]
  },
  {
   "cell_type": "code",
   "execution_count": 92,
   "metadata": {
    "colab": {},
    "colab_type": "code",
    "id": "Z_hG9rGBOB6s"
   },
   "outputs": [],
   "source": [
    "data[\"volume\"] = data[\"volume\"].apply(lambda x: x/1000)"
   ]
  },
  {
   "cell_type": "code",
   "execution_count": 93,
   "metadata": {},
   "outputs": [
    {
     "data": {
      "text/html": [
       "<div>\n",
       "<style scoped>\n",
       "    .dataframe tbody tr th:only-of-type {\n",
       "        vertical-align: middle;\n",
       "    }\n",
       "\n",
       "    .dataframe tbody tr th {\n",
       "        vertical-align: top;\n",
       "    }\n",
       "\n",
       "    .dataframe thead th {\n",
       "        text-align: right;\n",
       "    }\n",
       "</style>\n",
       "<table border=\"1\" class=\"dataframe\">\n",
       "  <thead>\n",
       "    <tr style=\"text-align: right;\">\n",
       "      <th></th>\n",
       "      <th>open</th>\n",
       "      <th>close</th>\n",
       "      <th>low</th>\n",
       "      <th>high</th>\n",
       "      <th>volume</th>\n",
       "    </tr>\n",
       "  </thead>\n",
       "  <tbody>\n",
       "    <tr>\n",
       "      <th>0</th>\n",
       "      <td>123.430000</td>\n",
       "      <td>125.839996</td>\n",
       "      <td>122.309998</td>\n",
       "      <td>126.250000</td>\n",
       "      <td>2163.6</td>\n",
       "    </tr>\n",
       "    <tr>\n",
       "      <th>1</th>\n",
       "      <td>125.239998</td>\n",
       "      <td>119.980003</td>\n",
       "      <td>119.940002</td>\n",
       "      <td>125.540001</td>\n",
       "      <td>2386.4</td>\n",
       "    </tr>\n",
       "    <tr>\n",
       "      <th>2</th>\n",
       "      <td>116.379997</td>\n",
       "      <td>114.949997</td>\n",
       "      <td>114.930000</td>\n",
       "      <td>119.739998</td>\n",
       "      <td>2489.5</td>\n",
       "    </tr>\n",
       "    <tr>\n",
       "      <th>3</th>\n",
       "      <td>115.480003</td>\n",
       "      <td>116.620003</td>\n",
       "      <td>113.500000</td>\n",
       "      <td>117.440002</td>\n",
       "      <td>2006.3</td>\n",
       "    </tr>\n",
       "    <tr>\n",
       "      <th>4</th>\n",
       "      <td>117.010002</td>\n",
       "      <td>114.970001</td>\n",
       "      <td>114.089996</td>\n",
       "      <td>117.330002</td>\n",
       "      <td>1408.6</td>\n",
       "    </tr>\n",
       "  </tbody>\n",
       "</table>\n",
       "</div>"
      ],
      "text/plain": [
       "         open       close         low        high  volume\n",
       "0  123.430000  125.839996  122.309998  126.250000  2163.6\n",
       "1  125.239998  119.980003  119.940002  125.540001  2386.4\n",
       "2  116.379997  114.949997  114.930000  119.739998  2489.5\n",
       "3  115.480003  116.620003  113.500000  117.440002  2006.3\n",
       "4  117.010002  114.970001  114.089996  117.330002  1408.6"
      ]
     },
     "execution_count": 93,
     "metadata": {},
     "output_type": "execute_result"
    }
   ],
   "source": [
    "data.head()"
   ]
  },
  {
   "cell_type": "code",
   "execution_count": 94,
   "metadata": {},
   "outputs": [],
   "source": [
    "data1 = data.head(1000)"
   ]
  },
  {
   "cell_type": "markdown",
   "metadata": {
    "colab_type": "text",
    "id": "M3UaApqYOB6x"
   },
   "source": [
    "### Divide the data into train and test sets"
   ]
  },
  {
   "cell_type": "code",
   "execution_count": 95,
   "metadata": {
    "colab": {},
    "colab_type": "code",
    "id": "4LE4U8lTdQJq"
   },
   "outputs": [],
   "source": [
    "from sklearn.model_selection import train_test_split"
   ]
  },
  {
   "cell_type": "code",
   "execution_count": 96,
   "metadata": {},
   "outputs": [],
   "source": [
    "X = data1.drop(columns=[\"volume\"])\n",
    "Y = data1[\"volume\"]"
   ]
  },
  {
   "cell_type": "code",
   "execution_count": 97,
   "metadata": {},
   "outputs": [
    {
     "data": {
      "text/plain": [
       "(1000, 4)"
      ]
     },
     "execution_count": 97,
     "metadata": {},
     "output_type": "execute_result"
    }
   ],
   "source": [
    "X.shape"
   ]
  },
  {
   "cell_type": "code",
   "execution_count": 98,
   "metadata": {},
   "outputs": [
    {
     "data": {
      "text/plain": [
       "(1000,)"
      ]
     },
     "execution_count": 98,
     "metadata": {},
     "output_type": "execute_result"
    }
   ],
   "source": [
    "Y.shape"
   ]
  },
  {
   "cell_type": "code",
   "execution_count": 99,
   "metadata": {},
   "outputs": [],
   "source": [
    "X_train, X_test, y_train, y_test = train_test_split(X, Y, test_size=0.3, random_state=7)"
   ]
  },
  {
   "cell_type": "markdown",
   "metadata": {
    "colab_type": "text",
    "id": "oYK-aUuLbrz2"
   },
   "source": [
    "#### Convert Training and Test Data to numpy float32 arrays\n"
   ]
  },
  {
   "cell_type": "code",
   "execution_count": 100,
   "metadata": {
    "colab": {},
    "colab_type": "code",
    "id": "Ao-S0tQGcncz"
   },
   "outputs": [],
   "source": [
    "X_train_float = X_train.values\n",
    "X_test_float = X_test.values\n",
    "y_train_float = y_train.values\n",
    "y_test_float = y_test.values"
   ]
  },
  {
   "cell_type": "code",
   "execution_count": 101,
   "metadata": {},
   "outputs": [
    {
     "data": {
      "text/plain": [
       "open     float64\n",
       "close    float64\n",
       "low      float64\n",
       "high     float64\n",
       "dtype: object"
      ]
     },
     "execution_count": 101,
     "metadata": {},
     "output_type": "execute_result"
    }
   ],
   "source": [
    "X_train.dtypes"
   ]
  },
  {
   "cell_type": "code",
   "execution_count": 102,
   "metadata": {},
   "outputs": [
    {
     "data": {
      "text/plain": [
       "dtype('float64')"
      ]
     },
     "execution_count": 102,
     "metadata": {},
     "output_type": "execute_result"
    }
   ],
   "source": [
    "X_train_float.dtype"
   ]
  },
  {
   "cell_type": "code",
   "execution_count": 103,
   "metadata": {},
   "outputs": [
    {
     "data": {
      "text/plain": [
       "array([[ 33.919998,  33.93    ,  33.599998,  34.169998],\n",
       "       [132.449997, 132.110001, 130.029999, 132.740005],\n",
       "       [ 31.389999,  31.300001,  31.13    ,  31.630001],\n",
       "       ...,\n",
       "       [ 83.089996,  83.019997,  82.669998,  83.449997],\n",
       "       [128.940002, 127.910004, 127.349998, 128.949997],\n",
       "       [122.900002, 122.300003, 121.610001, 123.589996]])"
      ]
     },
     "execution_count": 103,
     "metadata": {},
     "output_type": "execute_result"
    }
   ],
   "source": [
    "X_train_float"
   ]
  },
  {
   "cell_type": "code",
   "execution_count": 104,
   "metadata": {},
   "outputs": [
    {
     "data": {
      "text/plain": [
       "dtype('float64')"
      ]
     },
     "execution_count": 104,
     "metadata": {},
     "output_type": "execute_result"
    }
   ],
   "source": [
    "y_test_float.dtype"
   ]
  },
  {
   "cell_type": "code",
   "execution_count": 105,
   "metadata": {},
   "outputs": [],
   "source": [
    "X_train_float = np.float32(X_train_float)\n",
    "X_test_float = np.float32(X_test_float)\n",
    "y_train_float = np.float32(y_train_float)\n",
    "y_test_float = np.float32(y_test_float)"
   ]
  },
  {
   "cell_type": "code",
   "execution_count": 106,
   "metadata": {},
   "outputs": [
    {
     "data": {
      "text/plain": [
       "dtype('float32')"
      ]
     },
     "execution_count": 106,
     "metadata": {},
     "output_type": "execute_result"
    }
   ],
   "source": [
    "y_train_float.dtype"
   ]
  },
  {
   "cell_type": "markdown",
   "metadata": {
    "colab_type": "text",
    "id": "im1ZegbDdKgv"
   },
   "source": [
    "### Normalize the data\n",
    "You can use Normalizer from sklearn.preprocessing"
   ]
  },
  {
   "cell_type": "code",
   "execution_count": 107,
   "metadata": {
    "colab": {},
    "colab_type": "code",
    "id": "2EkKAy7fOB6y"
   },
   "outputs": [],
   "source": [
    "from sklearn.preprocessing import Normalizer"
   ]
  },
  {
   "cell_type": "code",
   "execution_count": 108,
   "metadata": {},
   "outputs": [],
   "source": [
    "transformer_train = Normalizer().fit(X_train_float)"
   ]
  },
  {
   "cell_type": "code",
   "execution_count": 109,
   "metadata": {},
   "outputs": [],
   "source": [
    "transformer_test = Normalizer().fit(X_test_float)"
   ]
  },
  {
   "cell_type": "code",
   "execution_count": 110,
   "metadata": {},
   "outputs": [
    {
     "data": {
      "text/plain": [
       "Normalizer(copy=True, norm='l2')"
      ]
     },
     "execution_count": 110,
     "metadata": {},
     "output_type": "execute_result"
    }
   ],
   "source": [
    "transformer_train"
   ]
  },
  {
   "cell_type": "code",
   "execution_count": 111,
   "metadata": {},
   "outputs": [
    {
     "data": {
      "text/plain": [
       "array([[0.50021225, 0.5003598 , 0.49549326, 0.503899  ],\n",
       "       [0.5023256 , 0.50103617, 0.4931476 , 0.5034255 ],\n",
       "       [0.5004301 , 0.49899533, 0.4962851 , 0.5042563 ],\n",
       "       ...,\n",
       "       [0.5001929 , 0.49977148, 0.4976645 , 0.50236005],\n",
       "       [0.50253594, 0.49852157, 0.496339  , 0.50257486],\n",
       "       [0.50121456, 0.4987676 , 0.49595362, 0.5040285 ]], dtype=float32)"
      ]
     },
     "execution_count": 111,
     "metadata": {},
     "output_type": "execute_result"
    }
   ],
   "source": [
    "transformer_train.transform(X_train_float)"
   ]
  },
  {
   "cell_type": "code",
   "execution_count": 112,
   "metadata": {},
   "outputs": [
    {
     "data": {
      "text/plain": [
       "array([[0.5063693 , 0.49396917, 0.4904527 , 0.50896037],\n",
       "       [0.49942613, 0.50043815, 0.49706477, 0.5030525 ],\n",
       "       [0.4963037 , 0.50399053, 0.49479976, 0.50482607],\n",
       "       ...,\n",
       "       [0.49629417, 0.50301725, 0.49192008, 0.5086063 ],\n",
       "       [0.49930164, 0.5008185 , 0.49753195, 0.50233537],\n",
       "       [0.49550715, 0.50393987, 0.49483255, 0.50562644]], dtype=float32)"
      ]
     },
     "execution_count": 112,
     "metadata": {},
     "output_type": "execute_result"
    }
   ],
   "source": [
    "transformer_test.transform(X_test_float)"
   ]
  },
  {
   "cell_type": "markdown",
   "metadata": {
    "colab_type": "text",
    "id": "v6vE4eYCOB62",
    "slideshow": {
     "slide_type": "slide"
    }
   },
   "source": [
    "## Building the Model in tensorflow"
   ]
  },
  {
   "cell_type": "markdown",
   "metadata": {
    "colab_type": "text",
    "id": "297_qja4OB7A",
    "slideshow": {
     "slide_type": "slide"
    }
   },
   "source": [
    "1.Define Weights and Bias, use tf.zeros to initialize weights and Bias"
   ]
  },
  {
   "cell_type": "code",
   "execution_count": 113,
   "metadata": {},
   "outputs": [],
   "source": [
    "#Input features # placeholder is like a variable-only creating a structure - may save data later in dict format\n",
    "# x = tf.placeholder(shape=[None,4],dtype=tf.float32, name='x-input')\n",
    "\n",
    "#Normalize the data - same as batchnormalization function in keras\n",
    "# x_n = tf.nn.l2_normalize(x,1)\n",
    "\n",
    "#Actual Prices\n",
    "# y_ = tf.placeholder(shape=[None],dtype=tf.float32, name='y-input')"
   ]
  },
  {
   "cell_type": "code",
   "execution_count": 114,
   "metadata": {
    "colab": {},
    "colab_type": "code",
    "id": "L205qPeQOB7B"
   },
   "outputs": [],
   "source": [
    "#Initializing with zero values\n",
    "# W = tf.Variable(tf.zeros(shape=[4,1]), name=\"Weights\")\n",
    "# b = tf.Variable(tf.zeros(shape=[1]),name=\"Bias\")"
   ]
  },
  {
   "cell_type": "code",
   "execution_count": 115,
   "metadata": {},
   "outputs": [],
   "source": [
    "W = tf.random_normal([4,1])"
   ]
  },
  {
   "cell_type": "code",
   "execution_count": 116,
   "metadata": {},
   "outputs": [],
   "source": [
    "b = tf.random_normal([1])"
   ]
  },
  {
   "cell_type": "code",
   "execution_count": 117,
   "metadata": {},
   "outputs": [
    {
     "data": {
      "text/plain": [
       "<tf.Tensor 'random_normal_2:0' shape=(4, 1) dtype=float32>"
      ]
     },
     "execution_count": 117,
     "metadata": {},
     "output_type": "execute_result"
    }
   ],
   "source": [
    "W"
   ]
  },
  {
   "cell_type": "code",
   "execution_count": 118,
   "metadata": {},
   "outputs": [
    {
     "data": {
      "text/plain": [
       "<tf.Tensor 'random_normal_3:0' shape=(1,) dtype=float32>"
      ]
     },
     "execution_count": 118,
     "metadata": {},
     "output_type": "execute_result"
    }
   ],
   "source": [
    "b"
   ]
  },
  {
   "cell_type": "markdown",
   "metadata": {
    "colab_type": "text",
    "id": "HgtWA-UIOB7F",
    "slideshow": {
     "slide_type": "slide"
    }
   },
   "source": [
    "2.Define a function to calculate prediction"
   ]
  },
  {
   "cell_type": "code",
   "execution_count": 119,
   "metadata": {
    "colab": {},
    "colab_type": "code",
    "id": "JveGlx25OB7H"
   },
   "outputs": [],
   "source": [
    "#We will use normalized data\n",
    "# y_train_pred = tf.add(tf.matmul(X_train_float,W),b,name='output')\n",
    "\n",
    "def prediction(x, w, b):\n",
    "    xw_matmul = tf.matmul(x, w)\n",
    "    y = tf.add(xw_matmul, b)\n",
    "    return y\n"
   ]
  },
  {
   "cell_type": "markdown",
   "metadata": {
    "colab_type": "text",
    "id": "TL1hIwf_OB7M",
    "slideshow": {
     "slide_type": "slide"
    }
   },
   "source": [
    "3.Loss (Cost) Function [Mean square error]"
   ]
  },
  {
   "cell_type": "code",
   "execution_count": 120,
   "metadata": {
    "colab": {},
    "colab_type": "code",
    "id": "8VSWPiGXOB7P"
   },
   "outputs": [],
   "source": [
    "# train_loss = tf.reduce_mean(tf.square(y_train_pred-y_),name='Loss')\n",
    "#Define Loss\n",
    "\n",
    "def loss(y_actual, y_predicted):\n",
    "    \n",
    "    diff = y_actual - y_predicted\n",
    "    sqr = tf.square(diff)\n",
    "    avg = tf.reduce_mean(sqr)\n",
    "    return avg"
   ]
  },
  {
   "cell_type": "markdown",
   "metadata": {
    "colab_type": "text",
    "id": "jzG85FUlOB7U",
    "slideshow": {
     "slide_type": "slide"
    }
   },
   "source": [
    "4.Function to train the Model\n",
    "\n",
    "1.   Record all the mathematical steps to calculate Loss\n",
    "2.   Calculate Gradients of Loss w.r.t weights and bias\n",
    "3.   Update Weights and Bias based on gradients and learning rate to minimize loss"
   ]
  },
  {
   "cell_type": "code",
   "execution_count": 121,
   "metadata": {},
   "outputs": [],
   "source": [
    "#Define Gradient Descent function\n",
    "\n",
    "def train(x, y_actual, w, b, learning_rate=0.01):\n",
    "    \n",
    "    #Record math ops on 'tape' to calculate loss\n",
    "    with tf.GradientTape() as t:\n",
    "        \n",
    "        t.watch([w,b])\n",
    "        \n",
    "        current_prediction = prediction(x, w, b)\n",
    "        current_loss = loss(y_actual, current_prediction)\n",
    "    \n",
    "    #Calculate Gradients for Loss w.r.t Weights and Bias\n",
    "    dw, db = t.gradient(current_loss,[w, b])\n",
    "    \n",
    "    #Update Weights and Bias\n",
    "    w = w - learning_rate*dw\n",
    "    b = b - learning_rate*db\n",
    "    \n",
    "    return w, b"
   ]
  },
  {
   "cell_type": "markdown",
   "metadata": {
    "colab_type": "text",
    "id": "xSypb_u8OB7e",
    "slideshow": {
     "slide_type": "slide"
    }
   },
   "source": [
    "## Train the model for 100 epochs \n",
    "1. Observe the training loss at every iteration\n",
    "2. Observe Test loss at every 5th iteration"
   ]
  },
  {
   "cell_type": "code",
   "execution_count": 122,
   "metadata": {
    "colab": {},
    "colab_type": "code",
    "id": "DVvgj7eQOB7f"
   },
   "outputs": [
    {
     "name": "stdout",
     "output_type": "stream",
     "text": [
      "W:Tensor(\"sub_805:0\", shape=(4, 1), dtype=float32) and b:Tensor(\"sub_806:0\", shape=(1,), dtype=float32)\n",
      "Current Loss on iteration 0 Tensor(\"Mean_403:0\", shape=(), dtype=float32)\n",
      "W:Tensor(\"sub_809:0\", shape=(4, 1), dtype=float32) and b:Tensor(\"sub_810:0\", shape=(1,), dtype=float32)\n",
      "Current Loss on iteration 1 Tensor(\"Mean_405:0\", shape=(), dtype=float32)\n",
      "W:Tensor(\"sub_813:0\", shape=(4, 1), dtype=float32) and b:Tensor(\"sub_814:0\", shape=(1,), dtype=float32)\n",
      "Current Loss on iteration 2 Tensor(\"Mean_407:0\", shape=(), dtype=float32)\n",
      "W:Tensor(\"sub_817:0\", shape=(4, 1), dtype=float32) and b:Tensor(\"sub_818:0\", shape=(1,), dtype=float32)\n",
      "Current Loss on iteration 3 Tensor(\"Mean_409:0\", shape=(), dtype=float32)\n",
      "W:Tensor(\"sub_821:0\", shape=(4, 1), dtype=float32) and b:Tensor(\"sub_822:0\", shape=(1,), dtype=float32)\n",
      "Current Loss on iteration 4 Tensor(\"Mean_411:0\", shape=(), dtype=float32)\n",
      "W:Tensor(\"sub_825:0\", shape=(4, 1), dtype=float32) and b:Tensor(\"sub_826:0\", shape=(1,), dtype=float32)\n",
      "Current Loss on iteration 5 Tensor(\"Mean_413:0\", shape=(), dtype=float32)\n",
      "W:Tensor(\"sub_829:0\", shape=(4, 1), dtype=float32) and b:Tensor(\"sub_830:0\", shape=(1,), dtype=float32)\n",
      "Current Loss on iteration 6 Tensor(\"Mean_415:0\", shape=(), dtype=float32)\n",
      "W:Tensor(\"sub_833:0\", shape=(4, 1), dtype=float32) and b:Tensor(\"sub_834:0\", shape=(1,), dtype=float32)\n",
      "Current Loss on iteration 7 Tensor(\"Mean_417:0\", shape=(), dtype=float32)\n",
      "W:Tensor(\"sub_837:0\", shape=(4, 1), dtype=float32) and b:Tensor(\"sub_838:0\", shape=(1,), dtype=float32)\n",
      "Current Loss on iteration 8 Tensor(\"Mean_419:0\", shape=(), dtype=float32)\n",
      "W:Tensor(\"sub_841:0\", shape=(4, 1), dtype=float32) and b:Tensor(\"sub_842:0\", shape=(1,), dtype=float32)\n",
      "Current Loss on iteration 9 Tensor(\"Mean_421:0\", shape=(), dtype=float32)\n",
      "W:Tensor(\"sub_845:0\", shape=(4, 1), dtype=float32) and b:Tensor(\"sub_846:0\", shape=(1,), dtype=float32)\n",
      "Current Loss on iteration 10 Tensor(\"Mean_423:0\", shape=(), dtype=float32)\n",
      "W:Tensor(\"sub_849:0\", shape=(4, 1), dtype=float32) and b:Tensor(\"sub_850:0\", shape=(1,), dtype=float32)\n",
      "Current Loss on iteration 11 Tensor(\"Mean_425:0\", shape=(), dtype=float32)\n",
      "W:Tensor(\"sub_853:0\", shape=(4, 1), dtype=float32) and b:Tensor(\"sub_854:0\", shape=(1,), dtype=float32)\n",
      "Current Loss on iteration 12 Tensor(\"Mean_427:0\", shape=(), dtype=float32)\n",
      "W:Tensor(\"sub_857:0\", shape=(4, 1), dtype=float32) and b:Tensor(\"sub_858:0\", shape=(1,), dtype=float32)\n",
      "Current Loss on iteration 13 Tensor(\"Mean_429:0\", shape=(), dtype=float32)\n",
      "W:Tensor(\"sub_861:0\", shape=(4, 1), dtype=float32) and b:Tensor(\"sub_862:0\", shape=(1,), dtype=float32)\n",
      "Current Loss on iteration 14 Tensor(\"Mean_431:0\", shape=(), dtype=float32)\n",
      "W:Tensor(\"sub_865:0\", shape=(4, 1), dtype=float32) and b:Tensor(\"sub_866:0\", shape=(1,), dtype=float32)\n",
      "Current Loss on iteration 15 Tensor(\"Mean_433:0\", shape=(), dtype=float32)\n",
      "W:Tensor(\"sub_869:0\", shape=(4, 1), dtype=float32) and b:Tensor(\"sub_870:0\", shape=(1,), dtype=float32)\n",
      "Current Loss on iteration 16 Tensor(\"Mean_435:0\", shape=(), dtype=float32)\n",
      "W:Tensor(\"sub_873:0\", shape=(4, 1), dtype=float32) and b:Tensor(\"sub_874:0\", shape=(1,), dtype=float32)\n",
      "Current Loss on iteration 17 Tensor(\"Mean_437:0\", shape=(), dtype=float32)\n",
      "W:Tensor(\"sub_877:0\", shape=(4, 1), dtype=float32) and b:Tensor(\"sub_878:0\", shape=(1,), dtype=float32)\n",
      "Current Loss on iteration 18 Tensor(\"Mean_439:0\", shape=(), dtype=float32)\n",
      "W:Tensor(\"sub_881:0\", shape=(4, 1), dtype=float32) and b:Tensor(\"sub_882:0\", shape=(1,), dtype=float32)\n",
      "Current Loss on iteration 19 Tensor(\"Mean_441:0\", shape=(), dtype=float32)\n",
      "W:Tensor(\"sub_885:0\", shape=(4, 1), dtype=float32) and b:Tensor(\"sub_886:0\", shape=(1,), dtype=float32)\n",
      "Current Loss on iteration 20 Tensor(\"Mean_443:0\", shape=(), dtype=float32)\n",
      "W:Tensor(\"sub_889:0\", shape=(4, 1), dtype=float32) and b:Tensor(\"sub_890:0\", shape=(1,), dtype=float32)\n",
      "Current Loss on iteration 21 Tensor(\"Mean_445:0\", shape=(), dtype=float32)\n",
      "W:Tensor(\"sub_893:0\", shape=(4, 1), dtype=float32) and b:Tensor(\"sub_894:0\", shape=(1,), dtype=float32)\n",
      "Current Loss on iteration 22 Tensor(\"Mean_447:0\", shape=(), dtype=float32)\n",
      "W:Tensor(\"sub_897:0\", shape=(4, 1), dtype=float32) and b:Tensor(\"sub_898:0\", shape=(1,), dtype=float32)\n",
      "Current Loss on iteration 23 Tensor(\"Mean_449:0\", shape=(), dtype=float32)\n",
      "W:Tensor(\"sub_901:0\", shape=(4, 1), dtype=float32) and b:Tensor(\"sub_902:0\", shape=(1,), dtype=float32)\n",
      "Current Loss on iteration 24 Tensor(\"Mean_451:0\", shape=(), dtype=float32)\n",
      "W:Tensor(\"sub_905:0\", shape=(4, 1), dtype=float32) and b:Tensor(\"sub_906:0\", shape=(1,), dtype=float32)\n",
      "Current Loss on iteration 25 Tensor(\"Mean_453:0\", shape=(), dtype=float32)\n",
      "W:Tensor(\"sub_909:0\", shape=(4, 1), dtype=float32) and b:Tensor(\"sub_910:0\", shape=(1,), dtype=float32)\n",
      "Current Loss on iteration 26 Tensor(\"Mean_455:0\", shape=(), dtype=float32)\n",
      "W:Tensor(\"sub_913:0\", shape=(4, 1), dtype=float32) and b:Tensor(\"sub_914:0\", shape=(1,), dtype=float32)\n",
      "Current Loss on iteration 27 Tensor(\"Mean_457:0\", shape=(), dtype=float32)\n",
      "W:Tensor(\"sub_917:0\", shape=(4, 1), dtype=float32) and b:Tensor(\"sub_918:0\", shape=(1,), dtype=float32)\n",
      "Current Loss on iteration 28 Tensor(\"Mean_459:0\", shape=(), dtype=float32)\n",
      "W:Tensor(\"sub_921:0\", shape=(4, 1), dtype=float32) and b:Tensor(\"sub_922:0\", shape=(1,), dtype=float32)\n",
      "Current Loss on iteration 29 Tensor(\"Mean_461:0\", shape=(), dtype=float32)\n",
      "W:Tensor(\"sub_925:0\", shape=(4, 1), dtype=float32) and b:Tensor(\"sub_926:0\", shape=(1,), dtype=float32)\n",
      "Current Loss on iteration 30 Tensor(\"Mean_463:0\", shape=(), dtype=float32)\n",
      "W:Tensor(\"sub_929:0\", shape=(4, 1), dtype=float32) and b:Tensor(\"sub_930:0\", shape=(1,), dtype=float32)\n",
      "Current Loss on iteration 31 Tensor(\"Mean_465:0\", shape=(), dtype=float32)\n",
      "W:Tensor(\"sub_933:0\", shape=(4, 1), dtype=float32) and b:Tensor(\"sub_934:0\", shape=(1,), dtype=float32)\n",
      "Current Loss on iteration 32 Tensor(\"Mean_467:0\", shape=(), dtype=float32)\n",
      "W:Tensor(\"sub_937:0\", shape=(4, 1), dtype=float32) and b:Tensor(\"sub_938:0\", shape=(1,), dtype=float32)\n",
      "Current Loss on iteration 33 Tensor(\"Mean_469:0\", shape=(), dtype=float32)\n",
      "W:Tensor(\"sub_941:0\", shape=(4, 1), dtype=float32) and b:Tensor(\"sub_942:0\", shape=(1,), dtype=float32)\n",
      "Current Loss on iteration 34 Tensor(\"Mean_471:0\", shape=(), dtype=float32)\n",
      "W:Tensor(\"sub_945:0\", shape=(4, 1), dtype=float32) and b:Tensor(\"sub_946:0\", shape=(1,), dtype=float32)\n",
      "Current Loss on iteration 35 Tensor(\"Mean_473:0\", shape=(), dtype=float32)\n",
      "W:Tensor(\"sub_949:0\", shape=(4, 1), dtype=float32) and b:Tensor(\"sub_950:0\", shape=(1,), dtype=float32)\n",
      "Current Loss on iteration 36 Tensor(\"Mean_475:0\", shape=(), dtype=float32)\n",
      "W:Tensor(\"sub_953:0\", shape=(4, 1), dtype=float32) and b:Tensor(\"sub_954:0\", shape=(1,), dtype=float32)\n",
      "Current Loss on iteration 37 Tensor(\"Mean_477:0\", shape=(), dtype=float32)\n",
      "W:Tensor(\"sub_957:0\", shape=(4, 1), dtype=float32) and b:Tensor(\"sub_958:0\", shape=(1,), dtype=float32)\n",
      "Current Loss on iteration 38 Tensor(\"Mean_479:0\", shape=(), dtype=float32)\n",
      "W:Tensor(\"sub_961:0\", shape=(4, 1), dtype=float32) and b:Tensor(\"sub_962:0\", shape=(1,), dtype=float32)\n",
      "Current Loss on iteration 39 Tensor(\"Mean_481:0\", shape=(), dtype=float32)\n",
      "W:Tensor(\"sub_965:0\", shape=(4, 1), dtype=float32) and b:Tensor(\"sub_966:0\", shape=(1,), dtype=float32)\n",
      "Current Loss on iteration 40 Tensor(\"Mean_483:0\", shape=(), dtype=float32)\n",
      "W:Tensor(\"sub_969:0\", shape=(4, 1), dtype=float32) and b:Tensor(\"sub_970:0\", shape=(1,), dtype=float32)\n",
      "Current Loss on iteration 41 Tensor(\"Mean_485:0\", shape=(), dtype=float32)\n",
      "W:Tensor(\"sub_973:0\", shape=(4, 1), dtype=float32) and b:Tensor(\"sub_974:0\", shape=(1,), dtype=float32)\n",
      "Current Loss on iteration 42 Tensor(\"Mean_487:0\", shape=(), dtype=float32)\n",
      "W:Tensor(\"sub_977:0\", shape=(4, 1), dtype=float32) and b:Tensor(\"sub_978:0\", shape=(1,), dtype=float32)\n",
      "Current Loss on iteration 43 Tensor(\"Mean_489:0\", shape=(), dtype=float32)\n",
      "W:Tensor(\"sub_981:0\", shape=(4, 1), dtype=float32) and b:Tensor(\"sub_982:0\", shape=(1,), dtype=float32)\n",
      "Current Loss on iteration 44 Tensor(\"Mean_491:0\", shape=(), dtype=float32)\n",
      "W:Tensor(\"sub_985:0\", shape=(4, 1), dtype=float32) and b:Tensor(\"sub_986:0\", shape=(1,), dtype=float32)\n",
      "Current Loss on iteration 45 Tensor(\"Mean_493:0\", shape=(), dtype=float32)\n",
      "W:Tensor(\"sub_989:0\", shape=(4, 1), dtype=float32) and b:Tensor(\"sub_990:0\", shape=(1,), dtype=float32)\n",
      "Current Loss on iteration 46 Tensor(\"Mean_495:0\", shape=(), dtype=float32)\n",
      "W:Tensor(\"sub_993:0\", shape=(4, 1), dtype=float32) and b:Tensor(\"sub_994:0\", shape=(1,), dtype=float32)\n",
      "Current Loss on iteration 47 Tensor(\"Mean_497:0\", shape=(), dtype=float32)\n",
      "W:Tensor(\"sub_997:0\", shape=(4, 1), dtype=float32) and b:Tensor(\"sub_998:0\", shape=(1,), dtype=float32)\n",
      "Current Loss on iteration 48 Tensor(\"Mean_499:0\", shape=(), dtype=float32)\n",
      "W:Tensor(\"sub_1001:0\", shape=(4, 1), dtype=float32) and b:Tensor(\"sub_1002:0\", shape=(1,), dtype=float32)\n"
     ]
    },
    {
     "name": "stdout",
     "output_type": "stream",
     "text": [
      "Current Loss on iteration 49 Tensor(\"Mean_501:0\", shape=(), dtype=float32)\n",
      "W:Tensor(\"sub_1005:0\", shape=(4, 1), dtype=float32) and b:Tensor(\"sub_1006:0\", shape=(1,), dtype=float32)\n",
      "Current Loss on iteration 50 Tensor(\"Mean_503:0\", shape=(), dtype=float32)\n",
      "W:Tensor(\"sub_1009:0\", shape=(4, 1), dtype=float32) and b:Tensor(\"sub_1010:0\", shape=(1,), dtype=float32)\n",
      "Current Loss on iteration 51 Tensor(\"Mean_505:0\", shape=(), dtype=float32)\n",
      "W:Tensor(\"sub_1013:0\", shape=(4, 1), dtype=float32) and b:Tensor(\"sub_1014:0\", shape=(1,), dtype=float32)\n",
      "Current Loss on iteration 52 Tensor(\"Mean_507:0\", shape=(), dtype=float32)\n",
      "W:Tensor(\"sub_1017:0\", shape=(4, 1), dtype=float32) and b:Tensor(\"sub_1018:0\", shape=(1,), dtype=float32)\n",
      "Current Loss on iteration 53 Tensor(\"Mean_509:0\", shape=(), dtype=float32)\n",
      "W:Tensor(\"sub_1021:0\", shape=(4, 1), dtype=float32) and b:Tensor(\"sub_1022:0\", shape=(1,), dtype=float32)\n",
      "Current Loss on iteration 54 Tensor(\"Mean_511:0\", shape=(), dtype=float32)\n",
      "W:Tensor(\"sub_1025:0\", shape=(4, 1), dtype=float32) and b:Tensor(\"sub_1026:0\", shape=(1,), dtype=float32)\n",
      "Current Loss on iteration 55 Tensor(\"Mean_513:0\", shape=(), dtype=float32)\n",
      "W:Tensor(\"sub_1029:0\", shape=(4, 1), dtype=float32) and b:Tensor(\"sub_1030:0\", shape=(1,), dtype=float32)\n",
      "Current Loss on iteration 56 Tensor(\"Mean_515:0\", shape=(), dtype=float32)\n",
      "W:Tensor(\"sub_1033:0\", shape=(4, 1), dtype=float32) and b:Tensor(\"sub_1034:0\", shape=(1,), dtype=float32)\n",
      "Current Loss on iteration 57 Tensor(\"Mean_517:0\", shape=(), dtype=float32)\n",
      "W:Tensor(\"sub_1037:0\", shape=(4, 1), dtype=float32) and b:Tensor(\"sub_1038:0\", shape=(1,), dtype=float32)\n",
      "Current Loss on iteration 58 Tensor(\"Mean_519:0\", shape=(), dtype=float32)\n",
      "W:Tensor(\"sub_1041:0\", shape=(4, 1), dtype=float32) and b:Tensor(\"sub_1042:0\", shape=(1,), dtype=float32)\n",
      "Current Loss on iteration 59 Tensor(\"Mean_521:0\", shape=(), dtype=float32)\n",
      "W:Tensor(\"sub_1045:0\", shape=(4, 1), dtype=float32) and b:Tensor(\"sub_1046:0\", shape=(1,), dtype=float32)\n",
      "Current Loss on iteration 60 Tensor(\"Mean_523:0\", shape=(), dtype=float32)\n",
      "W:Tensor(\"sub_1049:0\", shape=(4, 1), dtype=float32) and b:Tensor(\"sub_1050:0\", shape=(1,), dtype=float32)\n",
      "Current Loss on iteration 61 Tensor(\"Mean_525:0\", shape=(), dtype=float32)\n",
      "W:Tensor(\"sub_1053:0\", shape=(4, 1), dtype=float32) and b:Tensor(\"sub_1054:0\", shape=(1,), dtype=float32)\n",
      "Current Loss on iteration 62 Tensor(\"Mean_527:0\", shape=(), dtype=float32)\n",
      "W:Tensor(\"sub_1057:0\", shape=(4, 1), dtype=float32) and b:Tensor(\"sub_1058:0\", shape=(1,), dtype=float32)\n",
      "Current Loss on iteration 63 Tensor(\"Mean_529:0\", shape=(), dtype=float32)\n",
      "W:Tensor(\"sub_1061:0\", shape=(4, 1), dtype=float32) and b:Tensor(\"sub_1062:0\", shape=(1,), dtype=float32)\n",
      "Current Loss on iteration 64 Tensor(\"Mean_531:0\", shape=(), dtype=float32)\n",
      "W:Tensor(\"sub_1065:0\", shape=(4, 1), dtype=float32) and b:Tensor(\"sub_1066:0\", shape=(1,), dtype=float32)\n",
      "Current Loss on iteration 65 Tensor(\"Mean_533:0\", shape=(), dtype=float32)\n",
      "W:Tensor(\"sub_1069:0\", shape=(4, 1), dtype=float32) and b:Tensor(\"sub_1070:0\", shape=(1,), dtype=float32)\n",
      "Current Loss on iteration 66 Tensor(\"Mean_535:0\", shape=(), dtype=float32)\n",
      "W:Tensor(\"sub_1073:0\", shape=(4, 1), dtype=float32) and b:Tensor(\"sub_1074:0\", shape=(1,), dtype=float32)\n",
      "Current Loss on iteration 67 Tensor(\"Mean_537:0\", shape=(), dtype=float32)\n",
      "W:Tensor(\"sub_1077:0\", shape=(4, 1), dtype=float32) and b:Tensor(\"sub_1078:0\", shape=(1,), dtype=float32)\n",
      "Current Loss on iteration 68 Tensor(\"Mean_539:0\", shape=(), dtype=float32)\n",
      "W:Tensor(\"sub_1081:0\", shape=(4, 1), dtype=float32) and b:Tensor(\"sub_1082:0\", shape=(1,), dtype=float32)\n",
      "Current Loss on iteration 69 Tensor(\"Mean_541:0\", shape=(), dtype=float32)\n",
      "W:Tensor(\"sub_1085:0\", shape=(4, 1), dtype=float32) and b:Tensor(\"sub_1086:0\", shape=(1,), dtype=float32)\n",
      "Current Loss on iteration 70 Tensor(\"Mean_543:0\", shape=(), dtype=float32)\n",
      "W:Tensor(\"sub_1089:0\", shape=(4, 1), dtype=float32) and b:Tensor(\"sub_1090:0\", shape=(1,), dtype=float32)\n",
      "Current Loss on iteration 71 Tensor(\"Mean_545:0\", shape=(), dtype=float32)\n",
      "W:Tensor(\"sub_1093:0\", shape=(4, 1), dtype=float32) and b:Tensor(\"sub_1094:0\", shape=(1,), dtype=float32)\n",
      "Current Loss on iteration 72 Tensor(\"Mean_547:0\", shape=(), dtype=float32)\n",
      "W:Tensor(\"sub_1097:0\", shape=(4, 1), dtype=float32) and b:Tensor(\"sub_1098:0\", shape=(1,), dtype=float32)\n",
      "Current Loss on iteration 73 Tensor(\"Mean_549:0\", shape=(), dtype=float32)\n",
      "W:Tensor(\"sub_1101:0\", shape=(4, 1), dtype=float32) and b:Tensor(\"sub_1102:0\", shape=(1,), dtype=float32)\n",
      "Current Loss on iteration 74 Tensor(\"Mean_551:0\", shape=(), dtype=float32)\n",
      "W:Tensor(\"sub_1105:0\", shape=(4, 1), dtype=float32) and b:Tensor(\"sub_1106:0\", shape=(1,), dtype=float32)\n",
      "Current Loss on iteration 75 Tensor(\"Mean_553:0\", shape=(), dtype=float32)\n",
      "W:Tensor(\"sub_1109:0\", shape=(4, 1), dtype=float32) and b:Tensor(\"sub_1110:0\", shape=(1,), dtype=float32)\n",
      "Current Loss on iteration 76 Tensor(\"Mean_555:0\", shape=(), dtype=float32)\n",
      "W:Tensor(\"sub_1113:0\", shape=(4, 1), dtype=float32) and b:Tensor(\"sub_1114:0\", shape=(1,), dtype=float32)\n",
      "Current Loss on iteration 77 Tensor(\"Mean_557:0\", shape=(), dtype=float32)\n",
      "W:Tensor(\"sub_1117:0\", shape=(4, 1), dtype=float32) and b:Tensor(\"sub_1118:0\", shape=(1,), dtype=float32)\n",
      "Current Loss on iteration 78 Tensor(\"Mean_559:0\", shape=(), dtype=float32)\n",
      "W:Tensor(\"sub_1121:0\", shape=(4, 1), dtype=float32) and b:Tensor(\"sub_1122:0\", shape=(1,), dtype=float32)\n",
      "Current Loss on iteration 79 Tensor(\"Mean_561:0\", shape=(), dtype=float32)\n",
      "W:Tensor(\"sub_1125:0\", shape=(4, 1), dtype=float32) and b:Tensor(\"sub_1126:0\", shape=(1,), dtype=float32)\n",
      "Current Loss on iteration 80 Tensor(\"Mean_563:0\", shape=(), dtype=float32)\n",
      "W:Tensor(\"sub_1129:0\", shape=(4, 1), dtype=float32) and b:Tensor(\"sub_1130:0\", shape=(1,), dtype=float32)\n",
      "Current Loss on iteration 81 Tensor(\"Mean_565:0\", shape=(), dtype=float32)\n",
      "W:Tensor(\"sub_1133:0\", shape=(4, 1), dtype=float32) and b:Tensor(\"sub_1134:0\", shape=(1,), dtype=float32)\n",
      "Current Loss on iteration 82 Tensor(\"Mean_567:0\", shape=(), dtype=float32)\n",
      "W:Tensor(\"sub_1137:0\", shape=(4, 1), dtype=float32) and b:Tensor(\"sub_1138:0\", shape=(1,), dtype=float32)\n",
      "Current Loss on iteration 83 Tensor(\"Mean_569:0\", shape=(), dtype=float32)\n",
      "W:Tensor(\"sub_1141:0\", shape=(4, 1), dtype=float32) and b:Tensor(\"sub_1142:0\", shape=(1,), dtype=float32)\n",
      "Current Loss on iteration 84 Tensor(\"Mean_571:0\", shape=(), dtype=float32)\n",
      "W:Tensor(\"sub_1145:0\", shape=(4, 1), dtype=float32) and b:Tensor(\"sub_1146:0\", shape=(1,), dtype=float32)\n",
      "Current Loss on iteration 85 Tensor(\"Mean_573:0\", shape=(), dtype=float32)\n",
      "W:Tensor(\"sub_1149:0\", shape=(4, 1), dtype=float32) and b:Tensor(\"sub_1150:0\", shape=(1,), dtype=float32)\n",
      "Current Loss on iteration 86 Tensor(\"Mean_575:0\", shape=(), dtype=float32)\n",
      "W:Tensor(\"sub_1153:0\", shape=(4, 1), dtype=float32) and b:Tensor(\"sub_1154:0\", shape=(1,), dtype=float32)\n",
      "Current Loss on iteration 87 Tensor(\"Mean_577:0\", shape=(), dtype=float32)\n",
      "W:Tensor(\"sub_1157:0\", shape=(4, 1), dtype=float32) and b:Tensor(\"sub_1158:0\", shape=(1,), dtype=float32)\n",
      "Current Loss on iteration 88 Tensor(\"Mean_579:0\", shape=(), dtype=float32)\n",
      "W:Tensor(\"sub_1161:0\", shape=(4, 1), dtype=float32) and b:Tensor(\"sub_1162:0\", shape=(1,), dtype=float32)\n",
      "Current Loss on iteration 89 Tensor(\"Mean_581:0\", shape=(), dtype=float32)\n",
      "W:Tensor(\"sub_1165:0\", shape=(4, 1), dtype=float32) and b:Tensor(\"sub_1166:0\", shape=(1,), dtype=float32)\n",
      "Current Loss on iteration 90 Tensor(\"Mean_583:0\", shape=(), dtype=float32)\n",
      "W:Tensor(\"sub_1169:0\", shape=(4, 1), dtype=float32) and b:Tensor(\"sub_1170:0\", shape=(1,), dtype=float32)\n",
      "Current Loss on iteration 91 Tensor(\"Mean_585:0\", shape=(), dtype=float32)\n",
      "W:Tensor(\"sub_1173:0\", shape=(4, 1), dtype=float32) and b:Tensor(\"sub_1174:0\", shape=(1,), dtype=float32)\n",
      "Current Loss on iteration 92 Tensor(\"Mean_587:0\", shape=(), dtype=float32)\n",
      "W:Tensor(\"sub_1177:0\", shape=(4, 1), dtype=float32) and b:Tensor(\"sub_1178:0\", shape=(1,), dtype=float32)\n",
      "Current Loss on iteration 93 Tensor(\"Mean_589:0\", shape=(), dtype=float32)\n",
      "W:Tensor(\"sub_1181:0\", shape=(4, 1), dtype=float32) and b:Tensor(\"sub_1182:0\", shape=(1,), dtype=float32)\n",
      "Current Loss on iteration 94 Tensor(\"Mean_591:0\", shape=(), dtype=float32)\n",
      "W:Tensor(\"sub_1185:0\", shape=(4, 1), dtype=float32) and b:Tensor(\"sub_1186:0\", shape=(1,), dtype=float32)\n",
      "Current Loss on iteration 95 Tensor(\"Mean_593:0\", shape=(), dtype=float32)\n",
      "W:Tensor(\"sub_1189:0\", shape=(4, 1), dtype=float32) and b:Tensor(\"sub_1190:0\", shape=(1,), dtype=float32)\n",
      "Current Loss on iteration 96 Tensor(\"Mean_595:0\", shape=(), dtype=float32)\n",
      "W:Tensor(\"sub_1193:0\", shape=(4, 1), dtype=float32) and b:Tensor(\"sub_1194:0\", shape=(1,), dtype=float32)\n",
      "Current Loss on iteration 97 Tensor(\"Mean_597:0\", shape=(), dtype=float32)\n",
      "W:Tensor(\"sub_1197:0\", shape=(4, 1), dtype=float32) and b:Tensor(\"sub_1198:0\", shape=(1,), dtype=float32)\n",
      "Current Loss on iteration 98 Tensor(\"Mean_599:0\", shape=(), dtype=float32)\n",
      "W:Tensor(\"sub_1201:0\", shape=(4, 1), dtype=float32) and b:Tensor(\"sub_1202:0\", shape=(1,), dtype=float32)\n",
      "Current Loss on iteration 99 Tensor(\"Mean_601:0\", shape=(), dtype=float32)\n"
     ]
    }
   ],
   "source": [
    "    #Training the model for 100 iterations\n",
    "\n",
    "    for i in range(100):\n",
    "        W,b = train(X_train_float,y_train_float,W,b)\n",
    "        print('W:{} and b:{}'.format(W,b))\n",
    "        print('Current Loss on iteration', i, loss(y_train_float, prediction(X_train_float, W, b)))\n",
    "        #Removed numpy() as eager execution is required to be enabled which is conflicting with the hidden layer creation in Iris dataset"
   ]
  },
  {
   "cell_type": "markdown",
   "metadata": {
    "colab_type": "text",
    "id": "DOL2ncA1OB7q"
   },
   "source": [
    "### Get the shapes and values of W and b"
   ]
  },
  {
   "cell_type": "code",
   "execution_count": 123,
   "metadata": {},
   "outputs": [
    {
     "data": {
      "text/plain": [
       "<tf.Tensor 'sub_1201:0' shape=(4, 1) dtype=float32>"
      ]
     },
     "execution_count": 123,
     "metadata": {},
     "output_type": "execute_result"
    }
   ],
   "source": [
    "W"
   ]
  },
  {
   "cell_type": "code",
   "execution_count": 124,
   "metadata": {},
   "outputs": [
    {
     "data": {
      "text/plain": [
       "<tf.Tensor 'sub_1202:0' shape=(1,) dtype=float32>"
      ]
     },
     "execution_count": 124,
     "metadata": {},
     "output_type": "execute_result"
    }
   ],
   "source": [
    "b"
   ]
  },
  {
   "cell_type": "code",
   "execution_count": 125,
   "metadata": {
    "colab": {},
    "colab_type": "code",
    "id": "ZGvtyTeuOB7r"
   },
   "outputs": [
    {
     "data": {
      "text/plain": [
       "TensorShape([Dimension(4), Dimension(1)])"
      ]
     },
     "execution_count": 125,
     "metadata": {},
     "output_type": "execute_result"
    }
   ],
   "source": [
    "W.shape"
   ]
  },
  {
   "cell_type": "code",
   "execution_count": 126,
   "metadata": {
    "colab": {},
    "colab_type": "code",
    "id": "vhDtOv5UOB7x"
   },
   "outputs": [
    {
     "data": {
      "text/plain": [
       "TensorShape([Dimension(1)])"
      ]
     },
     "execution_count": 126,
     "metadata": {},
     "output_type": "execute_result"
    }
   ],
   "source": [
    "b.shape"
   ]
  },
  {
   "cell_type": "markdown",
   "metadata": {
    "colab_type": "text",
    "id": "ERq9GOKKciho"
   },
   "source": [
    "### Model Prediction on 1st Examples in Test Dataset"
   ]
  },
  {
   "cell_type": "code",
   "execution_count": 127,
   "metadata": {
    "colab": {},
    "colab_type": "code",
    "id": "gKGvUWahcihp"
   },
   "outputs": [
    {
     "name": "stdout",
     "output_type": "stream",
     "text": [
      "Current Loss on iteration 0 Tensor(\"Mean_603:0\", shape=(), dtype=float32)\n",
      "Current Loss on iteration 1 Tensor(\"Mean_605:0\", shape=(), dtype=float32)\n",
      "Current Loss on iteration 2 Tensor(\"Mean_607:0\", shape=(), dtype=float32)\n",
      "Current Loss on iteration 3 Tensor(\"Mean_609:0\", shape=(), dtype=float32)\n",
      "Current Loss on iteration 4 Tensor(\"Mean_611:0\", shape=(), dtype=float32)\n",
      "Current Loss on iteration 5 Tensor(\"Mean_613:0\", shape=(), dtype=float32)\n",
      "Current Loss on iteration 6 Tensor(\"Mean_615:0\", shape=(), dtype=float32)\n",
      "Current Loss on iteration 7 Tensor(\"Mean_617:0\", shape=(), dtype=float32)\n",
      "Current Loss on iteration 8 Tensor(\"Mean_619:0\", shape=(), dtype=float32)\n",
      "Current Loss on iteration 9 Tensor(\"Mean_621:0\", shape=(), dtype=float32)\n",
      "Current Loss on iteration 10 Tensor(\"Mean_623:0\", shape=(), dtype=float32)\n",
      "Current Loss on iteration 11 Tensor(\"Mean_625:0\", shape=(), dtype=float32)\n",
      "Current Loss on iteration 12 Tensor(\"Mean_627:0\", shape=(), dtype=float32)\n",
      "Current Loss on iteration 13 Tensor(\"Mean_629:0\", shape=(), dtype=float32)\n",
      "Current Loss on iteration 14 Tensor(\"Mean_631:0\", shape=(), dtype=float32)\n",
      "Current Loss on iteration 15 Tensor(\"Mean_633:0\", shape=(), dtype=float32)\n",
      "Current Loss on iteration 16 Tensor(\"Mean_635:0\", shape=(), dtype=float32)\n",
      "Current Loss on iteration 17 Tensor(\"Mean_637:0\", shape=(), dtype=float32)\n",
      "Current Loss on iteration 18 Tensor(\"Mean_639:0\", shape=(), dtype=float32)\n",
      "Current Loss on iteration 19 Tensor(\"Mean_641:0\", shape=(), dtype=float32)\n",
      "Current Loss on iteration 20 Tensor(\"Mean_643:0\", shape=(), dtype=float32)\n",
      "Current Loss on iteration 21 Tensor(\"Mean_645:0\", shape=(), dtype=float32)\n",
      "Current Loss on iteration 22 Tensor(\"Mean_647:0\", shape=(), dtype=float32)\n",
      "Current Loss on iteration 23 Tensor(\"Mean_649:0\", shape=(), dtype=float32)\n",
      "Current Loss on iteration 24 Tensor(\"Mean_651:0\", shape=(), dtype=float32)\n",
      "Current Loss on iteration 25 Tensor(\"Mean_653:0\", shape=(), dtype=float32)\n",
      "Current Loss on iteration 26 Tensor(\"Mean_655:0\", shape=(), dtype=float32)\n",
      "Current Loss on iteration 27 Tensor(\"Mean_657:0\", shape=(), dtype=float32)\n",
      "Current Loss on iteration 28 Tensor(\"Mean_659:0\", shape=(), dtype=float32)\n",
      "Current Loss on iteration 29 Tensor(\"Mean_661:0\", shape=(), dtype=float32)\n",
      "Current Loss on iteration 30 Tensor(\"Mean_663:0\", shape=(), dtype=float32)\n",
      "Current Loss on iteration 31 Tensor(\"Mean_665:0\", shape=(), dtype=float32)\n",
      "Current Loss on iteration 32 Tensor(\"Mean_667:0\", shape=(), dtype=float32)\n",
      "Current Loss on iteration 33 Tensor(\"Mean_669:0\", shape=(), dtype=float32)\n",
      "Current Loss on iteration 34 Tensor(\"Mean_671:0\", shape=(), dtype=float32)\n",
      "Current Loss on iteration 35 Tensor(\"Mean_673:0\", shape=(), dtype=float32)\n",
      "Current Loss on iteration 36 Tensor(\"Mean_675:0\", shape=(), dtype=float32)\n",
      "Current Loss on iteration 37 Tensor(\"Mean_677:0\", shape=(), dtype=float32)\n",
      "Current Loss on iteration 38 Tensor(\"Mean_679:0\", shape=(), dtype=float32)\n",
      "Current Loss on iteration 39 Tensor(\"Mean_681:0\", shape=(), dtype=float32)\n",
      "Current Loss on iteration 40 Tensor(\"Mean_683:0\", shape=(), dtype=float32)\n",
      "Current Loss on iteration 41 Tensor(\"Mean_685:0\", shape=(), dtype=float32)\n",
      "Current Loss on iteration 42 Tensor(\"Mean_687:0\", shape=(), dtype=float32)\n",
      "Current Loss on iteration 43 Tensor(\"Mean_689:0\", shape=(), dtype=float32)\n",
      "Current Loss on iteration 44 Tensor(\"Mean_691:0\", shape=(), dtype=float32)\n",
      "Current Loss on iteration 45 Tensor(\"Mean_693:0\", shape=(), dtype=float32)\n",
      "Current Loss on iteration 46 Tensor(\"Mean_695:0\", shape=(), dtype=float32)\n",
      "Current Loss on iteration 47 Tensor(\"Mean_697:0\", shape=(), dtype=float32)\n",
      "Current Loss on iteration 48 Tensor(\"Mean_699:0\", shape=(), dtype=float32)\n",
      "Current Loss on iteration 49 Tensor(\"Mean_701:0\", shape=(), dtype=float32)\n",
      "Current Loss on iteration 50 Tensor(\"Mean_703:0\", shape=(), dtype=float32)\n",
      "Current Loss on iteration 51 Tensor(\"Mean_705:0\", shape=(), dtype=float32)\n",
      "Current Loss on iteration 52 Tensor(\"Mean_707:0\", shape=(), dtype=float32)\n",
      "Current Loss on iteration 53 Tensor(\"Mean_709:0\", shape=(), dtype=float32)\n",
      "Current Loss on iteration 54 Tensor(\"Mean_711:0\", shape=(), dtype=float32)\n",
      "Current Loss on iteration 55 Tensor(\"Mean_713:0\", shape=(), dtype=float32)\n",
      "Current Loss on iteration 56 Tensor(\"Mean_715:0\", shape=(), dtype=float32)\n",
      "Current Loss on iteration 57 Tensor(\"Mean_717:0\", shape=(), dtype=float32)\n",
      "Current Loss on iteration 58 Tensor(\"Mean_719:0\", shape=(), dtype=float32)\n",
      "Current Loss on iteration 59 Tensor(\"Mean_721:0\", shape=(), dtype=float32)\n",
      "Current Loss on iteration 60 Tensor(\"Mean_723:0\", shape=(), dtype=float32)\n",
      "Current Loss on iteration 61 Tensor(\"Mean_725:0\", shape=(), dtype=float32)\n",
      "Current Loss on iteration 62 Tensor(\"Mean_727:0\", shape=(), dtype=float32)\n",
      "Current Loss on iteration 63 Tensor(\"Mean_729:0\", shape=(), dtype=float32)\n",
      "Current Loss on iteration 64 Tensor(\"Mean_731:0\", shape=(), dtype=float32)\n",
      "Current Loss on iteration 65 Tensor(\"Mean_733:0\", shape=(), dtype=float32)\n",
      "Current Loss on iteration 66 Tensor(\"Mean_735:0\", shape=(), dtype=float32)\n",
      "Current Loss on iteration 67 Tensor(\"Mean_737:0\", shape=(), dtype=float32)\n",
      "Current Loss on iteration 68 Tensor(\"Mean_739:0\", shape=(), dtype=float32)\n",
      "Current Loss on iteration 69 Tensor(\"Mean_741:0\", shape=(), dtype=float32)\n",
      "Current Loss on iteration 70 Tensor(\"Mean_743:0\", shape=(), dtype=float32)\n",
      "Current Loss on iteration 71 Tensor(\"Mean_745:0\", shape=(), dtype=float32)\n",
      "Current Loss on iteration 72 Tensor(\"Mean_747:0\", shape=(), dtype=float32)\n",
      "Current Loss on iteration 73 Tensor(\"Mean_749:0\", shape=(), dtype=float32)\n",
      "Current Loss on iteration 74 Tensor(\"Mean_751:0\", shape=(), dtype=float32)\n",
      "Current Loss on iteration 75 Tensor(\"Mean_753:0\", shape=(), dtype=float32)\n",
      "Current Loss on iteration 76 Tensor(\"Mean_755:0\", shape=(), dtype=float32)\n",
      "Current Loss on iteration 77 Tensor(\"Mean_757:0\", shape=(), dtype=float32)\n",
      "Current Loss on iteration 78 Tensor(\"Mean_759:0\", shape=(), dtype=float32)\n",
      "Current Loss on iteration 79 Tensor(\"Mean_761:0\", shape=(), dtype=float32)\n",
      "Current Loss on iteration 80 Tensor(\"Mean_763:0\", shape=(), dtype=float32)\n",
      "Current Loss on iteration 81 Tensor(\"Mean_765:0\", shape=(), dtype=float32)\n",
      "Current Loss on iteration 82 Tensor(\"Mean_767:0\", shape=(), dtype=float32)\n",
      "Current Loss on iteration 83 Tensor(\"Mean_769:0\", shape=(), dtype=float32)\n",
      "Current Loss on iteration 84 Tensor(\"Mean_771:0\", shape=(), dtype=float32)\n",
      "Current Loss on iteration 85 Tensor(\"Mean_773:0\", shape=(), dtype=float32)\n",
      "Current Loss on iteration 86 Tensor(\"Mean_775:0\", shape=(), dtype=float32)\n",
      "Current Loss on iteration 87 Tensor(\"Mean_777:0\", shape=(), dtype=float32)\n",
      "Current Loss on iteration 88 Tensor(\"Mean_779:0\", shape=(), dtype=float32)\n",
      "Current Loss on iteration 89 Tensor(\"Mean_781:0\", shape=(), dtype=float32)\n",
      "Current Loss on iteration 90 Tensor(\"Mean_783:0\", shape=(), dtype=float32)\n",
      "Current Loss on iteration 91 Tensor(\"Mean_785:0\", shape=(), dtype=float32)\n",
      "Current Loss on iteration 92 Tensor(\"Mean_787:0\", shape=(), dtype=float32)\n",
      "Current Loss on iteration 93 Tensor(\"Mean_789:0\", shape=(), dtype=float32)\n",
      "Current Loss on iteration 94 Tensor(\"Mean_791:0\", shape=(), dtype=float32)\n",
      "Current Loss on iteration 95 Tensor(\"Mean_793:0\", shape=(), dtype=float32)\n",
      "Current Loss on iteration 96 Tensor(\"Mean_795:0\", shape=(), dtype=float32)\n",
      "Current Loss on iteration 97 Tensor(\"Mean_797:0\", shape=(), dtype=float32)\n",
      "Current Loss on iteration 98 Tensor(\"Mean_799:0\", shape=(), dtype=float32)\n",
      "Current Loss on iteration 99 Tensor(\"Mean_801:0\", shape=(), dtype=float32)\n"
     ]
    }
   ],
   "source": [
    "    for i in range(100):\n",
    "        W,b = train(X_test_float,y_test_float,W,b)\n",
    "        print('Current Loss on iteration', i, loss(y_test_float, prediction(X_test_float, W, b)))\n",
    "                #Removed numpy() as eager execution is required to be enabled which is conflicting with the hidden layer creation in Iris dataset"
   ]
  },
  {
   "cell_type": "markdown",
   "metadata": {
    "colab_type": "text",
    "id": "YJRBuqXhOB7_"
   },
   "source": [
    "## Classification using tf.Keras\n",
    "\n",
    "In this exercise, we will build a Deep Neural Network using tf.Keras. We will use Iris Dataset for this exercise."
   ]
  },
  {
   "cell_type": "markdown",
   "metadata": {
    "colab_type": "text",
    "id": "sb7Epo0VOB58"
   },
   "source": [
    "### Load tensorflow if not done already"
   ]
  },
  {
   "cell_type": "markdown",
   "metadata": {
    "colab_type": "text",
    "id": "O0g6lorycihf"
   },
   "source": [
    "### Load the given Iris data using pandas (Iris.csv)"
   ]
  },
  {
   "cell_type": "code",
   "execution_count": 128,
   "metadata": {
    "colab": {},
    "colab_type": "code",
    "id": "6xFvb5sRcihg"
   },
   "outputs": [],
   "source": [
    "df_iris = pd.read_csv(\"Iris-1.csv\")"
   ]
  },
  {
   "cell_type": "code",
   "execution_count": 129,
   "metadata": {},
   "outputs": [
    {
     "data": {
      "text/plain": [
       "(150, 6)"
      ]
     },
     "execution_count": 129,
     "metadata": {},
     "output_type": "execute_result"
    }
   ],
   "source": [
    "df_iris.shape"
   ]
  },
  {
   "cell_type": "markdown",
   "metadata": {
    "colab_type": "text",
    "id": "SAB--Qdwcihm"
   },
   "source": [
    "### Target set has different categories. So, Label encode them. And convert into one-hot vectors using get_dummies in pandas."
   ]
  },
  {
   "cell_type": "code",
   "execution_count": 130,
   "metadata": {
    "colab": {},
    "colab_type": "code",
    "id": "IJr5dYnocihm"
   },
   "outputs": [
    {
     "data": {
      "text/html": [
       "<div>\n",
       "<style scoped>\n",
       "    .dataframe tbody tr th:only-of-type {\n",
       "        vertical-align: middle;\n",
       "    }\n",
       "\n",
       "    .dataframe tbody tr th {\n",
       "        vertical-align: top;\n",
       "    }\n",
       "\n",
       "    .dataframe thead th {\n",
       "        text-align: right;\n",
       "    }\n",
       "</style>\n",
       "<table border=\"1\" class=\"dataframe\">\n",
       "  <thead>\n",
       "    <tr style=\"text-align: right;\">\n",
       "      <th></th>\n",
       "      <th>Id</th>\n",
       "      <th>SepalLengthCm</th>\n",
       "      <th>SepalWidthCm</th>\n",
       "      <th>PetalLengthCm</th>\n",
       "      <th>PetalWidthCm</th>\n",
       "      <th>Species</th>\n",
       "    </tr>\n",
       "  </thead>\n",
       "  <tbody>\n",
       "    <tr>\n",
       "      <th>0</th>\n",
       "      <td>1</td>\n",
       "      <td>5.1</td>\n",
       "      <td>3.5</td>\n",
       "      <td>1.4</td>\n",
       "      <td>0.2</td>\n",
       "      <td>Iris-setosa</td>\n",
       "    </tr>\n",
       "    <tr>\n",
       "      <th>1</th>\n",
       "      <td>2</td>\n",
       "      <td>4.9</td>\n",
       "      <td>3.0</td>\n",
       "      <td>1.4</td>\n",
       "      <td>0.2</td>\n",
       "      <td>Iris-setosa</td>\n",
       "    </tr>\n",
       "    <tr>\n",
       "      <th>2</th>\n",
       "      <td>3</td>\n",
       "      <td>4.7</td>\n",
       "      <td>3.2</td>\n",
       "      <td>1.3</td>\n",
       "      <td>0.2</td>\n",
       "      <td>Iris-setosa</td>\n",
       "    </tr>\n",
       "    <tr>\n",
       "      <th>3</th>\n",
       "      <td>4</td>\n",
       "      <td>4.6</td>\n",
       "      <td>3.1</td>\n",
       "      <td>1.5</td>\n",
       "      <td>0.2</td>\n",
       "      <td>Iris-setosa</td>\n",
       "    </tr>\n",
       "    <tr>\n",
       "      <th>4</th>\n",
       "      <td>5</td>\n",
       "      <td>5.0</td>\n",
       "      <td>3.6</td>\n",
       "      <td>1.4</td>\n",
       "      <td>0.2</td>\n",
       "      <td>Iris-setosa</td>\n",
       "    </tr>\n",
       "  </tbody>\n",
       "</table>\n",
       "</div>"
      ],
      "text/plain": [
       "   Id  SepalLengthCm  SepalWidthCm  PetalLengthCm  PetalWidthCm      Species\n",
       "0   1            5.1           3.5            1.4           0.2  Iris-setosa\n",
       "1   2            4.9           3.0            1.4           0.2  Iris-setosa\n",
       "2   3            4.7           3.2            1.3           0.2  Iris-setosa\n",
       "3   4            4.6           3.1            1.5           0.2  Iris-setosa\n",
       "4   5            5.0           3.6            1.4           0.2  Iris-setosa"
      ]
     },
     "execution_count": 130,
     "metadata": {},
     "output_type": "execute_result"
    }
   ],
   "source": [
    "df_iris.head()"
   ]
  },
  {
   "cell_type": "code",
   "execution_count": 131,
   "metadata": {},
   "outputs": [],
   "source": [
    "#Removing the 'Id' column\n",
    "df_iris = df_iris.drop([\"Id\"],axis=1)"
   ]
  },
  {
   "cell_type": "code",
   "execution_count": 132,
   "metadata": {},
   "outputs": [
    {
     "data": {
      "text/html": [
       "<div>\n",
       "<style scoped>\n",
       "    .dataframe tbody tr th:only-of-type {\n",
       "        vertical-align: middle;\n",
       "    }\n",
       "\n",
       "    .dataframe tbody tr th {\n",
       "        vertical-align: top;\n",
       "    }\n",
       "\n",
       "    .dataframe thead th {\n",
       "        text-align: right;\n",
       "    }\n",
       "</style>\n",
       "<table border=\"1\" class=\"dataframe\">\n",
       "  <thead>\n",
       "    <tr style=\"text-align: right;\">\n",
       "      <th></th>\n",
       "      <th>SepalLengthCm</th>\n",
       "      <th>SepalWidthCm</th>\n",
       "      <th>PetalLengthCm</th>\n",
       "      <th>PetalWidthCm</th>\n",
       "      <th>Species</th>\n",
       "    </tr>\n",
       "  </thead>\n",
       "  <tbody>\n",
       "    <tr>\n",
       "      <th>0</th>\n",
       "      <td>5.1</td>\n",
       "      <td>3.5</td>\n",
       "      <td>1.4</td>\n",
       "      <td>0.2</td>\n",
       "      <td>Iris-setosa</td>\n",
       "    </tr>\n",
       "    <tr>\n",
       "      <th>1</th>\n",
       "      <td>4.9</td>\n",
       "      <td>3.0</td>\n",
       "      <td>1.4</td>\n",
       "      <td>0.2</td>\n",
       "      <td>Iris-setosa</td>\n",
       "    </tr>\n",
       "    <tr>\n",
       "      <th>2</th>\n",
       "      <td>4.7</td>\n",
       "      <td>3.2</td>\n",
       "      <td>1.3</td>\n",
       "      <td>0.2</td>\n",
       "      <td>Iris-setosa</td>\n",
       "    </tr>\n",
       "    <tr>\n",
       "      <th>3</th>\n",
       "      <td>4.6</td>\n",
       "      <td>3.1</td>\n",
       "      <td>1.5</td>\n",
       "      <td>0.2</td>\n",
       "      <td>Iris-setosa</td>\n",
       "    </tr>\n",
       "    <tr>\n",
       "      <th>4</th>\n",
       "      <td>5.0</td>\n",
       "      <td>3.6</td>\n",
       "      <td>1.4</td>\n",
       "      <td>0.2</td>\n",
       "      <td>Iris-setosa</td>\n",
       "    </tr>\n",
       "  </tbody>\n",
       "</table>\n",
       "</div>"
      ],
      "text/plain": [
       "   SepalLengthCm  SepalWidthCm  PetalLengthCm  PetalWidthCm      Species\n",
       "0            5.1           3.5            1.4           0.2  Iris-setosa\n",
       "1            4.9           3.0            1.4           0.2  Iris-setosa\n",
       "2            4.7           3.2            1.3           0.2  Iris-setosa\n",
       "3            4.6           3.1            1.5           0.2  Iris-setosa\n",
       "4            5.0           3.6            1.4           0.2  Iris-setosa"
      ]
     },
     "execution_count": 132,
     "metadata": {},
     "output_type": "execute_result"
    }
   ],
   "source": [
    "df_iris.head()"
   ]
  },
  {
   "cell_type": "code",
   "execution_count": 133,
   "metadata": {},
   "outputs": [],
   "source": [
    "\n",
    "one_hot = pd.get_dummies(df_iris['Species'])\n",
    "df_iris = df_iris.drop('Species',axis = 1)\n",
    "# Join the encoded df\n",
    "df_iris = df_iris.join(one_hot)"
   ]
  },
  {
   "cell_type": "code",
   "execution_count": 134,
   "metadata": {},
   "outputs": [
    {
     "data": {
      "text/plain": [
       "Iris-setosa        uint8\n",
       "Iris-versicolor    uint8\n",
       "Iris-virginica     uint8\n",
       "dtype: object"
      ]
     },
     "execution_count": 134,
     "metadata": {},
     "output_type": "execute_result"
    }
   ],
   "source": [
    "one_hot.dtypes"
   ]
  },
  {
   "cell_type": "code",
   "execution_count": 135,
   "metadata": {},
   "outputs": [
    {
     "data": {
      "text/html": [
       "<div>\n",
       "<style scoped>\n",
       "    .dataframe tbody tr th:only-of-type {\n",
       "        vertical-align: middle;\n",
       "    }\n",
       "\n",
       "    .dataframe tbody tr th {\n",
       "        vertical-align: top;\n",
       "    }\n",
       "\n",
       "    .dataframe thead th {\n",
       "        text-align: right;\n",
       "    }\n",
       "</style>\n",
       "<table border=\"1\" class=\"dataframe\">\n",
       "  <thead>\n",
       "    <tr style=\"text-align: right;\">\n",
       "      <th></th>\n",
       "      <th>SepalLengthCm</th>\n",
       "      <th>SepalWidthCm</th>\n",
       "      <th>PetalLengthCm</th>\n",
       "      <th>PetalWidthCm</th>\n",
       "      <th>Iris-setosa</th>\n",
       "      <th>Iris-versicolor</th>\n",
       "      <th>Iris-virginica</th>\n",
       "    </tr>\n",
       "  </thead>\n",
       "  <tbody>\n",
       "    <tr>\n",
       "      <th>0</th>\n",
       "      <td>5.1</td>\n",
       "      <td>3.5</td>\n",
       "      <td>1.4</td>\n",
       "      <td>0.2</td>\n",
       "      <td>1</td>\n",
       "      <td>0</td>\n",
       "      <td>0</td>\n",
       "    </tr>\n",
       "    <tr>\n",
       "      <th>1</th>\n",
       "      <td>4.9</td>\n",
       "      <td>3.0</td>\n",
       "      <td>1.4</td>\n",
       "      <td>0.2</td>\n",
       "      <td>1</td>\n",
       "      <td>0</td>\n",
       "      <td>0</td>\n",
       "    </tr>\n",
       "    <tr>\n",
       "      <th>2</th>\n",
       "      <td>4.7</td>\n",
       "      <td>3.2</td>\n",
       "      <td>1.3</td>\n",
       "      <td>0.2</td>\n",
       "      <td>1</td>\n",
       "      <td>0</td>\n",
       "      <td>0</td>\n",
       "    </tr>\n",
       "    <tr>\n",
       "      <th>3</th>\n",
       "      <td>4.6</td>\n",
       "      <td>3.1</td>\n",
       "      <td>1.5</td>\n",
       "      <td>0.2</td>\n",
       "      <td>1</td>\n",
       "      <td>0</td>\n",
       "      <td>0</td>\n",
       "    </tr>\n",
       "    <tr>\n",
       "      <th>4</th>\n",
       "      <td>5.0</td>\n",
       "      <td>3.6</td>\n",
       "      <td>1.4</td>\n",
       "      <td>0.2</td>\n",
       "      <td>1</td>\n",
       "      <td>0</td>\n",
       "      <td>0</td>\n",
       "    </tr>\n",
       "  </tbody>\n",
       "</table>\n",
       "</div>"
      ],
      "text/plain": [
       "   SepalLengthCm  SepalWidthCm  PetalLengthCm  PetalWidthCm  Iris-setosa  \\\n",
       "0            5.1           3.5            1.4           0.2            1   \n",
       "1            4.9           3.0            1.4           0.2            1   \n",
       "2            4.7           3.2            1.3           0.2            1   \n",
       "3            4.6           3.1            1.5           0.2            1   \n",
       "4            5.0           3.6            1.4           0.2            1   \n",
       "\n",
       "   Iris-versicolor  Iris-virginica  \n",
       "0                0               0  \n",
       "1                0               0  \n",
       "2                0               0  \n",
       "3                0               0  \n",
       "4                0               0  "
      ]
     },
     "execution_count": 135,
     "metadata": {},
     "output_type": "execute_result"
    }
   ],
   "source": [
    "df_iris.head()"
   ]
  },
  {
   "cell_type": "code",
   "execution_count": 136,
   "metadata": {},
   "outputs": [
    {
     "data": {
      "text/plain": [
       "Index(['SepalLengthCm', 'SepalWidthCm', 'PetalLengthCm', 'PetalWidthCm',\n",
       "       'Iris-setosa', 'Iris-versicolor', 'Iris-virginica'],\n",
       "      dtype='object')"
      ]
     },
     "execution_count": 136,
     "metadata": {},
     "output_type": "execute_result"
    }
   ],
   "source": [
    "df_iris.columns"
   ]
  },
  {
   "cell_type": "markdown",
   "metadata": {
    "colab_type": "text",
    "id": "D95nY5ILcihj"
   },
   "source": [
    "### Splitting the data into feature set and target set"
   ]
  },
  {
   "cell_type": "code",
   "execution_count": 137,
   "metadata": {
    "colab": {},
    "colab_type": "code",
    "id": "RyMQoLMucihj"
   },
   "outputs": [],
   "source": [
    "X_iris = df_iris.drop(columns=[\"Iris-setosa\",\"Iris-versicolor\",\"Iris-virginica\"])"
   ]
  },
  {
   "cell_type": "code",
   "execution_count": 138,
   "metadata": {},
   "outputs": [],
   "source": [
    "y_iris = df_iris.filter([\"Iris-setosa\",\"Iris-versicolor\",\"Iris-virginica\"],axis=1)"
   ]
  },
  {
   "cell_type": "code",
   "execution_count": 139,
   "metadata": {},
   "outputs": [
    {
     "data": {
      "text/html": [
       "<div>\n",
       "<style scoped>\n",
       "    .dataframe tbody tr th:only-of-type {\n",
       "        vertical-align: middle;\n",
       "    }\n",
       "\n",
       "    .dataframe tbody tr th {\n",
       "        vertical-align: top;\n",
       "    }\n",
       "\n",
       "    .dataframe thead th {\n",
       "        text-align: right;\n",
       "    }\n",
       "</style>\n",
       "<table border=\"1\" class=\"dataframe\">\n",
       "  <thead>\n",
       "    <tr style=\"text-align: right;\">\n",
       "      <th></th>\n",
       "      <th>Iris-setosa</th>\n",
       "      <th>Iris-versicolor</th>\n",
       "      <th>Iris-virginica</th>\n",
       "    </tr>\n",
       "  </thead>\n",
       "  <tbody>\n",
       "    <tr>\n",
       "      <th>0</th>\n",
       "      <td>1</td>\n",
       "      <td>0</td>\n",
       "      <td>0</td>\n",
       "    </tr>\n",
       "    <tr>\n",
       "      <th>1</th>\n",
       "      <td>1</td>\n",
       "      <td>0</td>\n",
       "      <td>0</td>\n",
       "    </tr>\n",
       "    <tr>\n",
       "      <th>2</th>\n",
       "      <td>1</td>\n",
       "      <td>0</td>\n",
       "      <td>0</td>\n",
       "    </tr>\n",
       "    <tr>\n",
       "      <th>3</th>\n",
       "      <td>1</td>\n",
       "      <td>0</td>\n",
       "      <td>0</td>\n",
       "    </tr>\n",
       "    <tr>\n",
       "      <th>4</th>\n",
       "      <td>1</td>\n",
       "      <td>0</td>\n",
       "      <td>0</td>\n",
       "    </tr>\n",
       "  </tbody>\n",
       "</table>\n",
       "</div>"
      ],
      "text/plain": [
       "   Iris-setosa  Iris-versicolor  Iris-virginica\n",
       "0            1                0               0\n",
       "1            1                0               0\n",
       "2            1                0               0\n",
       "3            1                0               0\n",
       "4            1                0               0"
      ]
     },
     "execution_count": 139,
     "metadata": {},
     "output_type": "execute_result"
    }
   ],
   "source": [
    "y_iris.head()"
   ]
  },
  {
   "cell_type": "code",
   "execution_count": 140,
   "metadata": {},
   "outputs": [
    {
     "data": {
      "text/html": [
       "<div>\n",
       "<style scoped>\n",
       "    .dataframe tbody tr th:only-of-type {\n",
       "        vertical-align: middle;\n",
       "    }\n",
       "\n",
       "    .dataframe tbody tr th {\n",
       "        vertical-align: top;\n",
       "    }\n",
       "\n",
       "    .dataframe thead th {\n",
       "        text-align: right;\n",
       "    }\n",
       "</style>\n",
       "<table border=\"1\" class=\"dataframe\">\n",
       "  <thead>\n",
       "    <tr style=\"text-align: right;\">\n",
       "      <th></th>\n",
       "      <th>SepalLengthCm</th>\n",
       "      <th>SepalWidthCm</th>\n",
       "      <th>PetalLengthCm</th>\n",
       "      <th>PetalWidthCm</th>\n",
       "    </tr>\n",
       "  </thead>\n",
       "  <tbody>\n",
       "    <tr>\n",
       "      <th>0</th>\n",
       "      <td>5.1</td>\n",
       "      <td>3.5</td>\n",
       "      <td>1.4</td>\n",
       "      <td>0.2</td>\n",
       "    </tr>\n",
       "    <tr>\n",
       "      <th>1</th>\n",
       "      <td>4.9</td>\n",
       "      <td>3.0</td>\n",
       "      <td>1.4</td>\n",
       "      <td>0.2</td>\n",
       "    </tr>\n",
       "    <tr>\n",
       "      <th>2</th>\n",
       "      <td>4.7</td>\n",
       "      <td>3.2</td>\n",
       "      <td>1.3</td>\n",
       "      <td>0.2</td>\n",
       "    </tr>\n",
       "    <tr>\n",
       "      <th>3</th>\n",
       "      <td>4.6</td>\n",
       "      <td>3.1</td>\n",
       "      <td>1.5</td>\n",
       "      <td>0.2</td>\n",
       "    </tr>\n",
       "    <tr>\n",
       "      <th>4</th>\n",
       "      <td>5.0</td>\n",
       "      <td>3.6</td>\n",
       "      <td>1.4</td>\n",
       "      <td>0.2</td>\n",
       "    </tr>\n",
       "  </tbody>\n",
       "</table>\n",
       "</div>"
      ],
      "text/plain": [
       "   SepalLengthCm  SepalWidthCm  PetalLengthCm  PetalWidthCm\n",
       "0            5.1           3.5            1.4           0.2\n",
       "1            4.9           3.0            1.4           0.2\n",
       "2            4.7           3.2            1.3           0.2\n",
       "3            4.6           3.1            1.5           0.2\n",
       "4            5.0           3.6            1.4           0.2"
      ]
     },
     "execution_count": 140,
     "metadata": {},
     "output_type": "execute_result"
    }
   ],
   "source": [
    "X_iris.head()"
   ]
  },
  {
   "cell_type": "markdown",
   "metadata": {
    "colab_type": "text",
    "id": "ERq9GOKKciho"
   },
   "source": [
    "### Divide the dataset into Training and test (70:30)"
   ]
  },
  {
   "cell_type": "code",
   "execution_count": 141,
   "metadata": {
    "colab": {},
    "colab_type": "code",
    "id": "gKGvUWahcihp"
   },
   "outputs": [],
   "source": [
    "X_iris_train, X_iris_test, y_iris_train, y_iris_test = train_test_split(X_iris, y_iris, test_size=0.3, random_state=7)"
   ]
  },
  {
   "cell_type": "markdown",
   "metadata": {
    "colab_type": "text",
    "id": "b22qpC5xcihr"
   },
   "source": [
    "###  Building Model in tf.keras\n",
    "\n",
    "Build a Linear Classifier model  <br>\n",
    "1.  Use Dense Layer  with input shape of 4 (according to the feature set) and number of outputs set to 3<br> \n",
    "2. Apply Softmax on Dense Layer outputs <br>\n",
    "3. Use SGD as Optimizer\n",
    "4. Use categorical_crossentropy as loss function "
   ]
  },
  {
   "cell_type": "code",
   "execution_count": 142,
   "metadata": {
    "colab": {},
    "colab_type": "code",
    "id": "Hov_UFnUciht"
   },
   "outputs": [],
   "source": [
    "from keras.models import Sequential\n",
    "from keras.layers import Dense"
   ]
  },
  {
   "cell_type": "code",
   "execution_count": 150,
   "metadata": {},
   "outputs": [],
   "source": [
    "# create model\n",
    "model = Sequential()\n",
    "model.add(Dense(12, input_dim=4, activation='relu'))\n",
    "model.add(Dense(3, activation='softmax'))"
   ]
  },
  {
   "cell_type": "code",
   "execution_count": 151,
   "metadata": {},
   "outputs": [],
   "source": [
    "\n",
    "# Compile model\n",
    "model.compile(loss='categorical_crossentropy', optimizer='sgd', metrics=['accuracy'])"
   ]
  },
  {
   "cell_type": "markdown",
   "metadata": {
    "colab_type": "text",
    "id": "T5FdzqIKcihw"
   },
   "source": [
    "### Model Training "
   ]
  },
  {
   "cell_type": "code",
   "execution_count": 152,
   "metadata": {
    "colab": {},
    "colab_type": "code",
    "id": "4qLEdHPscihx"
   },
   "outputs": [
    {
     "name": "stdout",
     "output_type": "stream",
     "text": [
      "Epoch 1/150\n",
      "105/105 [==============================] - 1s 11ms/step - loss: 1.1446 - acc: 0.4000\n",
      "Epoch 2/150\n",
      "105/105 [==============================] - 0s 749us/step - loss: 0.8108 - acc: 0.7048\n",
      "Epoch 3/150\n",
      "105/105 [==============================] - 0s 696us/step - loss: 0.7179 - acc: 0.7429\n",
      "Epoch 4/150\n",
      "105/105 [==============================] - 0s 789us/step - loss: 0.6567 - acc: 0.7524\n",
      "Epoch 5/150\n",
      "105/105 [==============================] - 0s 781us/step - loss: 0.6002 - acc: 0.7905\n",
      "Epoch 6/150\n",
      "105/105 [==============================] - 0s 801us/step - loss: 0.5603 - acc: 0.8000\n",
      "Epoch 7/150\n",
      "105/105 [==============================] - 0s 807us/step - loss: 0.5197 - acc: 0.8286\n",
      "Epoch 8/150\n",
      "105/105 [==============================] - 0s 791us/step - loss: 0.4867 - acc: 0.8571\n",
      "Epoch 9/150\n",
      "105/105 [==============================] - 0s 796us/step - loss: 0.4445 - acc: 0.8762\n",
      "Epoch 10/150\n",
      "105/105 [==============================] - 0s 815us/step - loss: 0.4256 - acc: 0.8667\n",
      "Epoch 11/150\n",
      "105/105 [==============================] - 0s 791us/step - loss: 0.4055 - acc: 0.8762\n",
      "Epoch 12/150\n",
      "105/105 [==============================] - 0s 762us/step - loss: 0.3646 - acc: 0.9143\n",
      "Epoch 13/150\n",
      "105/105 [==============================] - 0s 744us/step - loss: 0.3647 - acc: 0.8667\n",
      "Epoch 14/150\n",
      "105/105 [==============================] - 0s 727us/step - loss: 0.3382 - acc: 0.8952\n",
      "Epoch 15/150\n",
      "105/105 [==============================] - 0s 777us/step - loss: 0.3136 - acc: 0.9333\n",
      "Epoch 16/150\n",
      "105/105 [==============================] - 0s 793us/step - loss: 0.2685 - acc: 0.9429\n",
      "Epoch 17/150\n",
      "105/105 [==============================] - 0s 851us/step - loss: 0.2848 - acc: 0.9143\n",
      "Epoch 18/150\n",
      "105/105 [==============================] - 0s 926us/step - loss: 0.2685 - acc: 0.9143\n",
      "Epoch 19/150\n",
      "105/105 [==============================] - 0s 926us/step - loss: 0.2313 - acc: 0.9429\n",
      "Epoch 20/150\n",
      "105/105 [==============================] - 0s 1ms/step - loss: 0.2534 - acc: 0.9048\n",
      "Epoch 21/150\n",
      "105/105 [==============================] - 0s 852us/step - loss: 0.2495 - acc: 0.9524\n",
      "Epoch 22/150\n",
      "105/105 [==============================] - 0s 720us/step - loss: 0.2489 - acc: 0.9238\n",
      "Epoch 23/150\n",
      "105/105 [==============================] - 0s 757us/step - loss: 0.2012 - acc: 0.9619\n",
      "Epoch 24/150\n",
      "105/105 [==============================] - 0s 729us/step - loss: 0.1918 - acc: 0.9333\n",
      "Epoch 25/150\n",
      "105/105 [==============================] - 0s 732us/step - loss: 0.2025 - acc: 0.9524\n",
      "Epoch 26/150\n",
      "105/105 [==============================] - 0s 1ms/step - loss: 0.2148 - acc: 0.9238\n",
      "Epoch 27/150\n",
      "105/105 [==============================] - 0s 939us/step - loss: 0.2235 - acc: 0.9238\n",
      "Epoch 28/150\n",
      "105/105 [==============================] - 0s 912us/step - loss: 0.1572 - acc: 0.9619\n",
      "Epoch 29/150\n",
      "105/105 [==============================] - 0s 807us/step - loss: 0.1821 - acc: 0.9619\n",
      "Epoch 30/150\n",
      "105/105 [==============================] - 0s 970us/step - loss: 0.2134 - acc: 0.9143\n",
      "Epoch 31/150\n",
      "105/105 [==============================] - 0s 960us/step - loss: 0.1614 - acc: 0.9524\n",
      "Epoch 32/150\n",
      "105/105 [==============================] - 0s 783us/step - loss: 0.1963 - acc: 0.9333\n",
      "Epoch 33/150\n",
      "105/105 [==============================] - 0s 796us/step - loss: 0.1825 - acc: 0.9429\n",
      "Epoch 34/150\n",
      "105/105 [==============================] - 0s 751us/step - loss: 0.1673 - acc: 0.9524\n",
      "Epoch 35/150\n",
      "105/105 [==============================] - 0s 733us/step - loss: 0.1872 - acc: 0.9429\n",
      "Epoch 36/150\n",
      "105/105 [==============================] - 0s 730us/step - loss: 0.1635 - acc: 0.9524\n",
      "Epoch 37/150\n",
      "105/105 [==============================] - 0s 888us/step - loss: 0.1931 - acc: 0.9238\n",
      "Epoch 38/150\n",
      "105/105 [==============================] - 0s 983us/step - loss: 0.1755 - acc: 0.9524\n",
      "Epoch 39/150\n",
      "105/105 [==============================] - 0s 945us/step - loss: 0.1782 - acc: 0.9143\n",
      "Epoch 40/150\n",
      "105/105 [==============================] - 0s 899us/step - loss: 0.1987 - acc: 0.9143\n",
      "Epoch 41/150\n",
      "105/105 [==============================] - 0s 903us/step - loss: 0.1826 - acc: 0.9524\n",
      "Epoch 42/150\n",
      "105/105 [==============================] - 0s 899us/step - loss: 0.1001 - acc: 0.9714\n",
      "Epoch 43/150\n",
      "105/105 [==============================] - 0s 900us/step - loss: 0.1543 - acc: 0.9524\n",
      "Epoch 44/150\n",
      "105/105 [==============================] - 0s 900us/step - loss: 0.1329 - acc: 0.9524\n",
      "Epoch 45/150\n",
      "105/105 [==============================] - 0s 883us/step - loss: 0.1170 - acc: 0.9714\n",
      "Epoch 46/150\n",
      "105/105 [==============================] - 0s 816us/step - loss: 0.1523 - acc: 0.9714\n",
      "Epoch 47/150\n",
      "105/105 [==============================] - 0s 998us/step - loss: 0.1417 - acc: 0.9714\n",
      "Epoch 48/150\n",
      "105/105 [==============================] - 0s 906us/step - loss: 0.1987 - acc: 0.9333\n",
      "Epoch 49/150\n",
      "105/105 [==============================] - 0s 899us/step - loss: 0.1317 - acc: 0.9714\n",
      "Epoch 50/150\n",
      "105/105 [==============================] - 0s 914us/step - loss: 0.1407 - acc: 0.9714\n",
      "Epoch 51/150\n",
      "105/105 [==============================] - 0s 902us/step - loss: 0.1499 - acc: 0.9524\n",
      "Epoch 52/150\n",
      "105/105 [==============================] - 0s 921us/step - loss: 0.1170 - acc: 0.9619\n",
      "Epoch 53/150\n",
      "105/105 [==============================] - 0s 883us/step - loss: 0.1590 - acc: 0.9524\n",
      "Epoch 54/150\n",
      "105/105 [==============================] - 0s 708us/step - loss: 0.1091 - acc: 0.9714\n",
      "Epoch 55/150\n",
      "105/105 [==============================] - 0s 675us/step - loss: 0.1860 - acc: 0.9238\n",
      "Epoch 56/150\n",
      "105/105 [==============================] - 0s 677us/step - loss: 0.1530 - acc: 0.9714\n",
      "Epoch 57/150\n",
      "105/105 [==============================] - 0s 729us/step - loss: 0.1666 - acc: 0.9429\n",
      "Epoch 58/150\n",
      "105/105 [==============================] - 0s 715us/step - loss: 0.1420 - acc: 0.9524\n",
      "Epoch 59/150\n",
      "105/105 [==============================] - 0s 689us/step - loss: 0.1197 - acc: 0.9524\n",
      "Epoch 60/150\n",
      "105/105 [==============================] - 0s 723us/step - loss: 0.1409 - acc: 0.9619\n",
      "Epoch 61/150\n",
      "105/105 [==============================] - 0s 737us/step - loss: 0.1484 - acc: 0.9429\n",
      "Epoch 62/150\n",
      "105/105 [==============================] - 0s 780us/step - loss: 0.1612 - acc: 0.9619\n",
      "Epoch 63/150\n",
      "105/105 [==============================] - 0s 776us/step - loss: 0.1599 - acc: 0.9619\n",
      "Epoch 64/150\n",
      "105/105 [==============================] - 0s 707us/step - loss: 0.1447 - acc: 0.9619\n",
      "Epoch 65/150\n",
      "105/105 [==============================] - 0s 671us/step - loss: 0.1793 - acc: 0.9524\n",
      "Epoch 66/150\n",
      "105/105 [==============================] - 0s 667us/step - loss: 0.1237 - acc: 0.9714\n",
      "Epoch 67/150\n",
      "105/105 [==============================] - 0s 823us/step - loss: 0.0896 - acc: 0.9810\n",
      "Epoch 68/150\n",
      "105/105 [==============================] - 0s 1ms/step - loss: 0.1141 - acc: 0.9810\n",
      "Epoch 69/150\n",
      "105/105 [==============================] - 0s 1ms/step - loss: 0.1493 - acc: 0.9524\n",
      "Epoch 70/150\n",
      "105/105 [==============================] - 0s 919us/step - loss: 0.1592 - acc: 0.9333\n",
      "Epoch 71/150\n",
      "105/105 [==============================] - 0s 719us/step - loss: 0.1485 - acc: 0.9619\n",
      "Epoch 72/150\n",
      "105/105 [==============================] - 0s 657us/step - loss: 0.1232 - acc: 0.9714\n",
      "Epoch 73/150\n",
      "105/105 [==============================] - 0s 660us/step - loss: 0.1387 - acc: 0.9619\n",
      "Epoch 74/150\n",
      "105/105 [==============================] - 0s 664us/step - loss: 0.1127 - acc: 0.9619\n",
      "Epoch 75/150\n",
      "105/105 [==============================] - 0s 677us/step - loss: 0.0975 - acc: 0.9714\n",
      "Epoch 76/150\n",
      "105/105 [==============================] - 0s 741us/step - loss: 0.1257 - acc: 0.9714\n",
      "Epoch 77/150\n",
      "105/105 [==============================] - 0s 1ms/step - loss: 0.1131 - acc: 0.9619\n",
      "Epoch 78/150\n",
      "105/105 [==============================] - 0s 856us/step - loss: 0.0966 - acc: 0.9714\n",
      "Epoch 79/150\n",
      "105/105 [==============================] - 0s 695us/step - loss: 0.1005 - acc: 0.9714\n",
      "Epoch 80/150\n",
      "105/105 [==============================] - 0s 908us/step - loss: 0.0934 - acc: 0.9619\n",
      "Epoch 81/150\n",
      "105/105 [==============================] - 0s 806us/step - loss: 0.0906 - acc: 0.9524\n",
      "Epoch 82/150\n",
      "105/105 [==============================] - 0s 662us/step - loss: 0.0714 - acc: 0.9714\n",
      "Epoch 83/150\n",
      "105/105 [==============================] - 0s 682us/step - loss: 0.1399 - acc: 0.9714\n"
     ]
    },
    {
     "name": "stdout",
     "output_type": "stream",
     "text": [
      "Epoch 84/150\n",
      "105/105 [==============================] - 0s 686us/step - loss: 0.1044 - acc: 0.9619\n",
      "Epoch 85/150\n",
      "105/105 [==============================] - 0s 674us/step - loss: 0.0945 - acc: 0.9905\n",
      "Epoch 86/150\n",
      "105/105 [==============================] - 0s 705us/step - loss: 0.1267 - acc: 0.9810\n",
      "Epoch 87/150\n",
      "105/105 [==============================] - 0s 796us/step - loss: 0.0928 - acc: 0.9714\n",
      "Epoch 88/150\n",
      "105/105 [==============================] - 0s 1ms/step - loss: 0.0981 - acc: 0.9619\n",
      "Epoch 89/150\n",
      "105/105 [==============================] - 0s 1ms/step - loss: 0.1018 - acc: 0.9714\n",
      "Epoch 90/150\n",
      "105/105 [==============================] - 0s 922us/step - loss: 0.1245 - acc: 0.9619\n",
      "Epoch 91/150\n",
      "105/105 [==============================] - 0s 685us/step - loss: 0.1068 - acc: 0.9714\n",
      "Epoch 92/150\n",
      "105/105 [==============================] - 0s 822us/step - loss: 0.0972 - acc: 0.9714\n",
      "Epoch 93/150\n",
      "105/105 [==============================] - 0s 1ms/step - loss: 0.1096 - acc: 0.9619\n",
      "Epoch 94/150\n",
      "105/105 [==============================] - 0s 1ms/step - loss: 0.0792 - acc: 0.9810\n",
      "Epoch 95/150\n",
      "105/105 [==============================] - 0s 723us/step - loss: 0.0910 - acc: 0.9810\n",
      "Epoch 96/150\n",
      "105/105 [==============================] - 0s 679us/step - loss: 0.1221 - acc: 0.9714\n",
      "Epoch 97/150\n",
      "105/105 [==============================] - 0s 876us/step - loss: 0.0877 - acc: 0.9810\n",
      "Epoch 98/150\n",
      "105/105 [==============================] - 0s 1ms/step - loss: 0.1195 - acc: 0.9524\n",
      "Epoch 99/150\n",
      "105/105 [==============================] - 0s 996us/step - loss: 0.1099 - acc: 0.9619\n",
      "Epoch 100/150\n",
      "105/105 [==============================] - 0s 920us/step - loss: 0.0911 - acc: 0.9810\n",
      "Epoch 101/150\n",
      "105/105 [==============================] - 0s 986us/step - loss: 0.1138 - acc: 0.9714\n",
      "Epoch 102/150\n",
      "105/105 [==============================] - 0s 1ms/step - loss: 0.0986 - acc: 0.9714\n",
      "Epoch 103/150\n",
      "105/105 [==============================] - 0s 972us/step - loss: 0.0792 - acc: 0.9714\n",
      "Epoch 104/150\n",
      "105/105 [==============================] - 0s 918us/step - loss: 0.0968 - acc: 0.9714\n",
      "Epoch 105/150\n",
      "105/105 [==============================] - 0s 699us/step - loss: 0.1248 - acc: 0.9524\n",
      "Epoch 106/150\n",
      "105/105 [==============================] - 0s 674us/step - loss: 0.1046 - acc: 0.9619\n",
      "Epoch 107/150\n",
      "105/105 [==============================] - 0s 643us/step - loss: 0.0987 - acc: 0.9619\n",
      "Epoch 108/150\n",
      "105/105 [==============================] - 0s 647us/step - loss: 0.1374 - acc: 0.9619\n",
      "Epoch 109/150\n",
      "105/105 [==============================] - 0s 653us/step - loss: 0.0569 - acc: 0.9810\n",
      "Epoch 110/150\n",
      "105/105 [==============================] - 0s 675us/step - loss: 0.1047 - acc: 0.9714\n",
      "Epoch 111/150\n",
      "105/105 [==============================] - 0s 719us/step - loss: 0.1023 - acc: 0.9714\n",
      "Epoch 112/150\n",
      "105/105 [==============================] - 0s 755us/step - loss: 0.1249 - acc: 0.9714\n",
      "Epoch 113/150\n",
      "105/105 [==============================] - 0s 766us/step - loss: 0.1234 - acc: 0.9810\n",
      "Epoch 114/150\n",
      "105/105 [==============================] - 0s 1ms/step - loss: 0.0871 - acc: 0.9714\n",
      "Epoch 115/150\n",
      "105/105 [==============================] - 0s 916us/step - loss: 0.0908 - acc: 0.9810\n",
      "Epoch 116/150\n",
      "105/105 [==============================] - 0s 814us/step - loss: 0.0830 - acc: 0.9619\n",
      "Epoch 117/150\n",
      "105/105 [==============================] - 0s 692us/step - loss: 0.1055 - acc: 0.9714\n",
      "Epoch 118/150\n",
      "105/105 [==============================] - 0s 705us/step - loss: 0.1312 - acc: 0.9429\n",
      "Epoch 119/150\n",
      "105/105 [==============================] - 0s 741us/step - loss: 0.1227 - acc: 0.9714\n",
      "Epoch 120/150\n",
      "105/105 [==============================] - 0s 726us/step - loss: 0.1091 - acc: 0.9619\n",
      "Epoch 121/150\n",
      "105/105 [==============================] - 0s 714us/step - loss: 0.1005 - acc: 0.9714\n",
      "Epoch 122/150\n",
      "105/105 [==============================] - 0s 727us/step - loss: 0.0567 - acc: 0.9905\n",
      "Epoch 123/150\n",
      "105/105 [==============================] - 0s 734us/step - loss: 0.0766 - acc: 0.9619\n",
      "Epoch 124/150\n",
      "105/105 [==============================] - 0s 775us/step - loss: 0.1151 - acc: 0.9619\n",
      "Epoch 125/150\n",
      "105/105 [==============================] - 0s 756us/step - loss: 0.1001 - acc: 0.9524\n",
      "Epoch 126/150\n",
      "105/105 [==============================] - 0s 755us/step - loss: 0.1214 - acc: 0.9333\n",
      "Epoch 127/150\n",
      "105/105 [==============================] - 0s 741us/step - loss: 0.0952 - acc: 0.9619\n",
      "Epoch 128/150\n",
      "105/105 [==============================] - 0s 660us/step - loss: 0.1193 - acc: 0.9524\n",
      "Epoch 129/150\n",
      "105/105 [==============================] - 0s 656us/step - loss: 0.1150 - acc: 0.9524\n",
      "Epoch 130/150\n",
      "105/105 [==============================] - 0s 662us/step - loss: 0.1068 - acc: 0.9714\n",
      "Epoch 131/150\n",
      "105/105 [==============================] - 0s 678us/step - loss: 0.0820 - acc: 0.9619\n",
      "Epoch 132/150\n",
      "105/105 [==============================] - 0s 697us/step - loss: 0.0865 - acc: 0.9714\n",
      "Epoch 133/150\n",
      "105/105 [==============================] - 0s 785us/step - loss: 0.0918 - acc: 0.9714\n",
      "Epoch 134/150\n",
      "105/105 [==============================] - 0s 673us/step - loss: 0.0923 - acc: 0.9905\n",
      "Epoch 135/150\n",
      "105/105 [==============================] - 0s 676us/step - loss: 0.0764 - acc: 0.9810\n",
      "Epoch 136/150\n",
      "105/105 [==============================] - 0s 674us/step - loss: 0.0547 - acc: 0.9810\n",
      "Epoch 137/150\n",
      "105/105 [==============================] - 0s 678us/step - loss: 0.0930 - acc: 0.9714\n",
      "Epoch 138/150\n",
      "105/105 [==============================] - 0s 666us/step - loss: 0.0825 - acc: 0.9905\n",
      "Epoch 139/150\n",
      "105/105 [==============================] - 0s 681us/step - loss: 0.0935 - acc: 0.9714\n",
      "Epoch 140/150\n",
      "105/105 [==============================] - 0s 706us/step - loss: 0.1071 - acc: 0.9714\n",
      "Epoch 141/150\n",
      "105/105 [==============================] - 0s 692us/step - loss: 0.1047 - acc: 0.9810\n",
      "Epoch 142/150\n",
      "105/105 [==============================] - 0s 687us/step - loss: 0.1025 - acc: 0.9810\n",
      "Epoch 143/150\n",
      "105/105 [==============================] - 0s 656us/step - loss: 0.0951 - acc: 0.9810\n",
      "Epoch 144/150\n",
      "105/105 [==============================] - 0s 668us/step - loss: 0.0955 - acc: 0.9714\n",
      "Epoch 145/150\n",
      "105/105 [==============================] - 0s 671us/step - loss: 0.0735 - acc: 0.9810\n",
      "Epoch 146/150\n",
      "105/105 [==============================] - 0s 700us/step - loss: 0.1027 - acc: 0.9619\n",
      "Epoch 147/150\n",
      "105/105 [==============================] - 0s 698us/step - loss: 0.1161 - acc: 0.9619\n",
      "Epoch 148/150\n",
      "105/105 [==============================] - 0s 701us/step - loss: 0.0613 - acc: 0.9714\n",
      "Epoch 149/150\n",
      "105/105 [==============================] - 0s 677us/step - loss: 0.1355 - acc: 0.9714\n",
      "Epoch 150/150\n",
      "105/105 [==============================] - 0s 702us/step - loss: 0.1082 - acc: 0.9810\n"
     ]
    },
    {
     "data": {
      "text/plain": [
       "<keras.callbacks.History at 0x1a3b39c908>"
      ]
     },
     "execution_count": 152,
     "metadata": {},
     "output_type": "execute_result"
    }
   ],
   "source": [
    "# Fit the model\n",
    "model.fit(X_iris_train, y_iris_train, epochs=150, batch_size=1)"
   ]
  },
  {
   "cell_type": "markdown",
   "metadata": {
    "colab_type": "text",
    "id": "y-SgSSdRcih5"
   },
   "source": [
    "### Model Prediction"
   ]
  },
  {
   "cell_type": "code",
   "execution_count": 153,
   "metadata": {
    "colab": {},
    "colab_type": "code",
    "id": "GBgKZkhkcih6"
   },
   "outputs": [
    {
     "name": "stdout",
     "output_type": "stream",
     "text": [
      "45/45 [==============================] - 0s 9ms/step\n"
     ]
    },
    {
     "data": {
      "text/plain": [
       "95.55555555555556"
      ]
     },
     "execution_count": 153,
     "metadata": {},
     "output_type": "execute_result"
    }
   ],
   "source": [
    "# evaluate the model\n",
    "scores = model.evaluate(X_iris_test, y_iris_test)\n",
    "scores[1]*100"
   ]
  },
  {
   "cell_type": "markdown",
   "metadata": {
    "colab_type": "text",
    "id": "P32ASP1Vjt0a"
   },
   "source": [
    "### Save the Model"
   ]
  },
  {
   "cell_type": "code",
   "execution_count": 154,
   "metadata": {
    "colab": {},
    "colab_type": "code",
    "id": "n8rd0jjAjyTR"
   },
   "outputs": [],
   "source": [
    "#Save the model locally\n",
    "model.save('Iris_dataset_Apr21') "
   ]
  },
  {
   "cell_type": "markdown",
   "metadata": {
    "colab_type": "text",
    "id": "XiipRpe7rbVh"
   },
   "source": [
    "### Build and Train a Deep Neural network with 2 hidden layer  - Optional - For Practice\n",
    "\n",
    "Does it perform better than Linear Classifier? What could be the reason for difference in performance?"
   ]
  },
  {
   "cell_type": "code",
   "execution_count": 155,
   "metadata": {
    "colab": {},
    "colab_type": "code",
    "id": "v5Du3lubr4sA"
   },
   "outputs": [
    {
     "name": "stdout",
     "output_type": "stream",
     "text": [
      "Epoch 1/150\n",
      "105/105 [==============================] - 1s 12ms/step - loss: 0.9965 - acc: 0.5238\n",
      "Epoch 2/150\n",
      "105/105 [==============================] - 0s 789us/step - loss: 0.6875 - acc: 0.6571\n",
      "Epoch 3/150\n",
      "105/105 [==============================] - 0s 803us/step - loss: 0.5118 - acc: 0.7048\n",
      "Epoch 4/150\n",
      "105/105 [==============================] - 0s 817us/step - loss: 0.4566 - acc: 0.7143\n",
      "Epoch 5/150\n",
      "105/105 [==============================] - 0s 811us/step - loss: 0.4360 - acc: 0.7619\n",
      "Epoch 6/150\n",
      "105/105 [==============================] - 0s 810us/step - loss: 0.3947 - acc: 0.8095\n",
      "Epoch 7/150\n",
      "105/105 [==============================] - 0s 813us/step - loss: 0.3914 - acc: 0.8095\n",
      "Epoch 8/150\n",
      "105/105 [==============================] - 0s 796us/step - loss: 0.3750 - acc: 0.8476\n",
      "Epoch 9/150\n",
      "105/105 [==============================] - 0s 802us/step - loss: 0.3168 - acc: 0.8476\n",
      "Epoch 10/150\n",
      "105/105 [==============================] - 0s 796us/step - loss: 0.3137 - acc: 0.8571\n",
      "Epoch 11/150\n",
      "105/105 [==============================] - 0s 800us/step - loss: 0.2688 - acc: 0.8571\n",
      "Epoch 12/150\n",
      "105/105 [==============================] - 0s 797us/step - loss: 0.2410 - acc: 0.8476\n",
      "Epoch 13/150\n",
      "105/105 [==============================] - 0s 799us/step - loss: 0.2534 - acc: 0.8857\n",
      "Epoch 14/150\n",
      "105/105 [==============================] - 0s 792us/step - loss: 0.2329 - acc: 0.8952\n",
      "Epoch 15/150\n",
      "105/105 [==============================] - 0s 800us/step - loss: 0.2366 - acc: 0.9143\n",
      "Epoch 16/150\n",
      "105/105 [==============================] - 0s 821us/step - loss: 0.2401 - acc: 0.9048\n",
      "Epoch 17/150\n",
      "105/105 [==============================] - 0s 820us/step - loss: 0.1898 - acc: 0.9048\n",
      "Epoch 18/150\n",
      "105/105 [==============================] - 0s 816us/step - loss: 0.1977 - acc: 0.8952\n",
      "Epoch 19/150\n",
      "105/105 [==============================] - 0s 797us/step - loss: 0.1883 - acc: 0.9333\n",
      "Epoch 20/150\n",
      "105/105 [==============================] - 0s 790us/step - loss: 0.1957 - acc: 0.9333\n",
      "Epoch 21/150\n",
      "105/105 [==============================] - 0s 824us/step - loss: 0.2145 - acc: 0.9048\n",
      "Epoch 22/150\n",
      "105/105 [==============================] - 0s 795us/step - loss: 0.1372 - acc: 0.9333\n",
      "Epoch 23/150\n",
      "105/105 [==============================] - 0s 793us/step - loss: 0.2085 - acc: 0.9333\n",
      "Epoch 24/150\n",
      "105/105 [==============================] - 0s 801us/step - loss: 0.1970 - acc: 0.9238\n",
      "Epoch 25/150\n",
      "105/105 [==============================] - 0s 800us/step - loss: 0.1656 - acc: 0.9524\n",
      "Epoch 26/150\n",
      "105/105 [==============================] - 0s 798us/step - loss: 0.2039 - acc: 0.9143\n",
      "Epoch 27/150\n",
      "105/105 [==============================] - 0s 800us/step - loss: 0.1229 - acc: 0.9619\n",
      "Epoch 28/150\n",
      "105/105 [==============================] - 0s 861us/step - loss: 0.1264 - acc: 0.9429\n",
      "Epoch 29/150\n",
      "105/105 [==============================] - 0s 913us/step - loss: 0.1860 - acc: 0.9048\n",
      "Epoch 30/150\n",
      "105/105 [==============================] - 0s 859us/step - loss: 0.1356 - acc: 0.9429\n",
      "Epoch 31/150\n",
      "105/105 [==============================] - 0s 841us/step - loss: 0.1264 - acc: 0.9429\n",
      "Epoch 32/150\n",
      "105/105 [==============================] - 0s 938us/step - loss: 0.1841 - acc: 0.9524\n",
      "Epoch 33/150\n",
      "105/105 [==============================] - 0s 873us/step - loss: 0.1230 - acc: 0.9810\n",
      "Epoch 34/150\n",
      "105/105 [==============================] - 0s 802us/step - loss: 0.1362 - acc: 0.9524\n",
      "Epoch 35/150\n",
      "105/105 [==============================] - 0s 790us/step - loss: 0.1713 - acc: 0.9333\n",
      "Epoch 36/150\n",
      "105/105 [==============================] - 0s 793us/step - loss: 0.1475 - acc: 0.9524\n",
      "Epoch 37/150\n",
      "105/105 [==============================] - 0s 802us/step - loss: 0.1528 - acc: 0.9524\n",
      "Epoch 38/150\n",
      "105/105 [==============================] - 0s 800us/step - loss: 0.1785 - acc: 0.9333\n",
      "Epoch 39/150\n",
      "105/105 [==============================] - 0s 793us/step - loss: 0.1099 - acc: 0.9714\n",
      "Epoch 40/150\n",
      "105/105 [==============================] - 0s 798us/step - loss: 0.1309 - acc: 0.9429\n",
      "Epoch 41/150\n",
      "105/105 [==============================] - ETA: 0s - loss: 0.2058 - acc: 0.921 - 0s 800us/step - loss: 0.1470 - acc: 0.9524\n",
      "Epoch 42/150\n",
      "105/105 [==============================] - 0s 823us/step - loss: 0.1306 - acc: 0.9524\n",
      "Epoch 43/150\n",
      "105/105 [==============================] - 0s 819us/step - loss: 0.1150 - acc: 0.9619\n",
      "Epoch 44/150\n",
      "105/105 [==============================] - 0s 806us/step - loss: 0.0927 - acc: 0.9619\n",
      "Epoch 45/150\n",
      "105/105 [==============================] - 0s 803us/step - loss: 0.1085 - acc: 0.9429\n",
      "Epoch 46/150\n",
      "105/105 [==============================] - 0s 803us/step - loss: 0.1411 - acc: 0.9524\n",
      "Epoch 47/150\n",
      "105/105 [==============================] - 0s 800us/step - loss: 0.1210 - acc: 0.9429\n",
      "Epoch 48/150\n",
      "105/105 [==============================] - 0s 810us/step - loss: 0.1322 - acc: 0.9810\n",
      "Epoch 49/150\n",
      "105/105 [==============================] - 0s 828us/step - loss: 0.1066 - acc: 0.9714\n",
      "Epoch 50/150\n",
      "105/105 [==============================] - 0s 823us/step - loss: 0.1417 - acc: 0.9524\n",
      "Epoch 51/150\n",
      "105/105 [==============================] - 0s 794us/step - loss: 0.1359 - acc: 0.9714\n",
      "Epoch 52/150\n",
      "105/105 [==============================] - 0s 799us/step - loss: 0.0974 - acc: 0.9714\n",
      "Epoch 53/150\n",
      "105/105 [==============================] - 0s 843us/step - loss: 0.0944 - acc: 0.9714\n",
      "Epoch 54/150\n",
      "105/105 [==============================] - 0s 788us/step - loss: 0.1449 - acc: 0.9619\n",
      "Epoch 55/150\n",
      "105/105 [==============================] - 0s 786us/step - loss: 0.1411 - acc: 0.9429\n",
      "Epoch 56/150\n",
      "105/105 [==============================] - 0s 778us/step - loss: 0.1049 - acc: 0.9619\n",
      "Epoch 57/150\n",
      "105/105 [==============================] - 0s 776us/step - loss: 0.0942 - acc: 0.9524\n",
      "Epoch 58/150\n",
      "105/105 [==============================] - 0s 789us/step - loss: 0.0572 - acc: 0.9905\n",
      "Epoch 59/150\n",
      "105/105 [==============================] - 0s 802us/step - loss: 0.1269 - acc: 0.9714\n",
      "Epoch 60/150\n",
      "105/105 [==============================] - 0s 820us/step - loss: 0.1474 - acc: 0.9524\n",
      "Epoch 61/150\n",
      "105/105 [==============================] - 0s 828us/step - loss: 0.0927 - acc: 0.9524\n",
      "Epoch 62/150\n",
      "105/105 [==============================] - 0s 827us/step - loss: 0.0967 - acc: 0.9524\n",
      "Epoch 63/150\n",
      "105/105 [==============================] - 0s 820us/step - loss: 0.0630 - acc: 0.9810\n",
      "Epoch 64/150\n",
      "105/105 [==============================] - 0s 795us/step - loss: 0.1469 - acc: 0.9524\n",
      "Epoch 65/150\n",
      "105/105 [==============================] - 0s 804us/step - loss: 0.1115 - acc: 0.9524\n",
      "Epoch 66/150\n",
      "105/105 [==============================] - 0s 822us/step - loss: 0.1075 - acc: 0.9714\n",
      "Epoch 67/150\n",
      "105/105 [==============================] - 0s 834us/step - loss: 0.1100 - acc: 0.9810\n",
      "Epoch 68/150\n",
      "105/105 [==============================] - 0s 818us/step - loss: 0.1083 - acc: 0.9619\n",
      "Epoch 69/150\n",
      "105/105 [==============================] - 0s 810us/step - loss: 0.1123 - acc: 0.9714\n",
      "Epoch 70/150\n",
      "105/105 [==============================] - 0s 804us/step - loss: 0.1205 - acc: 0.9238\n",
      "Epoch 71/150\n",
      "105/105 [==============================] - 0s 807us/step - loss: 0.0929 - acc: 0.9714\n",
      "Epoch 72/150\n",
      "105/105 [==============================] - 0s 822us/step - loss: 0.1010 - acc: 0.9714\n",
      "Epoch 73/150\n",
      "105/105 [==============================] - 0s 831us/step - loss: 0.1027 - acc: 0.9619\n",
      "Epoch 74/150\n",
      "105/105 [==============================] - 0s 818us/step - loss: 0.1099 - acc: 0.9619\n",
      "Epoch 75/150\n",
      "105/105 [==============================] - 0s 813us/step - loss: 0.0651 - acc: 0.9905\n",
      "Epoch 76/150\n",
      "105/105 [==============================] - 0s 794us/step - loss: 0.1320 - acc: 0.9619\n",
      "Epoch 77/150\n",
      "105/105 [==============================] - 0s 812us/step - loss: 0.1043 - acc: 0.9619\n",
      "Epoch 78/150\n",
      "105/105 [==============================] - 0s 827us/step - loss: 0.1044 - acc: 0.9524\n",
      "Epoch 79/150\n",
      "105/105 [==============================] - 0s 832us/step - loss: 0.1338 - acc: 0.9429\n",
      "Epoch 80/150\n",
      "105/105 [==============================] - 0s 829us/step - loss: 0.0735 - acc: 0.9714\n",
      "Epoch 81/150\n",
      "105/105 [==============================] - 0s 809us/step - loss: 0.1105 - acc: 0.9714\n",
      "Epoch 82/150\n",
      "105/105 [==============================] - 0s 810us/step - loss: 0.0818 - acc: 0.9714\n",
      "Epoch 83/150\n"
     ]
    },
    {
     "name": "stdout",
     "output_type": "stream",
     "text": [
      "105/105 [==============================] - 0s 821us/step - loss: 0.0990 - acc: 0.9619\n",
      "Epoch 84/150\n",
      "105/105 [==============================] - 0s 765us/step - loss: 0.1146 - acc: 0.9524\n",
      "Epoch 85/150\n",
      "105/105 [==============================] - 0s 756us/step - loss: 0.0852 - acc: 0.9619\n",
      "Epoch 86/150\n",
      "105/105 [==============================] - 0s 773us/step - loss: 0.0932 - acc: 0.9714\n",
      "Epoch 87/150\n",
      "105/105 [==============================] - 0s 766us/step - loss: 0.0829 - acc: 0.9810\n",
      "Epoch 88/150\n",
      "105/105 [==============================] - 0s 761us/step - loss: 0.0927 - acc: 0.9714\n",
      "Epoch 89/150\n",
      "105/105 [==============================] - 0s 755us/step - loss: 0.0485 - acc: 0.9810\n",
      "Epoch 90/150\n",
      "105/105 [==============================] - 0s 753us/step - loss: 0.1210 - acc: 0.9714\n",
      "Epoch 91/150\n",
      "105/105 [==============================] - 0s 757us/step - loss: 0.0939 - acc: 0.9714\n",
      "Epoch 92/150\n",
      "105/105 [==============================] - 0s 757us/step - loss: 0.1301 - acc: 0.9714\n",
      "Epoch 93/150\n",
      "105/105 [==============================] - 0s 763us/step - loss: 0.0868 - acc: 0.9714\n",
      "Epoch 94/150\n",
      "105/105 [==============================] - 0s 757us/step - loss: 0.0852 - acc: 0.9714\n",
      "Epoch 95/150\n",
      "105/105 [==============================] - 0s 757us/step - loss: 0.0978 - acc: 0.9714\n",
      "Epoch 96/150\n",
      "105/105 [==============================] - 0s 756us/step - loss: 0.0603 - acc: 0.9810\n",
      "Epoch 97/150\n",
      "105/105 [==============================] - 0s 760us/step - loss: 0.1002 - acc: 0.9619\n",
      "Epoch 98/150\n",
      "105/105 [==============================] - 0s 766us/step - loss: 0.1066 - acc: 0.9714\n",
      "Epoch 99/150\n",
      "105/105 [==============================] - 0s 767us/step - loss: 0.0557 - acc: 0.9905\n",
      "Epoch 100/150\n",
      "105/105 [==============================] - 0s 752us/step - loss: 0.0928 - acc: 0.9810\n",
      "Epoch 101/150\n",
      "105/105 [==============================] - 0s 748us/step - loss: 0.0640 - acc: 0.9905\n",
      "Epoch 102/150\n",
      "105/105 [==============================] - 0s 756us/step - loss: 0.1196 - acc: 0.9429\n",
      "Epoch 103/150\n",
      "105/105 [==============================] - 0s 791us/step - loss: 0.1453 - acc: 0.9429\n",
      "Epoch 104/150\n",
      "105/105 [==============================] - 0s 762us/step - loss: 0.0770 - acc: 0.9810\n",
      "Epoch 105/150\n",
      "105/105 [==============================] - 0s 768us/step - loss: 0.0791 - acc: 0.9619\n",
      "Epoch 106/150\n",
      "105/105 [==============================] - 0s 756us/step - loss: 0.1099 - acc: 0.9714\n",
      "Epoch 107/150\n",
      "105/105 [==============================] - 0s 750us/step - loss: 0.0856 - acc: 0.9619\n",
      "Epoch 108/150\n",
      "105/105 [==============================] - 0s 763us/step - loss: 0.0743 - acc: 0.9905\n",
      "Epoch 109/150\n",
      "105/105 [==============================] - 0s 746us/step - loss: 0.0871 - acc: 0.9524\n",
      "Epoch 110/150\n",
      "105/105 [==============================] - 0s 765us/step - loss: 0.0926 - acc: 0.9714\n",
      "Epoch 111/150\n",
      "105/105 [==============================] - 0s 753us/step - loss: 0.1098 - acc: 0.9429\n",
      "Epoch 112/150\n",
      "105/105 [==============================] - 0s 766us/step - loss: 0.0860 - acc: 0.9619\n",
      "Epoch 113/150\n",
      "105/105 [==============================] - 0s 945us/step - loss: 0.0813 - acc: 0.9810\n",
      "Epoch 114/150\n",
      "105/105 [==============================] - 0s 1ms/step - loss: 0.1161 - acc: 0.9619\n",
      "Epoch 115/150\n",
      "105/105 [==============================] - 0s 1ms/step - loss: 0.0761 - acc: 0.9810\n",
      "Epoch 116/150\n",
      "105/105 [==============================] - 0s 1ms/step - loss: 0.1004 - acc: 0.9524\n",
      "Epoch 117/150\n",
      "105/105 [==============================] - 0s 1ms/step - loss: 0.0619 - acc: 0.9905\n",
      "Epoch 118/150\n",
      "105/105 [==============================] - 0s 1ms/step - loss: 0.1110 - acc: 0.9619\n",
      "Epoch 119/150\n",
      "105/105 [==============================] - 0s 1ms/step - loss: 0.0830 - acc: 0.9714\n",
      "Epoch 120/150\n",
      "105/105 [==============================] - 0s 1ms/step - loss: 0.0467 - acc: 0.9905\n",
      "Epoch 121/150\n",
      "105/105 [==============================] - 0s 1ms/step - loss: 0.1132 - acc: 0.9524\n",
      "Epoch 122/150\n",
      "105/105 [==============================] - 0s 1ms/step - loss: 0.0992 - acc: 0.9524\n",
      "Epoch 123/150\n",
      "105/105 [==============================] - 0s 883us/step - loss: 0.0728 - acc: 0.9714\n",
      "Epoch 124/150\n",
      "105/105 [==============================] - 0s 780us/step - loss: 0.0445 - acc: 0.9810\n",
      "Epoch 125/150\n",
      "105/105 [==============================] - 0s 774us/step - loss: 0.1183 - acc: 0.9524\n",
      "Epoch 126/150\n",
      "105/105 [==============================] - 0s 755us/step - loss: 0.0761 - acc: 0.9810\n",
      "Epoch 127/150\n",
      "105/105 [==============================] - 0s 765us/step - loss: 0.0766 - acc: 0.9714\n",
      "Epoch 128/150\n",
      "105/105 [==============================] - 0s 841us/step - loss: 0.0808 - acc: 0.9714\n",
      "Epoch 129/150\n",
      "105/105 [==============================] - 0s 976us/step - loss: 0.1132 - acc: 0.9524\n",
      "Epoch 130/150\n",
      "105/105 [==============================] - 0s 1ms/step - loss: 0.1090 - acc: 0.9714\n",
      "Epoch 131/150\n",
      "105/105 [==============================] - 0s 1ms/step - loss: 0.0861 - acc: 0.9619\n",
      "Epoch 132/150\n",
      "105/105 [==============================] - 0s 1ms/step - loss: 0.0679 - acc: 0.9714\n",
      "Epoch 133/150\n",
      "105/105 [==============================] - 0s 976us/step - loss: 0.0816 - acc: 0.9524\n",
      "Epoch 134/150\n",
      "105/105 [==============================] - 0s 933us/step - loss: 0.0977 - acc: 0.9714\n",
      "Epoch 135/150\n",
      "105/105 [==============================] - 0s 1ms/step - loss: 0.0715 - acc: 0.9810\n",
      "Epoch 136/150\n",
      "105/105 [==============================] - 0s 1ms/step - loss: 0.0464 - acc: 0.9810\n",
      "Epoch 137/150\n",
      "105/105 [==============================] - 0s 1ms/step - loss: 0.1039 - acc: 0.9714\n",
      "Epoch 138/150\n",
      "105/105 [==============================] - 0s 798us/step - loss: 0.1033 - acc: 0.9714\n",
      "Epoch 139/150\n",
      "105/105 [==============================] - 0s 762us/step - loss: 0.0665 - acc: 0.9810\n",
      "Epoch 140/150\n",
      "105/105 [==============================] - 0s 752us/step - loss: 0.0643 - acc: 0.9905\n",
      "Epoch 141/150\n",
      "105/105 [==============================] - 0s 750us/step - loss: 0.0889 - acc: 0.9714\n",
      "Epoch 142/150\n",
      "105/105 [==============================] - 0s 763us/step - loss: 0.1201 - acc: 0.9714\n",
      "Epoch 143/150\n",
      "105/105 [==============================] - 0s 765us/step - loss: 0.0849 - acc: 0.9714\n",
      "Epoch 144/150\n",
      "105/105 [==============================] - 0s 809us/step - loss: 0.0785 - acc: 0.9714\n",
      "Epoch 145/150\n",
      "105/105 [==============================] - 0s 828us/step - loss: 0.0982 - acc: 0.9524\n",
      "Epoch 146/150\n",
      "105/105 [==============================] - 0s 815us/step - loss: 0.0627 - acc: 0.9810\n",
      "Epoch 147/150\n",
      "105/105 [==============================] - 0s 784us/step - loss: 0.0493 - acc: 0.9810\n",
      "Epoch 148/150\n",
      "105/105 [==============================] - 0s 757us/step - loss: 0.0525 - acc: 0.9905\n",
      "Epoch 149/150\n",
      "105/105 [==============================] - 0s 751us/step - loss: 0.1273 - acc: 0.9619\n",
      "Epoch 150/150\n",
      "105/105 [==============================] - 0s 759us/step - loss: 0.0865 - acc: 0.9524\n"
     ]
    },
    {
     "data": {
      "text/plain": [
       "<keras.callbacks.History at 0x1a3a9e41d0>"
      ]
     },
     "execution_count": 155,
     "metadata": {},
     "output_type": "execute_result"
    }
   ],
   "source": [
    "model1 = Sequential()\n",
    "model1.add(Dense(12, input_dim=4, activation='relu'))\n",
    "model1.add(Dense(12, activation='relu'))\n",
    "model1.add(Dense(12, activation='relu'))\n",
    "model1.add(Dense(3, activation='softmax'))\n",
    "\n",
    "\n",
    "# Compile model\n",
    "model1.compile(loss='categorical_crossentropy', optimizer='sgd', metrics=['accuracy'])\n",
    "\n",
    "# Fit the model\n",
    "model1.fit(X_iris_train, y_iris_train, epochs=150, batch_size=1)"
   ]
  },
  {
   "cell_type": "code",
   "execution_count": 156,
   "metadata": {},
   "outputs": [
    {
     "name": "stdout",
     "output_type": "stream",
     "text": [
      "45/45 [==============================] - 0s 10ms/step\n"
     ]
    },
    {
     "data": {
      "text/plain": [
       "95.55555555555556"
      ]
     },
     "execution_count": 156,
     "metadata": {},
     "output_type": "execute_result"
    }
   ],
   "source": [
    "# evaluate the model\n",
    "scores = model1.evaluate(X_iris_test, y_iris_test)\n",
    "scores[1]*100"
   ]
  },
  {
   "cell_type": "markdown",
   "metadata": {},
   "source": [
    "Performs better some times and not at other times than Linear classifier due to 2 additional hidden layers and more neurons"
   ]
  }
 ],
 "metadata": {
  "colab": {
   "name": "3. R6_InternalLab_AIML_Share_Prices-Eager Execution.ipynb",
   "provenance": [],
   "version": "0.3.2"
  },
  "kernelspec": {
   "display_name": "Python 3",
   "language": "python",
   "name": "python3"
  },
  "language_info": {
   "codemirror_mode": {
    "name": "ipython",
    "version": 3
   },
   "file_extension": ".py",
   "mimetype": "text/x-python",
   "name": "python",
   "nbconvert_exporter": "python",
   "pygments_lexer": "ipython3",
   "version": "3.7.2"
  }
 },
 "nbformat": 4,
 "nbformat_minor": 1
}
